{
 "cells": [
  {
   "cell_type": "code",
   "execution_count": null,
   "id": "a926f029",
   "metadata": {},
   "outputs": [],
   "source": [
    "print(\"Learnbay\")\n",
    "print(\"\\tPython\")\n",
    "print(\"\\t\\tClass\")\n",
    "print(\"\\tPython\")\n",
    "print(\"Learnbay\")"
   ]
  },
  {
   "cell_type": "code",
   "execution_count": 8,
   "id": "3ea5cf92",
   "metadata": {},
   "outputs": [
    {
     "name": "stdout",
     "output_type": "stream",
     "text": [
      "enter: a\n",
      "a\n"
     ]
    }
   ],
   "source": []
  },
  {
   "cell_type": "code",
   "execution_count": 15,
   "id": "05c9af10",
   "metadata": {},
   "outputs": [
    {
     "name": "stdout",
     "output_type": "stream",
     "text": [
      "1 .git\n",
      "2 .ipynb_checkpoints\n",
      "3 Exit\n",
      "enter: s\n"
     ]
    },
    {
     "ename": "NameError",
     "evalue": "name 's' is not defined",
     "output_type": "error",
     "traceback": [
      "\u001b[1;31m---------------------------------------------------------------------------\u001b[0m",
      "\u001b[1;31mNameError\u001b[0m                                 Traceback (most recent call last)",
      "\u001b[1;32m<ipython-input-15-5b7c59ef4103>\u001b[0m in \u001b[0;36m<module>\u001b[1;34m\u001b[0m\n\u001b[0;32m     25\u001b[0m \u001b[1;33m\u001b[0m\u001b[0m\n\u001b[0;32m     26\u001b[0m \u001b[0ma\u001b[0m\u001b[1;33m=\u001b[0m\u001b[0minput\u001b[0m\u001b[1;33m(\u001b[0m\u001b[1;34m\"enter: \"\u001b[0m\u001b[1;33m)\u001b[0m\u001b[1;33m\u001b[0m\u001b[1;33m\u001b[0m\u001b[0m\n\u001b[1;32m---> 27\u001b[1;33m \u001b[0mprint\u001b[0m\u001b[1;33m(\u001b[0m\u001b[0meval\u001b[0m\u001b[1;33m(\u001b[0m\u001b[0ma\u001b[0m\u001b[1;33m)\u001b[0m\u001b[1;33m)\u001b[0m\u001b[1;33m\u001b[0m\u001b[1;33m\u001b[0m\u001b[0m\n\u001b[0m\u001b[0;32m     28\u001b[0m \u001b[1;32mwhile\u001b[0m \u001b[1;33m(\u001b[0m\u001b[0mx\u001b[0m \u001b[1;33m==\u001b[0m \u001b[1;34m'Y'\u001b[0m\u001b[1;33m)\u001b[0m \u001b[1;32mor\u001b[0m \u001b[1;33m(\u001b[0m\u001b[0mx\u001b[0m \u001b[1;33m==\u001b[0m \u001b[1;34m'y'\u001b[0m\u001b[1;33m)\u001b[0m\u001b[1;33m:\u001b[0m\u001b[1;33m\u001b[0m\u001b[1;33m\u001b[0m\u001b[0m\n\u001b[0;32m     29\u001b[0m     \u001b[0mprint\u001b[0m\u001b[1;33m(\u001b[0m\u001b[1;34m\"\\n(enter the number against the Project)\"\u001b[0m\u001b[1;33m)\u001b[0m\u001b[1;33m\u001b[0m\u001b[1;33m\u001b[0m\u001b[0m\n",
      "\u001b[1;32m<string>\u001b[0m in \u001b[0;36m<module>\u001b[1;34m\u001b[0m\n",
      "\u001b[1;31mNameError\u001b[0m: name 's' is not defined"
     ]
    }
   ],
   "source": [
    "from os import getcwd,listdir,path\n",
    "from sys import argv\n",
    "from compileall import compile_dir\n",
    "\n",
    "\n",
    "dir_content = listdir(getcwd())\n",
    "dir_list = []\n",
    "i=1\n",
    "x = \"Y\"\n",
    "z = \"N\"\n",
    "a=\"\"\n",
    "dir_to_compile = ''\n",
    "\n",
    "for item in dir_content:\n",
    "    if path.isdir(item):\n",
    "        dir_list.append(item)\n",
    "\n",
    "dir_list.append(\"Exit\")\n",
    "\n",
    "dir_list_len = len(dir_list)\n",
    "\n",
    "for item in dir_list:\n",
    "    print (i,item)\n",
    "    i = i + 1\n",
    "\n",
    "a=input(\"enter: \")\n",
    "print(eval(a))\n",
    "while (x == 'Y') or (x == 'y'):\n",
    "    print(\"\\n(enter the number against the Project)\")\n",
    "    #a = eval(input(\"Which Project you want to compile from the above list? \"))\n",
    "    a=input(\"enter: \")\n",
    "    print(eval(a))\n",
    "    dir_num = 6\n",
    "    \n",
    "    print(\"here\")\n",
    "    \n",
    "    if type(dir_num) == int:\n",
    "        if (dir_num > 0) and (dir_num <= (dir_list_len-1)):\n",
    "                comp_dir = getcwd() + \"\\\\\" + dir_list[dir_num-1] + \"\\\\\"\n",
    "                print(\"Compiling here: '\" + comp_dir)\n",
    "                compile_dir(comp_dir)\n",
    "\n",
    "                while (z == \"N\"):\n",
    "                    x= input(\"\\nDo you want to Compile another Project ? (Y/N) \")\n",
    "                    \n",
    "                    if (x == \"Y\") or (x == \"N\") or (x == \"y\") or (x == \"n\"):\n",
    "                        z = \"Y\"\n",
    "                    else:\n",
    "                        print (\"Incorrect option\")\n",
    "                        z = \"N\"\n",
    "                z = \"N\"\n",
    "        elif dir_num == dir_list_len:\n",
    "            print (\"Thank You\")\n",
    "            x = 'N'\n",
    "        else:\n",
    "            print(\"Invalid Directory, please select directory number from the list above.\")\n",
    "    else:\n",
    "        print(\"Invalid input, please select the directory number from the list above.\")\n",
    "\n",
    "#if len(argv)>1:\n",
    "#    comp_dir = getcwd() + \"\\\\\" + argv[1]\n",
    "#    compile_dir(comp_dir)"
   ]
  },
  {
   "cell_type": "code",
   "execution_count": 24,
   "id": "5e703759",
   "metadata": {},
   "outputs": [
    {
     "name": "stdout",
     "output_type": "stream",
     "text": [
      "Which Project you want to compile from the above list? b\n"
     ]
    },
    {
     "ename": "NameError",
     "evalue": "name 'b' is not defined",
     "output_type": "error",
     "traceback": [
      "\u001b[1;31m---------------------------------------------------------------------------\u001b[0m",
      "\u001b[1;31mNameError\u001b[0m                                 Traceback (most recent call last)",
      "\u001b[1;32m<ipython-input-24-63ad9e395887>\u001b[0m in \u001b[0;36m<module>\u001b[1;34m\u001b[0m\n\u001b[1;32m----> 1\u001b[1;33m \u001b[0ma\u001b[0m \u001b[1;33m=\u001b[0m \u001b[0meval\u001b[0m\u001b[1;33m(\u001b[0m\u001b[0minput\u001b[0m\u001b[1;33m(\u001b[0m\u001b[1;34m\"Which Project you want to compile from the above list? \"\u001b[0m\u001b[1;33m)\u001b[0m\u001b[1;33m)\u001b[0m\u001b[1;33m\u001b[0m\u001b[1;33m\u001b[0m\u001b[0m\n\u001b[0m",
      "\u001b[1;32m<string>\u001b[0m in \u001b[0;36m<module>\u001b[1;34m\u001b[0m\n",
      "\u001b[1;31mNameError\u001b[0m: name 'b' is not defined"
     ]
    }
   ],
   "source": [
    "a = eval(input(\"Which Project you want to compile from the above list? \"))"
   ]
  },
  {
   "cell_type": "code",
   "execution_count": null,
   "id": "0d23d053",
   "metadata": {},
   "outputs": [],
   "source": []
  },
  {
   "cell_type": "code",
   "execution_count": null,
   "id": "34949d9e",
   "metadata": {},
   "outputs": [],
   "source": []
  },
  {
   "cell_type": "code",
   "execution_count": null,
   "id": "250c9fa9",
   "metadata": {},
   "outputs": [],
   "source": []
  },
  {
   "cell_type": "code",
   "execution_count": null,
   "id": "ae0279b9",
   "metadata": {},
   "outputs": [],
   "source": []
  },
  {
   "cell_type": "code",
   "execution_count": null,
   "id": "c1726e54",
   "metadata": {},
   "outputs": [],
   "source": []
  },
  {
   "cell_type": "code",
   "execution_count": null,
   "id": "286781fe",
   "metadata": {},
   "outputs": [],
   "source": []
  },
  {
   "cell_type": "code",
   "execution_count": null,
   "id": "66f87d5e",
   "metadata": {},
   "outputs": [],
   "source": []
  },
  {
   "cell_type": "code",
   "execution_count": null,
   "id": "cf2270c2",
   "metadata": {},
   "outputs": [],
   "source": []
  },
  {
   "cell_type": "code",
   "execution_count": null,
   "id": "365f79f2",
   "metadata": {},
   "outputs": [],
   "source": []
  },
  {
   "cell_type": "code",
   "execution_count": null,
   "id": "fb7f7d30",
   "metadata": {},
   "outputs": [],
   "source": []
  },
  {
   "cell_type": "code",
   "execution_count": null,
   "id": "ac54d697",
   "metadata": {},
   "outputs": [],
   "source": []
  },
  {
   "cell_type": "code",
   "execution_count": null,
   "id": "741ea8f0",
   "metadata": {},
   "outputs": [],
   "source": []
  },
  {
   "cell_type": "code",
   "execution_count": null,
   "id": "a20f87bc",
   "metadata": {},
   "outputs": [],
   "source": []
  },
  {
   "cell_type": "code",
   "execution_count": null,
   "id": "548f7f46",
   "metadata": {},
   "outputs": [],
   "source": []
  },
  {
   "cell_type": "code",
   "execution_count": null,
   "id": "1910706a",
   "metadata": {},
   "outputs": [],
   "source": []
  },
  {
   "cell_type": "code",
   "execution_count": null,
   "id": "20dc88d4",
   "metadata": {},
   "outputs": [],
   "source": []
  }
 ],
 "metadata": {
  "kernelspec": {
   "display_name": "Python 3",
   "language": "python",
   "name": "python3"
  },
  "language_info": {
   "codemirror_mode": {
    "name": "ipython",
    "version": 3
   },
   "file_extension": ".py",
   "mimetype": "text/x-python",
   "name": "python",
   "nbconvert_exporter": "python",
   "pygments_lexer": "ipython3",
   "version": "3.8.8"
  }
 },
 "nbformat": 4,
 "nbformat_minor": 5
}
