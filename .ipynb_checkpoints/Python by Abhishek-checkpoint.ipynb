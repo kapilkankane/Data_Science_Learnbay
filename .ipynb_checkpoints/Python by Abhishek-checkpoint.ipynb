{
 "cells": [
  {
   "cell_type": "code",
   "execution_count": 10,
   "id": "ae51983b",
   "metadata": {},
   "outputs": [
    {
     "name": "stdout",
     "output_type": "stream",
     "text": [
      "enter: [1,2,3]\n",
      "<class 'list'>\n"
     ]
    }
   ],
   "source": [
    "#can eval() be applied to anything on input() from user ?\n",
    "a=input(\"enter: \")\n",
    "print(type(eval(a)))"
   ]
  },
  {
   "cell_type": "code",
   "execution_count": 5,
   "id": "44eb867d",
   "metadata": {},
   "outputs": [
    {
     "name": "stdout",
     "output_type": "stream",
     "text": [
      "0xfc98\n",
      "0b1111110010011000\n"
     ]
    }
   ],
   "source": [
    "a = 64664\n",
    "print(hex(a))\n",
    "\n",
    "print(bin(int(hex(a),16)))"
   ]
  },
  {
   "cell_type": "code",
   "execution_count": 2,
   "id": "1a37cc13",
   "metadata": {},
   "outputs": [
    {
     "name": "stdout",
     "output_type": "stream",
     "text": [
      "Enter 1st complex number: 1\n",
      "Enter 2nd complex number: 1\n",
      "\n",
      "a = 1\n",
      "b = 1\n",
      "\\Complex of a = (1+0j)\n",
      "Complex of b = (1+0j)\n",
      "\n",
      "Complex of 'a' == 'b'   = True\n",
      "Complex of 'a' != 'b'   = False\n"
     ]
    },
    {
     "ename": "TypeError",
     "evalue": "'>=' not supported between instances of 'complex' and 'complex'",
     "output_type": "error",
     "traceback": [
      "\u001b[1;31m---------------------------------------------------------------------------\u001b[0m",
      "\u001b[1;31mTypeError\u001b[0m                                 Traceback (most recent call last)",
      "\u001b[1;32m<ipython-input-2-cbf738bfd07a>\u001b[0m in \u001b[0;36m<module>\u001b[1;34m\u001b[0m\n\u001b[0;32m     15\u001b[0m \u001b[0mprint\u001b[0m\u001b[1;33m(\u001b[0m\u001b[1;34m\"\\nComplex of 'a' == 'b'   =\"\u001b[0m\u001b[1;33m,\u001b[0m \u001b[0maComplex\u001b[0m \u001b[1;33m==\u001b[0m \u001b[0mbComplex\u001b[0m\u001b[1;33m)\u001b[0m\u001b[1;33m\u001b[0m\u001b[1;33m\u001b[0m\u001b[0m\n\u001b[0;32m     16\u001b[0m \u001b[0mprint\u001b[0m\u001b[1;33m(\u001b[0m\u001b[1;34m\"Complex of 'a' != 'b'   =\"\u001b[0m\u001b[1;33m,\u001b[0m \u001b[0maComplex\u001b[0m \u001b[1;33m!=\u001b[0m \u001b[0mbComplex\u001b[0m\u001b[1;33m)\u001b[0m\u001b[1;33m\u001b[0m\u001b[1;33m\u001b[0m\u001b[0m\n\u001b[1;32m---> 17\u001b[1;33m \u001b[0mprint\u001b[0m\u001b[1;33m(\u001b[0m\u001b[1;34m\"Complex of 'a' != 'b'   =\"\u001b[0m\u001b[1;33m,\u001b[0m \u001b[0maComplex\u001b[0m \u001b[1;33m>=\u001b[0m \u001b[0mbComplex\u001b[0m\u001b[1;33m)\u001b[0m\u001b[1;33m\u001b[0m\u001b[1;33m\u001b[0m\u001b[0m\n\u001b[0m",
      "\u001b[1;31mTypeError\u001b[0m: '>=' not supported between instances of 'complex' and 'complex'"
     ]
    }
   ],
   "source": [
    "a = input(\"Enter 1st complex number: \")\n",
    "b = input(\"Enter 2nd complex number: \")\n",
    "\n",
    "\n",
    "aComplex = complex(eval(a))\n",
    "bComplex = complex(eval(b))\n",
    "\n",
    "print(\"\\na =\", a)\n",
    "print(\"b =\", b)\n",
    "\n",
    "print(\"\\Complex of a =\", aComplex)\n",
    "print(\"Complex of b =\", bComplex)\n",
    "\n",
    "\n",
    "print(\"\\nComplex of 'a' == 'b'   =\", aComplex == bComplex)\n",
    "print(\"Complex of 'a' != 'b'   =\", aComplex != bComplex)\n",
    "print(\"Complex of 'a' != 'b'   =\", aComplex >= bComplex)"
   ]
  },
  {
   "cell_type": "code",
   "execution_count": 26,
   "id": "dda089d4",
   "metadata": {},
   "outputs": [
    {
     "name": "stdout",
     "output_type": "stream",
     "text": [
      "0b10100\n",
      "0b1110100\n",
      "2\n",
      "9\n"
     ]
    }
   ],
   "source": [
    "print(bin(20))\n",
    "print(bin(116))\n",
    "print(eval('0b10'))\n",
    "\n",
    "print(eval('0b1001'))"
   ]
  },
  {
   "cell_type": "markdown",
   "id": "30a4ea30",
   "metadata": {},
   "source": [
    "Operators\tMeaning\n",
    "()\tParentheses\n",
    "**\tExponent\n",
    "+x, -x, ~x\tUnary plus, Unary minus, Bitwise NOT\n",
    "*, /, //, %\tMultiplication, Division, Floor division, Modulus\n",
    "+, -\tAddition, Subtraction\n",
    "<<, >>\tBitwise shift operators\n",
    "&\tBitwise AND\n",
    "^\tBitwise XOR\n",
    "|\tBitwise OR\n",
    "==, !=, >, >=, <, <=, is, is not, in, not in\tComparisons, Identity, Membership operators\n",
    "not\tLogical NOT\n",
    "and\tLogical AND\n",
    "or\tLogical OR"
   ]
  },
  {
   "cell_type": "markdown",
   "id": "baee7577",
   "metadata": {},
   "source": [
    "Priority |Operator |Description\n",
    "-----|-----|----- \n",
    "1|(expressions...), [expressions...], {key: value...}, {expressions...}|Binding or parenthesized expression, list display, dictionary display, set display\n",
    "2|x[index], x[index:index], x(arguments...), x.attribute|Subscription, slicing, call, attribute reference\n",
    "3|await x|Await expression\n",
    "4|**|Exponentiation\n",
    "5|+x, -x, ~x|Positive, negative, bitwise NOT\n",
    "6|*, @, /, //, %|Multiplication, matrix multiplication, division, floor division, remainder\n",
    "7|+, -|Addition and subtraction\n",
    "8|<<, >>|Shifts\n",
    "9|&|Bitwise AND\n",
    "10|^|Bitwise XOR\n",
    "11|&#124;|Bitwise OR\n",
    "12|in, not in, is, is not, <, <=, >, >=, !=, ==|Comparisons, including membership tests and identity tests\n",
    "13|not x|Boolean NOT\n",
    "14|and|Boolean AND\n",
    "15|or|Boolean OR\n",
    "16|if – else|Conditional expression\n",
    "17|lamda|Lambda expression\n",
    "18|:=|Assignment expression"
   ]
  },
  {
   "cell_type": "code",
   "execution_count": 27,
   "id": "ae3939f8",
   "metadata": {},
   "outputs": [
    {
     "ename": "TypeError",
     "evalue": "int() can't convert non-string with explicit base",
     "output_type": "error",
     "traceback": [
      "\u001b[1;31m---------------------------------------------------------------------------\u001b[0m",
      "\u001b[1;31mTypeError\u001b[0m                                 Traceback (most recent call last)",
      "\u001b[1;32m<ipython-input-27-eaefcea3a8ec>\u001b[0m in \u001b[0;36m<module>\u001b[1;34m\u001b[0m\n\u001b[1;32m----> 1\u001b[1;33m \u001b[0ma\u001b[0m \u001b[1;33m=\u001b[0m \u001b[0mint\u001b[0m\u001b[1;33m(\u001b[0m\u001b[1;36m10\u001b[0m\u001b[1;33m,\u001b[0m\u001b[1;36m8\u001b[0m\u001b[1;33m)\u001b[0m\u001b[1;33m\u001b[0m\u001b[1;33m\u001b[0m\u001b[0m\n\u001b[0m",
      "\u001b[1;31mTypeError\u001b[0m: int() can't convert non-string with explicit base"
     ]
    }
   ],
   "source": [
    "a = int(10,8)"
   ]
  },
  {
   "cell_type": "code",
   "execution_count": 1,
   "id": "9168e55b",
   "metadata": {},
   "outputs": [
    {
     "name": "stdout",
     "output_type": "stream",
     "text": [
      "0b10000\n",
      "0o20\n",
      "0x10\n"
     ]
    }
   ],
   "source": [
    "num = 16\n",
    "print (bin(num))\n",
    "print (oct(num))\n",
    "print (hex(num))\n"
   ]
  },
  {
   "cell_type": "markdown",
   "id": "a7e28e23",
   "metadata": {},
   "source": []
  },
  {
   "cell_type": "code",
   "execution_count": 6,
   "id": "50baa85c",
   "metadata": {},
   "outputs": [
    {
     "name": "stdout",
     "output_type": "stream",
     "text": [
      "1000  =  2518614577392\n",
      "2000  =  2518614577584\n",
      "1000  =  2518614577712\n"
     ]
    }
   ],
   "source": [
    "a=1000\n",
    "b=1000\n",
    "c=b\n",
    "b=2000\n",
    "print(a,\" = \",id(a))\n",
    "print(b,\" = \",id(b))\n",
    "print(c,\" = \",id(c))"
   ]
  },
  {
   "cell_type": "code",
   "execution_count": 9,
   "id": "d82fa5b1",
   "metadata": {},
   "outputs": [
    {
     "name": "stdout",
     "output_type": "stream",
     "text": [
      "900\n"
     ]
    }
   ],
   "source": [
    "num1 = 400\n",
    "num2 = 300\n",
    "num3 = 900\n",
    "print(num1 if (num1>num2) and (num1 > num3) else num2 if num2 > num3 else num3)"
   ]
  },
  {
   "cell_type": "code",
   "execution_count": 2,
   "id": "b0db6996",
   "metadata": {},
   "outputs": [
    {
     "name": "stdout",
     "output_type": "stream",
     "text": [
      "Input:  peter piper picked a pack of pickled peppers.\n",
      "output1:  .sreppep delkcip fo kcap a dekcip repip retep\n",
      "output2:  peppers. pickled of pack a picked piper peter\n",
      "output3:  retep repip dekcip a kcap fo delkcip .sreppep\n"
     ]
    }
   ],
   "source": [
    "my_str = \"peter piper picked a pack of pickled peppers.\"\n",
    "print(\"Input: \",my_str)\n",
    "\n",
    "output1 = \"\".join(reversed(my_str))\n",
    "\n",
    "output2 = my_str.split()\n",
    "output2.reverse()\n",
    "\n",
    "output3 =[]\n",
    "for o in my_str.split():\n",
    "    output3.append(\"\".join(reversed(o)))\n",
    "\n",
    "    \n",
    "\n",
    "print(\"output1: \",output1)\n",
    "print(\"output2: \",\" \".join(output2))\n",
    "print(\"output3: \",\" \".join(output3))\n"
   ]
  },
  {
   "cell_type": "code",
   "execution_count": 71,
   "id": "842391bd",
   "metadata": {},
   "outputs": [
    {
     "name": "stdout",
     "output_type": "stream",
     "text": [
      "Enter a number: 7\n",
      "Saturday\n"
     ]
    }
   ],
   "source": [
    "#Write a program that prompts the user to input a number. \n",
    "#Program should display the corresponding days to the number. \n",
    "#For example if user type 1 the output should be sunday. \n",
    "#If user type 7 the output should be saturday.\n",
    "\n",
    "\n",
    "num1 = input(\"Enter a number: \")\n",
    "days = {\"1\":\"Sunday\",\"2\":\"Monday\",\"3\":\"Tuesday\",\"4\":\"Wednesday\",\"5\":\"Thursday\",\"6\":\"Friday\",\"7\":\"Saturday\"}\n",
    "\n",
    "if num1 in days.keys():\n",
    "    print (days[num1])\n",
    "else:\n",
    "    print(\"Error\")"
   ]
  },
  {
   "cell_type": "code",
   "execution_count": 66,
   "id": "7c51b541",
   "metadata": {},
   "outputs": [
    {
     "name": "stdout",
     "output_type": "stream",
     "text": [
      "Enter number of calls: 165\n",
      "Bill:  237.5\n"
     ]
    }
   ],
   "source": [
    "#Write a program that prompts the user to input number of calls and \n",
    "#calculate the monthly telephone bills as per the following rule:\n",
    "    \n",
    "#Minimum Rs. 200 for up to 100 calls.\n",
    "#Plus Rs. 0.60 per call for next 50 calls.\n",
    "#Plus Rs. 0.50 per call for next 50 calls.\n",
    "#Plus Rs. 0.40 per call for any call beyond 200 calls.\n",
    "\n",
    "num1 = float(input(\"Enter number of calls: \"))\n",
    "bill = 0.0\n",
    "if num1 <= 100.0:\n",
    "    bill = 200.0\n",
    "elif num1 > 100.0 and num1 <= 150.0:\n",
    "    bill = 200.0 + ((num1-100.0) * 0.6)\n",
    "elif num1 > 150.0 and num1 <= 200.0:\n",
    "    bill = 200.0 + (50.0 * 0.6) + ((num1-150.0)*0.5)\n",
    "elif num1 > 200.0:\n",
    "    bill = 200.0 + (50.0 * 0.6) + (50.0 * 0.5) + ((num1-200.0) * 0.4)\n",
    "else:\n",
    "    print(\"Error!\")\n",
    "    \n",
    "print(\"Bill: \",bill)"
   ]
  },
  {
   "cell_type": "code",
   "execution_count": 9,
   "id": "d3761d4f",
   "metadata": {},
   "outputs": [
    {
     "name": "stdout",
     "output_type": "stream",
     "text": [
      "[0, 2, 4, 6, 8]\n",
      "[0, -2, -4, -6, -8]\n",
      "[10, 8, 6, 4, 2]\n"
     ]
    },
    {
     "ename": "TypeError",
     "evalue": "'str' object cannot be interpreted as an integer",
     "output_type": "error",
     "traceback": [
      "\u001b[1;31m---------------------------------------------------------------------------\u001b[0m",
      "\u001b[1;31mTypeError\u001b[0m                                 Traceback (most recent call last)",
      "\u001b[1;32m<ipython-input-9-d572cd47b04d>\u001b[0m in \u001b[0;36m<module>\u001b[1;34m\u001b[0m\n\u001b[0;32m      2\u001b[0m \u001b[0mprint\u001b[0m\u001b[1;33m(\u001b[0m\u001b[0mlist\u001b[0m\u001b[1;33m(\u001b[0m\u001b[0mrange\u001b[0m\u001b[1;33m(\u001b[0m\u001b[1;36m0\u001b[0m\u001b[1;33m,\u001b[0m\u001b[1;33m-\u001b[0m\u001b[1;36m10\u001b[0m\u001b[1;33m,\u001b[0m\u001b[1;33m-\u001b[0m\u001b[1;36m2\u001b[0m\u001b[1;33m)\u001b[0m\u001b[1;33m)\u001b[0m\u001b[1;33m)\u001b[0m\u001b[1;33m\u001b[0m\u001b[1;33m\u001b[0m\u001b[0m\n\u001b[0;32m      3\u001b[0m \u001b[0mprint\u001b[0m\u001b[1;33m(\u001b[0m\u001b[0mlist\u001b[0m\u001b[1;33m(\u001b[0m\u001b[0mrange\u001b[0m\u001b[1;33m(\u001b[0m\u001b[1;36m10\u001b[0m\u001b[1;33m,\u001b[0m\u001b[1;36m0\u001b[0m\u001b[1;33m,\u001b[0m\u001b[1;33m-\u001b[0m\u001b[1;36m2\u001b[0m\u001b[1;33m)\u001b[0m\u001b[1;33m)\u001b[0m\u001b[1;33m)\u001b[0m\u001b[1;33m\u001b[0m\u001b[1;33m\u001b[0m\u001b[0m\n\u001b[1;32m----> 4\u001b[1;33m \u001b[0mprint\u001b[0m\u001b[1;33m(\u001b[0m\u001b[0mlist\u001b[0m\u001b[1;33m(\u001b[0m\u001b[0mrange\u001b[0m\u001b[1;33m(\u001b[0m\u001b[1;34m'a'\u001b[0m\u001b[1;33m,\u001b[0m\u001b[1;34m'z'\u001b[0m\u001b[1;33m,\u001b[0m\u001b[1;36m1\u001b[0m\u001b[1;33m)\u001b[0m\u001b[1;33m)\u001b[0m\u001b[1;33m)\u001b[0m\u001b[1;33m\u001b[0m\u001b[1;33m\u001b[0m\u001b[0m\n\u001b[0m",
      "\u001b[1;31mTypeError\u001b[0m: 'str' object cannot be interpreted as an integer"
     ]
    }
   ],
   "source": [
    "print(list(range(0,10,2)))\n",
    "print(list(range(0,-10,-2)))\n",
    "print(list(range(10,0,-2)))\n",
    "print(list(range('a','z',1)))"
   ]
  },
  {
   "cell_type": "code",
   "execution_count": 14,
   "id": "2ba8c57f",
   "metadata": {},
   "outputs": [
    {
     "name": "stdout",
     "output_type": "stream",
     "text": [
      "p\n",
      "yy\n",
      "ttt\n",
      "hhhh\n",
      "ooooo\n",
      "nnnnnn\n",
      "pyyttthhhhooooonnnnnn\n"
     ]
    }
   ],
   "source": [
    "my_str='python'\n",
    "new_str = ''\n",
    "for i in range(len(my_str)):\n",
    "    new_str += my_str[i]*(i+1) \n",
    "    print(my_str[i]*(i+1))\n",
    "print(new_str)"
   ]
  },
  {
   "cell_type": "code",
   "execution_count": 30,
   "id": "8c763342",
   "metadata": {},
   "outputs": [
    {
     "name": "stdout",
     "output_type": "stream",
     "text": [
      "n\n",
      "oo\n",
      "hhh\n",
      "tttt\n",
      "yyyyy\n",
      "pppppp\n"
     ]
    }
   ],
   "source": [
    "my_str='python'\n",
    "rev_str = \"\".join(reversed(my_str))\n",
    "for i in range(len(rev_str)):\n",
    "    print(rev_str[i]*(i+1))"
   ]
  },
  {
   "cell_type": "code",
   "execution_count": 32,
   "id": "bf8fc212",
   "metadata": {},
   "outputs": [
    {
     "name": "stdout",
     "output_type": "stream",
     "text": [
      "p\n",
      "yy\n",
      "ttt\n",
      "hhhh\n",
      "ooooo\n",
      "nnnnnn\n"
     ]
    }
   ],
   "source": [
    "my_str='python'\n",
    "i = 0\n",
    "while i < len(my_str):\n",
    "    print(my_str[i]*(i+1))\n",
    "    i +=1"
   ]
  },
  {
   "cell_type": "code",
   "execution_count": 34,
   "id": "de93ee3e",
   "metadata": {},
   "outputs": [
    {
     "name": "stdout",
     "output_type": "stream",
     "text": [
      "n\n",
      "oo\n",
      "hhh\n",
      "tttt\n",
      "yyyyy\n",
      "pppppp\n"
     ]
    }
   ],
   "source": [
    "my_str='python'\n",
    "rev_str = \"\".join(reversed(my_str))\n",
    "i = 0\n",
    "while i < len(rev_str):\n",
    "    print(rev_str[i]*(i+1))\n",
    "    i += 1"
   ]
  },
  {
   "cell_type": "raw",
   "id": "62b6def7",
   "metadata": {},
   "source": [
    "# Write a Python program to find the length of the my_str using loop:-\n",
    "# Input:- 'Write a Python program to find the length of the my_str'\n",
    "# Output:- 55\n",
    "# Q. Write a Python program to find the total number of times letter 'p'\n",
    "# is appeared in the below string using loop:-\n",
    "# Input:- 'peter piper picked a peck of pickled peppers.\\n'\n",
    "# Output:- 9\n",
    "Q. Write a Python Program, to print all the indexes of all occurences of\n",
    "letter 'p' appeared in the string using loop:-\n",
    "Input:- 'peter piper picked a peck of pickled peppers.'\n",
    "Output:-\n",
    "0\n",
    "6\n",
    "8\n",
    "12\n",
    "21\n",
    "29\n",
    "37\n",
    "39\n",
    "40\n",
    "\n",
    "# Q. Write a python program to find below output using loop:-\n",
    "# Input:- 'peter piper picked a peck of pickled peppers.'\n",
    "# Output:- ['peter', 'piper', 'picked', 'a', 'peck', 'of', 'pickled',\n",
    "# 'peppers']\n"
   ]
  },
  {
   "cell_type": "code",
   "execution_count": 48,
   "id": "43b94c46",
   "metadata": {},
   "outputs": [
    {
     "name": "stdout",
     "output_type": "stream",
     "text": [
      "['peter', 'piper', 'picked', 'a', 'peck', 'of', 'pickled', 'peppers']\n"
     ]
    }
   ],
   "source": [
    "my_str = \"peter piper picked a peck of pickled peppers.\"\n",
    "count = 0\n",
    "lst = []\n",
    "word = \"\"\n",
    "for i in my_str:\n",
    "    if i != \" \" and i != \".\":\n",
    "        word = word + i\n",
    "    else:\n",
    "        lst.append(word)\n",
    "        word = \"\"   \n",
    "print(lst)"
   ]
  },
  {
   "cell_type": "code",
   "execution_count": 49,
   "id": "0c0aed0e",
   "metadata": {},
   "outputs": [
    {
     "name": "stdout",
     "output_type": "stream",
     "text": [
      "['peter', 'piper', 'picked', 'a', 'peck', 'of', 'pickled', 'peppers.']\n"
     ]
    }
   ],
   "source": [
    "str = 'peter piper picked a peck of pickled peppers.'\n",
    "substr = \"\"\n",
    "list=[]\n",
    "for i in str:\n",
    "    if(i==' '):\n",
    "        list.append(substr)\n",
    "        substr=\"\"\n",
    "    else:\n",
    "        substr+=i\n",
    "list.append(substr)\n",
    "print(list)\n"
   ]
  },
  {
   "cell_type": "markdown",
   "id": "4caa1ff5",
   "metadata": {},
   "source": [
    "Q. Write a python program to find below output using loop:-\n",
    "Input:- 'peter piper picked a peck of pickled peppers.'\n",
    "Output:- 'peppers pickled of peck a picked piper peter'\n",
    "\n",
    "Q. Write a python program to find below output using loop:-\n",
    "Input:- 'peter piper picked a peck of pickled peppers.'\n",
    "Output:- '.sreppep delkcip fo kcep a dekcip repip retep'\n",
    "\n",
    "Q. Write a python program to find below output using loop:-\n",
    "Input:- 'peter piper picked a peck of pickled peppers.'\n",
    "Output:- 'retep repip dekcip a kcep fo delkcip sreppep'\n",
    "\n",
    "Q. Write a python program to implement index method using loop. If\n",
    "sub_str is found in my_str then it will print the index\n",
    "of first occurrence of first character of matching string in my_str:-\n",
    "Input:- my_str = 'Peter Piper Picked A Peck Of Pickled Peppers.',\n",
    "sub_str = 'Pickl'\n",
    "Output:- 29\n"
   ]
  },
  {
   "cell_type": "code",
   "execution_count": 106,
   "id": "cc0b9c02",
   "metadata": {},
   "outputs": [
    {
     "name": "stdout",
     "output_type": "stream",
     "text": [
      "peppers. pickled of peck a picked piper peter \n"
     ]
    }
   ],
   "source": [
    "my_str = \"peter piper picked a peck of pickled peppers.\"\n",
    "lst = []\n",
    "word = \"\"\n",
    "sentence = \"\"\n",
    "count = 0\n",
    "for i in my_str:\n",
    "    if i == \" \":\n",
    "        lst += [word]\n",
    "        word = \"\"\n",
    "    elif count >= len(my_str)-1:\n",
    "        lst += [word+my_str[-1]]\n",
    "        word = \"\"\n",
    "    else:\n",
    "        word = word + i\n",
    "    count += 1  \n",
    "for word in lst[::-1]:\n",
    "    sentence += word +\" \"\n",
    "print(sentence)"
   ]
  },
  {
   "cell_type": "code",
   "execution_count": 107,
   "id": "b8d6d192",
   "metadata": {},
   "outputs": [
    {
     "name": "stdout",
     "output_type": "stream",
     "text": [
      ".sreppep delkcip fo kcep a dekcip repip retep \n"
     ]
    }
   ],
   "source": [
    "my_str = \"peter piper picked a peck of pickled peppers.\"\n",
    "lst = []\n",
    "word = \"\"\n",
    "sentence = \"\"\n",
    "count = 0\n",
    "for i in my_str[::-1]:\n",
    "    if i == \" \":\n",
    "        lst += [word]\n",
    "        word = \"\"\n",
    "    elif count == len(my_str)-1:\n",
    "        lst += [word+my_str[0]]\n",
    "        word = \"\"\n",
    "    else:\n",
    "        word += i\n",
    "    count += 1\n",
    "for word in lst[::1]:\n",
    "    sentence += word +\" \"\n",
    "print(sentence)"
   ]
  },
  {
   "cell_type": "code",
   "execution_count": 114,
   "id": "838eaa76",
   "metadata": {},
   "outputs": [
    {
     "name": "stdout",
     "output_type": "stream",
     "text": [
      "retep repip dekcip a kcep fo delkcip .sreppep \n"
     ]
    }
   ],
   "source": [
    "my_str = \"peter piper picked a peck of pickled peppers.\"\n",
    "lst = []\n",
    "word = \"\"\n",
    "sentence = \"\"\n",
    "count = 0\n",
    "for i in my_str:\n",
    "    if i == \" \":\n",
    "        lst += [word]\n",
    "        word = \"\"\n",
    "    elif count == len(my_str)-1:\n",
    "        lst += [word+my_str[-1]]\n",
    "        word = \"\"\n",
    "    else:\n",
    "        word += i\n",
    "    count += 1\n",
    "for word in lst[::1]:\n",
    "    for i in word[::-1]:\n",
    "        sentence += i\n",
    "    sentence += \" \"\n",
    "print(sentence)"
   ]
  },
  {
   "cell_type": "code",
   "execution_count": 3,
   "id": "054bea66",
   "metadata": {},
   "outputs": [
    {
     "data": {
      "text/plain": [
       "['This', 'is', 'Python', 'class']"
      ]
     },
     "execution_count": 3,
     "metadata": {},
     "output_type": "execute_result"
    }
   ],
   "source": [
    "my_str = 'This is Python class'\n",
    "my_str = my_str.ljust(len(my_str) + 1)\n",
    "sep = ' is'\n",
    "temp = ''\n",
    "new_str = []\n",
    "for i in my_str:\n",
    "    if i.isalnum():\n",
    "        temp = temp + i        \n",
    "    else:\n",
    "        new_str.append(temp)\n",
    "        temp = ''\n",
    "new_str     \n",
    "# output_str = []\n",
    "# c = 0\n",
    "# for word in new_str:\n",
    "#     if word == sep.strip():        \n",
    "#         for j in range(c+1, len(new_str)):\n",
    "#             temp = temp + ' '+ new_str[j]\n",
    "#             temp = temp.strip()\n",
    "#         output_str.append(sep.strip())\n",
    "#         output_str.append(temp)\n",
    "#         break\n",
    "#     else:\n",
    "#         output_str.append(word)\n",
    "#     c = c + 1    \n",
    "# print(output_str)"
   ]
  },
  {
   "cell_type": "code",
   "execution_count": 1,
   "id": "2cc96d99",
   "metadata": {
    "ExecuteTime": {
     "end_time": "2021-08-21T06:27:10.219357Z",
     "start_time": "2021-08-21T06:27:10.196391Z"
    }
   },
   "outputs": [
    {
     "name": "stdout",
     "output_type": "stream",
     "text": [
      "This is Python class \n"
     ]
    }
   ],
   "source": [
    "my_str = 'This is Python class'\n",
    "my_str = my_str.ljust(len(my_str) + 1)\n",
    "print(my_str)"
   ]
  },
  {
   "cell_type": "code",
   "execution_count": 8,
   "id": "f99b14f5",
   "metadata": {
    "ExecuteTime": {
     "end_time": "2021-08-29T04:27:15.114619Z",
     "start_time": "2021-08-29T04:27:15.104685Z"
    }
   },
   "outputs": [
    {
     "data": {
      "text/plain": [
       "[1, 4, 3, 16, 5, 36, 7, 64, 9]"
      ]
     },
     "execution_count": 8,
     "metadata": {},
     "output_type": "execute_result"
    }
   ],
   "source": [
    "lst = [1,2,3,4,5,6,7,8,9]\n",
    "[i**2 if i%2 == 0 else i for i in lst]"
   ]
  },
  {
   "cell_type": "code",
   "execution_count": 9,
   "id": "b3394dc6",
   "metadata": {
    "ExecuteTime": {
     "end_time": "2021-08-29T04:27:17.991230Z",
     "start_time": "2021-08-29T04:27:17.983185Z"
    }
   },
   "outputs": [
    {
     "data": {
      "text/plain": [
       "['1', 'N', 'N', 'N', 'N', 'N', 'N', 'N', 'N']"
      ]
     },
     "execution_count": 9,
     "metadata": {},
     "output_type": "execute_result"
    }
   ],
   "source": [
    "lst = \"123456789\"\n",
    "[i if i=='1' else 'N' for i in lst]"
   ]
  },
  {
   "cell_type": "code",
   "execution_count": 11,
   "id": "afacf128",
   "metadata": {
    "ExecuteTime": {
     "end_time": "2021-08-29T05:25:13.764103Z",
     "start_time": "2021-08-29T05:25:13.749531Z"
    }
   },
   "outputs": [
    {
     "data": {
      "text/plain": [
       "{1: 5, 2: 6, 3: 7, 4: 8}"
      ]
     },
     "execution_count": 11,
     "metadata": {},
     "output_type": "execute_result"
    }
   ],
   "source": [
    "a=[1,2,3,4]\n",
    "b=[5,6,7,8]\n",
    "# c=[9,10,11,12]\n",
    "dict(zip(a,b))"
   ]
  },
  {
   "cell_type": "code",
   "execution_count": 12,
   "id": "e79ee024",
   "metadata": {
    "ExecuteTime": {
     "end_time": "2021-08-29T05:28:40.383399Z",
     "start_time": "2021-08-29T05:28:40.376304Z"
    }
   },
   "outputs": [
    {
     "data": {
      "text/plain": [
       "{0: 1, 1: 2, 2: 3, 3: 4}"
      ]
     },
     "execution_count": 12,
     "metadata": {},
     "output_type": "execute_result"
    }
   ],
   "source": [
    "a=[1,2,3,4]\n",
    "dict(enumerate(a))"
   ]
  },
  {
   "cell_type": "code",
   "execution_count": 37,
   "id": "35c7c4fc",
   "metadata": {
    "ExecuteTime": {
     "end_time": "2021-08-29T05:38:19.769056Z",
     "start_time": "2021-08-29T05:38:19.759189Z"
    }
   },
   "outputs": [
    {
     "data": {
      "text/plain": [
       "{1: 0, 2: 1, 3: 2, 4: 3}"
      ]
     },
     "execution_count": 37,
     "metadata": {},
     "output_type": "execute_result"
    }
   ],
   "source": [
    "a=[1,2,3,4]\n",
    "dict([tuple(reversed(i)) for i in list(enumerate(a))])"
   ]
  },
  {
   "cell_type": "code",
   "execution_count": 42,
   "id": "71756a86",
   "metadata": {
    "ExecuteTime": {
     "end_time": "2021-08-29T06:23:39.785299Z",
     "start_time": "2021-08-29T06:23:39.769718Z"
    }
   },
   "outputs": [
    {
     "ename": "SyntaxError",
     "evalue": "invalid syntax (<ipython-input-42-8065256f0bc4>, line 2)",
     "output_type": "error",
     "traceback": [
      "\u001b[1;36m  File \u001b[1;32m\"<ipython-input-42-8065256f0bc4>\"\u001b[1;36m, line \u001b[1;32m2\u001b[0m\n\u001b[1;33m    {i:i**2 if i%2==0 for (i,v) in lst}\u001b[0m\n\u001b[1;37m                      ^\u001b[0m\n\u001b[1;31mSyntaxError\u001b[0m\u001b[1;31m:\u001b[0m invalid syntax\n"
     ]
    }
   ],
   "source": [
    "lst = [1,2,3,4,5,6,7,8,9]\n",
    "{i:i**2 if i%2==0 for (i,v) in lst}"
   ]
  },
  {
   "cell_type": "code",
   "execution_count": 2,
   "id": "4b492159",
   "metadata": {
    "ExecuteTime": {
     "end_time": "2021-08-31T04:44:25.099379Z",
     "start_time": "2021-08-31T04:44:25.080211Z"
    }
   },
   "outputs": [
    {
     "data": {
      "text/plain": [
       "1"
      ]
     },
     "execution_count": 2,
     "metadata": {},
     "output_type": "execute_result"
    }
   ],
   "source": [
    "'abcd'.count('a')"
   ]
  },
  {
   "cell_type": "code",
   "execution_count": 20,
   "id": "afcea7e1",
   "metadata": {
    "ExecuteTime": {
     "end_time": "2021-09-04T04:15:20.809144Z",
     "start_time": "2021-09-04T04:15:20.801735Z"
    }
   },
   "outputs": [
    {
     "name": "stdout",
     "output_type": "stream",
     "text": [
      "abc is not a Palindrome\n",
      "abcba is not a Palindrome\n",
      "1991 is not a Palindrome\n",
      "ABCdef is not a Palindrome\n",
      "abccba is not a Palindrome\n"
     ]
    }
   ],
   "source": [
    "lst = ['abc','abcba','1991','ABCdef','abccba']\n",
    "def palin(mystr):\n",
    "    x = 0\n",
    "    y = len(mystr)\n",
    "    for i in mystr:\n",
    "        if mystr[x] == mystr[y-1]:\n",
    "            pal = True\n",
    "        else:\n",
    "            pal = False\n",
    "            break\n",
    "        x+=1\n",
    "        y-=1\n",
    "    return palin\n",
    "\n",
    "for mystr in lst:\n",
    "    pal = palin(mystr)\n",
    "    if pal == True:\n",
    "        print(f\"{mystr} is a Palindrome\")\n",
    "    else:\n",
    "        print(f\"{mystr} is not a Palindrome\")\n"
   ]
  },
  {
   "cell_type": "code",
   "execution_count": 1,
   "id": "5bcf7c8e",
   "metadata": {
    "ExecuteTime": {
     "end_time": "2021-09-11T04:38:13.815605Z",
     "start_time": "2021-09-11T04:38:13.806696Z"
    }
   },
   "outputs": [
    {
     "name": "stdout",
     "output_type": "stream",
     "text": [
      "abcba -> palindrome\n",
      "1991 -> palindrome\n",
      "abccba -> palindrome\n"
     ]
    }
   ],
   "source": [
    "lst = ['abc','abcba','1991','ABCdef','abccba']\n",
    "\n",
    "def palindrome(lst):\n",
    "    for i in lst:\n",
    "        if(i==i[::-1]):\n",
    "            print(f'{i} -> palindrome')\n",
    "\n",
    "\n",
    "palindrome(lst)"
   ]
  },
  {
   "cell_type": "code",
   "execution_count": 29,
   "id": "b9e358ef",
   "metadata": {
    "ExecuteTime": {
     "end_time": "2021-09-12T06:02:23.202936Z",
     "start_time": "2021-09-12T06:02:23.190383Z"
    }
   },
   "outputs": [
    {
     "name": "stdout",
     "output_type": "stream",
     "text": [
      "<re.Match object; span=(172, 201), match='abhishek-8765-gupta@yahoo.com'>\n",
      "<re.Match object; span=(361, 385), match='abhsihek.gupta@gmail.com'>\n",
      "<re.Match object; span=(386, 414), match='abhishek-1234gupta@gmail.org'>\n",
      "<re.Match object; span=(415, 435), match='abhishek@hotmail.net'>\n"
     ]
    }
   ],
   "source": [
    "import re\n",
    "\n",
    "text_to_search = '''\n",
    "abcdefghijklmnopqurtuvwxyz\n",
    "ABCDEFGHIJKLMNOPQRSTUVWXYZ\\s\n",
    "321-555-4321\n",
    "1234567890\n",
    "Ha HaHa\n",
    "MetaCharacters (Need to be escaped):\n",
    ". ^ $ * + ? { } [ ] \\ | ( )\n",
    "guptaabhishek.com\n",
    "abhishek-8765-gupta@yahoo.com\n",
    "abhi_gyupta@gamil.abc\n",
    "321-555-4321\n",
    "123.555.1234\n",
    "123*555*1234\n",
    "123.555.1234\n",
    "800-555-1234\n",
    "900-555-1234\n",
    "Mr. Schafer\n",
    "Mr Smith\n",
    "Ms Davis\n",
    "Mrs. Robinson\n",
    "Mr. T\n",
    "Mr_hello\n",
    "abhsihek.gupta@gmail.com\n",
    "abhishek-1234gupta@gmail.org\n",
    "abhishek@hotmail.net\n",
    "'''\n",
    "\n",
    "\n",
    "\n",
    "\n",
    "pattern = r\"[a-zA-z]+.*@[a-zA-Z]+.(com|net|org)\"\n",
    "reg = re.finditer(pattern,text_to_search)\n",
    "for i in reg:\n",
    "    print(i)"
   ]
  },
  {
   "cell_type": "code",
   "execution_count": null,
   "id": "2dd55fc9",
   "metadata": {},
   "outputs": [],
   "source": []
  },
  {
   "cell_type": "code",
   "execution_count": null,
   "id": "8510e063",
   "metadata": {},
   "outputs": [],
   "source": []
  }
 ],
 "metadata": {
  "kernelspec": {
   "display_name": "Python 3",
   "language": "python",
   "name": "python3"
  },
  "language_info": {
   "codemirror_mode": {
    "name": "ipython",
    "version": 3
   },
   "file_extension": ".py",
   "mimetype": "text/x-python",
   "name": "python",
   "nbconvert_exporter": "python",
   "pygments_lexer": "ipython3",
   "version": "3.8.8"
  }
 },
 "nbformat": 4,
 "nbformat_minor": 5
}
