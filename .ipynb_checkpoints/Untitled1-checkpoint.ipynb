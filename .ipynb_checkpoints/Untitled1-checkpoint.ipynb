{
 "cells": [
  {
   "cell_type": "code",
   "execution_count": 10,
   "id": "ae51983b",
   "metadata": {},
   "outputs": [
    {
     "name": "stdout",
     "output_type": "stream",
     "text": [
      "enter: [1,2,3]\n",
      "<class 'list'>\n"
     ]
    }
   ],
   "source": [
    "#can eval() be applied to anything on input() from user ?\n",
    "a=input(\"enter: \")\n",
    "print(type(eval(a)))"
   ]
  },
  {
   "cell_type": "code",
   "execution_count": 5,
   "id": "44eb867d",
   "metadata": {},
   "outputs": [
    {
     "name": "stdout",
     "output_type": "stream",
     "text": [
      "0xfc98\n",
      "0b1111110010011000\n"
     ]
    }
   ],
   "source": [
    "a = 64664\n",
    "print(hex(a))\n",
    "\n",
    "print(bin(int(hex(a),16)))"
   ]
  },
  {
   "cell_type": "code",
   "execution_count": 2,
   "id": "1a37cc13",
   "metadata": {},
   "outputs": [
    {
     "name": "stdout",
     "output_type": "stream",
     "text": [
      "Enter 1st complex number: 1\n",
      "Enter 2nd complex number: 1\n",
      "\n",
      "a = 1\n",
      "b = 1\n",
      "\\Complex of a = (1+0j)\n",
      "Complex of b = (1+0j)\n",
      "\n",
      "Complex of 'a' == 'b'   = True\n",
      "Complex of 'a' != 'b'   = False\n"
     ]
    },
    {
     "ename": "TypeError",
     "evalue": "'>=' not supported between instances of 'complex' and 'complex'",
     "output_type": "error",
     "traceback": [
      "\u001b[1;31m---------------------------------------------------------------------------\u001b[0m",
      "\u001b[1;31mTypeError\u001b[0m                                 Traceback (most recent call last)",
      "\u001b[1;32m<ipython-input-2-cbf738bfd07a>\u001b[0m in \u001b[0;36m<module>\u001b[1;34m\u001b[0m\n\u001b[0;32m     15\u001b[0m \u001b[0mprint\u001b[0m\u001b[1;33m(\u001b[0m\u001b[1;34m\"\\nComplex of 'a' == 'b'   =\"\u001b[0m\u001b[1;33m,\u001b[0m \u001b[0maComplex\u001b[0m \u001b[1;33m==\u001b[0m \u001b[0mbComplex\u001b[0m\u001b[1;33m)\u001b[0m\u001b[1;33m\u001b[0m\u001b[1;33m\u001b[0m\u001b[0m\n\u001b[0;32m     16\u001b[0m \u001b[0mprint\u001b[0m\u001b[1;33m(\u001b[0m\u001b[1;34m\"Complex of 'a' != 'b'   =\"\u001b[0m\u001b[1;33m,\u001b[0m \u001b[0maComplex\u001b[0m \u001b[1;33m!=\u001b[0m \u001b[0mbComplex\u001b[0m\u001b[1;33m)\u001b[0m\u001b[1;33m\u001b[0m\u001b[1;33m\u001b[0m\u001b[0m\n\u001b[1;32m---> 17\u001b[1;33m \u001b[0mprint\u001b[0m\u001b[1;33m(\u001b[0m\u001b[1;34m\"Complex of 'a' != 'b'   =\"\u001b[0m\u001b[1;33m,\u001b[0m \u001b[0maComplex\u001b[0m \u001b[1;33m>=\u001b[0m \u001b[0mbComplex\u001b[0m\u001b[1;33m)\u001b[0m\u001b[1;33m\u001b[0m\u001b[1;33m\u001b[0m\u001b[0m\n\u001b[0m",
      "\u001b[1;31mTypeError\u001b[0m: '>=' not supported between instances of 'complex' and 'complex'"
     ]
    }
   ],
   "source": [
    "a = input(\"Enter 1st complex number: \")\n",
    "b = input(\"Enter 2nd complex number: \")\n",
    "\n",
    "\n",
    "aComplex = complex(eval(a))\n",
    "bComplex = complex(eval(b))\n",
    "\n",
    "print(\"\\na =\", a)\n",
    "print(\"b =\", b)\n",
    "\n",
    "print(\"\\Complex of a =\", aComplex)\n",
    "print(\"Complex of b =\", bComplex)\n",
    "\n",
    "\n",
    "print(\"\\nComplex of 'a' == 'b'   =\", aComplex == bComplex)\n",
    "print(\"Complex of 'a' != 'b'   =\", aComplex != bComplex)\n",
    "print(\"Complex of 'a' != 'b'   =\", aComplex >= bComplex)"
   ]
  },
  {
   "cell_type": "code",
   "execution_count": 26,
   "id": "dda089d4",
   "metadata": {},
   "outputs": [
    {
     "name": "stdout",
     "output_type": "stream",
     "text": [
      "0b10100\n",
      "0b1110100\n",
      "2\n",
      "9\n"
     ]
    }
   ],
   "source": [
    "print(bin(20))\n",
    "print(bin(116))\n",
    "print(eval('0b10'))\n",
    "\n",
    "print(eval('0b1001'))"
   ]
  },
  {
   "cell_type": "markdown",
   "id": "30a4ea30",
   "metadata": {},
   "source": [
    "Operators\tMeaning\n",
    "()\tParentheses\n",
    "**\tExponent\n",
    "+x, -x, ~x\tUnary plus, Unary minus, Bitwise NOT\n",
    "*, /, //, %\tMultiplication, Division, Floor division, Modulus\n",
    "+, -\tAddition, Subtraction\n",
    "<<, >>\tBitwise shift operators\n",
    "&\tBitwise AND\n",
    "^\tBitwise XOR\n",
    "|\tBitwise OR\n",
    "==, !=, >, >=, <, <=, is, is not, in, not in\tComparisons, Identity, Membership operators\n",
    "not\tLogical NOT\n",
    "and\tLogical AND\n",
    "or\tLogical OR"
   ]
  },
  {
   "cell_type": "markdown",
   "id": "baee7577",
   "metadata": {},
   "source": [
    "Priority |Operator |Description\n",
    "-----|-----|----- \n",
    "1|(expressions...), [expressions...], {key: value...}, {expressions...}|Binding or parenthesized expression, list display, dictionary display, set display\n",
    "2|x[index], x[index:index], x(arguments...), x.attribute|Subscription, slicing, call, attribute reference\n",
    "3|await x|Await expression\n",
    "4|**|Exponentiation\n",
    "5|+x, -x, ~x|Positive, negative, bitwise NOT\n",
    "6|*, @, /, //, %|Multiplication, matrix multiplication, division, floor division, remainder\n",
    "7|+, -|Addition and subtraction\n",
    "8|<<, >>|Shifts\n",
    "9|&|Bitwise AND\n",
    "10|^|Bitwise XOR\n",
    "11|&#124;|Bitwise OR\n",
    "12|in, not in, is, is not, <, <=, >, >=, !=, ==|Comparisons, including membership tests and identity tests\n",
    "13|not x|Boolean NOT\n",
    "14|and|Boolean AND\n",
    "15|or|Boolean OR\n",
    "16|if – else|Conditional expression\n",
    "17|lamda|Lambda expression\n",
    "18|:=|Assignment expression"
   ]
  },
  {
   "cell_type": "code",
   "execution_count": 27,
   "id": "ae3939f8",
   "metadata": {},
   "outputs": [
    {
     "ename": "TypeError",
     "evalue": "int() can't convert non-string with explicit base",
     "output_type": "error",
     "traceback": [
      "\u001b[1;31m---------------------------------------------------------------------------\u001b[0m",
      "\u001b[1;31mTypeError\u001b[0m                                 Traceback (most recent call last)",
      "\u001b[1;32m<ipython-input-27-eaefcea3a8ec>\u001b[0m in \u001b[0;36m<module>\u001b[1;34m\u001b[0m\n\u001b[1;32m----> 1\u001b[1;33m \u001b[0ma\u001b[0m \u001b[1;33m=\u001b[0m \u001b[0mint\u001b[0m\u001b[1;33m(\u001b[0m\u001b[1;36m10\u001b[0m\u001b[1;33m,\u001b[0m\u001b[1;36m8\u001b[0m\u001b[1;33m)\u001b[0m\u001b[1;33m\u001b[0m\u001b[1;33m\u001b[0m\u001b[0m\n\u001b[0m",
      "\u001b[1;31mTypeError\u001b[0m: int() can't convert non-string with explicit base"
     ]
    }
   ],
   "source": [
    "a = int(10,8)"
   ]
  },
  {
   "cell_type": "code",
   "execution_count": 1,
   "id": "9168e55b",
   "metadata": {},
   "outputs": [
    {
     "name": "stdout",
     "output_type": "stream",
     "text": [
      "0b10000\n",
      "0o20\n",
      "0x10\n"
     ]
    }
   ],
   "source": [
    "num = 16\n",
    "print (bin(num))\n",
    "print (oct(num))\n",
    "print (hex(num))\n"
   ]
  },
  {
   "cell_type": "markdown",
   "id": "a7e28e23",
   "metadata": {},
   "source": []
  },
  {
   "cell_type": "code",
   "execution_count": 6,
   "id": "50baa85c",
   "metadata": {},
   "outputs": [
    {
     "name": "stdout",
     "output_type": "stream",
     "text": [
      "1000  =  2518614577392\n",
      "2000  =  2518614577584\n",
      "1000  =  2518614577712\n"
     ]
    }
   ],
   "source": [
    "a=1000\n",
    "b=1000\n",
    "c=b\n",
    "b=2000\n",
    "print(a,\" = \",id(a))\n",
    "print(b,\" = \",id(b))\n",
    "print(c,\" = \",id(c))"
   ]
  },
  {
   "cell_type": "code",
   "execution_count": 9,
   "id": "d82fa5b1",
   "metadata": {},
   "outputs": [
    {
     "name": "stdout",
     "output_type": "stream",
     "text": [
      "900\n"
     ]
    }
   ],
   "source": [
    "num1 = 400\n",
    "num2 = 300\n",
    "num3 = 900\n",
    "print(num1 if (num1>num2) and (num1 > num3) else num2 if num2 > num3 else num3)"
   ]
  },
  {
   "cell_type": "code",
   "execution_count": 60,
   "id": "b0db6996",
   "metadata": {},
   "outputs": [
    {
     "name": "stdout",
     "output_type": "stream",
     "text": [
      "Input:  peter piper picked a pack of pickled peppers\n",
      "output1:  sreppep delkcip fo kcap a dekcip repip retep\n",
      "output2:  peppers pickled of pack a picked piper peter\n",
      "output3:  retep repip dekcip a kcap fo delkcip sreppep\n"
     ]
    }
   ],
   "source": [
    "my_str = \"peter piper picked a pack of pickled peppers\"\n",
    "print(\"Input: \",my_str)\n",
    "\n",
    "output1 = \"\".join(reversed(my_str))\n",
    "\n",
    "output2 = my_str.split()\n",
    "output2.reverse()\n",
    "\n",
    "output3 =[]\n",
    "for o in my_str.split():\n",
    "    output3.append(\"\".join(reversed(o)))\n",
    "\n",
    "    \n",
    "\n",
    "print(\"output1: \",output1)\n",
    "print(\"output2: \",\" \".join(output2))\n",
    "print(\"output3: \",\" \".join(output3))\n"
   ]
  },
  {
   "cell_type": "code",
   "execution_count": 71,
   "id": "842391bd",
   "metadata": {},
   "outputs": [
    {
     "name": "stdout",
     "output_type": "stream",
     "text": [
      "Enter a number: 7\n",
      "Saturday\n"
     ]
    }
   ],
   "source": [
    "#Write a program that prompts the user to input a number. \n",
    "#Program should display the corresponding days to the number. \n",
    "#For example if user type 1 the output should be sunday. \n",
    "#If user type 7 the output should be saturday.\n",
    "\n",
    "\n",
    "num1 = input(\"Enter a number: \")\n",
    "days = {\"1\":\"Sunday\",\"2\":\"Monday\",\"3\":\"Tuesday\",\"4\":\"Wednesday\",\"5\":\"Thursday\",\"6\":\"Friday\",\"7\":\"Saturday\"}\n",
    "\n",
    "if num1 in days.keys():\n",
    "    print (days[num1])\n",
    "else:\n",
    "    print(\"Error\")"
   ]
  },
  {
   "cell_type": "code",
   "execution_count": 66,
   "id": "7c51b541",
   "metadata": {},
   "outputs": [
    {
     "name": "stdout",
     "output_type": "stream",
     "text": [
      "Enter number of calls: 165\n",
      "Bill:  237.5\n"
     ]
    }
   ],
   "source": [
    "#Write a program that prompts the user to input number of calls and \n",
    "#calculate the monthly telephone bills as per the following rule:\n",
    "    \n",
    "#Minimum Rs. 200 for up to 100 calls.\n",
    "#Plus Rs. 0.60 per call for next 50 calls.\n",
    "#Plus Rs. 0.50 per call for next 50 calls.\n",
    "#Plus Rs. 0.40 per call for any call beyond 200 calls.\n",
    "\n",
    "num1 = float(input(\"Enter number of calls: \"))\n",
    "bill = 0.0\n",
    "if num1 <= 100.0:\n",
    "    bill = 200.0\n",
    "elif num1 > 100.0 and num1 <= 150.0:\n",
    "    bill = 200.0 + ((num1-100.0) * 0.6)\n",
    "elif num1 > 150.0 and num1 <= 200.0:\n",
    "    bill = 200.0 + (50.0 * 0.6) + ((num1-150.0)*0.5)\n",
    "elif num1 > 200.0:\n",
    "    bill = 200.0 + (50.0 * 0.6) + (50.0 * 0.5) + ((num1-200.0) * 0.4)\n",
    "else:\n",
    "    print(\"Error!\")\n",
    "    \n",
    "print(\"Bill: \",bill)"
   ]
  },
  {
   "cell_type": "code",
   "execution_count": null,
   "id": "d3761d4f",
   "metadata": {},
   "outputs": [],
   "source": []
  }
 ],
 "metadata": {
  "kernelspec": {
   "display_name": "Python 3",
   "language": "python",
   "name": "python3"
  },
  "language_info": {
   "codemirror_mode": {
    "name": "ipython",
    "version": 3
   },
   "file_extension": ".py",
   "mimetype": "text/x-python",
   "name": "python",
   "nbconvert_exporter": "python",
   "pygments_lexer": "ipython3",
   "version": "3.8.8"
  }
 },
 "nbformat": 4,
 "nbformat_minor": 5
}
