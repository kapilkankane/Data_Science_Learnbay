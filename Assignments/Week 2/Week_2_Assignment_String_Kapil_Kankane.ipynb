{
 "cells": [
  {
   "cell_type": "markdown",
   "id": "9c1b6e9b",
   "metadata": {},
   "source": [
    "# Week - 2 Assignment - 14th August : Submitted By Kapil Kankane"
   ]
  },
  {
   "cell_type": "markdown",
   "id": "d575873d",
   "metadata": {},
   "source": [
    "## ***String***"
   ]
  },
  {
   "cell_type": "markdown",
   "id": "94404bf9",
   "metadata": {},
   "source": [
    "---------------------------------------------------------------------------\n",
    "==========================================================================================================================\n",
    "### <u>Question 1</u> \n",
    "> - **Declare a string and store it in a variable.**\n",
    "> - **Check the type and print the id of the same.**\n",
    "\n",
    "### *Solution -*"
   ]
  },
  {
   "cell_type": "code",
   "execution_count": 1,
   "id": "722758ba",
   "metadata": {},
   "outputs": [
    {
     "name": "stdout",
     "output_type": "stream",
     "text": [
      "vStr: Python\n",
      "Type: <class 'str'>\n",
      "Id: 2218008865712\n"
     ]
    }
   ],
   "source": [
    "vStr = \"Python\"\n",
    "print(\"vStr:\",vStr)\n",
    "print(\"Type:\",type(vStr))\n",
    "print(\"Id:\",id(vStr))"
   ]
  },
  {
   "cell_type": "markdown",
   "id": "fb519a6b",
   "metadata": {},
   "source": [
    "---------------------------------------------------------------------------\n",
    "==========================================================================================================================\n",
    "### <u>Question 2</u>\n",
    "- **Which are valid/invalid strings**\n",
    "    > - **1. 'This is Python class'**  \n",
    "    >   valid\n",
    "    > - **2. \"This is Python class\"**  \n",
    "    >   valid/invalid\n",
    "    > - **3. '''This is Python class'''**  \n",
    "    >   valid/invalid\n",
    "    > - **4. \"\"\"This is Python class\"\"\"**  \n",
    "    >   valid/invalid\n",
    "    > - **5. 'This is Python's class'**  \n",
    "    >   valid/invalid\n",
    "    > - **6. \"Learnbay provides \"Java\", \"Python\" classes\"**  \n",
    "    >   valid/invalid\n",
    "    > - **7. \"Learnbay provides 'Java', 'Python' classes\"**  \n",
    "    >   valid/invalid\n",
    "    > - **8. \"This is Python's class\"**  \n",
    "    >   valid/invalid\n",
    "    > - **9. \"\"\"Learnbay provides \"Java\", \"Python\" classes\"\"\"**  \n",
    "    >   valid/invalid\n",
    "    > - **10. '''Learnbay provides \"Java\", \"Python\" classes'''**  \n",
    "    >   valid/invalid\n",
    "    > - **11. '''Learnbay provides  \n",
    "    >      \"Java\", \"Python\"   \n",
    "    >      classes'''**  \n",
    "    >   valid/invalid  \n",
    "    > - **12. 'This is  \n",
    "    >      Python   \n",
    "    >      class'**  \n",
    "    >   valid/invalid\n",
    "\n",
    "### *Solution -*\n",
    "- **1. 'This is Python class'**  \n",
    "   **Ans:** valid\n",
    "- **2. \"This is Python class\"**  \n",
    "   **Ans:** valid\n",
    "- **3. '''This is Python class'''**  \n",
    "   **Ans:** valid\n",
    "- **4. \"\"\"This is Python class\"\"\"**  \n",
    "   **Ans:** valid\n",
    "- **5. 'This is Python's class'**  \n",
    "   **Ans:** invalid\n",
    "- **6. \"Learnbay provides \"Java\", \"Python\" classes\"**  \n",
    "   **Ans:** invalid\n",
    "- **7. \"Learnbay provides 'Java', 'Python' classes\"**  \n",
    "   **Ans:** valid\n",
    "- **8. \"This is Python's class\"**  \n",
    "   **Ans:** valid\n",
    "- **9. \"\"\"Learnbay provides \"Java\", \"Python\" classes\"\"\"**  \n",
    "   **Ans:** valid\n",
    "- **10. '''Learnbay provides \"Java\", \"Python\" classes'''**  \n",
    "   **Ans:** valid\n",
    "- **11. '''Learnbay provides**  \n",
    "    **\"Java\", \"Python\"**  \n",
    "    **classes'''**  \n",
    "    **Ans:** valid  \n",
    "- **12. 'This is**  \n",
    "    **Python**  \n",
    "    **class'**  \n",
    "    **Ans:** invalid  \n",
    "    \n",
    "##### **The answers can be validated using below code cells:**"
   ]
  },
  {
   "cell_type": "code",
   "execution_count": 8,
   "id": "655dcb4d",
   "metadata": {},
   "outputs": [],
   "source": [
    "a = 'This is Python class'"
   ]
  },
  {
   "cell_type": "code",
   "execution_count": 9,
   "id": "3b860d8f",
   "metadata": {},
   "outputs": [],
   "source": [
    "b = \"This is Python class\""
   ]
  },
  {
   "cell_type": "code",
   "execution_count": 10,
   "id": "da458e1a",
   "metadata": {},
   "outputs": [],
   "source": [
    "c = '''This is Python class'''"
   ]
  },
  {
   "cell_type": "code",
   "execution_count": 11,
   "id": "a3f0e413",
   "metadata": {},
   "outputs": [],
   "source": [
    "d = \"\"\"This is Python class\"\"\""
   ]
  },
  {
   "cell_type": "code",
   "execution_count": 12,
   "id": "3d377021",
   "metadata": {},
   "outputs": [
    {
     "ename": "SyntaxError",
     "evalue": "invalid syntax (<ipython-input-12-b3d1cc582c8f>, line 1)",
     "output_type": "error",
     "traceback": [
      "\u001b[1;36m  File \u001b[1;32m\"<ipython-input-12-b3d1cc582c8f>\"\u001b[1;36m, line \u001b[1;32m1\u001b[0m\n\u001b[1;33m    e = 'This is Python's class'\u001b[0m\n\u001b[1;37m                        ^\u001b[0m\n\u001b[1;31mSyntaxError\u001b[0m\u001b[1;31m:\u001b[0m invalid syntax\n"
     ]
    }
   ],
   "source": [
    "e = 'This is Python's class'"
   ]
  },
  {
   "cell_type": "code",
   "execution_count": 13,
   "id": "8f256e19",
   "metadata": {},
   "outputs": [
    {
     "ename": "SyntaxError",
     "evalue": "invalid syntax (<ipython-input-13-cdbbad70bfa0>, line 1)",
     "output_type": "error",
     "traceback": [
      "\u001b[1;36m  File \u001b[1;32m\"<ipython-input-13-cdbbad70bfa0>\"\u001b[1;36m, line \u001b[1;32m1\u001b[0m\n\u001b[1;33m    f = \"Learnbay provides \"Java\", \"Python\" classes\"\u001b[0m\n\u001b[1;37m                            ^\u001b[0m\n\u001b[1;31mSyntaxError\u001b[0m\u001b[1;31m:\u001b[0m invalid syntax\n"
     ]
    }
   ],
   "source": [
    "f = \"Learnbay provides \"Java\", \"Python\" classes\""
   ]
  },
  {
   "cell_type": "code",
   "execution_count": 14,
   "id": "ceba5139",
   "metadata": {},
   "outputs": [],
   "source": [
    "g = \"Learnbay provides 'Java', 'Python' classes\""
   ]
  },
  {
   "cell_type": "code",
   "execution_count": 15,
   "id": "489921d7",
   "metadata": {},
   "outputs": [],
   "source": [
    "h = \"This is Python's class\""
   ]
  },
  {
   "cell_type": "code",
   "execution_count": 16,
   "id": "18844208",
   "metadata": {},
   "outputs": [],
   "source": [
    "i = \"\"\"Learnbay provides \"Java\", \"Python\" classes\"\"\""
   ]
  },
  {
   "cell_type": "code",
   "execution_count": 17,
   "id": "a5a55a40",
   "metadata": {},
   "outputs": [],
   "source": [
    "j = '''Learnbay provides \"Java\", \"Python\" classes'''"
   ]
  },
  {
   "cell_type": "code",
   "execution_count": 18,
   "id": "27601679",
   "metadata": {},
   "outputs": [],
   "source": [
    "k = '''Learnbay provides\n",
    "\"Java\", \"Python\" \n",
    "classes'''"
   ]
  },
  {
   "cell_type": "code",
   "execution_count": 20,
   "id": "3d3df841",
   "metadata": {},
   "outputs": [
    {
     "ename": "SyntaxError",
     "evalue": "EOL while scanning string literal (<ipython-input-20-d35ffc021df5>, line 1)",
     "output_type": "error",
     "traceback": [
      "\u001b[1;36m  File \u001b[1;32m\"<ipython-input-20-d35ffc021df5>\"\u001b[1;36m, line \u001b[1;32m1\u001b[0m\n\u001b[1;33m    l = 'This is\u001b[0m\n\u001b[1;37m                ^\u001b[0m\n\u001b[1;31mSyntaxError\u001b[0m\u001b[1;31m:\u001b[0m EOL while scanning string literal\n"
     ]
    }
   ],
   "source": [
    "l = 'This is\n",
    "Python \n",
    "class'"
   ]
  },
  {
   "cell_type": "markdown",
   "id": "01016224",
   "metadata": {},
   "source": [
    "---------------------------------------------------------------------------\n",
    "==========================================================================================================================\n",
    "### <u>Question 3</u>\n",
    "- **Write the code to get the output mentioned below print statement**\n",
    "```python\n",
    "    > my_str = \"Although that way may not be obvious at first unless you're Dutch.\"\n",
    "    > my_str1 = \"Although that way may not be obvious at first unless you're Dutch.\"\n",
    "\n",
    "    > print()\n",
    "    > #output:- The length of my_str is 66\n",
    "\n",
    "    > print()\n",
    "    > #output:- id of my_str and my_str1 is same? - True\n",
    "\n",
    "    > print()\n",
    "    > #output:- Type of my_str is: str\n",
    "```\n",
    "### *Solution -*"
   ]
  },
  {
   "cell_type": "code",
   "execution_count": 163,
   "id": "3d809b6b",
   "metadata": {},
   "outputs": [],
   "source": [
    "my_str = \"Although that way may not be obvious at first unless you're Dutch.\"\n",
    "my_str1 = \"Although that way may not be obvious at first unless you're Dutch.\""
   ]
  },
  {
   "cell_type": "code",
   "execution_count": 164,
   "id": "4e791cf5",
   "metadata": {},
   "outputs": [
    {
     "name": "stdout",
     "output_type": "stream",
     "text": [
      "The length of my_str is 66\n"
     ]
    }
   ],
   "source": [
    "print(f\"The length of my_str is {len(my_str)}\")"
   ]
  },
  {
   "cell_type": "code",
   "execution_count": 165,
   "id": "6c913cc5",
   "metadata": {},
   "outputs": [
    {
     "name": "stdout",
     "output_type": "stream",
     "text": [
      "\n",
      "id of my_str and my_str1 is same? - False\n"
     ]
    }
   ],
   "source": [
    "print(f\"\\nid of my_str and my_str1 is same? - {my_str is my_str1}\")"
   ]
  },
  {
   "cell_type": "code",
   "execution_count": 166,
   "id": "703199ab",
   "metadata": {},
   "outputs": [
    {
     "name": "stdout",
     "output_type": "stream",
     "text": [
      "\n",
      "Type of my_str is: str\n"
     ]
    }
   ],
   "source": [
    "print(f\"\\nType of my_str is: {my_str.__class__.__name__}\")"
   ]
  },
  {
   "cell_type": "markdown",
   "id": "5b7c579a",
   "metadata": {},
   "source": [
    "---------------------------------------------------------------------------\n",
    "==========================================================================================================================\n",
    "### <u>Question 4</u>\n",
    "- **# Indexing**\n",
    "```python\n",
    "    > my_str = \"Although 8 that way may not be obvious at first unless you're Dutch\"\n",
    "    > #Write the code to get the output,instructions are mentioned below print statement. use indexing\n",
    "\n",
    "    > print()\n",
    "    > #output:- The first character in my_str is: A\n",
    "    > #Note:- Use positive indexing\n",
    "\n",
    "    > print()\n",
    "    > #output:- The first character in my_str is: h\n",
    "    > #Note:- Use len() function.\n",
    "\n",
    "    > print()\n",
    "    > #output:- The character at index 10 in my_str is: ' '\n",
    "    > #Note:- Use positive indexing\n",
    "\n",
    "    > print()\n",
    "    > #output:- The last character in my_str is: h\n",
    "    > #Note:- Use negative indexing.\n",
    "\n",
    "    > print()\n",
    "    > #output:- The last character in my_str is: h\n",
    "    > #Note:- Use len() function.\n",
    "\n",
    "    > print()\n",
    "    > #output:- The character in my_str is: 8\n",
    "    > #Note:- Use positive index\n",
    "```\n",
    "### *Solution -*"
   ]
  },
  {
   "cell_type": "code",
   "execution_count": 234,
   "id": "0661ecec",
   "metadata": {},
   "outputs": [
    {
     "name": "stdout",
     "output_type": "stream",
     "text": [
      "String: Although 8 that way may not be obvious at first unless you're Dutch\n",
      "---------------------------------------------------------------------------\n"
     ]
    }
   ],
   "source": [
    "my_str = \"Although 8 that way may not be obvious at first unless you're Dutch\"\n",
    "print(f\"String: {my_str}\")\n",
    "print(\"-\"*75)"
   ]
  },
  {
   "cell_type": "code",
   "execution_count": 235,
   "id": "05c42f49",
   "metadata": {},
   "outputs": [
    {
     "name": "stdout",
     "output_type": "stream",
     "text": [
      "\n",
      "The first character in my_str is: A\n"
     ]
    }
   ],
   "source": [
    "#Note:- Use positive indexing\n",
    "\n",
    "print(f\"\\nThe first character in my_str is: {my_str[0]}\")"
   ]
  },
  {
   "cell_type": "code",
   "execution_count": 236,
   "id": "1c126d4d",
   "metadata": {},
   "outputs": [
    {
     "name": "stdout",
     "output_type": "stream",
     "text": [
      "\n",
      "The first character in my_str is: A\n"
     ]
    }
   ],
   "source": [
    "#Note:- Use len() function.\n",
    "\n",
    "print(f\"\\nThe first character in my_str is: {my_str[-len(my_str)]}\")"
   ]
  },
  {
   "cell_type": "code",
   "execution_count": 237,
   "id": "c57384a9",
   "metadata": {},
   "outputs": [
    {
     "name": "stdout",
     "output_type": "stream",
     "text": [
      "\n",
      "The character at index 10 in my_str is: ' '\n"
     ]
    }
   ],
   "source": [
    "#Note:- Use positive indexing\n",
    "\n",
    "print(f\"\\nThe character at index 10 in my_str is: '{my_str[10]}'\")"
   ]
  },
  {
   "cell_type": "code",
   "execution_count": 238,
   "id": "2368e3dd",
   "metadata": {},
   "outputs": [
    {
     "name": "stdout",
     "output_type": "stream",
     "text": [
      "\n",
      "The last character in my_str is: h\n"
     ]
    }
   ],
   "source": [
    "#Note:- Use negative indexing\n",
    "\n",
    "print(f\"\\nThe last character in my_str is: {my_str[-1]}\")"
   ]
  },
  {
   "cell_type": "code",
   "execution_count": 239,
   "id": "c3b4618d",
   "metadata": {},
   "outputs": [
    {
     "name": "stdout",
     "output_type": "stream",
     "text": [
      "\n",
      "The last character in my_str is: h\n"
     ]
    }
   ],
   "source": [
    "#Note:- Use len() function.\n",
    "\n",
    "print(f\"\\nThe last character in my_str is: {my_str[len(my_str)-1]}\")"
   ]
  },
  {
   "cell_type": "code",
   "execution_count": 240,
   "id": "c19fffce",
   "metadata": {},
   "outputs": [
    {
     "name": "stdout",
     "output_type": "stream",
     "text": [
      "\n",
      "The character in my_str is: 8\n"
     ]
    }
   ],
   "source": [
    "#Note:- Use positive index\n",
    "\n",
    "print(f\"\\nThe character in my_str is: {my_str[my_str.index('8')]}\")"
   ]
  },
  {
   "cell_type": "markdown",
   "id": "e022f3d5",
   "metadata": {},
   "source": [
    "---------------------------------------------------------------------------\n",
    "==========================================================================================================================\n",
    "### <u>Question 5</u>\n",
    "- **# Slicing**\n",
    "```python\n",
    "    > my_str = \"Although that way may not be obvious at first unless you're Dutch.\"\n",
    "    > #Write the code to get the output,instructions are mentioned below print statement. use slicing\n",
    "\n",
    "    > print()\n",
    "    > #output:- You have sliced: Although that way may not be obvious at first unless you're Dutch. Without begin, end and step\n",
    "\n",
    "    > print()\n",
    "    > #output:- You have sliced: Although that way may not be obvious at first unless you're Dutch. With begin as 0 end using len and without step\n",
    "\n",
    "    > print()\n",
    "    > #output:- You have sliced: Although that way may not be obvious at first unless you're Dutch. Without begin and end but using step\n",
    "\n",
    "    > print()\n",
    "    > #output:- You have sliced: Although that way may not be obvious at first unless you're Dutch. With begin, end and step\n",
    "\n",
    "    > print()\n",
    "    > #output:- You have sliced:   . With using begin and end using postive values and step as negative values.\n",
    "    > #Slicing command should print empty string.\n",
    "\n",
    "    > print()\n",
    "    > #output:- You have sliced: Atog htwymyntb biu tfrtuls o'eDth\n",
    "\n",
    "    > print()\n",
    "    > #output:- You have sliced: Ahgttam tebo  r lsorDc\n",
    "\n",
    "    > print()\n",
    "    > #output:- You have sliced: .hctuD er'uoy sselnu tsrif ta suoivbo eb ton yam yaw taht hguohtlA. Use only step\n",
    "\n",
    "    > print()\n",
    "    > #output:- You have sliced: .hctuD er'uoy sselnu tsrif ta suoivbo eb ton yam yaw taht hguohtlA. Use begin end and step.\n",
    "\n",
    "    > print()\n",
    "    > #output:- You have sliced: .cu ruysen si asovoe o a a athuhl. use only step\n",
    "\n",
    "    > print()\n",
    "    > #output:- You have sliced: .cu ruysen si asovoe o a a athuhl. use begin, end and step.\n",
    "\n",
    "    > print(my_str[10:17:-1])\n",
    "    > #What will be the output?\n",
    "\n",
    "    > print()\n",
    "    > #output:- You have sliced: yaw ta, Using begin, end and step.\n",
    "\n",
    "    > print()\n",
    "    > #output:- You have sliced: ess you. Using begin, end and step.\n",
    "```\n",
    "### *Solution -*"
   ]
  },
  {
   "cell_type": "code",
   "execution_count": 241,
   "id": "48465676",
   "metadata": {},
   "outputs": [
    {
     "name": "stdout",
     "output_type": "stream",
     "text": [
      "String: Although that way may not be obvious at first unless you're Dutch.\n",
      "--------------------------------------------------------------------------\n"
     ]
    }
   ],
   "source": [
    "my_str = \"Although that way may not be obvious at first unless you're Dutch.\"\n",
    "print(f\"String: {my_str}\")\n",
    "print(\"-\"*74)"
   ]
  },
  {
   "cell_type": "code",
   "execution_count": 242,
   "id": "b1658178",
   "metadata": {},
   "outputs": [
    {
     "name": "stdout",
     "output_type": "stream",
     "text": [
      "\n",
      "You have sliced: Although that way may not be obvious at first unless you're Dutch. Without begin, end and step\n"
     ]
    }
   ],
   "source": [
    "#output:- You have sliced: Although that way may not be obvious at first unless you're Dutch. Without begin, end and step\n",
    "\n",
    "print(f\"\\nYou have sliced: {my_str[::]} Without begin, end and step\")"
   ]
  },
  {
   "cell_type": "code",
   "execution_count": 243,
   "id": "60a32890",
   "metadata": {},
   "outputs": [
    {
     "name": "stdout",
     "output_type": "stream",
     "text": [
      "\n",
      "You have sliced: Although that way may not be obvious at first unless you're Dutch. With begin as 0 end using len and without step\n"
     ]
    }
   ],
   "source": [
    "#output:- You have sliced: Although that way may not be obvious at first unless you're Dutch. With begin as 0 end using len and without step\n",
    "\n",
    "print(f\"\\nYou have sliced: {my_str[0:len(my_str):]} With begin as 0 end using len and without step\")"
   ]
  },
  {
   "cell_type": "code",
   "execution_count": 244,
   "id": "71791836",
   "metadata": {},
   "outputs": [
    {
     "name": "stdout",
     "output_type": "stream",
     "text": [
      "\n",
      "You have sliced: Although that way may not be obvious at first unless you're Dutch. Without begin and end but using step\n"
     ]
    }
   ],
   "source": [
    "#output:- You have sliced: Although that way may not be obvious at first unless you're Dutch. Without begin and end but using step\n",
    "\n",
    "print(f\"\\nYou have sliced: {my_str[::1]} Without begin and end but using step\")"
   ]
  },
  {
   "cell_type": "code",
   "execution_count": 245,
   "id": "f30c21bc",
   "metadata": {},
   "outputs": [
    {
     "name": "stdout",
     "output_type": "stream",
     "text": [
      "\n",
      "You have sliced: Although that way may not be obvious at first unless you're Dutch. With begin, end and step\n"
     ]
    }
   ],
   "source": [
    "#output:- You have sliced: Although that way may not be obvious at first unless you're Dutch.With begin, end and step\n",
    "\n",
    "print(f\"\\nYou have sliced: {my_str[0:len(my_str):1]} With begin, end and step\")"
   ]
  },
  {
   "cell_type": "code",
   "execution_count": 246,
   "id": "2fae9414",
   "metadata": {},
   "outputs": [
    {
     "name": "stdout",
     "output_type": "stream",
     "text": [
      "\n",
      "You have sliced: . With using begin and end using postive values and step as negative values.\n"
     ]
    }
   ],
   "source": [
    "#output:- You have sliced:   . With using begin and end using postive values and step as negative values.\n",
    "#Slicing command should print empty string.\n",
    "\n",
    "print(f\"\\nYou have sliced: {my_str[0:0:-1]}. With using begin and end using postive values and step as negative values.\")"
   ]
  },
  {
   "cell_type": "code",
   "execution_count": 247,
   "id": "e82e0a71",
   "metadata": {},
   "outputs": [
    {
     "name": "stdout",
     "output_type": "stream",
     "text": [
      "\n",
      "You have sliced: Atog htwymyntb biu tfrtuls o'eDth\n"
     ]
    }
   ],
   "source": [
    "#output:- You have sliced: Atog htwymyntb biu tfrtuls o'eDth\n",
    "\n",
    "print(f\"\\nYou have sliced: {my_str[::2]}\")"
   ]
  },
  {
   "cell_type": "code",
   "execution_count": 248,
   "id": "4cb2b1e1",
   "metadata": {},
   "outputs": [
    {
     "name": "stdout",
     "output_type": "stream",
     "text": [
      "\n",
      "You have sliced: Ahgttam tebo  r lsorDc\n"
     ]
    }
   ],
   "source": [
    "#output:- You have sliced: Ahgttam tebo  r lsorDc\n",
    "\n",
    "print(f\"\\nYou have sliced: {my_str[::3]}\")"
   ]
  },
  {
   "cell_type": "code",
   "execution_count": 249,
   "id": "8d5a32d7",
   "metadata": {},
   "outputs": [
    {
     "name": "stdout",
     "output_type": "stream",
     "text": [
      "\n",
      "You have sliced: .hctuD er'uoy sselnu tsrif ta suoivbo eb ton yam yaw taht hguohtlA. Use only step\n"
     ]
    }
   ],
   "source": [
    "#output:- You have sliced: .hctuD er'uoy sselnu tsrif ta suoivbo eb ton yam yaw taht hguohtlA. Use only step\n",
    "\n",
    "print(f\"\\nYou have sliced: {my_str[::-1]}. Use only step\")"
   ]
  },
  {
   "cell_type": "code",
   "execution_count": 250,
   "id": "2feed997",
   "metadata": {},
   "outputs": [
    {
     "name": "stdout",
     "output_type": "stream",
     "text": [
      "\n",
      "You have sliced: .hctuD er'uoy sselnu tsrif ta suoivbo eb ton yam yaw taht hguohtlA. Use begin end and step.\n"
     ]
    }
   ],
   "source": [
    "#output:- You have sliced: .hctuD er'uoy sselnu tsrif ta suoivbo eb ton yam yaw taht hguohtlA. Use begin end and step.\n",
    "\n",
    "print(f\"\\nYou have sliced: {my_str[-1::-1]}. Use begin end and step.\")"
   ]
  },
  {
   "cell_type": "code",
   "execution_count": 251,
   "id": "cae33b82",
   "metadata": {},
   "outputs": [
    {
     "name": "stdout",
     "output_type": "stream",
     "text": [
      "\n",
      "You have sliced: .cu ruysen si asovoe o a a athuhl. Use only step\n"
     ]
    }
   ],
   "source": [
    "#output:- You have sliced: .cu ruysen si asovoe o a a athuhl. Use only step\n",
    "\n",
    "print(f\"\\nYou have sliced: {my_str[::-2]}. Use only step\")"
   ]
  },
  {
   "cell_type": "code",
   "execution_count": 252,
   "id": "90f3e56f",
   "metadata": {},
   "outputs": [
    {
     "name": "stdout",
     "output_type": "stream",
     "text": [
      "\n",
      "You have sliced: .cu ruysen si asovoe o a a athuhl. Use begin, end and step.\n"
     ]
    }
   ],
   "source": [
    "#output:- You have sliced: .cu ruysen si asovoe o a a athuhl. Use begin, end and step.\n",
    "\n",
    "print(f\"\\nYou have sliced: {my_str[-1:0:-2]}. Use begin, end and step.\")"
   ]
  },
  {
   "cell_type": "code",
   "execution_count": 253,
   "id": "05539151",
   "metadata": {},
   "outputs": [
    {
     "name": "stdout",
     "output_type": "stream",
     "text": [
      "\n",
      "You have sliced: ''. #Nothing\n"
     ]
    }
   ],
   "source": [
    "print(f\"\\nYou have sliced: '{my_str[10:17:-1]}'. #Nothing\")\n",
    "\n",
    "#What will be the output?"
   ]
  },
  {
   "cell_type": "code",
   "execution_count": 254,
   "id": "eaaf2378",
   "metadata": {},
   "outputs": [
    {
     "name": "stdout",
     "output_type": "stream",
     "text": [
      "\n",
      "You have sliced: yaw ta, Using begin, end and step.\n"
     ]
    }
   ],
   "source": [
    "#output:- You have sliced: yaw ta, Using begin, end and step.\n",
    "\n",
    "print(f\"\\nYou have sliced: {my_str[-50:-56:-1]}, Using begin, end and step.\")"
   ]
  },
  {
   "cell_type": "code",
   "execution_count": 255,
   "id": "73bf8e86",
   "metadata": {},
   "outputs": [
    {
     "name": "stdout",
     "output_type": "stream",
     "text": [
      "\n",
      "You have sliced: ess you. Using begin, end and step.\n"
     ]
    }
   ],
   "source": [
    "#output:- You have sliced: ess you. Using begin, end and step.\n",
    "\n",
    "print(f\"\\nYou have sliced: {my_str[49:56:1]}. Using begin, end and step.\")"
   ]
  },
  {
   "cell_type": "markdown",
   "id": "6f6fb7fe",
   "metadata": {},
   "source": [
    "---------------------------------------------------------------------------\n",
    "==========================================================================================================================\n",
    "### <u>Question 6</u>\n",
    "- **# Basic operation on string**\n",
    "```python\n",
    "    > str1 = 'Learnbay'\n",
    "    > str2 = 'Python'\n",
    "\n",
    "    > #Write the code to get the output,instructions are mentioned below.\n",
    "    > #Output is: Learnbay Python\n",
    "\n",
    "    > #Error: TypeError: can only concatenate str (not \"int\") to str\n",
    "\n",
    "    > #Error: TypeError: can only concatenate str (not \"float\") to str\n",
    "\n",
    "    > #Find below Output\n",
    "    > #Output is: LearnbayLearnbayLearnbay\n",
    "\n",
    "    > #Error: TypeError: can't multiply sequence by non-int of type 'float'\n",
    "\n",
    "    > #Error: TypeError: can't multiply sequence by non-int of type 'str'\n",
    "```\n",
    "### *Solution -*"
   ]
  },
  {
   "cell_type": "code",
   "execution_count": 139,
   "id": "56a96488",
   "metadata": {},
   "outputs": [],
   "source": [
    "str1 = 'Learnbay'\n",
    "str2 = 'Python'"
   ]
  },
  {
   "cell_type": "code",
   "execution_count": 187,
   "id": "e7fe06dc",
   "metadata": {},
   "outputs": [
    {
     "name": "stdout",
     "output_type": "stream",
     "text": [
      "Output is: A a\n"
     ]
    }
   ],
   "source": [
    "#Write the code to get the output,instructions are mentioned below.\n",
    "#Output is: Learnbay Python\n",
    "\n",
    "print(\"Output is: \" + str1 + \" \" + str2)"
   ]
  },
  {
   "cell_type": "code",
   "execution_count": 188,
   "id": "7d2c45f1",
   "metadata": {},
   "outputs": [
    {
     "name": "stdout",
     "output_type": "stream",
     "text": [
      "Error: TypeError: can only concatenate str (not \"int\") to str\n"
     ]
    }
   ],
   "source": [
    "#Error: TypeError: can only concatenate str (not \"int\") to str\n",
    "\n",
    "try:\n",
    "    print(\"Output is: \" + str1 + 2)\n",
    "except TypeError as e:\n",
    "    print(\"Error:\",e.__class__.__name__+\":\",e.args[0])"
   ]
  },
  {
   "cell_type": "code",
   "execution_count": 189,
   "id": "a31e07e0",
   "metadata": {},
   "outputs": [
    {
     "name": "stdout",
     "output_type": "stream",
     "text": [
      "Error: TypeError: can only concatenate str (not \"float\") to str\n"
     ]
    }
   ],
   "source": [
    "#Error: TypeError: can only concatenate str (not \"float\") to str\n",
    "\n",
    "try:\n",
    "    print(\"Output is: \" + str1 + 2.0)\n",
    "except TypeError as e:\n",
    "    print(\"Error:\",e.__class__.__name__+\":\",e.args[0])"
   ]
  },
  {
   "cell_type": "code",
   "execution_count": 190,
   "id": "ce4894a6",
   "metadata": {},
   "outputs": [
    {
     "name": "stdout",
     "output_type": "stream",
     "text": [
      "Output is: AAA\n"
     ]
    }
   ],
   "source": [
    "#Find below Output\n",
    "#Output is: LearnbayLearnbayLearnbay\n",
    "\n",
    "print(\"Output is: \" + str1 * 3)"
   ]
  },
  {
   "cell_type": "code",
   "execution_count": 191,
   "id": "6f71ec8b",
   "metadata": {},
   "outputs": [
    {
     "name": "stdout",
     "output_type": "stream",
     "text": [
      "Error: TypeError: can't multiply sequence by non-int of type 'float'\n"
     ]
    }
   ],
   "source": [
    "#Error: TypeError: can't multiply sequence by non-int of type 'float'\n",
    "\n",
    "try:\n",
    "    print(\"Output is: \" + str1 * 2.0)\n",
    "except TypeError as e:\n",
    "    print(\"Error:\",e.__class__.__name__+\":\",e.args[0])"
   ]
  },
  {
   "cell_type": "code",
   "execution_count": 192,
   "id": "c31f7654",
   "metadata": {},
   "outputs": [
    {
     "name": "stdout",
     "output_type": "stream",
     "text": [
      "Error: TypeError: can't multiply sequence by non-int of type 'str'\n"
     ]
    }
   ],
   "source": [
    "#Error: TypeError: can't multiply sequence by non-int of type 'str'\n",
    "\n",
    "try:\n",
    "    print(\"Output is: \" + str1 * str2)\n",
    "except TypeError as e:\n",
    "    print(\"Error:\",e.__class__.__name__+\":\",e.args[0])"
   ]
  },
  {
   "cell_type": "markdown",
   "id": "1b4006bc",
   "metadata": {},
   "source": [
    "---------------------------------------------------------------------------\n",
    "==========================================================================================================================\n",
    "### <u>Question 7</u>\n",
    "- **# Find below Output**\n",
    "```python\n",
    "    > str1 = 'Python'\n",
    "    > str2 = 'Python'\n",
    "    > str3 = 'Python$'\n",
    "    > str4 = 'Python$'\n",
    "\n",
    "    > #print True by using identity operator between str1 and str2\n",
    "\n",
    "    > #print False by using identity operator between str1 and str3\n",
    "\n",
    "    > #print False by using identity operator between str4 and str3\n",
    "\n",
    "    > #Check if P is available in str1 and print True by using membership operator\n",
    "\n",
    "    > #Check if $ is available in str3 and print True by using membership operator\n",
    "\n",
    "    > #Check if N is available in str3 and print False by using membership operator\n",
    "```\n",
    "### *Solution -*"
   ]
  },
  {
   "cell_type": "code",
   "execution_count": 256,
   "id": "1bc49145",
   "metadata": {},
   "outputs": [],
   "source": [
    "str1 = 'Python'\n",
    "str2 = 'Python'\n",
    "str3 = 'Python$'\n",
    "str4 = 'Python$'"
   ]
  },
  {
   "cell_type": "code",
   "execution_count": 258,
   "id": "9fe5eaf2",
   "metadata": {},
   "outputs": [
    {
     "name": "stdout",
     "output_type": "stream",
     "text": [
      "True\n"
     ]
    }
   ],
   "source": [
    "#print True by using identity operator between str1 and str2\n",
    "\n",
    "print(str1 is str2)"
   ]
  },
  {
   "cell_type": "code",
   "execution_count": 259,
   "id": "88ce9247",
   "metadata": {},
   "outputs": [
    {
     "name": "stdout",
     "output_type": "stream",
     "text": [
      "False\n"
     ]
    }
   ],
   "source": [
    "#print False by using identity operator between str1 and str3\n",
    "\n",
    "print(str1 is str3)"
   ]
  },
  {
   "cell_type": "code",
   "execution_count": 260,
   "id": "00d4be75",
   "metadata": {},
   "outputs": [
    {
     "name": "stdout",
     "output_type": "stream",
     "text": [
      "False\n"
     ]
    }
   ],
   "source": [
    "#print False by using identity operator between str4 and str3\n",
    "\n",
    "print(str3 is str4)"
   ]
  },
  {
   "cell_type": "code",
   "execution_count": 261,
   "id": "cc0bcf52",
   "metadata": {},
   "outputs": [
    {
     "name": "stdout",
     "output_type": "stream",
     "text": [
      "True\n"
     ]
    }
   ],
   "source": [
    "#Check if P is available in str1 and print True by using membership operator\n",
    "\n",
    "print(True if \"P\" in str1 else False)"
   ]
  },
  {
   "cell_type": "code",
   "execution_count": 262,
   "id": "591948ef",
   "metadata": {},
   "outputs": [
    {
     "name": "stdout",
     "output_type": "stream",
     "text": [
      "True\n"
     ]
    }
   ],
   "source": [
    "#Check if $ is available in str3 and print True by using membership operator\n",
    "\n",
    "print(True if \"$\" in str3 else False)"
   ]
  },
  {
   "cell_type": "code",
   "execution_count": 263,
   "id": "b702b4e4",
   "metadata": {},
   "outputs": [
    {
     "name": "stdout",
     "output_type": "stream",
     "text": [
      "False\n"
     ]
    }
   ],
   "source": [
    "#Check if N is available in str3 and print False by using membership operator\n",
    "\n",
    "print(True if \"N\" in str3 else False)"
   ]
  },
  {
   "cell_type": "markdown",
   "id": "a2beec8c",
   "metadata": {},
   "source": [
    "---------------------------------------------------------------------------\n",
    "==========================================================================================================================\n",
    "### <u>Question 8</u>\n",
    "- **# Complete the below code**\n",
    "```python\n",
    "    > str1 = 'This is Python class'\n",
    "    > #write the code to replace 'Python' with 'Java' and you should get below error.\n",
    "    > #TypeError: 'str' object does not support item assignment.\n",
    "```\n",
    "### *Solution -*"
   ]
  },
  {
   "cell_type": "code",
   "execution_count": 264,
   "id": "f178de0a",
   "metadata": {},
   "outputs": [
    {
     "name": "stdout",
     "output_type": "stream",
     "text": [
      "TypeError: 'str' object does not support item assignment\n"
     ]
    }
   ],
   "source": [
    "str1 = 'This is Python class'\n",
    "\n",
    "try:\n",
    "    str1[8:14] = \"Java\"\n",
    "except TypeError as e:\n",
    "    print(e.__class__.__name__+\":\",e.args[0])"
   ]
  },
  {
   "cell_type": "markdown",
   "id": "0da2f2d8",
   "metadata": {},
   "source": [
    "---------------------------------------------------------------------------\n",
    "==========================================================================================================================\n",
    "### <u>Question 9</u>\n",
    "```python\n",
    "    > str1 = 'A'\n",
    "    > str2 = 'A'\n",
    "    > #Compare str1 and str2 and print True using comparison operator\n",
    "\n",
    "    > #Compare str1 and str2 and print True using equality operator\n",
    "\n",
    "    > #Compare str1 and str2 and print False using equality operator\n",
    "\n",
    "    > #Compare str1 and str2 and print False using comparison operator\n",
    "```\n",
    "### *Solution -*"
   ]
  },
  {
   "cell_type": "code",
   "execution_count": 268,
   "id": "cbed0fa8",
   "metadata": {},
   "outputs": [],
   "source": [
    "str1 = 'A'\n",
    "str2 = 'A'"
   ]
  },
  {
   "cell_type": "code",
   "execution_count": 269,
   "id": "277e058a",
   "metadata": {},
   "outputs": [
    {
     "name": "stdout",
     "output_type": "stream",
     "text": [
      "True\n"
     ]
    }
   ],
   "source": [
    "#Compare str1 and str2 and print True using comparison operator\n",
    "\n",
    "print(str1 >= str2)"
   ]
  },
  {
   "cell_type": "code",
   "execution_count": 270,
   "id": "62848ea1",
   "metadata": {},
   "outputs": [
    {
     "name": "stdout",
     "output_type": "stream",
     "text": [
      "True\n"
     ]
    }
   ],
   "source": [
    "#Compare str1 and str2 and print True using equality operator\n",
    "\n",
    "print(str1 == str2)"
   ]
  },
  {
   "cell_type": "code",
   "execution_count": 271,
   "id": "ac62a2f3",
   "metadata": {},
   "outputs": [
    {
     "name": "stdout",
     "output_type": "stream",
     "text": [
      "False\n"
     ]
    }
   ],
   "source": [
    "#Compare str1 and str2 and print False using equality operator\n",
    "\n",
    "print(str1 != str2)"
   ]
  },
  {
   "cell_type": "code",
   "execution_count": 272,
   "id": "c074b07d",
   "metadata": {},
   "outputs": [
    {
     "name": "stdout",
     "output_type": "stream",
     "text": [
      "False\n"
     ]
    }
   ],
   "source": [
    "#Compare str1 and str2 and print False using comparison operator\n",
    "\n",
    "print(str1 < str2)"
   ]
  },
  {
   "cell_type": "markdown",
   "id": "f177cda6",
   "metadata": {},
   "source": [
    "---------------------------------------------------------------------------\n",
    "==========================================================================================================================\n",
    "### <u>Question 10</u>\n",
    "```python\n",
    "    > str1 = 'A'\n",
    "    > str2 = 'a'\n",
    "    > #Compare str1 and str2 and print True using comparison operator\n",
    "\n",
    "    > #Compare str1 and str2 and print True using equality operator\n",
    "\n",
    "    > #Compare str1 and str2 and print False using equality operator\n",
    "\n",
    "    > #Compare str1 and str2 and print False using comparison operator\n",
    "```\n",
    "### *Solution -*"
   ]
  },
  {
   "cell_type": "code",
   "execution_count": 273,
   "id": "52d56aaa",
   "metadata": {},
   "outputs": [],
   "source": [
    "str1 = 'A'\n",
    "str2 = 'a'"
   ]
  },
  {
   "cell_type": "code",
   "execution_count": 274,
   "id": "9c9f35e6",
   "metadata": {},
   "outputs": [
    {
     "name": "stdout",
     "output_type": "stream",
     "text": [
      "True\n"
     ]
    }
   ],
   "source": [
    "#Compare str1 and str2 and print True using comparison operator\n",
    "\n",
    "print(str1 <= str2)"
   ]
  },
  {
   "cell_type": "code",
   "execution_count": 275,
   "id": "64909ed9",
   "metadata": {},
   "outputs": [
    {
     "name": "stdout",
     "output_type": "stream",
     "text": [
      "True\n"
     ]
    }
   ],
   "source": [
    "#Compare str1 and str2 and print True using equality operator\n",
    "\n",
    "print(str1 != str2)"
   ]
  },
  {
   "cell_type": "code",
   "execution_count": 276,
   "id": "11b4d701",
   "metadata": {},
   "outputs": [
    {
     "name": "stdout",
     "output_type": "stream",
     "text": [
      "False\n"
     ]
    }
   ],
   "source": [
    "#Compare str1 and str2 and print False using equality operator\n",
    "\n",
    "print(str1 == str2)"
   ]
  },
  {
   "cell_type": "code",
   "execution_count": 277,
   "id": "6b813eaa",
   "metadata": {},
   "outputs": [
    {
     "name": "stdout",
     "output_type": "stream",
     "text": [
      "False\n"
     ]
    }
   ],
   "source": [
    "#Compare str1 and str2 and print False using comparison operator\n",
    "\n",
    "print(str1 >= str2)"
   ]
  },
  {
   "cell_type": "markdown",
   "id": "d3fb0ee7",
   "metadata": {},
   "source": [
    "---------------------------------------------------------------------------\n",
    "==========================================================================================================================\n",
    "### <u>Question 11</u>\n",
    "```python\n",
    "    > str1 = 'A'\n",
    "    > str2 = '65'\n",
    "    > #Compare str1 and str2 using comparison operator and it should give below error.\n",
    "    > #Error: TypeError: '>=' not supported between instances of 'str' and 'int'\n",
    "\n",
    "    > #Compare str1 and str2 and print True using equality operator\n",
    "\n",
    "    > #Compare str1 and str2 and print False using equality operator\n",
    "```\n",
    "### *Solution -*"
   ]
  },
  {
   "cell_type": "code",
   "execution_count": 278,
   "id": "26cd3b5b",
   "metadata": {},
   "outputs": [],
   "source": [
    "str1 = 'A'\n",
    "str2 = '65'"
   ]
  },
  {
   "cell_type": "code",
   "execution_count": 279,
   "id": "f3166e22",
   "metadata": {},
   "outputs": [
    {
     "name": "stdout",
     "output_type": "stream",
     "text": [
      "TypeError: '>=' not supported between instances of 'str' and 'int'\n"
     ]
    }
   ],
   "source": [
    "#Compare str1 and str2 using comparison operator and it should give below error.\n",
    "#Error: TypeError: '>=' not supported between instances of 'str' and 'int'\n",
    "\n",
    "try:\n",
    "    print(str1 >= int(str2))\n",
    "except TypeError as e:\n",
    "    print(e.__class__.__name__+\":\",e.args[0])"
   ]
  },
  {
   "cell_type": "code",
   "execution_count": 280,
   "id": "711dffc2",
   "metadata": {},
   "outputs": [
    {
     "name": "stdout",
     "output_type": "stream",
     "text": [
      "True\n"
     ]
    }
   ],
   "source": [
    "#Compare str1 and str2 and print True using equality operator\n",
    "\n",
    "print(str1 != str2)"
   ]
  },
  {
   "cell_type": "code",
   "execution_count": 281,
   "id": "b7cda892",
   "metadata": {},
   "outputs": [
    {
     "name": "stdout",
     "output_type": "stream",
     "text": [
      "False\n"
     ]
    }
   ],
   "source": [
    "#Compare str1 and str2 and print False using equality operator\n",
    "\n",
    "print(str1 == str2)"
   ]
  },
  {
   "cell_type": "markdown",
   "id": "010231a0",
   "metadata": {},
   "source": [
    "---------------------------------------------------------------------------\n",
    "==========================================================================================================================\n",
    "### <u>Question 12</u>\n",
    "```python\n",
    "    > str1 = 'Python'\n",
    "    > str2 = 'Python'\n",
    "    \n",
    "    > #Compare str1 and str2 and print True using comparison operator\n",
    "\n",
    "    > #Compare str1 and str2 and print True using equality operator\n",
    "\n",
    "    > #Compare str1 and str2 and print False using equality operator\n",
    "\n",
    "    > #Compare str1 and str2 and print False using comparison operator\n",
    "```\n",
    "### *Solution -*"
   ]
  },
  {
   "cell_type": "code",
   "execution_count": 282,
   "id": "61e65695",
   "metadata": {},
   "outputs": [],
   "source": [
    "str1 = 'Python'\n",
    "str2 = 'Python'"
   ]
  },
  {
   "cell_type": "code",
   "execution_count": 283,
   "id": "eaa233db",
   "metadata": {},
   "outputs": [
    {
     "name": "stdout",
     "output_type": "stream",
     "text": [
      "True\n"
     ]
    }
   ],
   "source": [
    "#Compare str1 and str2 and print True using comparison operator\n",
    "\n",
    "print(str1 >= str2)"
   ]
  },
  {
   "cell_type": "code",
   "execution_count": 284,
   "id": "6d170a48",
   "metadata": {},
   "outputs": [
    {
     "name": "stdout",
     "output_type": "stream",
     "text": [
      "True\n"
     ]
    }
   ],
   "source": [
    "#Compare str1 and str2 and print True using equality operator\n",
    "\n",
    "print(str1 == str2)"
   ]
  },
  {
   "cell_type": "code",
   "execution_count": 285,
   "id": "400fbdfb",
   "metadata": {
    "scrolled": true
   },
   "outputs": [
    {
     "name": "stdout",
     "output_type": "stream",
     "text": [
      "False\n"
     ]
    }
   ],
   "source": [
    "#Compare str1 and str2 and print False using equality operator\n",
    "\n",
    "print(str1 != str2)"
   ]
  },
  {
   "cell_type": "code",
   "execution_count": 286,
   "id": "a019466a",
   "metadata": {},
   "outputs": [
    {
     "name": "stdout",
     "output_type": "stream",
     "text": [
      "False\n"
     ]
    }
   ],
   "source": [
    "#Compare str1 and str2 and print False using comparison operator\n",
    "\n",
    "print(str1 > str2)"
   ]
  },
  {
   "cell_type": "markdown",
   "id": "4256f994",
   "metadata": {},
   "source": [
    "---------------------------------------------------------------------------\n",
    "==========================================================================================================================\n",
    "### <u>Question 13</u>\n",
    "```python\n",
    "    > str1 = 'Python'\n",
    "    > str2 = 'python'\n",
    "    \n",
    "    > #Compare str1 and str2 and print True using comparison operator\n",
    "\n",
    "    > #Compare str1 and str2 and print True using equality operator\n",
    "\n",
    "    > #Compare str1 and str2 and print False using equality operator\n",
    "\n",
    "    > #Compare str1 and str2 and print False using comparison operator\n",
    "```\n",
    "### *Solution -*"
   ]
  },
  {
   "cell_type": "code",
   "execution_count": 287,
   "id": "6d44f769",
   "metadata": {},
   "outputs": [],
   "source": [
    "str1 = 'Python'\n",
    "str2 = 'python'"
   ]
  },
  {
   "cell_type": "code",
   "execution_count": 290,
   "id": "9f9e149f",
   "metadata": {},
   "outputs": [
    {
     "name": "stdout",
     "output_type": "stream",
     "text": [
      "True\n"
     ]
    }
   ],
   "source": [
    "#Compare str1 and str2 and print True using comparison operator\n",
    "\n",
    "print(str1 < str2)"
   ]
  },
  {
   "cell_type": "code",
   "execution_count": 291,
   "id": "385f66c1",
   "metadata": {},
   "outputs": [
    {
     "name": "stdout",
     "output_type": "stream",
     "text": [
      "True\n"
     ]
    }
   ],
   "source": [
    "#Compare str1 and str2 and print True using equality operator\n",
    "\n",
    "print(str1 != str2)"
   ]
  },
  {
   "cell_type": "code",
   "execution_count": 292,
   "id": "653389f4",
   "metadata": {},
   "outputs": [
    {
     "name": "stdout",
     "output_type": "stream",
     "text": [
      "False\n"
     ]
    }
   ],
   "source": [
    "#Compare str1 and str2 and print False using equality operator\n",
    "\n",
    "print(str1 == str2)"
   ]
  },
  {
   "cell_type": "code",
   "execution_count": 293,
   "id": "abd6c9c2",
   "metadata": {},
   "outputs": [
    {
     "name": "stdout",
     "output_type": "stream",
     "text": [
      "False\n"
     ]
    }
   ],
   "source": [
    "#Compare str1 and str2 and print False using comparison operator\n",
    "\n",
    "print(str1 >= str2)"
   ]
  },
  {
   "cell_type": "markdown",
   "id": "ebc32309",
   "metadata": {},
   "source": [
    "---------------------------------------------------------------------------\n",
    "==========================================================================================================================\n",
    "### <u>Question 14</u>\n",
    "```python\n",
    "    > a = 'Python'\n",
    "    > b = ''\n",
    "\n",
    "    > #Apply logical opereators (and, or & not) on above string values and observe the output.\n",
    "    > print()\n",
    "    > print()\n",
    "    > print()\n",
    "    > print()\n",
    "    > print()\n",
    "```\n",
    "### *Solution -*"
   ]
  },
  {
   "cell_type": "code",
   "execution_count": 312,
   "id": "30c8bb77",
   "metadata": {},
   "outputs": [],
   "source": [
    "a = 'Python'\n",
    "b = ''\n",
    "\n",
    "#Apply logical opereators (and, or & not) on above string values and observe the output."
   ]
  },
  {
   "cell_type": "code",
   "execution_count": 313,
   "id": "39b1a8b0",
   "metadata": {},
   "outputs": [
    {
     "name": "stdout",
     "output_type": "stream",
     "text": [
      "\n"
     ]
    }
   ],
   "source": [
    "print(a and b)"
   ]
  },
  {
   "cell_type": "code",
   "execution_count": 314,
   "id": "d90d36b7",
   "metadata": {},
   "outputs": [
    {
     "name": "stdout",
     "output_type": "stream",
     "text": [
      "Python\n"
     ]
    }
   ],
   "source": [
    "print(a or b)"
   ]
  },
  {
   "cell_type": "code",
   "execution_count": 315,
   "id": "e5b0a475",
   "metadata": {},
   "outputs": [
    {
     "name": "stdout",
     "output_type": "stream",
     "text": [
      "False\n"
     ]
    }
   ],
   "source": [
    "print(not a)"
   ]
  },
  {
   "cell_type": "code",
   "execution_count": 316,
   "id": "732902f9",
   "metadata": {},
   "outputs": [
    {
     "name": "stdout",
     "output_type": "stream",
     "text": [
      "True\n"
     ]
    }
   ],
   "source": [
    "print(not b)"
   ]
  },
  {
   "cell_type": "code",
   "execution_count": 317,
   "id": "24d34f4a",
   "metadata": {},
   "outputs": [
    {
     "name": "stdout",
     "output_type": "stream",
     "text": [
      "Python\n"
     ]
    }
   ],
   "source": [
    "print(b or a)"
   ]
  },
  {
   "cell_type": "markdown",
   "id": "35e4e886",
   "metadata": {},
   "source": [
    "---------------------------------------------------------------------------\n",
    "==========================================================================================================================\n",
    "### <u>Question 15</u>\n",
    "```python\n",
    "    > a = ''\n",
    "    > b = ''\n",
    "\n",
    "    > #Apply logical opereators (and, or & not) on above string values and observe the output.\n",
    "    > print()\n",
    "    > print()\n",
    "    > print()\n",
    "```\n",
    "### *Solution -*"
   ]
  },
  {
   "cell_type": "code",
   "execution_count": 318,
   "id": "ffd5437f",
   "metadata": {},
   "outputs": [],
   "source": [
    "a = ''\n",
    "b = ''\n",
    "\n",
    "#Apply logical opereators (and, or & not) on above string values and observe the output."
   ]
  },
  {
   "cell_type": "code",
   "execution_count": 319,
   "id": "343f8956",
   "metadata": {},
   "outputs": [
    {
     "name": "stdout",
     "output_type": "stream",
     "text": [
      "\n"
     ]
    }
   ],
   "source": [
    "print(a and b)"
   ]
  },
  {
   "cell_type": "code",
   "execution_count": 320,
   "id": "ac840d30",
   "metadata": {},
   "outputs": [
    {
     "name": "stdout",
     "output_type": "stream",
     "text": [
      "\n"
     ]
    }
   ],
   "source": [
    "print(a or b)"
   ]
  },
  {
   "cell_type": "code",
   "execution_count": 321,
   "id": "f8eafc6b",
   "metadata": {},
   "outputs": [
    {
     "name": "stdout",
     "output_type": "stream",
     "text": [
      "True\n"
     ]
    }
   ],
   "source": [
    "print(not a)"
   ]
  },
  {
   "cell_type": "markdown",
   "id": "68e10f79",
   "metadata": {},
   "source": [
    "---------------------------------------------------------------------------\n",
    "==========================================================================================================================\n",
    "### <u>Question 16</u>\n",
    "```python\n",
    "    > a = 'Python'\n",
    "    > b = 'learnbay'\n",
    "\n",
    "    > #Apply logical opereators (and, or & not) on above string values and observe the output.\n",
    "    > print()\n",
    "    > print()\n",
    "    > print()\n",
    "```\n",
    "### *Solution -*"
   ]
  },
  {
   "cell_type": "code",
   "execution_count": 322,
   "id": "3e7f395a",
   "metadata": {},
   "outputs": [],
   "source": [
    "a = 'Python'\n",
    "b = 'learnbay'\n",
    "\n",
    "#Apply logical opereators (and, or & not) on above string values and observe the output."
   ]
  },
  {
   "cell_type": "code",
   "execution_count": 323,
   "id": "24a4e3ca",
   "metadata": {},
   "outputs": [
    {
     "name": "stdout",
     "output_type": "stream",
     "text": [
      "learnbay\n"
     ]
    }
   ],
   "source": [
    "print(a and b)"
   ]
  },
  {
   "cell_type": "code",
   "execution_count": 324,
   "id": "4510227f",
   "metadata": {},
   "outputs": [
    {
     "name": "stdout",
     "output_type": "stream",
     "text": [
      "Python\n"
     ]
    }
   ],
   "source": [
    "print(a or b)"
   ]
  },
  {
   "cell_type": "code",
   "execution_count": 325,
   "id": "47007330",
   "metadata": {},
   "outputs": [
    {
     "name": "stdout",
     "output_type": "stream",
     "text": [
      "False\n"
     ]
    }
   ],
   "source": [
    "print(not a)"
   ]
  },
  {
   "cell_type": "markdown",
   "id": "cdd0232c",
   "metadata": {},
   "source": [
    "---------------------------------------------------------------------------\n",
    "==========================================================================================================================\n",
    "### <u>Question 17</u>\n",
    "```python\n",
    "    > my_str = \"Although 8 that way may not be obvious at first unless you're Dutch\"\n",
    "\n",
    "    > #Write the code to get the total count of 't' in above string. Use find() and index() method.\n",
    "    > print()\n",
    "    > print()\n",
    "\n",
    "    > #Write the code to get the index of '8' in my_str. Use find() and index() method.\n",
    "    > print()\n",
    "    > print()\n",
    "\n",
    "    > #What will be the output of below code?\n",
    "    > print(my_str.find('the'))\n",
    "\n",
    "    > print(my_str.index('the'))\n",
    "\n",
    "    > print(my_str.find('t', 9, 15))\n",
    "\n",
    "    > print(my_str.rfind('u'))\n",
    "\n",
    "    > print(my_str.rindex('u'))\n",
    "```\n",
    "### *Solution -*"
   ]
  },
  {
   "cell_type": "code",
   "execution_count": 32,
   "id": "6891049b",
   "metadata": {},
   "outputs": [
    {
     "name": "stdout",
     "output_type": "stream",
     "text": [
      "String: Although 8 that way may not be obvious at first unless you're Dutch\n",
      "---------------------------------------------------------------------------\n"
     ]
    }
   ],
   "source": [
    "my_str = \"Although 8 that way may not be obvious at first unless you're Dutch\"\n",
    "print(f\"String: {my_str}\")\n",
    "print(\"-\"*75)\n",
    "\n",
    "#Write the code to get the total count of 't' in above string. Use find() and index() method."
   ]
  },
  {
   "cell_type": "code",
   "execution_count": 33,
   "id": "01c1539f",
   "metadata": {},
   "outputs": [
    {
     "name": "stdout",
     "output_type": "stream",
     "text": [
      "Using find() method total count of 't' in my_str: 7\n"
     ]
    }
   ],
   "source": [
    "#Using find() method\n",
    "\n",
    "cnt = 0\n",
    "for c in my_str:\n",
    "    if c.find(\"t\") > -1:\n",
    "        cnt += 1\n",
    "print(\"Using find() method total count of 't' in my_str:\",cnt)"
   ]
  },
  {
   "cell_type": "code",
   "execution_count": 34,
   "id": "f98adf3b",
   "metadata": {},
   "outputs": [
    {
     "name": "stdout",
     "output_type": "stream",
     "text": [
      "Using index() method total count of 't' in my_str: 7\n"
     ]
    }
   ],
   "source": [
    "#Using index() method\n",
    "my_str1 = my_str\n",
    "cnt = 0\n",
    "try:\n",
    "    while len(my_str1) > 0:\n",
    "        i = my_str1.index(\"t\")\n",
    "        if i >= 0:\n",
    "            cnt += 1\n",
    "            my_str1 = my_str1[i+1::]\n",
    "except ValueError as e:\n",
    "    print(\"Using index() method total count of 't' in my_str:\",cnt)"
   ]
  },
  {
   "cell_type": "code",
   "execution_count": 38,
   "id": "48441dda",
   "metadata": {},
   "outputs": [
    {
     "name": "stdout",
     "output_type": "stream",
     "text": [
      "Index of '8' using find method is: 9\n",
      "Index of '8' using find method is: 9\n"
     ]
    }
   ],
   "source": [
    "#Write the code to get the index of '8' in my_str. Use find() and index() method.\n",
    "#print()\n",
    "#print()\n",
    "\n",
    "print(f\"Index of '8' using find method is: {my_str.find('8')}\")\n",
    "print(f\"Index of '8' using find method is: {my_str.index('8')}\")"
   ]
  },
  {
   "cell_type": "code",
   "execution_count": 39,
   "id": "9857d366",
   "metadata": {},
   "outputs": [
    {
     "name": "stdout",
     "output_type": "stream",
     "text": [
      "-1\n"
     ]
    }
   ],
   "source": [
    "#What will be the output of below code?\n",
    "#print(my_str.find('the'))\n",
    "\n",
    "print(my_str.find('the'))"
   ]
  },
  {
   "cell_type": "code",
   "execution_count": 40,
   "id": "d9df96e7",
   "metadata": {},
   "outputs": [
    {
     "ename": "ValueError",
     "evalue": "substring not found",
     "output_type": "error",
     "traceback": [
      "\u001b[1;31m---------------------------------------------------------------------------\u001b[0m",
      "\u001b[1;31mValueError\u001b[0m                                Traceback (most recent call last)",
      "\u001b[1;32m<ipython-input-40-a497756ae702>\u001b[0m in \u001b[0;36m<module>\u001b[1;34m\u001b[0m\n\u001b[0;32m      1\u001b[0m \u001b[1;31m#print(my_str.index('the'))\u001b[0m\u001b[1;33m\u001b[0m\u001b[1;33m\u001b[0m\u001b[1;33m\u001b[0m\u001b[0m\n\u001b[0;32m      2\u001b[0m \u001b[1;33m\u001b[0m\u001b[0m\n\u001b[1;32m----> 3\u001b[1;33m \u001b[0mprint\u001b[0m\u001b[1;33m(\u001b[0m\u001b[0mmy_str\u001b[0m\u001b[1;33m.\u001b[0m\u001b[0mindex\u001b[0m\u001b[1;33m(\u001b[0m\u001b[1;34m'the'\u001b[0m\u001b[1;33m)\u001b[0m\u001b[1;33m)\u001b[0m\u001b[1;33m\u001b[0m\u001b[1;33m\u001b[0m\u001b[0m\n\u001b[0m",
      "\u001b[1;31mValueError\u001b[0m: substring not found"
     ]
    }
   ],
   "source": [
    "#print(my_str.index('the'))\n",
    "\n",
    "print(my_str.index('the'))"
   ]
  },
  {
   "cell_type": "code",
   "execution_count": 41,
   "id": "fb27c918",
   "metadata": {},
   "outputs": [
    {
     "name": "stdout",
     "output_type": "stream",
     "text": [
      "11\n"
     ]
    }
   ],
   "source": [
    "#print(my_str.find('t', 9, 15))\n",
    "\n",
    "print(my_str.find('t', 9, 15))"
   ]
  },
  {
   "cell_type": "code",
   "execution_count": 42,
   "id": "cd4e3e2a",
   "metadata": {},
   "outputs": [
    {
     "name": "stdout",
     "output_type": "stream",
     "text": [
      "63\n"
     ]
    }
   ],
   "source": [
    "#print(my_str.rfind('u'))\n",
    "\n",
    "print(my_str.rfind('u'))"
   ]
  },
  {
   "cell_type": "code",
   "execution_count": 43,
   "id": "e8610819",
   "metadata": {},
   "outputs": [
    {
     "name": "stdout",
     "output_type": "stream",
     "text": [
      "63\n"
     ]
    }
   ],
   "source": [
    "#print(my_str.rindex('u'))\n",
    "\n",
    "print(my_str.rindex('u'))"
   ]
  },
  {
   "cell_type": "markdown",
   "id": "7ddf43cc",
   "metadata": {},
   "source": [
    "---------------------------------------------------------------------------\n",
    "==========================================================================================================================\n",
    "### <u>Question 18</u>\n",
    "#W A P which applies strip() method if any string, which will be taken from user, starts and ends with space, or applies  \n",
    "#rrstrip() method if that string only ends with space or applies lstrip() method if that string only starts with a space.\n",
    "\n",
    "#For example:-\n",
    "    > #input:- '    Python   '\n",
    "    > #output:- 'Python'\n",
    "\n",
    "    > #input:- '    Python'\n",
    "    > #output:- 'Python'\n",
    "\n",
    "    > #input:- 'Python   '\n",
    "    > #output:- 'Python'\n",
    "### *Solution -*"
   ]
  },
  {
   "cell_type": "code",
   "execution_count": 60,
   "id": "cc999be3",
   "metadata": {},
   "outputs": [
    {
     "name": "stdout",
     "output_type": "stream",
     "text": [
      "Enter First string :            Python                    \n",
      "\n",
      "Enter Second string:                     Python\n",
      "\n",
      "Enter Third string : Python                                        \n",
      "\n",
      "\n",
      "Stripping both sides: Python\n",
      "\n",
      "Stripping left side: Python\n",
      "\n",
      "Stripping right side: Python\n"
     ]
    }
   ],
   "source": [
    "in_str = []\n",
    "in_str.append(input(\"Enter First string : \"))\n",
    "in_str.append(input(\"\\nEnter Second string: \"))\n",
    "in_str.append(input(\"\\nEnter Third string : \"))\n",
    "\n",
    "for i in in_str:\n",
    "    if i.startswith(\" \") and i.endswith(\" \"):\n",
    "        print(f\"\\n\\nStripping both sides: {i.strip()}\")\n",
    "    elif i.startswith(\" \"):\n",
    "        print(f\"\\nStripping left side: {i.lstrip()}\")\n",
    "    elif i.endswith(\" \"):\n",
    "        print(f\"\\nStripping right side: {i.rstrip()}\")"
   ]
  },
  {
   "cell_type": "markdown",
   "id": "bd676288",
   "metadata": {},
   "source": [
    "---------------------------------------------------------------------------\n",
    "==========================================================================================================================\n",
    "### <u>Question 19</u>\n",
    "```python\n",
    "    > my_str = \"Although 8 that way may not be obvious at first unless you're Dutch\"\n",
    "\n",
    "    > #Write the code to convert all alphabets in my_str into upper case.\n",
    "    > print()\n",
    "\n",
    "    > #Write the code to convert all alphabets in my_str into lower case.\n",
    "    > print()\n",
    "\n",
    "    > #Write the code to swap the cases of all alphabets in my_str.(lower to upper and upper to lower)\n",
    "    > print()\n",
    "```\n",
    "### *Solution -*"
   ]
  },
  {
   "cell_type": "code",
   "execution_count": 61,
   "id": "0d9bf4ce",
   "metadata": {},
   "outputs": [
    {
     "name": "stdout",
     "output_type": "stream",
     "text": [
      "String: Although 8 that way may not be obvious at first unless you're Dutch\n",
      "---------------------------------------------------------------------------\n"
     ]
    }
   ],
   "source": [
    "my_str = \"Although 8 that way may not be obvious at first unless you're Dutch\"\n",
    "print(f\"String: {my_str}\")\n",
    "print(\"-\"*75)"
   ]
  },
  {
   "cell_type": "code",
   "execution_count": 62,
   "id": "7dad58f3",
   "metadata": {},
   "outputs": [
    {
     "name": "stdout",
     "output_type": "stream",
     "text": [
      "ALTHOUGH 8 THAT WAY MAY NOT BE OBVIOUS AT FIRST UNLESS YOU'RE DUTCH\n"
     ]
    }
   ],
   "source": [
    "#Write the code to convert all alphabets in my_str into upper case.\n",
    "\n",
    "print(my_str.upper())"
   ]
  },
  {
   "cell_type": "code",
   "execution_count": 63,
   "id": "9e1de40a",
   "metadata": {},
   "outputs": [
    {
     "name": "stdout",
     "output_type": "stream",
     "text": [
      "although 8 that way may not be obvious at first unless you're dutch\n"
     ]
    }
   ],
   "source": [
    "#Write the code to convert all alphabets in my_str into lower case.\n",
    "\n",
    "print(my_str.lower())"
   ]
  },
  {
   "cell_type": "code",
   "execution_count": 64,
   "id": "aa6928d3",
   "metadata": {},
   "outputs": [
    {
     "name": "stdout",
     "output_type": "stream",
     "text": [
      "aLTHOUGH 8 THAT WAY MAY NOT BE OBVIOUS AT FIRST UNLESS YOU'RE dUTCH\n"
     ]
    }
   ],
   "source": [
    "#Write the code to swap the cases of all alphabets in my_str.(lower to upper and upper to lower)\n",
    "\n",
    "print(my_str.swapcase())"
   ]
  },
  {
   "cell_type": "markdown",
   "id": "dfb0365e",
   "metadata": {},
   "source": [
    "---------------------------------------------------------------------------\n",
    "==========================================================================================================================\n",
    "### <u>Question 20</u>\n",
    "#Write the code which takes one string from user and if it starts with small case letter then convert it to corresponding  \n",
    "#capital letter otherwise if starts with capital letters then convert first character of every word in that string into capital.  \n",
    "### *Solution -*"
   ]
  },
  {
   "cell_type": "code",
   "execution_count": 68,
   "id": "cb1fbc12",
   "metadata": {},
   "outputs": [
    {
     "name": "stdout",
     "output_type": "stream",
     "text": [
      "Enter First string : hello world\n",
      "\n",
      "Enter Second string: Hello world\n",
      "\n",
      "\n",
      "Capitalizing only the first letter of string: Hello world\n",
      "\n",
      "Capitalizing first letter of all words in string: Hello World\n"
     ]
    }
   ],
   "source": [
    "in_str = []\n",
    "in_str.append(input(\"Enter First string : \"))\n",
    "in_str.append(input(\"\\nEnter Second string: \"))\n",
    "\n",
    "for i in in_str:\n",
    "    if i[0].islower():\n",
    "        print(f\"\\n\\nCapitalizing only the first letter of string: {i.capitalize()}\")\n",
    "    elif i[0].isupper():\n",
    "        print(f\"\\nCapitalizing first letter of all words in string: {i.title()}\")"
   ]
  },
  {
   "cell_type": "markdown",
   "id": "5df048bd",
   "metadata": {},
   "source": [
    "---------------------------------------------------------------------------\n",
    "==========================================================================================================================\n",
    "### <u>Question 21</u>\n",
    "#Take a string from user and check if it is:-\n",
    "```\n",
    "#     1. alphanumeric\n",
    "#     2. alphabets\n",
    "#     3. digit\n",
    "#     4. all letters are in lower case\n",
    "#     5. all letters are in upper case\n",
    "#     6. in title case\n",
    "#     7. a space character\n",
    "#     8. numeric\n",
    "#     9. all number elements in string are decimal\n",
    "```\n",
    "\n",
    "### *Solution -*"
   ]
  },
  {
   "cell_type": "code",
   "execution_count": 73,
   "id": "0b247d53",
   "metadata": {},
   "outputs": [
    {
     "name": "stdout",
     "output_type": "stream",
     "text": [
      "Enter a string: hello123\n",
      "\n",
      "1. String is alphanumeric: hello123\n"
     ]
    }
   ],
   "source": [
    "# 1. alphanumeric\n",
    "\n",
    "in_str = input(\"Enter a string: \")\n",
    "if in_str.isalnum():\n",
    "    print(f\"\\n1. String is alphanumeric: {in_str}\")"
   ]
  },
  {
   "cell_type": "code",
   "execution_count": 75,
   "id": "300cfad1",
   "metadata": {},
   "outputs": [
    {
     "name": "stdout",
     "output_type": "stream",
     "text": [
      "Enter a string: hello\n",
      "\n",
      "2. String is alphabets: hello\n"
     ]
    }
   ],
   "source": [
    "# 2. alphabets\n",
    "\n",
    "in_str = input(\"Enter a string: \")\n",
    "if in_str.isalpha():\n",
    "    print(f\"\\n2. String is alphabets: {in_str}\")"
   ]
  },
  {
   "cell_type": "code",
   "execution_count": 87,
   "id": "0cf110e1",
   "metadata": {},
   "outputs": [
    {
     "name": "stdout",
     "output_type": "stream",
     "text": [
      "Enter a string: 1234\n",
      "\n",
      "3. String is digits: 1234\n"
     ]
    }
   ],
   "source": [
    "# 3. digit\n",
    "\n",
    "in_str = input(\"Enter a string: \")\n",
    "if in_str.isdigit():\n",
    "    print(f\"\\n3. String is digits: {in_str}\")"
   ]
  },
  {
   "cell_type": "code",
   "execution_count": 77,
   "id": "bb7de0da",
   "metadata": {},
   "outputs": [
    {
     "name": "stdout",
     "output_type": "stream",
     "text": [
      "Enter a string: hello\n",
      "\n",
      "4. String is lower case: hello\n"
     ]
    }
   ],
   "source": [
    "# 4. all letters are in lower case\n",
    "\n",
    "in_str = input(\"Enter a string: \")\n",
    "if in_str.islower():\n",
    "    print(f\"\\n4. String is lower case: {in_str}\")"
   ]
  },
  {
   "cell_type": "code",
   "execution_count": 78,
   "id": "68768b53",
   "metadata": {},
   "outputs": [
    {
     "name": "stdout",
     "output_type": "stream",
     "text": [
      "Enter a string: HELLO\n",
      "\n",
      "5. String is upper case: HELLO\n"
     ]
    }
   ],
   "source": [
    "# 5. all letters are in upper case\n",
    "\n",
    "in_str = input(\"Enter a string: \")\n",
    "if in_str.isupper():\n",
    "    print(f\"\\n5. String is upper case: {in_str}\")"
   ]
  },
  {
   "cell_type": "code",
   "execution_count": 79,
   "id": "99c298b9",
   "metadata": {},
   "outputs": [
    {
     "name": "stdout",
     "output_type": "stream",
     "text": [
      "Enter a string: Hello\n",
      "\n",
      "6. String is title case: Hello\n"
     ]
    }
   ],
   "source": [
    "# 6. in title case\n",
    "\n",
    "in_str = input(\"Enter a string: \")\n",
    "if in_str.istitle():\n",
    "    print(f\"\\n6. String is title case: {in_str}\")"
   ]
  },
  {
   "cell_type": "code",
   "execution_count": 80,
   "id": "2476249c",
   "metadata": {},
   "outputs": [
    {
     "name": "stdout",
     "output_type": "stream",
     "text": [
      "Enter a string:     \n",
      "\n",
      "7. String is space character:     \n"
     ]
    }
   ],
   "source": [
    "# 7. a space character\n",
    "\n",
    "in_str = input(\"Enter a string: \")\n",
    "if in_str.isspace():\n",
    "    print(f\"\\n7. String is space character: {in_str}\")"
   ]
  },
  {
   "cell_type": "code",
   "execution_count": 85,
   "id": "e243121b",
   "metadata": {},
   "outputs": [
    {
     "name": "stdout",
     "output_type": "stream",
     "text": [
      "Enter a string: ⁰³⁸↉⅛⅘\n",
      "\n",
      "8. String is numeric: ⁰³⁸↉⅛⅘\n"
     ]
    }
   ],
   "source": [
    "# 8. is numeric\n",
    "\n",
    "in_str = input(\"Enter a string: \")\n",
    "if in_str.isnumeric():\n",
    "    print(f\"\\n8. String is numeric: {in_str}\")"
   ]
  },
  {
   "cell_type": "code",
   "execution_count": 83,
   "id": "4b46f76a",
   "metadata": {},
   "outputs": [
    {
     "name": "stdout",
     "output_type": "stream",
     "text": [
      "Enter a string: ੦੩੮\n",
      "\n",
      "8. String is decimal: ੦੩੮\n"
     ]
    }
   ],
   "source": [
    "# 9. is decimal\n",
    "\n",
    "in_str = input(\"Enter a string: \")\n",
    "if in_str.isdecimal():\n",
    "    print(f\"\\n8. String is decimal: {in_str}\")"
   ]
  },
  {
   "cell_type": "markdown",
   "id": "5abce92b",
   "metadata": {},
   "source": [
    "---------------------------------------------------------------------------\n",
    "==========================================================================================================================\n",
    "### <u>Question 22</u>\n",
    "#W A P which takes a string as an input and prints True if the string is valid identifier else returns False.  \n",
    "#Sample Input:- 'abc', 'abc1', 'ab1c', '1abc', 'abc$', '_abc', 'if'  \n",
    "### *Solution -*"
   ]
  },
  {
   "cell_type": "code",
   "execution_count": 103,
   "id": "7e1aa742",
   "metadata": {
    "scrolled": false
   },
   "outputs": [
    {
     "name": "stdout",
     "output_type": "stream",
     "text": [
      "Enter a string: _abc1\n",
      "\n",
      "String is a valid identifier: _abc1\n"
     ]
    }
   ],
   "source": [
    "import keyword\n",
    "in_str = input(\"Enter a string: \")\n",
    "if in_str.isidentifier() and not keyword.iskeyword(in_str):\n",
    "    print(f\"\\nString is a valid identifier: {in_str}\")\n",
    "else:\n",
    "    print(f\"\\nString is not a valid identifier: {in_str}\")"
   ]
  },
  {
   "cell_type": "markdown",
   "id": "d091d5ec",
   "metadata": {},
   "source": [
    "---------------------------------------------------------------------------\n",
    "==========================================================================================================================\n",
    "### <u>Question 23</u>\n",
    "#What will be output of below code?\n",
    "```python\n",
    "    > s = chr(65) + chr(97)\n",
    "    > print(s.isprintable())\n",
    "\n",
    "    > s = chr(27) + chr(97)\n",
    "    > print(s.isprintable())\n",
    "\n",
    "    > s = '\\n'\n",
    "    > print(s.isprintable())\n",
    "\n",
    "    > s = ''\n",
    "    > print(s.isprintable())\n",
    "```\n",
    "### *Solution -*"
   ]
  },
  {
   "cell_type": "code",
   "execution_count": 105,
   "id": "0cfbc70c",
   "metadata": {},
   "outputs": [
    {
     "name": "stdout",
     "output_type": "stream",
     "text": [
      "True\n"
     ]
    }
   ],
   "source": [
    "s = chr(65) + chr(97)\n",
    "print(s.isprintable())"
   ]
  },
  {
   "cell_type": "code",
   "execution_count": 106,
   "id": "c700c531",
   "metadata": {},
   "outputs": [
    {
     "name": "stdout",
     "output_type": "stream",
     "text": [
      "False\n"
     ]
    }
   ],
   "source": [
    "s = chr(27) + chr(97)\n",
    "print(s.isprintable())"
   ]
  },
  {
   "cell_type": "code",
   "execution_count": 107,
   "id": "5977a526",
   "metadata": {},
   "outputs": [
    {
     "name": "stdout",
     "output_type": "stream",
     "text": [
      "False\n"
     ]
    }
   ],
   "source": [
    "s = '\\n'\n",
    "print(s.isprintable())"
   ]
  },
  {
   "cell_type": "code",
   "execution_count": 108,
   "id": "5f4d4e10",
   "metadata": {},
   "outputs": [
    {
     "name": "stdout",
     "output_type": "stream",
     "text": [
      "True\n"
     ]
    }
   ],
   "source": [
    "s = ''\n",
    "print(s.isprintable())"
   ]
  },
  {
   "cell_type": "markdown",
   "id": "3b2b0b26",
   "metadata": {},
   "source": [
    "---------------------------------------------------------------------------\n",
    "==========================================================================================================================\n",
    "### <u>Question 24</u>\n",
    "#What will be output of below code?\n",
    "```python\n",
    "    > my_string = '  '\n",
    "    > print(my_string.isascii())\n",
    "\n",
    "    > my_string = 'Studytonight'\n",
    "    > print(my_string.isascii())\n",
    "\n",
    "    > my_string = 'Study tonight'\n",
    "    > print(my_string.isascii())\n",
    "\n",
    "    > my_string = 'Studytonight@123'\n",
    "    > print(my_string.isascii())\n",
    "\n",
    "    > my_string = '°'\n",
    "    > print(my_string.isascii())\n",
    "\n",
    "    > my_string = 'ö'\n",
    "    > print(my_string.isascii())\n",
    "```\n",
    "### *Solution -*"
   ]
  },
  {
   "cell_type": "code",
   "execution_count": 109,
   "id": "08250587",
   "metadata": {},
   "outputs": [
    {
     "name": "stdout",
     "output_type": "stream",
     "text": [
      "True\n"
     ]
    }
   ],
   "source": [
    "my_string = '  '\n",
    "print(my_string.isascii())"
   ]
  },
  {
   "cell_type": "code",
   "execution_count": 110,
   "id": "284c2764",
   "metadata": {},
   "outputs": [
    {
     "name": "stdout",
     "output_type": "stream",
     "text": [
      "True\n"
     ]
    }
   ],
   "source": [
    "my_string = 'Studytonight'\n",
    "print(my_string.isascii())"
   ]
  },
  {
   "cell_type": "code",
   "execution_count": 111,
   "id": "d03d3705",
   "metadata": {},
   "outputs": [
    {
     "name": "stdout",
     "output_type": "stream",
     "text": [
      "True\n"
     ]
    }
   ],
   "source": [
    "my_string = 'Study tonight'\n",
    "print(my_string.isascii())"
   ]
  },
  {
   "cell_type": "code",
   "execution_count": 112,
   "id": "0206074e",
   "metadata": {},
   "outputs": [
    {
     "name": "stdout",
     "output_type": "stream",
     "text": [
      "True\n"
     ]
    }
   ],
   "source": [
    "my_string = 'Studytonight@123'\n",
    "print(my_string.isascii())"
   ]
  },
  {
   "cell_type": "code",
   "execution_count": 113,
   "id": "16840413",
   "metadata": {},
   "outputs": [
    {
     "name": "stdout",
     "output_type": "stream",
     "text": [
      "False\n"
     ]
    }
   ],
   "source": [
    "my_string = '°'\n",
    "print(my_string.isascii())"
   ]
  },
  {
   "cell_type": "code",
   "execution_count": 114,
   "id": "e0c6b80d",
   "metadata": {},
   "outputs": [
    {
     "name": "stdout",
     "output_type": "stream",
     "text": [
      "False\n"
     ]
    }
   ],
   "source": [
    "my_string = 'ö'\n",
    "print(my_string.isascii())"
   ]
  },
  {
   "cell_type": "markdown",
   "id": "a359f0bd",
   "metadata": {},
   "source": [
    "---------------------------------------------------------------------------\n",
    "==========================================================================================================================\n",
    "### <u>Question 25</u>\n",
    "#What will be output of below code?\n",
    "```python\n",
    "    > firstString = \"der Fluß\"\n",
    "    > secondString = \"der Fluss\"\n",
    "\n",
    "    > if firstString.casefold() == secondString.casefold():\n",
    "    > print('The strings are equal.')\n",
    "    > else:\n",
    "    > print('The strings are not equal.')\n",
    "```\n",
    "### *Solution -*"
   ]
  },
  {
   "cell_type": "code",
   "execution_count": 115,
   "id": "b1f80c98",
   "metadata": {},
   "outputs": [
    {
     "name": "stdout",
     "output_type": "stream",
     "text": [
      "The strings are equal.\n"
     ]
    }
   ],
   "source": [
    "firstString = \"der Fluß\"\n",
    "secondString = \"der Fluss\"\n",
    "\n",
    "if firstString.casefold() == secondString.casefold():\n",
    "    print('The strings are equal.')\n",
    "else:\n",
    "    print('The strings are not equal.')"
   ]
  },
  {
   "cell_type": "markdown",
   "id": "7c2a9f3f",
   "metadata": {},
   "source": [
    "---------------------------------------------------------------------------\n",
    "==========================================================================================================================\n",
    "### <u>Question 26</u>\n",
    "#Write the code to get below output  \n",
    "#O/P 1:- python** (using ljust method)\n",
    "\n",
    "\n",
    "#Write the code to get below output  \n",
    "#O/P 1:- **python (using rjust method)\n",
    "\n",
    "\n",
    "#Write the code to get below output  \n",
    "#O/P 1:- \\*\\*python** (using rjust method)\n",
    "### *Solution -*"
   ]
  },
  {
   "cell_type": "code",
   "execution_count": 129,
   "id": "615fd5ce",
   "metadata": {},
   "outputs": [
    {
     "name": "stdout",
     "output_type": "stream",
     "text": [
      "Using ljust method: python**\n"
     ]
    }
   ],
   "source": [
    "#Write the code to get below output\n",
    "#O/P 1:- python** (using ljust method)\n",
    "\n",
    "print(f\"Using ljust method: {'python'.ljust(len('python')+2,'*')}\")"
   ]
  },
  {
   "cell_type": "code",
   "execution_count": 131,
   "id": "be7aee6e",
   "metadata": {},
   "outputs": [
    {
     "name": "stdout",
     "output_type": "stream",
     "text": [
      "Using rjust method: **python\n"
     ]
    }
   ],
   "source": [
    "#Write the code to get below output\n",
    "#O/P 1:- **python (using rjust method)\n",
    "\n",
    "print(f\"Using rjust method: {'python'.rjust(len('python')+2,'*')}\")"
   ]
  },
  {
   "cell_type": "code",
   "execution_count": 134,
   "id": "d218c521",
   "metadata": {
    "scrolled": true
   },
   "outputs": [
    {
     "name": "stdout",
     "output_type": "stream",
     "text": [
      "Using rjust method: **python**\n"
     ]
    }
   ],
   "source": [
    "#Write the code to get below output\n",
    "#O/P 1:- **python** (using rjust method)\n",
    "\n",
    "print(f\"Using rjust method: {'python'.rjust(len('python')+2,'*') + ''.rjust(2,'*')}\")"
   ]
  },
  {
   "cell_type": "markdown",
   "id": "61835445",
   "metadata": {},
   "source": [
    "---------------------------------------------------------------------------\n",
    "==========================================================================================================================\n",
    "### <u>Question 27</u>\n",
    "#Write a Python program to find the length of the my_str:-  \n",
    "\n",
    "#Input:- 'Write a Python program to find the length of the my_str'  \n",
    "#Output:- 55\n",
    "### *Solution -*"
   ]
  },
  {
   "cell_type": "code",
   "execution_count": 140,
   "id": "e9136179",
   "metadata": {},
   "outputs": [
    {
     "name": "stdout",
     "output_type": "stream",
     "text": [
      "Enter string: Write a Python program to find the length of the my_str\n",
      "\n",
      "Length of string is: 55\n"
     ]
    }
   ],
   "source": [
    "#Write a Python program to find the length of the my_str:-\n",
    "\n",
    "#Input:- 'Write a Python program to find the length of the my_str'\n",
    "\n",
    "my_str = input(\"Enter string: \")\n",
    "print(f\"\\nLength of string is: {len(my_str)}\")"
   ]
  },
  {
   "cell_type": "markdown",
   "id": "183e88c4",
   "metadata": {},
   "source": [
    "---------------------------------------------------------------------------\n",
    "==========================================================================================================================\n",
    "### <u>Question 28</u>\n",
    "#Write a Python program to find the total number of times letter 'p' is appeared in the below string:-  \n",
    "\n",
    "#Input:- 'peter piper picked a peck of pickled peppers.'  \n",
    "#Output:- 9\n",
    "### *Solution -*"
   ]
  },
  {
   "cell_type": "code",
   "execution_count": 139,
   "id": "7c3dc601",
   "metadata": {},
   "outputs": [
    {
     "name": "stdout",
     "output_type": "stream",
     "text": [
      "Total number of time letter 'p' appears in string is 9\n"
     ]
    }
   ],
   "source": [
    "#Write a Python program to find the total number of times letter 'p' is appeared in the below string:-\n",
    "\n",
    "#Input:- 'peter piper picked a peck of pickled peppers.'\n",
    "\n",
    "my_str = 'peter piper picked a peck of pickled peppers.'\n",
    "print(f\"Total number of time letter 'p' appears in string is {my_str.count('p')}\")"
   ]
  },
  {
   "cell_type": "markdown",
   "id": "3d26f195",
   "metadata": {},
   "source": [
    "---------------------------------------------------------------------------\n",
    "==========================================================================================================================\n",
    "### <u>Question 29</u>\n",
    "#Write a Python Program, to print all the indexes of all occurences of letter 'p' appeared in the string:-  \n",
    "\n",
    "#Input:- 'peter piper picked a peck of pickled peppers.'  \n",
    "#Output:-\n",
    "```\n",
    "# 0\n",
    "# 6\n",
    "# 8\n",
    "# 12\n",
    "# 21\n",
    "# 29\n",
    "# 37\n",
    "# 39  \n",
    "# 40\n",
    "```\n",
    "### *Solution -*"
   ]
  },
  {
   "cell_type": "code",
   "execution_count": 204,
   "id": "840bfb9d",
   "metadata": {},
   "outputs": [
    {
     "name": "stdout",
     "output_type": "stream",
     "text": [
      "0\n",
      "6\n",
      "8\n",
      "12\n",
      "21\n",
      "29\n",
      "37\n",
      "39\n",
      "40\n"
     ]
    }
   ],
   "source": [
    "#Write a Python Program, to print all the indexes of all occurences of letter 'p' appeared in the string:-\n",
    "\n",
    "#Input:- 'peter piper picked a peck of pickled peppers.'\n",
    "\n",
    "my_str = 'peter piper picked a peck of pickled peppers.'\n",
    "position = 0\n",
    "for i in my_str:\n",
    "    if i == 'p':\n",
    "        print(position)\n",
    "    position += 1"
   ]
  },
  {
   "cell_type": "markdown",
   "id": "f53fbaed",
   "metadata": {},
   "source": [
    "---------------------------------------------------------------------------\n",
    "==========================================================================================================================\n",
    "### <u>Question 30</u>\n",
    "#Write a python program to find below output:-  \n",
    "\n",
    "#Input:- 'peter piper picked a peck of pickled peppers.'  \n",
    "#Output:- ['peter', 'piper', 'picked', 'a', 'peck', 'of', 'pickled', 'peppers.']\n",
    "### *Solution -*"
   ]
  },
  {
   "cell_type": "code",
   "execution_count": 200,
   "id": "afade850",
   "metadata": {},
   "outputs": [
    {
     "name": "stdout",
     "output_type": "stream",
     "text": [
      "Input : peter piper picked a peck of pickled peppers.\n",
      "\n",
      "Output: ['peter', 'piper', 'picked', 'a', 'peck', 'of', 'pickled', 'peppers.']\n"
     ]
    }
   ],
   "source": [
    "#Write a python program to find below output:-\n",
    "\n",
    "#Input:- 'peter piper picked a peck of pickled peppers.'\n",
    "\n",
    "my_str = 'peter piper picked a peck of pickled peppers.'\n",
    "\n",
    "print(f\"Input : {my_str}\")\n",
    "print(f\"\\nOutput: {my_str.split()}\")"
   ]
  },
  {
   "cell_type": "markdown",
   "id": "18946907",
   "metadata": {},
   "source": [
    "---------------------------------------------------------------------------\n",
    "==========================================================================================================================\n",
    "### <u>Question 31</u>\n",
    "#Write a python program to find below output:-  \n",
    "\n",
    "#Input:- 'peter piper picked a peck of pickled peppers.'  \n",
    "#Output:- 'peppers. pickled of peck a picked piper peter'\n",
    "### *Solution -*"
   ]
  },
  {
   "cell_type": "code",
   "execution_count": 199,
   "id": "f63453ae",
   "metadata": {},
   "outputs": [
    {
     "name": "stdout",
     "output_type": "stream",
     "text": [
      "Input : peter piper picked a peck of pickled peppers.\n",
      "\n",
      "Output: peppers. pickled of peck a picked piper peter\n"
     ]
    }
   ],
   "source": [
    "#Write a python program to find below output:-\n",
    "\n",
    "#Input:- 'peter piper picked a peck of pickled peppers.'\n",
    "\n",
    "my_str = 'peter piper picked a peck of pickled peppers.'\n",
    "\n",
    "print(f\"Input : {my_str}\")\n",
    "print(f\"\\nOutput: {' '.join(reversed(my_str.split()))}\")"
   ]
  },
  {
   "cell_type": "markdown",
   "id": "872e34b2",
   "metadata": {},
   "source": [
    "---------------------------------------------------------------------------\n",
    "==========================================================================================================================\n",
    "### <u>Question 32</u>\n",
    "#Write a python program to find below output:-  \n",
    "\n",
    "#Input:- 'peter piper picked a peck of pickled peppers.'  \n",
    "#Output:- '.sreppep delkcip fo kcep a dekcip repip retep'\n",
    "### *Solution -*"
   ]
  },
  {
   "cell_type": "code",
   "execution_count": 198,
   "id": "f3abc3a5",
   "metadata": {},
   "outputs": [
    {
     "name": "stdout",
     "output_type": "stream",
     "text": [
      "Input : peter piper picked a peck of pickled peppers.\n",
      "\n",
      "Output: .sreppep delkcip fo kcep a dekcip repip retep\n"
     ]
    }
   ],
   "source": [
    "#Write a python program to find below output:-\n",
    "\n",
    "#Input:- 'peter piper picked a peck of pickled peppers.'\n",
    "\n",
    "my_str = 'peter piper picked a peck of pickled peppers.'\n",
    "\n",
    "print(f\"Input : {my_str}\")\n",
    "print(f\"\\nOutput: {my_str[::-1]}\")"
   ]
  },
  {
   "cell_type": "markdown",
   "id": "b590c1d8",
   "metadata": {},
   "source": [
    "---------------------------------------------------------------------------\n",
    "==========================================================================================================================\n",
    "### <u>Question 33</u>\n",
    "#Write a python program to find below output:-  \n",
    "\n",
    "#Input:- 'peter piper picked a peck of pickled peppers.'  \n",
    "#Output:- 'retep repip dekcip a kcep fo delkcip .sreppep'\n",
    "### *Solution -*"
   ]
  },
  {
   "cell_type": "code",
   "execution_count": 197,
   "id": "1a9cf03f",
   "metadata": {},
   "outputs": [
    {
     "name": "stdout",
     "output_type": "stream",
     "text": [
      "Input : peter piper picked a peck of pickled peppers.\n",
      "\n",
      "Output: retep repip dekcip a kcep fo delkcip .sreppep\n"
     ]
    }
   ],
   "source": [
    "#Write a python program to find below output:-\n",
    "\n",
    "#Input:- 'peter piper picked a peck of pickled peppers.'\n",
    "\n",
    "my_str = 'peter piper picked a peck of pickled peppers.'\n",
    "\n",
    "print(f\"Input : {my_str}\")\n",
    "print(f\"\\nOutput: {' '.join(reversed(my_str.split()))[::-1]}\")"
   ]
  },
  {
   "cell_type": "markdown",
   "id": "7962f8b6",
   "metadata": {},
   "source": [
    "---------------------------------------------------------------------------\n",
    "==========================================================================================================================\n",
    "### <u>Question 34</u>\n",
    "#Write a python program to find below output:-  \n",
    "\n",
    "#Input:- 'peter piper picked a peck of pickled peppers.'  \n",
    "#Output:- 'Peter Piper Picked A Peck Of Pickled Peppers.'\n",
    "### *Solution -*"
   ]
  },
  {
   "cell_type": "code",
   "execution_count": 196,
   "id": "23dbc00c",
   "metadata": {},
   "outputs": [
    {
     "name": "stdout",
     "output_type": "stream",
     "text": [
      "Input : peter piper picked a peck of pickled peppers.\n",
      "\n",
      "Output: Peter Piper Picked A Peck Of Pickled Peppers.\n"
     ]
    }
   ],
   "source": [
    "#Write a python program to find below output:-\n",
    "\n",
    "#Input:- 'peter piper picked a peck of pickled peppers.'\n",
    "\n",
    "my_str = 'peter piper picked a peck of pickled peppers.'\n",
    "\n",
    "print(f\"Input : {my_str}\")\n",
    "print(f\"\\nOutput: {my_str.title()}\")"
   ]
  },
  {
   "cell_type": "markdown",
   "id": "e3cae6af",
   "metadata": {},
   "source": [
    "---------------------------------------------------------------------------\n",
    "==========================================================================================================================\n",
    "### <u>Question 35</u>\n",
    "#Write a python program to find below output:-  \n",
    "\n",
    "#Input:- 'Peter Piper Picked A Peck Of Pickled Peppers.'  \n",
    "#Output:- 'Peter piper picked a peck of pickled peppers.'\n",
    "### *Solution -*"
   ]
  },
  {
   "cell_type": "code",
   "execution_count": 195,
   "id": "a3795b7f",
   "metadata": {},
   "outputs": [
    {
     "name": "stdout",
     "output_type": "stream",
     "text": [
      "Input : peter piper picked a peck of pickled peppers.\n",
      "\n",
      "Output: Peter piper picked a peck of pickled peppers.\n"
     ]
    }
   ],
   "source": [
    "#Write a python program to find below output:-\n",
    "\n",
    "#Input:- 'Peter Piper Picked A Peck Of Pickled Peppers.'\n",
    "\n",
    "my_str = 'peter piper picked a peck of pickled peppers.'\n",
    "\n",
    "print(f\"Input : {my_str}\")\n",
    "print(f\"\\nOutput: {my_str.capitalize()}\")"
   ]
  },
  {
   "cell_type": "markdown",
   "id": "d973387f",
   "metadata": {},
   "source": [
    "---------------------------------------------------------------------------\n",
    "==========================================================================================================================\n",
    "### <u>Question 36</u>\n",
    "\\# of first occurrence of first character of matching string in my_str:-  \n",
    "\n",
    "#Input:- my_str = 'Peter Piper Picked A Peck Of Pickled Peppers.', sub_str = 'Pickl'  \n",
    "#Output:- 29\n",
    "### *Solution -*"
   ]
  },
  {
   "cell_type": "code",
   "execution_count": 194,
   "id": "bc0cab4a",
   "metadata": {},
   "outputs": [
    {
     "name": "stdout",
     "output_type": "stream",
     "text": [
      "Input : Peter Piper Picked A Peck Of Pickled Peppers.\n",
      "\n",
      "Position of 'Pickl' in Input string is: 29\n"
     ]
    }
   ],
   "source": [
    "# of first occurrence of first character of matching string in my_str:-\n",
    "\n",
    "#Input:- my_str = 'Peter Piper Picked A Peck Of Pickled Peppers.', sub_str = 'Pickl'\n",
    "\n",
    "my_str = 'Peter Piper Picked A Peck Of Pickled Peppers.'\n",
    "sub_str = 'Pickl'\n",
    "\n",
    "print(f\"Input : {my_str}\")\n",
    "print(f\"\\nPosition of 'Pickl' in Input string is: {my_str.find(sub_str)}\")"
   ]
  },
  {
   "cell_type": "markdown",
   "id": "de81d043",
   "metadata": {},
   "source": [
    "---------------------------------------------------------------------------\n",
    "==========================================================================================================================\n",
    "### <u>Question 37</u>\n",
    "#Write a python program to implement replace method. If sub_str is found in my_str then it will replace the first  \n",
    "#occurrence of sub_str with new_str else it will will print sub_str not found:-  \n",
    "\n",
    "#Input:- my_str = 'Peter Piper Picked A Peck Of Pickled Peppers.', sub_str = 'Peck', new_str = 'Pack'  \n",
    "#Output:- 'Peter Piper Picked A Pack Of Pickled Peppers.'\n",
    "### *Solution -*"
   ]
  },
  {
   "cell_type": "code",
   "execution_count": 211,
   "id": "7b6097c9",
   "metadata": {},
   "outputs": [
    {
     "name": "stdout",
     "output_type": "stream",
     "text": [
      "Input : Peter Piper Picked A Peck Of Pickled Peppers.\n",
      "\n",
      "After Replacing 'Peck' with 'Pack': Peter Piper Picked A Pack Of Pickled Peppers.\n"
     ]
    }
   ],
   "source": [
    "#Write a python program to implement replace method. If sub_str is found in my_str then it will replace the first  \n",
    "#occurrence of sub_str with new_str else it will will print sub_str not found:-  \n",
    "\n",
    "#Input:- my_str = 'Peter Piper Picked A Peck Of Pickled Peppers.', sub_str = 'Peck', new_str = 'Pack'  \n",
    "\n",
    "my_str = 'Peter Piper Picked A Peck Of Pickled Peppers.'\n",
    "sub_str = 'Peck'\n",
    "new_str = 'Pack'\n",
    "\n",
    "print(f\"Input : {my_str}\")\n",
    "\n",
    "if my_str.find(sub_str) > -1:\n",
    "    print(f\"\\nAfter Replacing '{sub_str}' with '{new_str}': {my_str.replace(sub_str,new_str)}\")\n",
    "else:\n",
    "    print(f\"\\nCannot Replace: {sub_str} not found.\")"
   ]
  },
  {
   "cell_type": "markdown",
   "id": "fbb13d02",
   "metadata": {},
   "source": [
    "---------------------------------------------------------------------------\n",
    "==========================================================================================================================\n",
    "### <u>Question 38</u>\n",
    "#Write a python program to find below output (implements rjust and ljust):-  \n",
    "\n",
    "#Input:- 'Peter Piper Picked A Peck Of Pickled Peppers.', sub_str = 'Peck',  \n",
    "#Output:- '\\*\\*\\*\\*\\*\\*\\*\\*\\*\\*\\*\\*\\*\\*\\*\\*\\*\\*\\*\\*\\*Peck\\*\\*\\*\\*\\*\\*\\*\\*\\*\\*\\*\\*\\*\\*\\*\\*\\*\\*\\*\\*'\n",
    "### *Solution -*"
   ]
  },
  {
   "cell_type": "code",
   "execution_count": 213,
   "id": "db5829a9",
   "metadata": {},
   "outputs": [
    {
     "name": "stdout",
     "output_type": "stream",
     "text": [
      "Input : Peter Piper Picked A Peck Of Pickled Peppers.\n",
      "\n",
      "Output : *********************Peck********************\n"
     ]
    }
   ],
   "source": [
    "#Write a python program to find below output (implements rjust and ljust):-  \n",
    "\n",
    "#Input:- 'Peter Piper Picked A Peck Of Pickled Peppers.', sub_str = 'Peck',  \n",
    "#Output:- '*********************Peck********************'\n",
    "\n",
    "my_str = 'Peter Piper Picked A Peck Of Pickled Peppers.'\n",
    "sub_str = 'Peck'\n",
    "\n",
    "print(f\"Input : {my_str}\")\n",
    "print(f\"\\nOutput : {sub_str.center(len(my_str),'*')}\")"
   ]
  }
 ],
 "metadata": {
  "kernelspec": {
   "display_name": "Python 3",
   "language": "python",
   "name": "python3"
  },
  "language_info": {
   "codemirror_mode": {
    "name": "ipython",
    "version": 3
   },
   "file_extension": ".py",
   "mimetype": "text/x-python",
   "name": "python",
   "nbconvert_exporter": "python",
   "pygments_lexer": "ipython3",
   "version": "3.8.8"
  }
 },
 "nbformat": 4,
 "nbformat_minor": 5
}
