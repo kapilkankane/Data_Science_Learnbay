{
 "cells": [
  {
   "cell_type": "markdown",
   "id": "9c1b6e9b",
   "metadata": {},
   "source": [
    "# Week - 4 Assignment - 4th September : Submitted By Kapil Kankane"
   ]
  },
  {
   "cell_type": "markdown",
   "id": "d575873d",
   "metadata": {},
   "source": [
    "## ***List***"
   ]
  },
  {
   "cell_type": "markdown",
   "id": "94404bf9",
   "metadata": {},
   "source": [
    "---------------------------------------------------------------------------\n",
    "==========================================================================================================================\n",
    "### <u>Question 1</u> \n",
    "Write a Python program to find the sum of all elements in a list using loop.  \n",
    "*Input:- [10,20,30,40]  \n",
    "Output:- 100*\n",
    "### *Solution -*"
   ]
  },
  {
   "cell_type": "code",
   "execution_count": 9,
   "id": "722758ba",
   "metadata": {
    "ExecuteTime": {
     "end_time": "2021-08-30T15:30:32.549933Z",
     "start_time": "2021-08-30T15:30:32.532317Z"
    }
   },
   "outputs": [
    {
     "name": "stdout",
     "output_type": "stream",
     "text": [
      "Sum of all elements in the list: 100\n"
     ]
    }
   ],
   "source": [
    "lst = [10,20,30,40]\n",
    "_sum = 0\n",
    "for i in lst:\n",
    "    _sum += i\n",
    "print(f\"Sum of all elements in the list: {_sum}\")"
   ]
  },
  {
   "cell_type": "markdown",
   "id": "fb519a6b",
   "metadata": {},
   "source": [
    "---------------------------------------------------------------------------\n",
    "==========================================================================================================================\n",
    "### <u>Question 2</u>\n",
    "Write a Python program to find the multiplication of all elements in a list using loop.  \n",
    "*Input:- [10,20,30,40]  \n",
    "Output:- 240000*  \n",
    "### *Solution -*"
   ]
  },
  {
   "cell_type": "code",
   "execution_count": 10,
   "id": "0e0638b0",
   "metadata": {
    "ExecuteTime": {
     "end_time": "2021-08-30T15:30:37.115006Z",
     "start_time": "2021-08-30T15:30:37.097604Z"
    },
    "scrolled": false
   },
   "outputs": [
    {
     "name": "stdout",
     "output_type": "stream",
     "text": [
      "Multiplication of all elements in the list: 240000\n"
     ]
    }
   ],
   "source": [
    "lst = [10,20,30,40]\n",
    "mul = 1\n",
    "for i in lst:\n",
    "    mul *= i\n",
    "print(f\"Multiplication of all elements in the list: {mul}\")"
   ]
  },
  {
   "cell_type": "markdown",
   "id": "01016224",
   "metadata": {},
   "source": [
    "---------------------------------------------------------------------------\n",
    "==========================================================================================================================\n",
    "### <u>Question 3</u>\n",
    "Write a Python program to find the largest number from a list using loop.  \n",
    "*Input:- [10,100,2321, 1,200,2]  \n",
    "Output:- 2321*  \n",
    "### *Solution -*"
   ]
  },
  {
   "cell_type": "code",
   "execution_count": 13,
   "id": "3d809b6b",
   "metadata": {
    "ExecuteTime": {
     "end_time": "2021-08-30T15:38:57.673049Z",
     "start_time": "2021-08-30T15:38:57.665552Z"
    }
   },
   "outputs": [
    {
     "name": "stdout",
     "output_type": "stream",
     "text": [
      "Largest of all elements in the list: 2321\n"
     ]
    }
   ],
   "source": [
    "lst = [10,100,2321, 1,200,2]\n",
    "large = lst[0]\n",
    "for i in lst:\n",
    "    if i>large:\n",
    "        large = i\n",
    "print(f\"Largest of all elements in the list: {large}\")"
   ]
  },
  {
   "cell_type": "markdown",
   "id": "5b7c579a",
   "metadata": {},
   "source": [
    "---------------------------------------------------------------------------\n",
    "==========================================================================================================================\n",
    "### <u>Question 4</u>\n",
    "Write a Python program to find the smallest number from a list using loop.  \n",
    "*Input:- [10,100,2321, 1,200,2]  \n",
    "Output:- 1*  \n",
    "### *Solution -*"
   ]
  },
  {
   "cell_type": "code",
   "execution_count": 16,
   "id": "0661ecec",
   "metadata": {
    "ExecuteTime": {
     "end_time": "2021-08-30T15:39:23.071205Z",
     "start_time": "2021-08-30T15:39:23.059629Z"
    }
   },
   "outputs": [
    {
     "name": "stdout",
     "output_type": "stream",
     "text": [
      "Smallest of all elements in the list: 1\n"
     ]
    }
   ],
   "source": [
    "lst = [10,100,2321, 1,200,2]\n",
    "small = lst[0]\n",
    "for i in lst:\n",
    "    if i<small:\n",
    "        small = i\n",
    "print(f\"Smallest of all elements in the list: {small}\")"
   ]
  },
  {
   "cell_type": "markdown",
   "id": "e022f3d5",
   "metadata": {},
   "source": [
    "---------------------------------------------------------------------------\n",
    "==========================================================================================================================\n",
    "### <u>Question 5</u>\n",
    "Write a Python program to count the number of strings having length more than 2 and are palindrome in a list using loop.  \n",
    "*Input:- ['ab', 'abc', 'aba', 'xyz', '1991']  \n",
    "Output:- 2*  \n",
    "### *Solution -*"
   ]
  },
  {
   "cell_type": "code",
   "execution_count": 26,
   "id": "73bf8e86",
   "metadata": {
    "ExecuteTime": {
     "end_time": "2021-08-30T15:52:55.748557Z",
     "start_time": "2021-08-30T15:52:55.738311Z"
    }
   },
   "outputs": [
    {
     "name": "stdout",
     "output_type": "stream",
     "text": [
      "Number of strings having length more than 2 and are palindrome in the list: 2\n"
     ]
    }
   ],
   "source": [
    "lst = ['ab', 'abc', 'aba', 'xyz', '1991']\n",
    "count = 0\n",
    "for i in lst:\n",
    "    if len(i)>2:\n",
    "        if i == i[::-1]:\n",
    "            count += 1\n",
    "print(f\"Number of strings having length more than 2 and are palindrome in the list: {count}\")"
   ]
  },
  {
   "cell_type": "markdown",
   "id": "6f6fb7fe",
   "metadata": {},
   "source": [
    "---------------------------------------------------------------------------\n",
    "==========================================================================================================================\n",
    "### <u>Question 6</u>\n",
    "Write a Python program to sort a list in ascending order using loop.  \n",
    "*Input:- [100,10,1,298,65,483,49876,2,80,9,9213]  \n",
    "Output:- [1,2,9,10,65,80,100,298,483,9213,49876]*  \n",
    "### *Solution -*"
   ]
  },
  {
   "cell_type": "code",
   "execution_count": 35,
   "id": "56a96488",
   "metadata": {
    "ExecuteTime": {
     "end_time": "2021-08-30T16:06:50.815972Z",
     "start_time": "2021-08-30T16:06:50.804959Z"
    }
   },
   "outputs": [
    {
     "name": "stdout",
     "output_type": "stream",
     "text": [
      "Sorted list is:\n",
      "[1, 2, 9, 10, 65, 80, 100, 298, 483, 9213, 49876]\n"
     ]
    }
   ],
   "source": [
    "lst = [100,10,1,298,65,483,49876,2,80,9,9213]\n",
    "sort = 0\n",
    "for i in range(0,len(lst)):\n",
    "    for j in range(0,len(lst)):\n",
    "        if (lst[i] < lst[j]):\n",
    "            sort = lst[i]\n",
    "            lst[i] = lst[j]\n",
    "            lst[j] = sort\n",
    "print(f\"Sorted list is:\\n{lst}\")"
   ]
  },
  {
   "cell_type": "markdown",
   "id": "1b4006bc",
   "metadata": {},
   "source": [
    "---------------------------------------------------------------------------\n",
    "==========================================================================================================================\n",
    "### <u>Question 7</u>\n",
    "Write a Python program to get a sorted list in increasing order of last element in each tuple in a given list using loop.  \n",
    "*Input:- [(5,4),(9,1),(2,3),(5,9),(7,6),(5,5)]  \n",
    "output:- [(9,1),(2,3),(5,4),(5,5),(7,6),(5,9)]*   \n",
    "### *Solution -*"
   ]
  },
  {
   "cell_type": "code",
   "execution_count": 37,
   "id": "1bc49145",
   "metadata": {
    "ExecuteTime": {
     "end_time": "2021-08-30T16:11:10.876592Z",
     "start_time": "2021-08-30T16:11:10.864490Z"
    }
   },
   "outputs": [
    {
     "name": "stdout",
     "output_type": "stream",
     "text": [
      "Sorted list in increasing order of last element in each tuple is:\n",
      "[(9, 1), (2, 3), (5, 4), (5, 5), (7, 6), (5, 9)]\n"
     ]
    }
   ],
   "source": [
    "lst = [(5,4),(9,1),(2,3),(5,9),(7,6),(5,5)]\n",
    "sort = 0\n",
    "for i in range(0,len(lst)):\n",
    "    for j in range(0,len(lst)):\n",
    "        if (lst[i][1] < lst[j][1]):\n",
    "            sort = lst[i]\n",
    "            lst[i] = lst[j]\n",
    "            lst[j] = sort\n",
    "print(f\"Sorted list in increasing order of last element in each tuple is:\\n{lst}\")"
   ]
  },
  {
   "cell_type": "markdown",
   "id": "a2beec8c",
   "metadata": {},
   "source": [
    "---------------------------------------------------------------------------\n",
    "==========================================================================================================================\n",
    "### <u>Question 8</u>\n",
    "Write a Python program to remove duplicate element from a list using loop.  \n",
    "*Input:- [10,1,11,1,29,876,768,10,11,1,92,29,876]  \n",
    "Output:- [10,1,11,29,876,768,92]*  \n",
    "### *Solution -*"
   ]
  },
  {
   "cell_type": "code",
   "execution_count": 45,
   "id": "145ebbbb",
   "metadata": {
    "ExecuteTime": {
     "end_time": "2021-08-30T16:30:28.015125Z",
     "start_time": "2021-08-30T16:30:27.998065Z"
    }
   },
   "outputs": [
    {
     "name": "stdout",
     "output_type": "stream",
     "text": [
      "Unique elements in the list are:\n",
      "[10, 1, 11, 29, 876, 768, 92]\n"
     ]
    }
   ],
   "source": [
    "lst = [10,1,11,1,29,876,768,10,11,1,92,29,876]\n",
    "unique = []\n",
    "for i in lst:\n",
    "    if i not in unique:\n",
    "        unique.append(i)\n",
    "print(f\"Unique elements in the list are:\\n{unique}\")"
   ]
  },
  {
   "cell_type": "markdown",
   "id": "0da2f2d8",
   "metadata": {},
   "source": [
    "---------------------------------------------------------------------------\n",
    "==========================================================================================================================\n",
    "### <u>Question 9</u>\n",
    "Write a Python program to check a list is empty or not?  \n",
    "*Input:- []  \n",
    "Output:- List is empty  \n",
    "Input:- [10,20,30]  \n",
    "Output:- List is not empty*  \n",
    "### *Solution -*"
   ]
  },
  {
   "cell_type": "code",
   "execution_count": 82,
   "id": "cbed0fa8",
   "metadata": {
    "ExecuteTime": {
     "end_time": "2021-08-30T16:51:48.046059Z",
     "start_time": "2021-08-30T16:51:29.153525Z"
    }
   },
   "outputs": [
    {
     "name": "stdout",
     "output_type": "stream",
     "text": [
      "\n",
      "Enter a list: 1,2,3\n",
      "\n",
      "Exception : 1,2,3 is not a List, Wrong data input.\n",
      "\n",
      "Try again? (Y/N) : y\n",
      "\n",
      "Enter a list: []\n",
      "\n",
      "=> List is empty\n",
      "\n",
      "Try again? (Y/N) : y\n",
      "\n",
      "Enter a list: [1,2,3]\n",
      "\n",
      "=> List is not empty\n",
      "\n",
      "Try again? (Y/N) : n\n"
     ]
    }
   ],
   "source": [
    "x = 'Y'\n",
    "while x in [\"y\",\"Y\"]:\n",
    "    lst=input(\"\\nEnter a list: \")\n",
    "    try:\n",
    "        if type(eval(lst)) != list:\n",
    "            raise Exception\n",
    "\n",
    "        if len(eval(lst)) == 0:\n",
    "            print(\"\\n=> List is empty\\n\")\n",
    "        else:\n",
    "            print(\"\\n=> List is not empty\\n\")\n",
    "            \n",
    "        while True:\n",
    "            x = input(\"Try again? (Y/N) : \")\n",
    "            if x in [\"y\",\"Y\",\"n\",\"N\"]:\n",
    "                break\n",
    "    except Exception as e:\n",
    "        print (\"\\n\"+e.__class__.__name__,f\": {lst} is not a List, Wrong data input.\\n\")\n",
    "        while True:\n",
    "            x = input(\"Try again? (Y/N) : \")\n",
    "            if x in [\"y\",\"Y\",\"n\",\"N\"]:\n",
    "                break"
   ]
  },
  {
   "cell_type": "markdown",
   "id": "f177cda6",
   "metadata": {},
   "source": [
    "---------------------------------------------------------------------------\n",
    "==========================================================================================================================\n",
    "### <u>Question 10</u>\n",
    "Write a Python program to copy a list using loop.  \n",
    "*inp_lst = [10,10.20,10+20j, 'Python', [10,20], (10,20)]  \n",
    "out_lst = [10,10.20,10+20j, 'Python', [10,20], (10,20)]*  \n",
    "### *Solution -*"
   ]
  },
  {
   "cell_type": "code",
   "execution_count": 85,
   "id": "6b813eaa",
   "metadata": {
    "ExecuteTime": {
     "end_time": "2021-08-30T16:55:18.761938Z",
     "start_time": "2021-08-30T16:55:18.747667Z"
    }
   },
   "outputs": [
    {
     "name": "stdout",
     "output_type": "stream",
     "text": [
      "inp_lst = [10, 10.2, (10+20j), 'Python', [10, 20], (10, 20)]\n",
      "out_lst = [10, 10.2, (10+20j), 'Python', [10, 20], (10, 20)]\n"
     ]
    }
   ],
   "source": [
    "inp_lst = [10,10.20,10+20j, 'Python', [10,20], (10,20)]\n",
    "out_lst = []\n",
    "\n",
    "for i in inp_lst:\n",
    "    out_lst.append(i)\n",
    "print(f\"inp_lst = {inp_lst}\")\n",
    "print(f\"out_lst = {out_lst}\")"
   ]
  },
  {
   "cell_type": "markdown",
   "id": "d3fb0ee7",
   "metadata": {},
   "source": [
    "---------------------------------------------------------------------------\n",
    "==========================================================================================================================\n",
    "### <u>Question 11</u>\n",
    "Write a Python program to find the list of words that are longer than or equal to 4 from a given string.  \n",
    "*Input:- 'How much wood would a woodchuck chuck if a woodchuck could chuck wood'  \n",
    "Output:- ['much', 'wood', 'would', 'woodchuck', 'chuck', 'could']  \n",
    "Note:- Duplicate should be avoided.*  \n",
    "### *Solution -*"
   ]
  },
  {
   "cell_type": "code",
   "execution_count": 91,
   "id": "26cd3b5b",
   "metadata": {
    "ExecuteTime": {
     "end_time": "2021-08-30T17:00:54.159039Z",
     "start_time": "2021-08-30T17:00:54.148903Z"
    }
   },
   "outputs": [
    {
     "name": "stdout",
     "output_type": "stream",
     "text": [
      "Input :- How much wood would a woodchuck chuck if a woodchuck could chuck wood\n",
      "Output :- ['much', 'wood', 'would', 'woodchuck', 'chuck', 'could']\n"
     ]
    }
   ],
   "source": [
    "inp_str = 'How much wood would a woodchuck chuck if a woodchuck could chuck wood'\n",
    "inp_lst = in_str.split()\n",
    "out_lst = []\n",
    "for i in in_lst:\n",
    "    if len(i) >= 4:\n",
    "        if i not in out_lst:\n",
    "            out_lst.append(i)\n",
    "print(f\"Input :- {inp_str}\")\n",
    "print(f\"Output :- {out_lst}\")"
   ]
  },
  {
   "cell_type": "markdown",
   "id": "010231a0",
   "metadata": {},
   "source": [
    "---------------------------------------------------------------------------\n",
    "==========================================================================================================================\n",
    "### <u>Question 12</u>\n",
    "Write a Python program which takes two list as input and returns True if they have at least 3 common elements.  \n",
    "*inp_lst1 = [10,20,'Python', 10.20, 10+20j, [10,20,30], (10,20,30)]  \n",
    "inp_lst2 = [(10,20,30),1,20+3j,100.2, 10+20j, [10,20,30],'Python']  \n",
    "Output:- True*  \n",
    "### *Solution -*"
   ]
  },
  {
   "cell_type": "code",
   "execution_count": 93,
   "id": "61e65695",
   "metadata": {
    "ExecuteTime": {
     "end_time": "2021-08-30T17:17:42.570928Z",
     "start_time": "2021-08-30T17:17:42.564528Z"
    }
   },
   "outputs": [
    {
     "name": "stdout",
     "output_type": "stream",
     "text": [
      "inp_lst1 = [10,20,'Python', 10.20, 10+20j, [10,20,30], (10,20,30)]\n",
      "inp_lst2 = [(10,20,30),1,20+3j,100.2, 10+20j, [10,20,30],'Python']\n",
      "Output:- True\n"
     ]
    }
   ],
   "source": [
    "inp_lst1 = [10,20,'Python', 10.20, 10+20j, [10,20,30], (10,20,30)]\n",
    "inp_lst2 = [(10,20,30),1,20+3j,100.2, 10+20j, [10,20,30],'Python']\n",
    "common = 0\n",
    "for i in inp_lst1:\n",
    "    for j in inp_lst2:\n",
    "        if i==j:\n",
    "            common+=1\n",
    "\n",
    "if common>=3:\n",
    "    print(\"inp_lst1 = [10,20,'Python', 10.20, 10+20j, [10,20,30], (10,20,30)]\")\n",
    "    print(\"inp_lst2 = [(10,20,30),1,20+3j,100.2, 10+20j, [10,20,30],'Python']\")\n",
    "    print(\"Output:- True\")"
   ]
  },
  {
   "cell_type": "markdown",
   "id": "4256f994",
   "metadata": {},
   "source": [
    "---------------------------------------------------------------------------\n",
    "==========================================================================================================================\n",
    "### <u>Question 13</u>\n",
    "Write a Python program to create a 4X4 2D matrix with below elements using loop and list comprehension both.  \n",
    "*Output:- [[0,0,0,0],[0,1,2,3],[0,2,4,6],[0,3,6,9]]*  \n",
    "### *Solution -*"
   ]
  },
  {
   "cell_type": "code",
   "execution_count": 111,
   "id": "6d44f769",
   "metadata": {
    "ExecuteTime": {
     "end_time": "2021-08-30T17:36:33.189590Z",
     "start_time": "2021-08-30T17:36:33.179490Z"
    }
   },
   "outputs": [
    {
     "name": "stdout",
     "output_type": "stream",
     "text": [
      "Output:- [[0, 0, 0, 0], [0, 1, 2, 3], [0, 2, 4, 6], [0, 3, 6, 9]]\n"
     ]
    }
   ],
   "source": [
    "lst = []\n",
    "for i in range(4):\n",
    "    lst.append([j*i for j in range(4)])\n",
    "print(f\"Output:- {lst}\")"
   ]
  },
  {
   "cell_type": "markdown",
   "id": "ebc32309",
   "metadata": {},
   "source": [
    "---------------------------------------------------------------------------\n",
    "==========================================================================================================================\n",
    "### <u>Question 14</u>\n",
    "Write a Python program to create a 3X4X6 3D matrix wiith below elements using loop  \n",
    "Output:-  \n",
    "[  \n",
    "\n",
    "    [[0,0,0,0,0,0],[0,0,0,0,0,0],[0,0,0,0,0,0],[0,0,0,0,0,0]],  \n",
    "    [[0,0,0,0,0,0],[1,1,1,1,1,1],[2,2,2,2,2,2],[3,3,3,3,3,3]],  \n",
    "    [[0,0,0,0,0,0],[2,2,2,2,2,2],[4,4,4,4,4,4],[6,6,6,6,6,6]]  \n",
    "    \n",
    "]  \n",
    "### *Solution -*"
   ]
  },
  {
   "cell_type": "code",
   "execution_count": 130,
   "id": "30c8bb77",
   "metadata": {
    "ExecuteTime": {
     "end_time": "2021-08-30T17:54:37.085260Z",
     "start_time": "2021-08-30T17:54:37.064782Z"
    }
   },
   "outputs": [
    {
     "name": "stdout",
     "output_type": "stream",
     "text": [
      "Output:-\n"
     ]
    },
    {
     "data": {
      "text/plain": [
       "[[[0, 0, 0, 0, 0, 0],\n",
       "  [0, 0, 0, 0, 0, 0],\n",
       "  [0, 0, 0, 0, 0, 0],\n",
       "  [0, 0, 0, 0, 0, 0]],\n",
       " [[0, 0, 0, 0, 0, 0],\n",
       "  [1, 1, 1, 1, 1, 1],\n",
       "  [2, 2, 2, 2, 2, 2],\n",
       "  [3, 3, 3, 3, 3, 3]],\n",
       " [[0, 0, 0, 0, 0, 0],\n",
       "  [2, 2, 2, 2, 2, 2],\n",
       "  [4, 4, 4, 4, 4, 4],\n",
       "  [6, 6, 6, 6, 6, 6]]]"
      ]
     },
     "execution_count": 130,
     "metadata": {},
     "output_type": "execute_result"
    }
   ],
   "source": [
    "lst = []\n",
    "for i in range(3):\n",
    "    lst2 = []\n",
    "    for j in range(4):\n",
    "        lst3 = []\n",
    "        for k in range(6):\n",
    "            lst3.append(i*j)\n",
    "        lst2.append(lst3)\n",
    "    lst.append(lst2)\n",
    "print(f\"Output:-\")\n",
    "lst"
   ]
  },
  {
   "cell_type": "markdown",
   "id": "35e4e886",
   "metadata": {},
   "source": [
    "---------------------------------------------------------------------------\n",
    "==========================================================================================================================\n",
    "### <u>Question 15</u>\n",
    "Write a Python program which takes a list of numbers as input and prints a new list after removing even numbers from it.  \n",
    "*Input:- [10,21,22,98,87,45,33,1,2,100]  \n",
    "Output:- [21,87,45,33,1]*  \n",
    "### *Solution -*"
   ]
  },
  {
   "cell_type": "code",
   "execution_count": 139,
   "id": "ffd5437f",
   "metadata": {
    "ExecuteTime": {
     "end_time": "2021-08-30T18:16:25.855404Z",
     "start_time": "2021-08-30T18:16:25.838331Z"
    }
   },
   "outputs": [
    {
     "name": "stdout",
     "output_type": "stream",
     "text": [
      "Input :- [10, 21, 22, 98, 87, 45, 33, 1, 2, 100]\n",
      "Output :- [21, 87, 45, 33, 1]\n"
     ]
    }
   ],
   "source": [
    "lst =[10,21,22,98,87,45,33,1,2,100]\n",
    "odd_lst = []\n",
    "for i in lst:\n",
    "    if i%2 != 0:\n",
    "        odd_lst.append(i)\n",
    "print(f\"Input :- {lst}\")\n",
    "print(f\"Output :- {odd_lst}\")"
   ]
  },
  {
   "cell_type": "markdown",
   "id": "28bbe17a",
   "metadata": {},
   "source": [
    "---------------------------------------------------------------------------\n",
    "==========================================================================================================================\n",
    "### <u>Question 16</u>\n",
    "Write a Python program which takes a list from the user and prints it after reshuffling the elements of the list.  \n",
    "*Input:- [10,21,22,98,87,45,33,1,2,100]  \n",
    "Output:- [1,87,21,10,33,2,100,45,98,22] (It may be any randon list but with same elements)*   \n",
    "### *Solution -*"
   ]
  },
  {
   "cell_type": "code",
   "execution_count": 140,
   "id": "c03600c5",
   "metadata": {
    "ExecuteTime": {
     "end_time": "2021-08-30T18:18:08.951249Z",
     "start_time": "2021-08-30T18:18:08.945245Z"
    }
   },
   "outputs": [
    {
     "name": "stdout",
     "output_type": "stream",
     "text": [
      "Input :- [10, 21, 22, 98, 87, 45, 33, 1, 2, 100]\n",
      "Output :- [2, 87, 45, 98, 21, 10, 100, 1, 22, 33]\n"
     ]
    }
   ],
   "source": [
    "from random import shuffle\n",
    "lst = [10,21,22,98,87,45,33,1,2,100]\n",
    "print(f\"Input :- {lst}\")\n",
    "shuffle(lst)\n",
    "print(f\"Output :- {lst}\")"
   ]
  }
 ],
 "metadata": {
  "kernelspec": {
   "display_name": "Python 3",
   "language": "python",
   "name": "python3"
  },
  "language_info": {
   "codemirror_mode": {
    "name": "ipython",
    "version": 3
   },
   "file_extension": ".py",
   "mimetype": "text/x-python",
   "name": "python",
   "nbconvert_exporter": "python",
   "pygments_lexer": "ipython3",
   "version": "3.8.8"
  }
 },
 "nbformat": 4,
 "nbformat_minor": 5
}
