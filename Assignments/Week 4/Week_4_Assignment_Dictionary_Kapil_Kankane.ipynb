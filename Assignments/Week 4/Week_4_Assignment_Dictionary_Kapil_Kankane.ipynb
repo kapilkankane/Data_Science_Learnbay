{
 "cells": [
  {
   "cell_type": "markdown",
   "id": "9c1b6e9b",
   "metadata": {},
   "source": [
    "# Week - 4 Assignment - 4th September : Submitted By Kapil Kankane"
   ]
  },
  {
   "cell_type": "markdown",
   "id": "d575873d",
   "metadata": {},
   "source": [
    "## ***Dictionary***"
   ]
  },
  {
   "cell_type": "markdown",
   "id": "94404bf9",
   "metadata": {},
   "source": [
    "---------------------------------------------------------------------------\n",
    "==========================================================================================================================\n",
    "### <u>Question 1</u> \n",
    "Initialize a dictionary \"emp_info\" with below details  \n",
    "*In - emp_info['Tom']  \n",
    "Out - {'email':'tom_latham019@gmail.com', 'Phone': +1987654321, 'City': 'California'}*  \n",
    "  \n",
    "*In - emp_info['Kathy']  \n",
    "Out - {'email':'kathy_abram897@gmail.com', 'Phone': +1887654321, 'City': 'New York'}*  \n",
    "### *Solution -*"
   ]
  },
  {
   "cell_type": "code",
   "execution_count": 6,
   "id": "722758ba",
   "metadata": {
    "ExecuteTime": {
     "end_time": "2021-08-31T03:26:28.442948Z",
     "start_time": "2021-08-31T03:26:09.289664Z"
    }
   },
   "outputs": [
    {
     "name": "stdout",
     "output_type": "stream",
     "text": [
      "\n",
      "Enter emp name: Tom\n",
      "\n",
      "{'email': 'tom_latham019@gmail.com', 'Phone': '+1987654321', 'City': 'California'}\n",
      "\n",
      "Try again? (Y/N) : y\n",
      "\n",
      "Enter emp name: Kathy\n",
      "\n",
      "{'email': 'kathy_abram897@gmail.com', 'Phone': '+1887654321', 'City': 'New York'}\n",
      "\n",
      "Try again? (Y/N) : y\n",
      "\n",
      "Enter emp name: Kapil\n",
      "\n",
      "No Employee found\n",
      "\n",
      "Try again? (Y/N) : n\n"
     ]
    }
   ],
   "source": [
    "emp_info = {}\n",
    "\n",
    "emp_info[\"Tom\"] = {\"email\":\"tom_latham019@gmail.com\",\"Phone\":\"+1987654321\",\"City\":\"California\"}\n",
    "\n",
    "emp_info[\"Kathy\"] = {\"email\":\"kathy_abram897@gmail.com\",\"Phone\":\"+1887654321\",\"City\":\"New York\"}\n",
    "\n",
    "x='Y'\n",
    "while x in [\"y\",\"Y\"]:\n",
    "    emp_name = input(\"\\nEnter emp name: \")\n",
    "    if emp_name in emp_info.keys():\n",
    "        print(f\"\\n{emp_info[emp_name]}\")\n",
    "    else:\n",
    "        print(\"\\nNo Employee found\")\n",
    "\n",
    "    while True:\n",
    "        x = input(\"\\nTry again? (Y/N) : \")\n",
    "        if x in [\"y\",\"Y\",\"n\",\"N\"]:\n",
    "            break"
   ]
  },
  {
   "cell_type": "markdown",
   "id": "fb519a6b",
   "metadata": {},
   "source": [
    "---------------------------------------------------------------------------\n",
    "==========================================================================================================================\n",
    "### <u>Question 2</u>\n",
    "Create a dictionary out of below inputs  \n",
    "```python\n",
    "lst1 = ['emp1', 'emp2', 'emp3']  \n",
    "emp_key = ['e_name', 'e_id', 'e_sal']  \n",
    "emp1_val = ['John', 'SG101', '$10,000']  \n",
    "emp2_val = ['Smith', 'SG102', '$9,000']  \n",
    "emp3_val = ['Peter', 'SG103', '$9,500']  \n",
    "\n",
    "Expected Output:- {'emp1':{'e_name':'John', 'e_id':'SG101', 'e_sal':$10,000},             \n",
    "                   'emp2':{'e_name':'Smith', 'e_id':'SG102', 'e_sal':$9,000},\n",
    "                   'emp3':{'e_name':'Peter', 'e_id':'SG103', 'e_sal':$9,500}}\n",
    "```\n",
    "### *Solution -*"
   ]
  },
  {
   "cell_type": "code",
   "execution_count": 23,
   "id": "0e0638b0",
   "metadata": {
    "ExecuteTime": {
     "end_time": "2021-08-31T03:42:47.155787Z",
     "start_time": "2021-08-31T03:42:47.133815Z"
    },
    "scrolled": false
   },
   "outputs": [
    {
     "data": {
      "text/plain": [
       "{'emp1': {'e_name': 'John', 'e_id': 'SG101', 'e_sal': '$10,000'},\n",
       " 'emp2': {'e_name': 'Smith', 'e_id': 'SG102', 'e_sal': '$9,000'},\n",
       " 'emp3': {'e_name': 'Peter', 'e_id': 'SG103', 'e_sal': '$9,500'}}"
      ]
     },
     "execution_count": 23,
     "metadata": {},
     "output_type": "execute_result"
    }
   ],
   "source": [
    "lst1 = ['emp1', 'emp2', 'emp3']  \n",
    "emp_key = ['e_name', 'e_id', 'e_sal']  \n",
    "emp1_val = ['John', 'SG101', '$10,000']  \n",
    "emp2_val = ['Smith', 'SG102', '$9,000']  \n",
    "emp3_val = ['Peter', 'SG103', '$9,500']\n",
    "\n",
    "emp_info = dict(zip(lst1,[dict(zip(emp_key, emp1_val)), dict(zip(emp_key, emp2_val)), dict(zip(emp_key, emp3_val))]))\n",
    "\n",
    "emp_info"
   ]
  },
  {
   "cell_type": "markdown",
   "id": "01016224",
   "metadata": {},
   "source": [
    "---------------------------------------------------------------------------\n",
    "==========================================================================================================================\n",
    "### <u>Question 3</u>\n",
    "Acess the value of key 'history'  \n",
    "```python\n",
    "sampleDict = { \n",
    "   \"class\":{ \n",
    "      \"student\":{ \n",
    "         \"name\":\"Mike\",\n",
    "         \"marks\":{ \n",
    "            \"physics\":70,\n",
    "            \"history\":80\n",
    "         }\n",
    "      }\n",
    "   }\n",
    "}\n",
    "```\n",
    "### *Solution -*"
   ]
  },
  {
   "cell_type": "code",
   "execution_count": 28,
   "id": "3d809b6b",
   "metadata": {
    "ExecuteTime": {
     "end_time": "2021-08-31T03:47:17.943651Z",
     "start_time": "2021-08-31T03:47:17.925709Z"
    }
   },
   "outputs": [
    {
     "name": "stdout",
     "output_type": "stream",
     "text": [
      "Marks in History are: 80\n"
     ]
    }
   ],
   "source": [
    "sampleDict = { \n",
    "   \"class\":{ \n",
    "      \"student\":{ \n",
    "         \"name\":\"Mike\",\n",
    "         \"marks\":{ \n",
    "            \"physics\":70,\n",
    "            \"history\":80\n",
    "         }\n",
    "      }\n",
    "   }\n",
    "}\n",
    "\n",
    "print(f'Marks in History are: {sampleDict[\"class\"][\"student\"][\"marks\"][\"history\"]}')"
   ]
  },
  {
   "cell_type": "markdown",
   "id": "5b7c579a",
   "metadata": {},
   "source": [
    "---------------------------------------------------------------------------\n",
    "==========================================================================================================================\n",
    "### <u>Question 4</u>\n",
    "Initialize dictionary with default values. Inputs are:-\n",
    "```python\n",
    "employees = ['Kelly', 'Emma', 'John']\n",
    "defaults = {\"designation\": 'Application Developer', \"salary\": 8000}\n",
    "\n",
    "Expected output:- {'Kelly': {'designation': 'Application Developer', 'salary': 8000}, \n",
    "                  'Emma': {'designation': 'Application Developer', 'salary': 8000}, \n",
    "                  'John': {'designation': 'Application Developer', 'salary': 8000}}\n",
    "```\n",
    "### *Solution -*"
   ]
  },
  {
   "cell_type": "code",
   "execution_count": 39,
   "id": "0661ecec",
   "metadata": {
    "ExecuteTime": {
     "end_time": "2021-08-31T03:57:03.114917Z",
     "start_time": "2021-08-31T03:57:03.101799Z"
    }
   },
   "outputs": [
    {
     "data": {
      "text/plain": [
       "{'Kelly': {'designation': 'Application Developer', 'salary': 8000},\n",
       " 'Emma': {'designation': 'Application Developer', 'salary': 8000},\n",
       " 'John': {'designation': 'Application Developer', 'salary': 8000}}"
      ]
     },
     "execution_count": 39,
     "metadata": {},
     "output_type": "execute_result"
    }
   ],
   "source": [
    "employees = ['Kelly', 'Emma', 'John']\n",
    "defaults = {\"designation\": 'Application Developer', \"salary\": 8000}\n",
    "\n",
    "emp_info = {i:defaults for i in employees}\n",
    "\n",
    "emp_info"
   ]
  },
  {
   "cell_type": "markdown",
   "id": "e022f3d5",
   "metadata": {},
   "source": [
    "---------------------------------------------------------------------------\n",
    "==========================================================================================================================\n",
    "### <u>Question 5</u>\n",
    "In gene expression, mRNA is transcribed from a DNA template.  \n",
    "The 4 nucleotide bases of A, T, C, G corresponds to the U, A, G, C bases of the mRNA.  \n",
    "Write a function that returns the mRNA transcript given the sequence of a DNA strand.  \n",
    "  \n",
    "Use a dictionary to provide the mapping of DNA to RNA bases.  \n",
    "### *Solution -*"
   ]
  },
  {
   "cell_type": "code",
   "execution_count": 48,
   "id": "73bf8e86",
   "metadata": {
    "ExecuteTime": {
     "end_time": "2021-08-31T04:40:04.966195Z",
     "start_time": "2021-08-31T04:39:28.121822Z"
    }
   },
   "outputs": [
    {
     "name": "stdout",
     "output_type": "stream",
     "text": [
      "\n",
      "Enter DNA: A\n",
      "\n",
      "RNA Translation: U\n",
      "\n",
      "Try again? (Y/N) : y\n",
      "\n",
      "Enter DNA: T\n",
      "\n",
      "RNA Translation: A\n",
      "\n",
      "Try again? (Y/N) : y\n",
      "\n",
      "Enter DNA: C\n",
      "\n",
      "RNA Translation: G\n",
      "\n",
      "Try again? (Y/N) : y\n",
      "\n",
      "Enter DNA: G\n",
      "\n",
      "RNA Translation: C\n",
      "\n",
      "Try again? (Y/N) : y\n",
      "\n",
      "Enter DNA: X\n",
      "\n",
      "KeyError : X is not a DNA base.\n",
      "\n",
      "\n",
      "Try again? (Y/N) : n\n"
     ]
    }
   ],
   "source": [
    "def dna_rna(d_na):\n",
    "    dna = ('A','T','C','G')\n",
    "    rna = ('U','A','G','C')\n",
    "    return(dict(zip(dna,rna))[d_na])\n",
    "\n",
    "x='Y'\n",
    "while x in [\"y\",\"Y\"]:\n",
    "    try:\n",
    "        d_na = input(\"\\nEnter DNA: \")\n",
    "        print(f\"\\nRNA Translation: {dna_rna(d_na)}\")\n",
    "\n",
    "        while True:\n",
    "            x = input(\"\\nTry again? (Y/N) : \")\n",
    "            if x in [\"y\",\"Y\",\"n\",\"N\"]:\n",
    "                break\n",
    "            \n",
    "    except Exception as e:\n",
    "        print (\"\\n\"+e.__class__.__name__,f\": {d_na} is not a DNA base.\\n\")\n",
    "        x = input(\"\\nTry again? (Y/N) : \")\n",
    "        if x in [\"y\",\"Y\",\"n\",\"N\"]:\n",
    "            break"
   ]
  },
  {
   "cell_type": "markdown",
   "id": "6f6fb7fe",
   "metadata": {},
   "source": [
    "---------------------------------------------------------------------------\n",
    "==========================================================================================================================\n",
    "### <u>Question 6</u>\n",
    "Write a function which takes a word as input and returns a dictionary with letters as key and no of time letters are repeated as value.  \n",
    "```python\n",
    "In - count_letter('google.com')  \n",
    "Out - {'g': 2, 'o': 3, 'l': 1, 'e': 1, '.': 1, 'c': 1, 'm': 1}\n",
    "```\n",
    "### *Solution -*"
   ]
  },
  {
   "cell_type": "code",
   "execution_count": 50,
   "id": "56a96488",
   "metadata": {
    "ExecuteTime": {
     "end_time": "2021-08-31T04:47:15.216359Z",
     "start_time": "2021-08-31T04:47:15.197235Z"
    }
   },
   "outputs": [
    {
     "name": "stdout",
     "output_type": "stream",
     "text": [
      "{'g': 2, 'o': 3, 'l': 1, 'e': 1, '.': 1, 'c': 1, 'm': 1}\n"
     ]
    }
   ],
   "source": [
    "def count_letter(string):\n",
    "    return {i:string.count(i) for i in string}\n",
    "\n",
    "print(count_letter('google.com')) "
   ]
  },
  {
   "cell_type": "markdown",
   "id": "1b4006bc",
   "metadata": {},
   "source": [
    "---------------------------------------------------------------------------\n",
    "==========================================================================================================================\n",
    "### <u>Question 7</u>\n",
    "A DNA strand consisting of the 4 nucleotide bases is usually represented with a string of letters: A,T, C, G.  \n",
    "Write a function that computes the base composition of a given DNA sequence.  \n",
    "```python\n",
    "In - baseComposition(\"CTATCGGCACCCTTTCAGCA\")\n",
    "Out - {'A': 4, 'C': 8, 'T': 5,  'G': 3 }\n",
    "    \n",
    "In - baseComposition(\"AGT\")\n",
    "Out - {'A': 1, 'C': 0, 'T': 1,  'G': 1 }\n",
    "```\n",
    "### *Solution -*"
   ]
  },
  {
   "cell_type": "code",
   "execution_count": 62,
   "id": "1bc49145",
   "metadata": {
    "ExecuteTime": {
     "end_time": "2021-08-31T05:01:14.440589Z",
     "start_time": "2021-08-31T05:01:03.383198Z"
    }
   },
   "outputs": [
    {
     "name": "stdout",
     "output_type": "stream",
     "text": [
      "\n",
      "Enter DNA strand: CTATCGGCACCCTTTCAGCA\n",
      "\n",
      "Base Composition is => {'A': 4, 'C': 8, 'T': 5, 'G': 3}\n",
      "\n",
      "Try again? (Y/N) : y\n",
      "\n",
      "Enter DNA strand: AGT\n",
      "\n",
      "Base Composition is => {'A': 1, 'C': 0, 'T': 1, 'G': 1}\n",
      "\n",
      "Try again? (Y/N) : y\n",
      "\n",
      "Enter DNA strand: PURE\n",
      "\n",
      "Base Composition is => {'A': 0, 'C': 0, 'T': 0, 'G': 0}\n",
      "\n",
      "Try again? (Y/N) : n\n"
     ]
    }
   ],
   "source": [
    "def baseComposition(d_na):\n",
    "    dna = {'A':0,'C':0,'T':0,'G':0}\n",
    "    for i in dna.keys():\n",
    "        dna[i] = d_na.count(i)\n",
    "    return dna\n",
    "\n",
    "x='Y'\n",
    "while x in [\"y\",\"Y\"]:\n",
    "    d_na = input(\"\\nEnter DNA strand: \")\n",
    "    print(f\"\\nBase Composition is => {baseComposition(d_na)}\")\n",
    "\n",
    "    while True:\n",
    "        x = input(\"\\nTry again? (Y/N) : \")\n",
    "        if x in [\"y\",\"Y\",\"n\",\"N\"]:\n",
    "            break"
   ]
  },
  {
   "cell_type": "markdown",
   "id": "a2beec8c",
   "metadata": {},
   "source": [
    "---------------------------------------------------------------------------\n",
    "==========================================================================================================================\n",
    "### <u>Question 8</u>\n",
    "[MCQ] Suppose \"d\" is an empty dictionary, which statement does not assign \"d\" with {\"Name\":\"Tom\"}?   \n",
    "```python\n",
    "1. d = {\"Name\": \"Tom\" }  \n",
    "2. d[\"Name\"] = \"Tom\"  \n",
    "3. d.update({\"Name\": \"Tom\" })  \n",
    "4. d.setdefault(\"Name\", \"Tom\")  \n",
    "5. None of the above.  \n",
    "```\n",
    "### *Solution -*\n",
    "+ Correct option is ```5. None of the above```\n",
    "+ All 4 statements will assign \"d\" with {\"Name\":\"Tom\"}.  \n",
    "+ Same can be verified using below code:"
   ]
  },
  {
   "cell_type": "code",
   "execution_count": 76,
   "id": "145ebbbb",
   "metadata": {
    "ExecuteTime": {
     "end_time": "2021-08-31T07:41:18.922754Z",
     "start_time": "2021-08-31T07:41:18.917674Z"
    }
   },
   "outputs": [
    {
     "name": "stdout",
     "output_type": "stream",
     "text": [
      "{'Name': 'Tom'}\n"
     ]
    }
   ],
   "source": [
    "d = {}\n",
    "d = {\"Name\": \"Tom\" }\n",
    "print(d)"
   ]
  },
  {
   "cell_type": "code",
   "execution_count": 77,
   "id": "daee74e3",
   "metadata": {
    "ExecuteTime": {
     "end_time": "2021-08-31T07:41:30.427856Z",
     "start_time": "2021-08-31T07:41:30.410646Z"
    }
   },
   "outputs": [
    {
     "name": "stdout",
     "output_type": "stream",
     "text": [
      "{'Name': 'Tom'}\n"
     ]
    }
   ],
   "source": [
    "d = {}\n",
    "d[\"Name\"] = \"Tom\"\n",
    "print(d)"
   ]
  },
  {
   "cell_type": "code",
   "execution_count": 78,
   "id": "6954fbd0",
   "metadata": {
    "ExecuteTime": {
     "end_time": "2021-08-31T07:41:41.875150Z",
     "start_time": "2021-08-31T07:41:41.866142Z"
    }
   },
   "outputs": [
    {
     "name": "stdout",
     "output_type": "stream",
     "text": [
      "{'Name': 'Tom'}\n"
     ]
    }
   ],
   "source": [
    "d = {}\n",
    "d.update({\"Name\": \"Tom\" })\n",
    "print(d)"
   ]
  },
  {
   "cell_type": "code",
   "execution_count": 79,
   "id": "8cdbf493",
   "metadata": {
    "ExecuteTime": {
     "end_time": "2021-08-31T07:41:49.713876Z",
     "start_time": "2021-08-31T07:41:49.699170Z"
    }
   },
   "outputs": [
    {
     "name": "stdout",
     "output_type": "stream",
     "text": [
      "{'Name': 'Tom'}\n"
     ]
    }
   ],
   "source": [
    "d = {}\n",
    "d.setdefault(\"Name\", \"Tom\")\n",
    "print(d)"
   ]
  },
  {
   "cell_type": "markdown",
   "id": "0da2f2d8",
   "metadata": {},
   "source": [
    "---------------------------------------------------------------------------\n",
    "==========================================================================================================================\n",
    "### <u>Question 9</u>\n",
    "[MCQ] d = {\"a\":1, \"b\":2}. Which of the statements returns [1,2]? \n",
    "```python\n",
    "1. d.keys()\n",
    "2. d.values()\n",
    "3. d.items()\n",
    "4. d.popitem()\n",
    "5. None of the above.\n",
    "```\n",
    "### *Solution -*\n",
    "+ Correct option is ```2. d.values()```  \n",
    "+ Same can be verified using below code:"
   ]
  },
  {
   "cell_type": "code",
   "execution_count": 89,
   "id": "cbed0fa8",
   "metadata": {
    "ExecuteTime": {
     "end_time": "2021-08-31T08:31:52.164965Z",
     "start_time": "2021-08-31T08:31:52.150032Z"
    }
   },
   "outputs": [
    {
     "data": {
      "text/plain": [
       "dict_keys(['a', 'b'])"
      ]
     },
     "execution_count": 89,
     "metadata": {},
     "output_type": "execute_result"
    }
   ],
   "source": [
    "d = {\"a\":1, \"b\":2}\n",
    "d.keys()"
   ]
  },
  {
   "cell_type": "code",
   "execution_count": 90,
   "id": "730f8f87",
   "metadata": {
    "ExecuteTime": {
     "end_time": "2021-08-31T08:32:00.899696Z",
     "start_time": "2021-08-31T08:32:00.892066Z"
    }
   },
   "outputs": [
    {
     "data": {
      "text/plain": [
       "dict_values([1, 2])"
      ]
     },
     "execution_count": 90,
     "metadata": {},
     "output_type": "execute_result"
    }
   ],
   "source": [
    "d = {\"a\":1, \"b\":2}\n",
    "d.values()"
   ]
  },
  {
   "cell_type": "code",
   "execution_count": 91,
   "id": "cee690f9",
   "metadata": {
    "ExecuteTime": {
     "end_time": "2021-08-31T08:32:13.345178Z",
     "start_time": "2021-08-31T08:32:13.329837Z"
    }
   },
   "outputs": [
    {
     "data": {
      "text/plain": [
       "dict_items([('a', 1), ('b', 2)])"
      ]
     },
     "execution_count": 91,
     "metadata": {},
     "output_type": "execute_result"
    }
   ],
   "source": [
    "d = {\"a\":1, \"b\":2}\n",
    "d.items()"
   ]
  },
  {
   "cell_type": "code",
   "execution_count": 92,
   "id": "fa4585d8",
   "metadata": {
    "ExecuteTime": {
     "end_time": "2021-08-31T08:32:28.437976Z",
     "start_time": "2021-08-31T08:32:28.427419Z"
    }
   },
   "outputs": [
    {
     "data": {
      "text/plain": [
       "('b', 2)"
      ]
     },
     "execution_count": 92,
     "metadata": {},
     "output_type": "execute_result"
    }
   ],
   "source": [
    "d = {\"a\":1, \"b\":2}\n",
    "d.popitem()"
   ]
  },
  {
   "cell_type": "markdown",
   "id": "f177cda6",
   "metadata": {},
   "source": [
    "---------------------------------------------------------------------------\n",
    "==========================================================================================================================\n",
    "### <u>Question 10</u>\n",
    "[MCQ] Which of the following declarations is not valid for 'dict' type?  \n",
    "```python\n",
    "1. d = {\"Name\": \"Tom\" }\n",
    "2. d = { (1,3,4): 4.5 }\n",
    "3. d = { [\"First\", \"Last\"]: (1,3) }\n",
    "4. d = { 1: 0.4 }\n",
    "5. None of the above\n",
    "```\n",
    "### *Solution -*\n",
    "+ Option 3 is invalid ```3. d = { [\"First\", \"Last\"]: (1,3) }```\n",
    "+ For every key in Dictionary Python generates a hash value for the key and by this hash value, it can track its elements.\n",
    "+ Lists are mutable objects which means that we can change values inside a list append or delete values of the list . So if a hash function is generated from a list and then the items of the lists changed the dictionary will generate a new hash value for this list and could not find it.\n",
    "+ Same can be verified using below code:"
   ]
  },
  {
   "cell_type": "code",
   "execution_count": 100,
   "id": "6b813eaa",
   "metadata": {
    "ExecuteTime": {
     "end_time": "2021-08-31T15:52:31.688344Z",
     "start_time": "2021-08-31T15:52:31.674900Z"
    }
   },
   "outputs": [
    {
     "data": {
      "text/plain": [
       "{'Name': 'Tom'}"
      ]
     },
     "execution_count": 100,
     "metadata": {},
     "output_type": "execute_result"
    }
   ],
   "source": [
    "d = {\"Name\": \"Tom\" }\n",
    "d"
   ]
  },
  {
   "cell_type": "code",
   "execution_count": 101,
   "id": "f87ad341",
   "metadata": {
    "ExecuteTime": {
     "end_time": "2021-08-31T15:52:43.291940Z",
     "start_time": "2021-08-31T15:52:43.278871Z"
    }
   },
   "outputs": [
    {
     "data": {
      "text/plain": [
       "{(1, 3, 4): 4.5}"
      ]
     },
     "execution_count": 101,
     "metadata": {},
     "output_type": "execute_result"
    }
   ],
   "source": [
    "d = { (1,3,4): 4.5 }\n",
    "d"
   ]
  },
  {
   "cell_type": "code",
   "execution_count": 102,
   "id": "dd1cb1b0",
   "metadata": {
    "ExecuteTime": {
     "end_time": "2021-08-31T15:52:51.637490Z",
     "start_time": "2021-08-31T15:52:51.614439Z"
    }
   },
   "outputs": [
    {
     "ename": "TypeError",
     "evalue": "unhashable type: 'list'",
     "output_type": "error",
     "traceback": [
      "\u001b[1;31m---------------------------------------------------------------------------\u001b[0m",
      "\u001b[1;31mTypeError\u001b[0m                                 Traceback (most recent call last)",
      "\u001b[1;32m<ipython-input-102-086d6828742e>\u001b[0m in \u001b[0;36m<module>\u001b[1;34m\u001b[0m\n\u001b[1;32m----> 1\u001b[1;33m \u001b[0md\u001b[0m \u001b[1;33m=\u001b[0m \u001b[1;33m{\u001b[0m \u001b[1;33m[\u001b[0m\u001b[1;34m\"First\"\u001b[0m\u001b[1;33m,\u001b[0m \u001b[1;34m\"Last\"\u001b[0m\u001b[1;33m]\u001b[0m\u001b[1;33m:\u001b[0m \u001b[1;33m(\u001b[0m\u001b[1;36m1\u001b[0m\u001b[1;33m,\u001b[0m\u001b[1;36m3\u001b[0m\u001b[1;33m)\u001b[0m \u001b[1;33m}\u001b[0m\u001b[1;33m\u001b[0m\u001b[1;33m\u001b[0m\u001b[0m\n\u001b[0m\u001b[0;32m      2\u001b[0m \u001b[0md\u001b[0m\u001b[1;33m\u001b[0m\u001b[1;33m\u001b[0m\u001b[0m\n",
      "\u001b[1;31mTypeError\u001b[0m: unhashable type: 'list'"
     ]
    }
   ],
   "source": [
    "d = { [\"First\", \"Last\"]: (1,3) }\n",
    "d"
   ]
  },
  {
   "cell_type": "code",
   "execution_count": 103,
   "id": "b7c5953d",
   "metadata": {
    "ExecuteTime": {
     "end_time": "2021-08-31T15:52:58.584248Z",
     "start_time": "2021-08-31T15:52:58.576503Z"
    }
   },
   "outputs": [
    {
     "data": {
      "text/plain": [
       "{1: 0.4}"
      ]
     },
     "execution_count": 103,
     "metadata": {},
     "output_type": "execute_result"
    }
   ],
   "source": [
    "d = { 1: 0.4 }\n",
    "d"
   ]
  },
  {
   "cell_type": "markdown",
   "id": "d3fb0ee7",
   "metadata": {},
   "source": [
    "---------------------------------------------------------------------------\n",
    "==========================================================================================================================\n",
    "### <u>Question 11</u>\n",
    "Write a function reverseLookup(dictionary, value) that takes in a dictionary and a value as arguments and returns a sorted list of all keys that contains the value.  \n",
    "The function will return an empty list if no match is found.  \n",
    "```python\n",
    "In - reverseLookup({'a':1, 'b':2, 'c':2}, 1)\n",
    "Out - ['a']\n",
    "In - reverseLookup({'a':1, 'b':2, 'c':2}, 2)\n",
    "Out - ['b', 'c']\n",
    "In - reverseLookup({'a':1, 'b':2, 'c':2}, 3)\n",
    "Out - []\n",
    "```\n",
    "### *Solution -*"
   ]
  },
  {
   "cell_type": "code",
   "execution_count": 128,
   "id": "26cd3b5b",
   "metadata": {
    "ExecuteTime": {
     "end_time": "2021-08-31T18:08:05.250404Z",
     "start_time": "2021-08-31T18:07:15.483607Z"
    }
   },
   "outputs": [
    {
     "name": "stdout",
     "output_type": "stream",
     "text": [
      "\n",
      "Enter a Dictionary: {'a':1, 'b':2, 'c':2}\n",
      "\n",
      "Enter a Value: 1\n",
      "\n",
      "Keys for '1' are: ['a']\n",
      "\n",
      "Try again? (Y/N) : y\n",
      "\n",
      "Enter a Dictionary: {'a':1, 'b':2, 'c':2}\n",
      "\n",
      "Enter a Value: 2\n",
      "\n",
      "Keys for '2' are: ['b', 'c']\n",
      "\n",
      "Try again? (Y/N) : y\n",
      "\n",
      "Enter a Dictionary: {'a':1, 'b':2, 'c':2}\n",
      "\n",
      "Enter a Value: 3\n",
      "\n",
      "Keys for '3' are not found: []\n",
      "\n",
      "Try again? (Y/N) : n\n"
     ]
    }
   ],
   "source": [
    "def reverseLookup(dictionary, value):\n",
    "    return sorted([k for k,v in dictionary.items() if v==value])\n",
    "\n",
    "x = 'Y'\n",
    "while x in [\"y\",\"Y\"]:\n",
    "    try:\n",
    "        _dict = eval(input(\"\\nEnter a Dictionary: \"))\n",
    "        _val = eval(input(\"\\nEnter a Value: \"))\n",
    "\n",
    "        if type(_dict) != dict:\n",
    "            raise Exception\n",
    "        \n",
    "        _keys = reverseLookup(_dict,_val)\n",
    "        \n",
    "        if len(_keys) != 0:\n",
    "            print(f\"\\nKeys for '{_val}' are: {_keys}\")\n",
    "        else:\n",
    "            print(f\"\\nKeys for '{_val}' are not found: {_keys}\")\n",
    "           \n",
    "        while True:\n",
    "            x = input(\"\\nTry again? (Y/N) : \")\n",
    "            if x in [\"y\",\"Y\",\"n\",\"N\"]:\n",
    "                break\n",
    "    except Exception as e:\n",
    "        print (\"\\n\"+e.__class__.__name__,f\": Not a Dictionary, Wrong data input.\\n\")\n",
    "        while True:\n",
    "            x = input(\"\\nTry again? (Y/N) : \")\n",
    "            if x in [\"y\",\"Y\",\"n\",\"N\"]:\n",
    "                break"
   ]
  },
  {
   "cell_type": "markdown",
   "id": "010231a0",
   "metadata": {},
   "source": [
    "---------------------------------------------------------------------------\n",
    "==========================================================================================================================\n",
    "### <u>Question 12</u>\n",
    "Write a function invertDictionary(d) that takes in a dictionary as argument and return a dictionary that inverts the keys and the values of the original dictionary.\n",
    "```python\n",
    "In - invertDictionary({'a':1, 'b':2, 'c':3, 'd':2})\n",
    "Out - {1: ['a'], 2: ['b', 'd'], 3: ['c']}\n",
    "In - invertDictionary({'a':3, 'b':3, 'c':3})\n",
    "Out - {3: ['a', 'c', 'b']}\n",
    "In - invertDictionary({'a':2, 'b':1, 'c':2, 'd':1})\n",
    "Out - {1: ['b', 'd'], 2: ['a', 'c']} \n",
    "```\n",
    "### *Solution -*"
   ]
  },
  {
   "cell_type": "code",
   "execution_count": 134,
   "id": "61e65695",
   "metadata": {
    "ExecuteTime": {
     "end_time": "2021-08-31T18:21:25.257639Z",
     "start_time": "2021-08-31T18:20:38.471237Z"
    }
   },
   "outputs": [
    {
     "name": "stdout",
     "output_type": "stream",
     "text": [
      "\n",
      "Enter a Dictionary: {'a':1, 'b':2, 'c':3, 'd':2}\n",
      "\n",
      "Inverted Dictionary: {1: ['a'], 2: ['b', 'd'], 3: ['c']}\n",
      "\n",
      "Try again? (Y/N) : y\n",
      "\n",
      "Enter a Dictionary: {'a':3, 'b':3, 'c':3}\n",
      "\n",
      "Inverted Dictionary: {3: ['a', 'b', 'c']}\n",
      "\n",
      "Try again? (Y/N) : y\n",
      "\n",
      "Enter a Dictionary: {'a':2, 'b':1, 'c':2, 'd':1}\n",
      "\n",
      "Inverted Dictionary: {2: ['a', 'c'], 1: ['b', 'd']}\n",
      "\n",
      "Try again? (Y/N) : n\n"
     ]
    }
   ],
   "source": [
    "def invertLookup(dictionary):\n",
    "    return {v:sorted([i for i,j in dictionary.items() if j==v]) for k,v in dictionary.items()}\n",
    "\n",
    "x = 'Y'\n",
    "while x in [\"y\",\"Y\"]:\n",
    "    try:\n",
    "        _dict = eval(input(\"\\nEnter a Dictionary: \"))\n",
    "\n",
    "        if type(_dict) != dict:\n",
    "            raise Exception\n",
    "        \n",
    "        print(f\"\\nInverted Dictionary: {invertLookup(_dict)}\")\n",
    "           \n",
    "        while True:\n",
    "            x = input(\"\\nTry again? (Y/N) : \")\n",
    "            if x in [\"y\",\"Y\",\"n\",\"N\"]:\n",
    "                break\n",
    "    except Exception as e:\n",
    "        print (\"\\n\"+e.__class__.__name__,f\": Not a Dictionary, Wrong data input.\\n\")\n",
    "        while True:\n",
    "            x = input(\"\\nTry again? (Y/N) : \")\n",
    "            if x in [\"y\",\"Y\",\"n\",\"N\"]:\n",
    "                break"
   ]
  },
  {
   "cell_type": "markdown",
   "id": "4256f994",
   "metadata": {},
   "source": [
    "---------------------------------------------------------------------------\n",
    "==========================================================================================================================\n",
    "### <u>Question 13</u>\n",
    "Write a function that converts a sparse vector into a dictionary as described above.\n",
    "```python\n",
    "In - convertVector([1, 0, 0, 2, 0, 0, 0, 3, 0, 0, 0, 0, 4])\n",
    "Out - {0: 1, 3: 2, 7: 3, 12: 4}\n",
    "In - convertVector([1, 0, 1 , 0, 2, 0, 1, 0, 0, 1, 0])\n",
    "Out - {0: 1, 2: 1, 4: 2, 6: 1, 9: 1}\n",
    "In - convertVector([0, 0, 0, 0, 0])\n",
    "Out - {}\n",
    "```\n",
    "### *Solution -*"
   ]
  },
  {
   "cell_type": "code",
   "execution_count": 137,
   "id": "6d44f769",
   "metadata": {
    "ExecuteTime": {
     "end_time": "2021-08-31T18:31:44.806449Z",
     "start_time": "2021-08-31T18:31:13.145859Z"
    }
   },
   "outputs": [
    {
     "name": "stdout",
     "output_type": "stream",
     "text": [
      "\n",
      "Enter a Sparse Vector: [1, 0, 0, 2, 0, 0, 0, 3, 0, 0, 0, 0, 4]\n",
      "\n",
      "Converted Vector: {0: 1, 3: 2, 7: 3, 12: 4}\n",
      "\n",
      "Try again? (Y/N) : y\n",
      "\n",
      "Enter a Sparse Vector: [1, 0, 1 , 0, 2, 0, 1, 0, 0, 1, 0]\n",
      "\n",
      "Converted Vector: {0: 1, 4: 2}\n",
      "\n",
      "Try again? (Y/N) : y\n",
      "\n",
      "Enter a Sparse Vector: [0, 0, 0, 0, 0]\n",
      "\n",
      "Converted Vector: {}\n",
      "\n",
      "Try again? (Y/N) : n\n"
     ]
    }
   ],
   "source": [
    "def convertVector(sparseVector):\n",
    "    return {sparseVector.index(i):i for i in sparseVector if i != 0}\n",
    "\n",
    "x = 'Y'\n",
    "while x in [\"y\",\"Y\"]:\n",
    "    try:\n",
    "        _sparseVector = eval(input(\"\\nEnter a Sparse Vector: \"))\n",
    "\n",
    "        if type(_sparseVector) != list:\n",
    "            raise Exception\n",
    "\n",
    "        print(f\"\\nConverted Vector: {convertVector(_sparseVector)}\")\n",
    "\n",
    "        while True:\n",
    "            x = input(\"\\nTry again? (Y/N) : \")\n",
    "            if x in [\"y\",\"Y\",\"n\",\"N\"]:\n",
    "                break\n",
    "    except Exception as e:\n",
    "        print (\"\\n\"+e.__class__.__name__,f\": Not a List, Wrong data input.\\n\")\n",
    "        while True:\n",
    "            x = input(\"\\nTry again? (Y/N) : \")\n",
    "            if x in [\"y\",\"Y\",\"n\",\"N\"]:\n",
    "                break"
   ]
  },
  {
   "cell_type": "markdown",
   "id": "ebc32309",
   "metadata": {},
   "source": [
    "---------------------------------------------------------------------------\n",
    "==========================================================================================================================\n",
    "### <u>Question 14</u>\n",
    "Write a function that converts a dictionary back to its sparse vector representation.\n",
    "```python\n",
    "In - convertDictionary({0: 1, 3: 2, 7: 3, 12: 4})\n",
    "Out - [1, 0, 0, 2, 0, 0, 0, 3, 0, 0, 0, 0, 4]\n",
    "In - convertDictionary({0: 1, 2: 1, 4: 2, 6: 1, 9: 1})\n",
    "Out - [1, 0, 1, 0, 2, 0, 1, 0, 0, 1]\n",
    "In - convertDictionary({})\n",
    "Out - []\n",
    "```\n",
    "### *Solution -*"
   ]
  },
  {
   "cell_type": "code",
   "execution_count": 146,
   "id": "30c8bb77",
   "metadata": {
    "ExecuteTime": {
     "end_time": "2021-08-31T18:55:24.032269Z",
     "start_time": "2021-08-31T18:55:00.033791Z"
    }
   },
   "outputs": [
    {
     "name": "stdout",
     "output_type": "stream",
     "text": [
      "\n",
      "Enter a Dictionary: {0: 1, 3: 2, 7: 3, 12: 4}\n",
      "\n",
      "Converted Sparse Vector: [1, 0, 0, 2, 0, 0, 0, 3, 0, 0, 0, 0, 4]\n",
      "\n",
      "Try again? (Y/N) : y\n",
      "\n",
      "Enter a Dictionary: {0: 1, 2: 1, 4: 2, 6: 1, 9: 1}\n",
      "\n",
      "Converted Sparse Vector: [1, 0, 1, 0, 2, 0, 1, 0, 0, 1]\n",
      "\n",
      "Try again? (Y/N) : y\n",
      "\n",
      "Enter a Dictionary: {}\n",
      "\n",
      "Converted Sparse Vector: []\n",
      "\n",
      "Try again? (Y/N) : n\n"
     ]
    }
   ],
   "source": [
    "def convertDictionary(dictionary):\n",
    "    return [dictionary.get(i, 0) for i in range(max(dictionary)+1)]\n",
    "\n",
    "x = 'Y'\n",
    "while x in [\"y\",\"Y\"]:\n",
    "    _dict = eval(input(\"\\nEnter a Dictionary: \"))\n",
    "    \n",
    "    if not _dict:\n",
    "        print(f\"\\nConverted Sparse Vector: {[]}\")\n",
    "    else:\n",
    "        print(f\"\\nConverted Sparse Vector: {convertDictionary(_dict)}\")\n",
    "\n",
    "    while True:\n",
    "        x = input(\"\\nTry again? (Y/N) : \")\n",
    "        if x in [\"y\",\"Y\",\"n\",\"N\"]:\n",
    "            break"
   ]
  },
  {
   "cell_type": "markdown",
   "id": "35e4e886",
   "metadata": {},
   "source": [
    "---------------------------------------------------------------------------\n",
    "==========================================================================================================================\n",
    "### <u>Question 15</u>\n",
    "Given a Python dictionary, Change Brad’s salary to 8500\n",
    "```python\n",
    "sampleDict = {\n",
    "     'emp1': {'name': 'Jhon', 'salary': 7500},\n",
    "     'emp2': {'name': 'Emma', 'salary': 8000},\n",
    "     'emp3': {'name': 'Brad', 'salary': 6500}\n",
    "}\n",
    "```\n",
    "Expected Output\n",
    "```python\n",
    "sampleDict = {\n",
    "     'emp1': {'name': 'Jhon', 'salary': 7500},\n",
    "     'emp2': {'name': 'Emma', 'salary': 8000},\n",
    "     'emp3': {'name': 'Brad', 'salary': 8500}\n",
    "}\n",
    "```\n",
    "### *Solution -*"
   ]
  },
  {
   "cell_type": "code",
   "execution_count": 152,
   "id": "ffd5437f",
   "metadata": {
    "ExecuteTime": {
     "end_time": "2021-08-31T19:06:59.072438Z",
     "start_time": "2021-08-31T19:06:59.047811Z"
    }
   },
   "outputs": [
    {
     "data": {
      "text/plain": [
       "{'emp1': {'name': 'Jhon', 'salary': 7500},\n",
       " 'emp2': {'name': 'Emma', 'salary': 8000},\n",
       " 'emp3': {'name': 'Brad', 'salary': 8500}}"
      ]
     },
     "execution_count": 152,
     "metadata": {},
     "output_type": "execute_result"
    }
   ],
   "source": [
    "sampleDict = {\n",
    "     'emp1': {'name': 'Jhon', 'salary': 7500},\n",
    "     'emp2': {'name': 'Emma', 'salary': 8000},\n",
    "     'emp3': {'name': 'Brad', 'salary': 6500}\n",
    "}\n",
    "\n",
    "sampleDict['emp3'].update({'salary' : 8500})\n",
    "\n",
    "sampleDict"
   ]
  },
  {
   "cell_type": "markdown",
   "id": "28bbe17a",
   "metadata": {},
   "source": [
    "---------------------------------------------------------------------------\n",
    "==========================================================================================================================\n",
    "### <u>Question 16</u>\n",
    "Get the key corresponding to the minimum value from the following dictionary\n",
    "```python\n",
    "sampleDict = {\n",
    "  'Physics': 82,\n",
    "  'Math': 65,\n",
    "  'history': 75\n",
    "}\n",
    "```\n",
    "Expected Output\n",
    "```python\n",
    "Math\n",
    "```\n",
    "### *Solution -*"
   ]
  },
  {
   "cell_type": "code",
   "execution_count": 154,
   "id": "c03600c5",
   "metadata": {
    "ExecuteTime": {
     "end_time": "2021-09-01T03:09:50.071047Z",
     "start_time": "2021-09-01T03:09:50.061159Z"
    }
   },
   "outputs": [
    {
     "name": "stdout",
     "output_type": "stream",
     "text": [
      "Math\n"
     ]
    }
   ],
   "source": [
    "sampleDict = {\n",
    "  'Physics': 82,\n",
    "  'Math': 65,\n",
    "  'history': 75\n",
    "}\n",
    "\n",
    "print(min(sampleDict))"
   ]
  },
  {
   "cell_type": "markdown",
   "id": "162d2656",
   "metadata": {},
   "source": [
    "---------------------------------------------------------------------------\n",
    "==========================================================================================================================\n",
    "### <u>Question 17</u>\n",
    "Rename key city to location in the following dictionary\n",
    "```python\n",
    "sampleDict = {\n",
    "  \"name\": \"Kelly\",\n",
    "  \"age\":25,\n",
    "  \"salary\": 8000,\n",
    "  \"city\": \"New york\"\n",
    "}\n",
    "```\n",
    "Expected Output\n",
    "```python\n",
    "{\n",
    "  \"name\": \"Kelly\",\n",
    "  \"age\":25,\n",
    "  \"salary\": 8000,\n",
    "  \"location\": \"New york\"\n",
    "}\n",
    "```\n",
    "### *Solution -*"
   ]
  },
  {
   "cell_type": "code",
   "execution_count": 161,
   "id": "75ad1f4a",
   "metadata": {
    "ExecuteTime": {
     "end_time": "2021-09-01T03:18:41.131006Z",
     "start_time": "2021-09-01T03:18:41.118408Z"
    }
   },
   "outputs": [
    {
     "data": {
      "text/plain": [
       "{'name': 'Kelly', 'age': 25, 'salary': 8000, 'location': 'New york'}"
      ]
     },
     "execution_count": 161,
     "metadata": {},
     "output_type": "execute_result"
    }
   ],
   "source": [
    "sampleDict = {\n",
    "  \"name\": \"Kelly\",\n",
    "  \"age\":25,\n",
    "  \"salary\": 8000,\n",
    "  \"city\": \"New york\"\n",
    "}\n",
    "\n",
    "sampleDict[\"location\"] = sampleDict.pop(\"city\")\n",
    "\n",
    "sampleDict"
   ]
  },
  {
   "cell_type": "markdown",
   "id": "05a4b299",
   "metadata": {},
   "source": [
    "---------------------------------------------------------------------------\n",
    "==========================================================================================================================\n",
    "### <u>Question 18</u>\n",
    "Check if a value 200 exists in a dictionary\n",
    "```python\n",
    "sampleDict = {'a': 100, 'b': 200, 'c': 300}\n",
    "```\n",
    "Expected Output: ```True```\n",
    "### *Solution -*"
   ]
  },
  {
   "cell_type": "code",
   "execution_count": 162,
   "id": "b51502df",
   "metadata": {
    "ExecuteTime": {
     "end_time": "2021-09-01T03:19:03.593012Z",
     "start_time": "2021-09-01T03:19:03.585144Z"
    }
   },
   "outputs": [
    {
     "name": "stdout",
     "output_type": "stream",
     "text": [
      "True\n"
     ]
    }
   ],
   "source": [
    "sampleDict = {'a': 100, 'b': 200, 'c': 300}\n",
    "\n",
    "if 200 in sampleDict.values():\n",
    "    print(True)\n",
    "else:\n",
    "    print(False)"
   ]
  },
  {
   "cell_type": "markdown",
   "id": "447dea31",
   "metadata": {},
   "source": [
    "---------------------------------------------------------------------------\n",
    "==========================================================================================================================\n",
    "### <u>Question 19</u>\n",
    "Delete set of keys from Python Dictionary\n",
    "```python\n",
    "sampleDict = {\n",
    "  \"name\": \"Kelly\",\n",
    "  \"age\":25,\n",
    "  \"salary\": 8000,\n",
    "  \"city\": \"New york\" \n",
    "}\n",
    "keysToRemove = [\"name\", \"salary\"]\n",
    "```\n",
    "Expected Output:\n",
    "```{'city': 'New york', 'age': 25}```\n",
    "### *Solution -*"
   ]
  },
  {
   "cell_type": "code",
   "execution_count": 173,
   "id": "b4335183",
   "metadata": {
    "ExecuteTime": {
     "end_time": "2021-09-01T03:27:49.446824Z",
     "start_time": "2021-09-01T03:27:49.438661Z"
    }
   },
   "outputs": [
    {
     "name": "stdout",
     "output_type": "stream",
     "text": [
      "{'age': 25, 'city': 'New york'}\n"
     ]
    }
   ],
   "source": [
    "sampleDict = {\n",
    "  \"name\": \"Kelly\",\n",
    "  \"age\":25,\n",
    "  \"salary\": 8000,\n",
    "  \"city\": \"New york\" \n",
    "}\n",
    "\n",
    "keysToRemove = [\"name\", \"salary\"]\n",
    "\n",
    "[sampleDict.pop(key) for key in keysToRemove]\n",
    "\n",
    "print(sampleDict)"
   ]
  }
 ],
 "metadata": {
  "kernelspec": {
   "display_name": "Python 3",
   "language": "python",
   "name": "python3"
  },
  "language_info": {
   "codemirror_mode": {
    "name": "ipython",
    "version": 3
   },
   "file_extension": ".py",
   "mimetype": "text/x-python",
   "name": "python",
   "nbconvert_exporter": "python",
   "pygments_lexer": "ipython3",
   "version": "3.8.8"
  }
 },
 "nbformat": 4,
 "nbformat_minor": 5
}
