{
 "cells": [
  {
   "cell_type": "markdown",
   "id": "9c1b6e9b",
   "metadata": {},
   "source": [
    "# Week - 3 Assignment - 21st August : Submitted By Kapil Kankane"
   ]
  },
  {
   "cell_type": "markdown",
   "id": "d575873d",
   "metadata": {},
   "source": [
    "## ***Loop***"
   ]
  },
  {
   "cell_type": "markdown",
   "id": "94404bf9",
   "metadata": {},
   "source": [
    "---------------------------------------------------------------------------\n",
    "==========================================================================================================================\n",
    "### <u>Question 1</u> \n",
    "W. A P. which takes one number from 0 to 9 from the user and prints it in the word. And if the word is not from 0 to 9 then\n",
    "it should print that number is outside of the range and program should exit.  \n",
    "\n",
    "*For example:-\n",
    "input = 1  \n",
    "output = one*\n",
    "### *Solution -*"
   ]
  },
  {
   "cell_type": "code",
   "execution_count": 80,
   "id": "722758ba",
   "metadata": {},
   "outputs": [
    {
     "name": "stdout",
     "output_type": "stream",
     "text": [
      "Enter a number: 7\n",
      "\n",
      "7 is Seven\n",
      "\n",
      "Try again? (Y/N) : y\n",
      "Enter a number: 11\n",
      "\n",
      "Number out of range!\n",
      "\n",
      "Try again? (Y/N) : n\n"
     ]
    }
   ],
   "source": [
    "x = \"Y\"\n",
    "days = {\"0\":\"Zero\",\"1\":\"One\",\"2\":\"Two\",\"3\":\"Three\",\"4\":\"Four\",\"5\":\"Five\",\"6\":\"Six\",\"7\":\"Seven\",\"8\":\"Eight\",\"9\":\"Nine\"}\n",
    "\n",
    "while x in [\"y\",\"Y\"]:\n",
    "    found = False\n",
    "    num = input(\"Enter a number: \")\n",
    "\n",
    "    for i in days:\n",
    "        if num in days.keys():\n",
    "            print(f\"\\n{num} is {days[num]}\\n\")\n",
    "            found = True\n",
    "            break\n",
    "\n",
    "    if found == False:\n",
    "        print(\"\\nNumber out of range!\\n\")\n",
    "    \n",
    "    while True:\n",
    "        x = input(\"Try again? (Y/N) : \")\n",
    "        if x in [\"y\",\"Y\",\"n\",\"N\"]:\n",
    "            break"
   ]
  },
  {
   "cell_type": "markdown",
   "id": "fb519a6b",
   "metadata": {},
   "source": [
    "---------------------------------------------------------------------------\n",
    "==========================================================================================================================\n",
    "### <u>Question 2</u>\n",
    "W. A P. to implement calculator but the operation to be done and two numbers will be taken as input from user:-  \n",
    "Operation console should show below:-  \n",
    "Please select any one operation from below:-  \n",
    "* _To add enter 1_\n",
    "* _To subtract enter 2_\n",
    "* _To multiply enter 3_\n",
    "* _To divide enter 4_\n",
    "* _To divide and find quotient enter 5_\n",
    "* _To divide and find remainder enter 6_\n",
    "* _To find num1 to the power of num2 enter 7_\n",
    "* _To Come out of the program enter 8_  \n",
    "\n",
    "### *Solution -*"
   ]
  },
  {
   "cell_type": "code",
   "execution_count": 69,
   "id": "0e0638b0",
   "metadata": {
    "scrolled": false
   },
   "outputs": [
    {
     "name": "stdout",
     "output_type": "stream",
     "text": [
      "\n",
      "Enter your name: Kapil Kankane\n",
      "\n",
      "Hello Kapil Kankane\n",
      "Welcome to Calculator.\n",
      "\n",
      "Let's begin.\n",
      "\n",
      "\n",
      "<<Calculator Menu>>\n",
      "\n",
      "* To add enter '1'\n",
      "* To subtract enter '2'\n",
      "* To multiply enter '3'\n",
      "* To divide enter '4'\n",
      "* To divide and find quotient enter '5'\n",
      "* To divide and find remainder enter '6'\n",
      "* To find num1 to the power of num2 enter '7'\n",
      "* To Come out of the program enter '8'\n",
      "\n",
      "Please select any option from above menu: 1\n",
      "\n",
      "Enter first number: 1\n",
      "\n",
      "Enter second number: 2\n",
      "\n",
      "Addition of 1 and 2 = 3\n",
      "\n",
      "Do you want to use Calculator again? (Y/N) y\n",
      "\n",
      "<<Calculator Menu>>\n",
      "\n",
      "* To add enter '1'\n",
      "* To subtract enter '2'\n",
      "* To multiply enter '3'\n",
      "* To divide enter '4'\n",
      "* To divide and find quotient enter '5'\n",
      "* To divide and find remainder enter '6'\n",
      "* To find num1 to the power of num2 enter '7'\n",
      "* To Come out of the program enter '8'\n",
      "\n",
      "Please select any option from above menu: 2\n",
      "\n",
      "Enter first number: 3\n",
      "\n",
      "Enter second number: 2\n",
      "\n",
      "Subtraction of 2 from 3 = 1\n",
      "\n",
      "Do you want to use Calculator again? (Y/N) y\n",
      "\n",
      "<<Calculator Menu>>\n",
      "\n",
      "* To add enter '1'\n",
      "* To subtract enter '2'\n",
      "* To multiply enter '3'\n",
      "* To divide enter '4'\n",
      "* To divide and find quotient enter '5'\n",
      "* To divide and find remainder enter '6'\n",
      "* To find num1 to the power of num2 enter '7'\n",
      "* To Come out of the program enter '8'\n",
      "\n",
      "Please select any option from above menu: 3\n",
      "\n",
      "Enter first number: 2\n",
      "\n",
      "Enter second number: 3\n",
      "\n",
      "Multiplication of 2 and 3 = 6\n",
      "\n",
      "Do you want to use Calculator again? (Y/N) y\n",
      "\n",
      "<<Calculator Menu>>\n",
      "\n",
      "* To add enter '1'\n",
      "* To subtract enter '2'\n",
      "* To multiply enter '3'\n",
      "* To divide enter '4'\n",
      "* To divide and find quotient enter '5'\n",
      "* To divide and find remainder enter '6'\n",
      "* To find num1 to the power of num2 enter '7'\n",
      "* To Come out of the program enter '8'\n",
      "\n",
      "Please select any option from above menu: 4\n",
      "\n",
      "Enter first number: 3\n",
      "\n",
      "Enter second number: 4\n",
      "\n",
      "Division of 3 by 4 = 0.75\n",
      "\n",
      "Do you want to use Calculator again? (Y/N) y\n",
      "\n",
      "<<Calculator Menu>>\n",
      "\n",
      "* To add enter '1'\n",
      "* To subtract enter '2'\n",
      "* To multiply enter '3'\n",
      "* To divide enter '4'\n",
      "* To divide and find quotient enter '5'\n",
      "* To divide and find remainder enter '6'\n",
      "* To find num1 to the power of num2 enter '7'\n",
      "* To Come out of the program enter '8'\n",
      "\n",
      "Please select any option from above menu: 5\n",
      "\n",
      "Enter first number: 4\n",
      "\n",
      "Enter second number: 3\n",
      "\n",
      "Quotient of 4 divided by 3 = 1\n",
      "\n",
      "Do you want to use Calculator again? (Y/N) y\n",
      "\n",
      "<<Calculator Menu>>\n",
      "\n",
      "* To add enter '1'\n",
      "* To subtract enter '2'\n",
      "* To multiply enter '3'\n",
      "* To divide enter '4'\n",
      "* To divide and find quotient enter '5'\n",
      "* To divide and find remainder enter '6'\n",
      "* To find num1 to the power of num2 enter '7'\n",
      "* To Come out of the program enter '8'\n",
      "\n",
      "Please select any option from above menu: 6\n",
      "\n",
      "Enter first number: 4\n",
      "\n",
      "Enter second number: 3\n",
      "\n",
      "Remainder of 4 divided by 3 = 1\n",
      "\n",
      "Do you want to use Calculator again? (Y/N) y\n",
      "\n",
      "<<Calculator Menu>>\n",
      "\n",
      "* To add enter '1'\n",
      "* To subtract enter '2'\n",
      "* To multiply enter '3'\n",
      "* To divide enter '4'\n",
      "* To divide and find quotient enter '5'\n",
      "* To divide and find remainder enter '6'\n",
      "* To find num1 to the power of num2 enter '7'\n",
      "* To Come out of the program enter '8'\n",
      "\n",
      "Please select any option from above menu: 7\n",
      "\n",
      "Enter first number: 2\n",
      "\n",
      "Enter second number: 3\n",
      "\n",
      "Exponent for 2 raise to power of 3 = 8\n",
      "\n",
      "Do you want to use Calculator again? (Y/N) n\n",
      "\n",
      "Thank You Kapil Kankane!\n",
      "Have nice day.\n",
      "\n"
     ]
    }
   ],
   "source": [
    "num1 = True\n",
    "num2 = True\n",
    "\n",
    "x = 'Y'\n",
    "\n",
    "options = [\"To add enter '1'\",\"To subtract enter '2'\",\"To multiply enter '3'\",\"To divide enter '4'\",\"To divide and find quotient enter '5'\",\"To divide and find remainder enter '6'\",\"To find num1 to the power of num2 enter '7'\",\"To Come out of the program enter '8'\"]\n",
    "\n",
    "name = input(\"\\nEnter your name: \")\n",
    "\n",
    "print(\"\\nHello \"+name+\"\\nWelcome to Calculator.\\n\\nLet's begin.\\n\")\n",
    "\n",
    "while x in [\"y\",\"Y\"]:\n",
    "    \n",
    "    print(\"\\n<<Calculator Menu>>\\n\")\n",
    "    for o in options:\n",
    "        print(f\"* {o}\")\n",
    "        \n",
    "    option = input(\"\\nPlease select any option from above menu: \")\n",
    "    \n",
    "    if option in [\"1\",\"2\",\"3\",\"4\",\"5\",\"6\",\"7\"]:\n",
    "            \n",
    "            a=input(\"\\nEnter first number: \")\n",
    "\n",
    "            if (a.strip() == \"\"):\n",
    "                num1=False\n",
    "                print (\"First number is blank.\")\n",
    "            elif (a.strip().isdigit()):\n",
    "                a = eval(a)\n",
    "                num1=True   \n",
    "            else:\n",
    "                num1=False\n",
    "                print (a,\"is not a number.\" )\n",
    "\n",
    "            if (num1==True):\n",
    "                b=input(\"\\nEnter second number: \")    \n",
    "\n",
    "                if (b.strip() == \"\"):\n",
    "                    num2=False\n",
    "                    print (\"Second number is blank.\")\n",
    "                elif (b.strip().isdigit()):\n",
    "                    b = eval(b)\n",
    "                    num2=True   \n",
    "                else:\n",
    "                    num2=False\n",
    "                    print (b,\"is not a number.\")\n",
    "            \n",
    "            if num1 and num2:\n",
    "                if option == \"1\":\n",
    "                    print(f\"\\nAddition of {a} and {b} = {a+b}\")\n",
    "                if option == \"2\":\n",
    "                    print(f\"\\nSubtraction of {b} from {a} = {a-b}\")\n",
    "                if option == \"3\":\n",
    "                    print(f\"\\nMultiplication of {a} and {b} = {a*b}\")\n",
    "                if option == \"4\":\n",
    "                    print(f\"\\nDivision of {a} by {b} = {a/b}\")\n",
    "                if option == \"5\":\n",
    "                    print(f\"\\nQuotient of {a} divided by {b} = {a//b}\")\n",
    "                if option == \"6\":\n",
    "                    print(f\"\\nRemainder of {a} divided by {b} = {a%b}\")\n",
    "                if option == \"7\":\n",
    "                    print(f\"\\nExponent for {a} raise to power of {b} = {a**b}\")            \n",
    "\n",
    "            while True:\n",
    "                x= input(\"\\nDo you want to use Calculator again? (Y/N) \")\n",
    "                if x in [\"y\",\"Y\",\"n\",\"N\"]:\n",
    "                    break\n",
    "    elif option == \"8\":\n",
    "        break\n",
    "    else:\n",
    "        print(\"Invalid input, please select correct option to operate Calculator.\")\n",
    "\n",
    "print(\"\\nThank You \"+name+\"!\\nHave nice day.\\n\")"
   ]
  },
  {
   "cell_type": "markdown",
   "id": "01016224",
   "metadata": {},
   "source": [
    "---------------------------------------------------------------------------\n",
    "==========================================================================================================================\n",
    "### <u>Question 3</u>\n",
    "W A P to check whether a year entered by user is an leap year or not?  \n",
    "Check with below input:-  \n",
    "_Leap year:- 2012, 1968, 2004, 1200, 1600,2400_  \n",
    "_Non-leap year:- 1971, 2006, 1700,1800,1900_  \n",
    "### *Solution -*"
   ]
  },
  {
   "cell_type": "code",
   "execution_count": 71,
   "id": "3d809b6b",
   "metadata": {},
   "outputs": [
    {
     "name": "stdout",
     "output_type": "stream",
     "text": [
      "Enter a year: 2000\n",
      "\n",
      "The year 2000 is a leap year (it has 366 days).\n",
      "\n",
      "Try again? (Y/N) : y\n",
      "Enter a year: 2004\n",
      "\n",
      "The year 2004 is a leap year (it has 366 days).\n",
      "\n",
      "Try again? (Y/N) : y\n",
      "Enter a year: 2002\n",
      "\n",
      "The year 2002 is not a leap year (it has 365 days).\n",
      "\n",
      "Try again? (Y/N) : n\n"
     ]
    }
   ],
   "source": [
    "x = \"Y\"\n",
    "\n",
    "while x in [\"y\",\"Y\"]:\n",
    "    \n",
    "    year = eval(input(\"Enter a year: \"))\n",
    "    \n",
    "    if year%4 == 0:\n",
    "        if year%100 == 0:\n",
    "            if year%400 ==0:\n",
    "                print(f\"\\nThe year {year} is a leap year (it has 366 days).\\n\")\n",
    "            else:\n",
    "                print(f\"\\nThe year {year} is not a leap year (it has 365 days).\\n\")\n",
    "        else:\n",
    "            print(f\"\\nThe year {year} is a leap year (it has 366 days).\\n\")\n",
    "    else:\n",
    "        print(f\"\\nThe year {year} is not a leap year (it has 365 days).\\n\")\n",
    "    \n",
    "    while True:\n",
    "        x = input(\"Try again? (Y/N) : \")\n",
    "        if x in [\"y\",\"Y\",\"n\",\"N\"]:\n",
    "            break"
   ]
  },
  {
   "cell_type": "markdown",
   "id": "5b7c579a",
   "metadata": {},
   "source": [
    "---------------------------------------------------------------------------\n",
    "==========================================================================================================================\n",
    "### <u>Question 4</u>\n",
    "W A P which takes one number from the user and checks whether it is an even or odd number?  \n",
    "If it even then prints number is even number else prints that number is odd number.  \n",
    "### *Solution -*"
   ]
  },
  {
   "cell_type": "code",
   "execution_count": 97,
   "id": "0661ecec",
   "metadata": {},
   "outputs": [
    {
     "name": "stdout",
     "output_type": "stream",
     "text": [
      "Enter a number: 3\n",
      "\n",
      "The number 3 is an odd number.\n",
      "\n",
      "Try again? (Y/N) : y\n",
      "Enter a number: 6\n",
      "\n",
      "The number 6 is an even number.\n",
      "\n",
      "Try again? (Y/N) : n\n"
     ]
    }
   ],
   "source": [
    "x = \"Y\"\n",
    "\n",
    "while x in [\"y\",\"Y\"]:\n",
    "    \n",
    "    num = eval(input(\"Enter a number: \"))\n",
    "    \n",
    "    if num%2 == 0:\n",
    "        print(f\"\\nThe number {num} is an even number.\\n\")\n",
    "    else:\n",
    "        print(f\"\\nThe number {num} is an odd number.\\n\")\n",
    "    \n",
    "    while True:\n",
    "        x = input(\"Try again? (Y/N) : \")\n",
    "        if x in [\"y\",\"Y\",\"n\",\"N\"]:\n",
    "            break"
   ]
  },
  {
   "cell_type": "markdown",
   "id": "e022f3d5",
   "metadata": {},
   "source": [
    "---------------------------------------------------------------------------\n",
    "==========================================================================================================================\n",
    "### <u>Question 5</u>\n",
    "W A P which takes two numbers from the user and prints below output:-  \n",
    "1. num1 is greater than num2 if num1 is greater than num2  \n",
    "2. num1 is smaller than num2 if num1 is smaller than num2  \n",
    "3. num1 is equal to num2 if num1 and num2 are equal  \n",
    "\n",
    "Note:-\n",
    "1) Do this problem using if - else  \n",
    "2) Do this using ternary operator\n",
    "### *Solution -*"
   ]
  },
  {
   "cell_type": "code",
   "execution_count": 100,
   "id": "73bf8e86",
   "metadata": {},
   "outputs": [
    {
     "name": "stdout",
     "output_type": "stream",
     "text": [
      "\n",
      "Enter first number: 6\n",
      "\n",
      "Enter second number: 7\n",
      "\n",
      "7 is greater than 6\n",
      "Try again? (Y/N) : y\n",
      "\n",
      "Enter first number: 7\n",
      "\n",
      "Enter second number: 5\n",
      "\n",
      "7 is greater than 5\n",
      "Try again? (Y/N) : y\n",
      "\n",
      "Enter first number: 7\n",
      "\n",
      "Enter second number: 7\n",
      "\n",
      "7 is equal to 7\n",
      "Try again? (Y/N) : n\n"
     ]
    }
   ],
   "source": [
    "x = 'Y'\n",
    "\n",
    "while x in [\"y\",\"Y\"]:\n",
    "    \n",
    "    a = input(\"\\nEnter first number: \")\n",
    "    \n",
    "    if (a.strip() == \"\"):\n",
    "        num1 = False\n",
    "        print(\"First number is blank.\")\n",
    "    elif (a.strip().isdigit()):\n",
    "        a = eval(a)\n",
    "        num1 = True   \n",
    "    else:\n",
    "        num1 = False\n",
    "        print (f\"{a} is not a number.\") \n",
    "\n",
    "    if num1:\n",
    "        b=input(\"\\nEnter second number: \")    \n",
    "        \n",
    "        if (b.strip() == \"\"):\n",
    "            num2 = False\n",
    "            print(\"Second number is blank.\")\n",
    "        elif (b.strip().isdigit()):\n",
    "            b = eval(b)\n",
    "            num2 = True   \n",
    "        else:\n",
    "            num2 = False\n",
    "            print(f\"{b} is not a number.\") \n",
    "\n",
    "    if num1 and num2:\n",
    "        if a == b:\n",
    "            print(f\"\\n{a} is equal to {b}\")\n",
    "        else:\n",
    "            print(f\"\\n{a if a>b else b} is greater than {a if a<b else b}\")\n",
    "\n",
    "    while(x):\n",
    "        x = input(\"Try again? (Y/N) : \")\n",
    "        if x in [\"y\",\"Y\",\"n\",\"N\"]:\n",
    "            break"
   ]
  },
  {
   "cell_type": "markdown",
   "id": "6f6fb7fe",
   "metadata": {},
   "source": [
    "---------------------------------------------------------------------------\n",
    "==========================================================================================================================\n",
    "### <u>Question 6</u>\n",
    "W A P which takes three numbers from the user and prints below\n",
    "output:-\n",
    "1. num1 is greater than num2 and num3 if num1 is greater than num2 and num3\n",
    "2. num2 is greater than num1 and num3 if num2 is greater than num1 and num3\n",
    "3. num3 is greater than num1 and num2 if num3 is greater than num1 and num2\n",
    "\n",
    "Note:-\n",
    "1) Do this problem using if - elif - else  \n",
    "2) Do this using ternary operator a = a if a>b else b\n",
    "### *Solution -*"
   ]
  },
  {
   "cell_type": "code",
   "execution_count": 37,
   "id": "56a96488",
   "metadata": {},
   "outputs": [
    {
     "name": "stdout",
     "output_type": "stream",
     "text": [
      "\n",
      "Enter first number: 1\n",
      "\n",
      "Enter second number: 2\n",
      "\n",
      "Enter third number: 3\n",
      "\n",
      "3 is greater than 1 and 2\n",
      "Try again? (Y/N) : y\n",
      "\n",
      "Enter first number: 3\n",
      "\n",
      "Enter second number: 2\n",
      "\n",
      "Enter third number: 1\n",
      "\n",
      "3 is greater than 1 and 2\n",
      "Try again? (Y/N) : y\n",
      "\n",
      "Enter first number: 2\n",
      "\n",
      "Enter second number: 3\n",
      "\n",
      "Enter third number: 1\n",
      "\n",
      "3 is greater than 1 and 2\n",
      "Try again? (Y/N) : y\n",
      "\n",
      "Enter first number: 3\n",
      "\n",
      "Enter second number: 3\n",
      "\n",
      "Enter third number: 3\n",
      "\n",
      "3 is equal to 3 and 3\n",
      "Try again? (Y/N) : n\n"
     ]
    }
   ],
   "source": [
    "x = 'Y'\n",
    "\n",
    "while x in [\"y\",\"Y\"]:\n",
    "    \n",
    "    a = input(\"\\nEnter first number: \")\n",
    "    \n",
    "    if (a.strip() == \"\"):\n",
    "        num1 = False\n",
    "        print(\"First number is blank.\")\n",
    "    elif (a.strip().isdigit()):\n",
    "        a = eval(a)\n",
    "        num1 = True   \n",
    "    else:\n",
    "        num1 = False\n",
    "        print (f\"{a} is not a number.\") \n",
    "\n",
    "    if num1:\n",
    "        b=input(\"\\nEnter second number: \")    \n",
    "        \n",
    "        if (b.strip() == \"\"):\n",
    "            num2 = False\n",
    "            print(\"Second number is blank.\")\n",
    "        elif (b.strip().isdigit()):\n",
    "            b = eval(b)\n",
    "            num2 = True   \n",
    "        else:\n",
    "            num2 = False\n",
    "            print(f\"{b} is not a number.\")\n",
    "            \n",
    "    if num2:\n",
    "        c=input(\"\\nEnter third number: \")    \n",
    "        \n",
    "        if (c.strip() == \"\"):\n",
    "            num3 = False\n",
    "            print(\"Third number is blank.\")\n",
    "        elif (c.strip().isdigit()):\n",
    "            c = eval(c)\n",
    "            num3 = True   \n",
    "        else:\n",
    "            num3 = False\n",
    "            print(f\"{c} is not a number.\")\n",
    "\n",
    "    if num1 and num2 and num3:\n",
    "        if a == b and a == c:\n",
    "            print(f\"\\n{a} is equal to {b} and {c}\")\n",
    "        else:\n",
    "            print(f\"\\n{a if a>b and a>c else b if b>c else c} is greater than {a if a<b and a<c else b if b<c else c} and {a if a<b and a>c else a if a<c and a>b else b if b>a and b<c else b if b<a and b>c else c}\")\n",
    "\n",
    "    while(x):\n",
    "        x = input(\"Try again? (Y/N) : \")\n",
    "        if x in [\"y\",\"Y\",\"n\",\"N\"]:\n",
    "            break"
   ]
  },
  {
   "cell_type": "markdown",
   "id": "1b4006bc",
   "metadata": {},
   "source": [
    "---------------------------------------------------------------------------\n",
    "==========================================================================================================================\n",
    "### <u>Question 7</u>\n",
    "Write a Python program to find the length of the my_str using loop:-  \n",
    "Input:- _'Write a Python program to find the length of the my_str'_  \n",
    "Output:- _55_  \n",
    "### *Solution -*"
   ]
  },
  {
   "cell_type": "code",
   "execution_count": 38,
   "id": "1bc49145",
   "metadata": {},
   "outputs": [
    {
     "name": "stdout",
     "output_type": "stream",
     "text": [
      "Length of my_str is: 55\n"
     ]
    }
   ],
   "source": [
    "my_str = \"Write a Python program to find the length of the my_str\"\n",
    "count = 0\n",
    "for c in my_str:\n",
    "    count+=1\n",
    "print(f\"Length of my_str is: {count}\")"
   ]
  },
  {
   "cell_type": "markdown",
   "id": "a2beec8c",
   "metadata": {},
   "source": [
    "---------------------------------------------------------------------------\n",
    "==========================================================================================================================\n",
    "### <u>Question 8</u>\n",
    "Write a Python program to find the total number of times letter 'p' is appeared in the below string using loop:-  \n",
    "Input:- _'peter piper picked a peck of pickled peppers.'_  \n",
    "Output:- _9_  \n",
    "### *Solution -*"
   ]
  },
  {
   "cell_type": "code",
   "execution_count": 39,
   "id": "f178de0a",
   "metadata": {},
   "outputs": [
    {
     "name": "stdout",
     "output_type": "stream",
     "text": [
      "Total Occurences 'p' in my_str is: 9\n"
     ]
    }
   ],
   "source": [
    "my_str = 'peter piper picked a peck of pickled peppers.'\n",
    "count = 0\n",
    "for c in my_str:\n",
    "    if c == \"p\":\n",
    "        count+=1\n",
    "print(f\"Total Occurences 'p' in my_str is: {count}\")"
   ]
  },
  {
   "cell_type": "markdown",
   "id": "0da2f2d8",
   "metadata": {},
   "source": [
    "---------------------------------------------------------------------------\n",
    "==========================================================================================================================\n",
    "### <u>Question 9</u>\n",
    "Write a Python Program, to print all the indexes of all occurences of letter 'p' appeared in the string using loop:-  \n",
    "Input:- _'peter piper picked a peck of pickled peppers.'_  \n",
    "Output:-  \n",
    "_0_  \n",
    "_6_  \n",
    "_8_  \n",
    "_12_  \n",
    "_21_  \n",
    "_29_  \n",
    "_37_  \n",
    "_39_  \n",
    "_40_  \n",
    "### *Solution -*"
   ]
  },
  {
   "cell_type": "code",
   "execution_count": 40,
   "id": "cbed0fa8",
   "metadata": {},
   "outputs": [
    {
     "name": "stdout",
     "output_type": "stream",
     "text": [
      "All indexes of 'p' in my_str are:\n",
      "0\n",
      "6\n",
      "8\n",
      "12\n",
      "21\n",
      "29\n",
      "37\n",
      "39\n",
      "40\n"
     ]
    }
   ],
   "source": [
    "my_str = 'peter piper picked a peck of pickled peppers.'\n",
    "position = 0\n",
    "print(\"All indexes of 'p' in my_str are:\")\n",
    "for i in my_str:\n",
    "    if i == 'p':\n",
    "        print(position)\n",
    "    position += 1"
   ]
  },
  {
   "cell_type": "markdown",
   "id": "f177cda6",
   "metadata": {},
   "source": [
    "---------------------------------------------------------------------------\n",
    "==========================================================================================================================\n",
    "### <u>Question 10</u>\n",
    "Write a python program to find below output using loop:-  \n",
    "Input:- _'peter piper picked a peck of pickled peppers.'_  \n",
    "Output:- _['peter', 'piper', 'picked', 'a', 'peck', 'of', 'pickled', 'peppers']_  \n",
    "### *Solution -*"
   ]
  },
  {
   "cell_type": "code",
   "execution_count": 42,
   "id": "6b813eaa",
   "metadata": {},
   "outputs": [
    {
     "name": "stdout",
     "output_type": "stream",
     "text": [
      "Input: peter piper picked a peck of pickled peppers.\n",
      "Output: ['peter', 'piper', 'picked', 'a', 'peck', 'of', 'pickled', 'peppers.']\n"
     ]
    }
   ],
   "source": [
    "my_str = \"peter piper picked a peck of pickled peppers.\"\n",
    "lst = []\n",
    "word = \"\"\n",
    "sentence = \"\"\n",
    "count = 0\n",
    "for i in my_str:\n",
    "    if i == \" \":\n",
    "        lst += [word]\n",
    "        word = \"\"\n",
    "    elif count >= len(my_str)-1:\n",
    "        lst += [word+my_str[-1]]\n",
    "        word = \"\"\n",
    "    else:\n",
    "        word = word + i\n",
    "    count += 1\n",
    "print(f\"Input: {my_str}\")\n",
    "print(f\"Output: {lst}\")"
   ]
  },
  {
   "cell_type": "markdown",
   "id": "d3fb0ee7",
   "metadata": {},
   "source": [
    "---------------------------------------------------------------------------\n",
    "==========================================================================================================================\n",
    "### <u>Question 11</u>\n",
    "Write a python program to find below output using loop:-  \n",
    "Input:- _'peter piper picked a peck of pickled peppers.'_  \n",
    "Output:- _'peppers. pickled of peck a picked piper peter'_  \n",
    "### *Solution -*"
   ]
  },
  {
   "cell_type": "code",
   "execution_count": 43,
   "id": "26cd3b5b",
   "metadata": {},
   "outputs": [
    {
     "name": "stdout",
     "output_type": "stream",
     "text": [
      "Input: peter piper picked a peck of pickled peppers.\n",
      "Output: peppers. pickled of peck a picked piper peter \n"
     ]
    }
   ],
   "source": [
    "my_str = \"peter piper picked a peck of pickled peppers.\"\n",
    "lst = []\n",
    "word = \"\"\n",
    "sentence = \"\"\n",
    "count = 0\n",
    "for i in my_str:\n",
    "    if i == \" \":\n",
    "        lst += [word]\n",
    "        word = \"\"\n",
    "    elif count >= len(my_str)-1:\n",
    "        lst += [word+my_str[-1]]\n",
    "        word = \"\"\n",
    "    else:\n",
    "        word = word + i\n",
    "    count += 1\n",
    "\n",
    "for word in lst[::-1]:\n",
    "    sentence += word +\" \"\n",
    "\n",
    "print(f\"Input: {my_str}\")\n",
    "print(f\"Output: {sentence}\")"
   ]
  },
  {
   "cell_type": "markdown",
   "id": "010231a0",
   "metadata": {},
   "source": [
    "---------------------------------------------------------------------------\n",
    "==========================================================================================================================\n",
    "### <u>Question 12</u>\n",
    "Write a python program to find below output using loop:-  \n",
    "Input:- _'peter piper picked a peck of pickled peppers.'_  \n",
    "Output:- _'.sreppep delkcip fo kcep a dekcip repip retep'_  \n",
    "### *Solution -*"
   ]
  },
  {
   "cell_type": "code",
   "execution_count": 44,
   "id": "61e65695",
   "metadata": {},
   "outputs": [
    {
     "name": "stdout",
     "output_type": "stream",
     "text": [
      "Input: peter piper picked a peck of pickled peppers.\n",
      "Output: .sreppep delkcip fo kcep a dekcip repip retep \n"
     ]
    }
   ],
   "source": [
    "my_str = \"peter piper picked a peck of pickled peppers.\"\n",
    "lst = []\n",
    "word = \"\"\n",
    "sentence = \"\"\n",
    "count = 0\n",
    "for i in my_str[::-1]:\n",
    "    if i == \" \":\n",
    "        lst += [word]\n",
    "        word = \"\"\n",
    "    elif count == len(my_str)-1:\n",
    "        lst += [word+my_str[0]]\n",
    "        word = \"\"\n",
    "    else:\n",
    "        word += i\n",
    "    count += 1\n",
    "\n",
    "for word in lst[::1]:\n",
    "    sentence += word +\" \"\n",
    "\n",
    "print(f\"Input: {my_str}\")\n",
    "print(f\"Output: {sentence}\")"
   ]
  },
  {
   "cell_type": "markdown",
   "id": "4256f994",
   "metadata": {},
   "source": [
    "---------------------------------------------------------------------------\n",
    "==========================================================================================================================\n",
    "### <u>Question 13</u>\n",
    "Write a python program to find below output using loop:-  \n",
    "Input:- _'peter piper picked a peck of pickled peppers.'_  \n",
    "Output:- _'retep repip dekcip a kcep fo delkcip .sreppep'_  \n",
    "### *Solution -*"
   ]
  },
  {
   "cell_type": "code",
   "execution_count": 45,
   "id": "6d44f769",
   "metadata": {},
   "outputs": [
    {
     "name": "stdout",
     "output_type": "stream",
     "text": [
      "Input: peter piper picked a peck of pickled peppers.\n",
      "Output: retep repip dekcip a kcep fo delkcip .sreppep \n"
     ]
    }
   ],
   "source": [
    "my_str = \"peter piper picked a peck of pickled peppers.\"\n",
    "lst = []\n",
    "word = \"\"\n",
    "sentence = \"\"\n",
    "count = 0\n",
    "for i in my_str:\n",
    "    if i == \" \":\n",
    "        lst += [word]\n",
    "        word = \"\"\n",
    "    elif count == len(my_str)-1:\n",
    "        lst += [word+my_str[-1]]\n",
    "        word = \"\"\n",
    "    else:\n",
    "        word += i\n",
    "    count += 1\n",
    "\n",
    "for word in lst[::1]:\n",
    "    for i in word[::-1]:\n",
    "        sentence += i\n",
    "    sentence += \" \"\n",
    "\n",
    "print(f\"Input: {my_str}\")\n",
    "print(f\"Output: {sentence}\")"
   ]
  },
  {
   "cell_type": "markdown",
   "id": "ebc32309",
   "metadata": {},
   "source": [
    "---------------------------------------------------------------------------\n",
    "==========================================================================================================================\n",
    "### <u>Question 14</u>\n",
    "Write a python program to find below output using loop:-  \n",
    "Input:- _'peter piper picked a peck of pickled peppers.'_  \n",
    "Output:- _'Peter Piper Picked A Peck Of Pickled Peppers'_  \n",
    "### *Solution -*"
   ]
  },
  {
   "cell_type": "code",
   "execution_count": 52,
   "id": "30c8bb77",
   "metadata": {},
   "outputs": [
    {
     "name": "stdout",
     "output_type": "stream",
     "text": [
      "Input: peter piper picked a peck of pickled peppers.\n",
      "Output: Peter Piper Picked A Peck Of Pickled Peppers. \n"
     ]
    }
   ],
   "source": [
    "my_str = \"peter piper picked a peck of pickled peppers.\"\n",
    "lst = []\n",
    "word = \"\"\n",
    "sentence = \"\"\n",
    "count = 0\n",
    "for i in my_str:\n",
    "    if i == \" \":\n",
    "        lst += [word]\n",
    "        word = \"\"\n",
    "    elif count >= len(my_str)-1:\n",
    "        lst += [word+my_str[-1]]\n",
    "        word = \"\"\n",
    "    else:\n",
    "        word = word + i\n",
    "    count += 1\n",
    "\n",
    "for word in lst:\n",
    "    word = word[0].upper() + word[1::]\n",
    "    sentence += word + \" \"\n",
    "    \n",
    "\n",
    "print(f\"Input: {my_str}\")\n",
    "print(f\"Output: {sentence}\")"
   ]
  },
  {
   "cell_type": "markdown",
   "id": "35e4e886",
   "metadata": {},
   "source": [
    "---------------------------------------------------------------------------\n",
    "==========================================================================================================================\n",
    "### <u>Question 15</u>\n",
    "Write a python program to find below output using loop:-  \n",
    "Input:- _'Peter Piper Picked A Peck Of Pickled Peppers.'_  \n",
    "Output:- _'Peter piper picked a peck of pickled peppers'_  \n",
    "### *Solution -*"
   ]
  },
  {
   "cell_type": "code",
   "execution_count": 59,
   "id": "ffd5437f",
   "metadata": {},
   "outputs": [
    {
     "name": "stdout",
     "output_type": "stream",
     "text": [
      "Input: peter piper picked a peck of pickled peppers.\n",
      "Output: Peter piper picked a peck of pickled peppers.\n"
     ]
    }
   ],
   "source": [
    "my_str = \"peter piper picked a peck of pickled peppers.\"\n",
    "loop_num = 0\n",
    "while loop_num < len(my_str):\n",
    "    \n",
    "    if loop_num == 0:\n",
    "        new_str = my_str[0].upper()\n",
    "    else:    \n",
    "        new_str += my_str[loop_num]\n",
    "    loop_num += 1\n",
    "\n",
    "print(f\"Input: {my_str}\")\n",
    "print(f\"Output: {new_str}\")"
   ]
  },
  {
   "cell_type": "markdown",
   "id": "68e10f79",
   "metadata": {},
   "source": [
    "---------------------------------------------------------------------------\n",
    "==========================================================================================================================\n",
    "### <u>Question 16</u>\n",
    "Write a python program to implement index method using loop. If sub_str is found in my_str then it will print the index of first occurrence of first character of matching string in my_str:-  \n",
    "Input:- _my_str = 'Peter Piper Picked A Peck Of Pickled Peppers.', sub_str = 'Pickl'_  \n",
    "Output:- _29_  \n",
    "### *Solution -*"
   ]
  },
  {
   "cell_type": "code",
   "execution_count": 88,
   "id": "3e7f395a",
   "metadata": {},
   "outputs": [
    {
     "name": "stdout",
     "output_type": "stream",
     "text": [
      "Input: Peter Piper Picked A Peck Of Pickled Peppers.\n",
      "Output: Index of 'Pickl' in Input String is 29\n"
     ]
    }
   ],
   "source": [
    "my_str = \"Peter Piper Picked A Peck Of Pickled Peppers.\"\n",
    "sub_str = 'Pickl'\n",
    "i = 0\n",
    "match = False\n",
    "for c in my_str:\n",
    "    if c == sub_str[0]:\n",
    "        k = i\n",
    "        j = 0\n",
    "        for subc in sub_str:\n",
    "            if subc != my_str[k]:\n",
    "                match = False\n",
    "                break\n",
    "            elif sub_str[j] == my_str[k]:\n",
    "                if j == len(sub_str)-1:\n",
    "                    match = True\n",
    "                    break\n",
    "                k += 1\n",
    "                j += 1\n",
    "    if match:\n",
    "        break\n",
    "    i += 1\n",
    "\n",
    "print(f\"Input: {my_str}\")\n",
    "if match:\n",
    "    print(f\"Output: Index of '{sub_str}' in Input String is {i}\")\n",
    "else:\n",
    "    print(f\"Output: No match found for '{sub_str}' in Input String.\")"
   ]
  },
  {
   "cell_type": "markdown",
   "id": "cdd0232c",
   "metadata": {},
   "source": [
    "---------------------------------------------------------------------------\n",
    "==========================================================================================================================\n",
    "### <u>Question 17</u>\n",
    "Write a python program to implement replace method using loop. If sub_str is found in my_str then it will replace the first occurrence of sub_str with new_str else it will will print sub_str not found:-  \n",
    "Input:- _my_str = 'Peter Piper Picked A Peck Of Pickled Peppers.', sub_str = 'Peck', new_str = 'Pack'_  \n",
    "Output:- _'Peter Piper Picked A Pack Of Pickled Peppers.'_  \n",
    "### *Solution -*"
   ]
  },
  {
   "cell_type": "code",
   "execution_count": 102,
   "id": "6891049b",
   "metadata": {},
   "outputs": [
    {
     "name": "stdout",
     "output_type": "stream",
     "text": [
      "Input: Peter Piper Picked A Peck Of Pickled Peppers.\n",
      "Output: Replaced 'Peck' with 'Pack'.\n",
      "Peter Piper Picked A Pack Of Pickled Peppers.\n"
     ]
    }
   ],
   "source": [
    "my_str = \"Peter Piper Picked A Peck Of Pickled Peppers.\"\n",
    "sub_str = 'Peck'\n",
    "new_str = 'Pack'\n",
    "i = 0\n",
    "match = False\n",
    "for c in my_str:\n",
    "    if c == sub_str[0]:\n",
    "        k = i\n",
    "        j = 0\n",
    "        for subc in sub_str:\n",
    "            if subc != my_str[k]:\n",
    "                match = False\n",
    "                break\n",
    "            elif sub_str[j] == my_str[k]:\n",
    "                if j == len(sub_str)-1:\n",
    "                    match = True\n",
    "                    rep_str = my_str[:i:] + new_str + my_str[i+len(sub_str)::]\n",
    "                    break\n",
    "                k += 1\n",
    "                j += 1\n",
    "    if match:\n",
    "        break\n",
    "    i += 1\n",
    "\n",
    "print(f\"Input: {my_str}\")\n",
    "if match:\n",
    "    print(f\"Output: Replaced '{sub_str}' with '{new_str}'.\")\n",
    "    print(rep_str)\n",
    "else:\n",
    "    print(f\"Output: Cannot replace, No match found for '{sub_str}' in Input String.\")"
   ]
  },
  {
   "cell_type": "markdown",
   "id": "7ddf43cc",
   "metadata": {},
   "source": [
    "---------------------------------------------------------------------------\n",
    "==========================================================================================================================\n",
    "### <u>Question 18</u>\n",
    "Write a python program to find below output (implements rjust and ljust) using loop:-  \n",
    "Input:- _'Peter Piper Picked A Peck Of Pickled Peppers.', sub_str ='Peck',_  \n",
    "Output:- _'\\*\\*\\*\\*\\*\\*\\*\\*\\*\\*\\*\\*\\*\\*\\*\\*\\*\\*\\*\\*\\*Peck\\*\\*\\*\\*\\*\\*\\*\\*\\*\\*\\*\\*\\*\\*\\*\\*\\*\\*\\*\\*'_  \n",
    "### *Solution -*"
   ]
  },
  {
   "cell_type": "code",
   "execution_count": 122,
   "id": "cc999be3",
   "metadata": {},
   "outputs": [
    {
     "name": "stdout",
     "output_type": "stream",
     "text": [
      "Input: Peter Piper Picked A Peck Of Pickled Peppers.\n",
      "Output: *********************Peck********************\n"
     ]
    }
   ],
   "source": [
    "my_str = \"Peter Piper Picked A Peck Of Pickled Peppers.\"\n",
    "sub_str = \"Peck\"\n",
    "i = 0\n",
    "match = False\n",
    "for c in my_str:\n",
    "    if c == sub_str[0]:\n",
    "        k = i\n",
    "        j = 0\n",
    "        for subc in sub_str:\n",
    "            if subc != my_str[k]:\n",
    "                match = False\n",
    "                break\n",
    "            elif sub_str[j] == my_str[k]:\n",
    "                if j == len(sub_str)-1:\n",
    "                    match = True\n",
    "                    break\n",
    "                k += 1\n",
    "                j += 1\n",
    "    if match:\n",
    "        break\n",
    "    i += 1\n",
    "\n",
    "print(f\"Input: {my_str}\")\n",
    "if match:\n",
    "    new_str = (\"*\" * i) + sub_str + \"*\" * (len(my_str) - i - len(sub_str))\n",
    "    print(f\"Output: {new_str}\")\n",
    "else:\n",
    "    print(f\"Output: No match found for '{sub_str}' in Input String.\")"
   ]
  },
  {
   "cell_type": "markdown",
   "id": "bd676288",
   "metadata": {},
   "source": [
    "---------------------------------------------------------------------------\n",
    "==========================================================================================================================\n",
    "### <u>Question 19</u>\n",
    "Write a python program to find below output using loop:-  \n",
    "Input:- _'This is Python class', sep = ' is',_  \n",
    "Output:- _['This', 'is', 'Python class']_  \n",
    "### *Solution -*"
   ]
  },
  {
   "cell_type": "code",
   "execution_count": 2,
   "id": "0d9bf4ce",
   "metadata": {},
   "outputs": [
    {
     "name": "stdout",
     "output_type": "stream",
     "text": [
      "Input: This is Python class\n",
      "Output: ['This', 'is', 'Python class']\n"
     ]
    }
   ],
   "source": [
    "my_str = \"This is Python class\"\n",
    "sep = \"is\"\n",
    "lst = []\n",
    "new_lst = []\n",
    "new_word = \"\"\n",
    "word = \"\"\n",
    "sentence = \"\"\n",
    "count = 0\n",
    "for i in my_str:\n",
    "    if i == \" \":\n",
    "        lst += [word]\n",
    "        word = \"\"\n",
    "    elif count >= len(my_str)-1:\n",
    "        lst += [word+my_str[-1]]\n",
    "        word = \"\"\n",
    "    else:\n",
    "        word = word + i\n",
    "    count += 1\n",
    "\n",
    "for word in lst:\n",
    "    if word != sep:\n",
    "        if new_word == \"\":\n",
    "            new_word += word\n",
    "        else:\n",
    "            new_word += \" \" + word\n",
    "    else:\n",
    "        new_lst.append(new_word)\n",
    "        new_lst.append(word)\n",
    "        new_word = \"\"\n",
    "new_lst.append(new_word)\n",
    "\n",
    "print(f\"Input: {my_str}\")\n",
    "print(f\"Output: {new_lst}\")"
   ]
  }
 ],
 "metadata": {
  "kernelspec": {
   "display_name": "Python 3",
   "language": "python",
   "name": "python3"
  },
  "language_info": {
   "codemirror_mode": {
    "name": "ipython",
    "version": 3
   },
   "file_extension": ".py",
   "mimetype": "text/x-python",
   "name": "python",
   "nbconvert_exporter": "python",
   "pygments_lexer": "ipython3",
   "version": "3.8.8"
  }
 },
 "nbformat": 4,
 "nbformat_minor": 5
}
