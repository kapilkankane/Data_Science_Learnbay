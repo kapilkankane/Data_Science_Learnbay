{
 "cells": [
  {
   "cell_type": "markdown",
   "id": "9c1b6e9b",
   "metadata": {},
   "source": [
    "# Week - 1 Assignment - 10th August : Submitted By Kapil Kankane"
   ]
  },
  {
   "cell_type": "markdown",
   "id": "d575873d",
   "metadata": {},
   "source": [
    "## ***Float***"
   ]
  },
  {
   "cell_type": "markdown",
   "id": "94404bf9",
   "metadata": {},
   "source": [
    "---------------------------------------------------------------------------\n",
    "==========================================================================================================================\n",
    "### <u>Question 1</u> \n",
    "> - **Declare a float value and store it in a variable.**\n",
    "> - **Check the type and print the id of the same.**\n",
    "\n",
    "### *Solution -*"
   ]
  },
  {
   "cell_type": "code",
   "execution_count": 1,
   "id": "722758ba",
   "metadata": {},
   "outputs": [
    {
     "name": "stdout",
     "output_type": "stream",
     "text": [
      "vFloat: 10.2\n",
      "Type: <class 'float'>\n",
      "Id: 2137209584112\n"
     ]
    }
   ],
   "source": [
    "vFloat = 10.2\n",
    "print(\"vFloat:\",vFloat)\n",
    "print(\"Type:\",type(vFloat))\n",
    "print(\"Id:\",id(vFloat))"
   ]
  },
  {
   "cell_type": "markdown",
   "id": "fb519a6b",
   "metadata": {},
   "source": [
    "---------------------------------------------------------------------------\n",
    "==========================================================================================================================\n",
    "### <u>Question 2</u>\n",
    "- **Arithmetic Operations on float**\n",
    " - **Take two different float values.**\n",
    " - **Store them in two different variables.**\n",
    " - **Do below operations on them:-**\n",
    "    > - **Find sum of both numbers**\n",
    "    > - **Find difference between them**\n",
    "    > - **Find the product of both numbers.**\n",
    "    > - **Find value after dividing first num with second number**\n",
    "    > - **Find the remainder after dividing first number with second number**\n",
    "    > - **Find the quotient after dividing first number with second number**\n",
    "    > - **Find the result of first num to the power of second number.**\n",
    "\n",
    "### *Solution -*"
   ]
  },
  {
   "cell_type": "code",
   "execution_count": 12,
   "id": "0661ecec",
   "metadata": {},
   "outputs": [
    {
     "name": "stdout",
     "output_type": "stream",
     "text": [
      "Enter 1st float number: 40.56\n",
      "Enter 2nd float number: 10.23\n",
      "\n",
      "a = 40.56\n",
      "b = 10.23\n",
      "\n",
      "Float of a = 40.56\n",
      "Float of b = 10.23\n",
      "\n",
      "Sum of float 'a' & 'b'                    = 50.790000000000006\n",
      "Difference of float 'a' & 'b'             = 30.330000000000002\n",
      "Product of float 'a' & 'b'                = 414.9288\n",
      "Division of float 'a' by 'b'              = 3.964809384164223\n",
      "Remainder of float 'a' divided by 'b'     = 9.870000000000001\n",
      "Quotient of float 'a' divided by 'b'      = 3.0\n",
      "Exponent of float 'a' to the power of 'b' = 2.8238523875284788e+16\n"
     ]
    }
   ],
   "source": [
    "a = input(\"Enter 1st float number: \")\n",
    "b = input(\"Enter 2nd float number: \")\n",
    "\n",
    "try:\n",
    "    aFloat = float(eval(a))\n",
    "    bFloat = float(eval(b))\n",
    "\n",
    "    print(\"\\na =\", a)\n",
    "    print(\"b =\", b)\n",
    "\n",
    "    print(\"\\nFloat of a =\", aFloat)\n",
    "    print(\"Float of b =\", bFloat)\n",
    "\n",
    "\n",
    "    print(\"\\nSum of float 'a' & 'b'                    =\", aFloat + bFloat)\n",
    "    print(\"Difference of float 'a' & 'b'             =\", aFloat - bFloat)\n",
    "    print(\"Product of float 'a' & 'b'                =\", aFloat * bFloat)\n",
    "    print(\"Division of float 'a' by 'b'              =\", aFloat / bFloat)\n",
    "    print(\"Remainder of float 'a' divided by 'b'     =\", aFloat % bFloat)\n",
    "    print(\"Quotient of float 'a' divided by 'b'      =\", aFloat // bFloat)\n",
    "    print(\"Exponent of float 'a' to the power of 'b' =\", aFloat ** bFloat)\n",
    "except ZeroDivisionError as e:\n",
    "    print (\"\\n\"+e.__class__.__name__,f\": a = {aFloat} and b = {bFloat}, Cannot divide {aFloat} by {bFloat}\")\n",
    "except Exception as e:\n",
    "    print (\"\\n\"+e.__class__.__name__,f\": a = {a} and b = {b}, Wrong data input.\")"
   ]
  },
  {
   "cell_type": "markdown",
   "id": "e022f3d5",
   "metadata": {},
   "source": [
    "---------------------------------------------------------------------------\n",
    "==========================================================================================================================\n",
    "### <u>Question 3</u>\n",
    "- **Comparison Operators on float**\n",
    " - **Take two different float values.**\n",
    " - **Store them in two different variables.**\n",
    " - **Do below operations on them:-**\n",
    " - **Compare these two values with below operator:-**\n",
    "    > - **Greater than, '>'**\n",
    "    > - **Smaller than, '<'**\n",
    "    > - **Greater than or equal to, '>='**\n",
    "    > - **Less than or equal to, '<='**\n",
    "    > - **Observe their output(return type should be boolean)**\n",
    "\n",
    "### *Solution -*"
   ]
  },
  {
   "cell_type": "code",
   "execution_count": 10,
   "id": "48465676",
   "metadata": {},
   "outputs": [
    {
     "name": "stdout",
     "output_type": "stream",
     "text": [
      "Enter 1st float number: 40.56\n",
      "Enter 2nd float number: 10.23\n",
      "\n",
      "a = 40.56\n",
      "b = 10.23\n",
      "\n",
      "Float of a = 40.56\n",
      "Float of b = 10.23\n",
      "\n",
      "Float of 'a' > 'b'   = True\n",
      "Float of 'a' < 'b'   = False\n",
      "Float of 'a' >= 'b'  = True\n",
      "Float of 'a' <= 'b'  = False\n"
     ]
    }
   ],
   "source": [
    "a = input(\"Enter 1st float number: \")\n",
    "b = input(\"Enter 2nd float number: \")\n",
    "\n",
    "try:\n",
    "    aFloat = float(eval(a))\n",
    "    bFloat = float(eval(b))\n",
    "\n",
    "    print(\"\\na =\", a)\n",
    "    print(\"b =\", b)\n",
    "\n",
    "    print(\"\\nFloat of a =\", aFloat)\n",
    "    print(\"Float of b =\", bFloat)\n",
    "\n",
    "\n",
    "    print(\"\\nFloat of 'a' > 'b'   =\", aFloat > bFloat)\n",
    "    print(\"Float of 'a' < 'b'   =\", aFloat < bFloat)\n",
    "    print(\"Float of 'a' >= 'b'  =\", aFloat >= bFloat)\n",
    "    print(\"Float of 'a' <= 'b'  =\", aFloat <= bFloat)\n",
    "\n",
    "except Exception as e:\n",
    "    print (\"\\n\"+e.__class__.__name__,f\": a = {a} and b = {b}, {e.args[0]}. Wrong data input.\")"
   ]
  },
  {
   "cell_type": "markdown",
   "id": "6f6fb7fe",
   "metadata": {},
   "source": [
    "---------------------------------------------------------------------------\n",
    "==========================================================================================================================\n",
    "### <u>Question 4</u>\n",
    "- **Equality Operator**\n",
    " - **Take two different float values.**\n",
    " - **Store them in two different variables.**\n",
    "    > - **Equate them using equality operators (==, !=)**\n",
    "    > - **Observe the output(return type should be boolean)**\n",
    "\n",
    "### *Solution -*"
   ]
  },
  {
   "cell_type": "code",
   "execution_count": 14,
   "id": "56a96488",
   "metadata": {},
   "outputs": [
    {
     "name": "stdout",
     "output_type": "stream",
     "text": [
      "Enter 1st float number: 10.23\n",
      "Enter 2nd float number: 40.56\n",
      "\n",
      "a = 10.23\n",
      "b = 40.56\n",
      "\n",
      "Float of a = 10.23\n",
      "Float of b = 40.56\n",
      "\n",
      "Float of 'a' == 'b'   = False\n",
      "Float of 'a' != 'b'   = True\n"
     ]
    }
   ],
   "source": [
    "a = input(\"Enter 1st float number: \")\n",
    "b = input(\"Enter 2nd float number: \")\n",
    "\n",
    "try:\n",
    "    aFloat = float(eval(a))\n",
    "    bFloat = float(eval(b))\n",
    "\n",
    "    print(\"\\na =\", a)\n",
    "    print(\"b =\", b)\n",
    "\n",
    "    print(\"\\nFloat of a =\", aFloat)\n",
    "    print(\"Float of b =\", bFloat)\n",
    "\n",
    "\n",
    "    print(\"\\nFloat of 'a' == 'b'   =\", aFloat == bFloat)\n",
    "    print(\"Float of 'a' != 'b'   =\", aFloat != bFloat)\n",
    "except Exception as e:\n",
    "    print (\"\\n\"+e.__class__.__name__,f\": a = {a} and b = {b}, {e.args[0]}. Wrong data input.\")"
   ]
  },
  {
   "cell_type": "markdown",
   "id": "1b4006bc",
   "metadata": {},
   "source": [
    "---------------------------------------------------------------------------\n",
    "==========================================================================================================================\n",
    "### <u>Question 5</u>\n",
    "- **Logical operators**\n",
    " - **Observe the output of below code**\n",
    " - **Cross check the output manually**\n",
    "    > - print(10.20 and 20.30)  \n",
    "    > #both are true and second value taken >Output is 20.3\n",
    "    > - print(0.0 and 20.30)  \n",
    "    > #First is false so first value taken->Output is 0.0\n",
    "    > - print(20.30 and 0.0)  \n",
    "    > #Goes to till second and second value is false so second is taken>Output is 0.0\n",
    "    > - print(0.0 and 0.0)  \n",
    "    > #First is false so first value is taken->Output is 0.0\n",
    "    > - print(10.20 or 20.30)  \n",
    "    > #First is True so first value is taken>Output is 10.2\n",
    "    > - print(0.0 or 20.30)  \n",
    "    > #Goes to till second and second is true second value is taken->Output is 20.3\n",
    "    > - print(20.30 or 0.0)  \n",
    "    > #First is True so first value is taken->Output is 20.3\n",
    "    > - print(0.0 or 0.0)  \n",
    "    > #Goes to till second and second is also false and second value is taken>Output is 0.0\n",
    "    > - print(not 10.20)  \n",
    "    > #Not of true is false->Output is False\n",
    "    > - print(not 0.0)  \n",
    "    > #Not of false is True>Output is True\n",
    "\n",
    "### *Solution -*\n",
    "- **Above mentioned output of Logical operators is correct and verified using below code:**  \n",
    "    - ***Using Logical Operators 'and', 'or' & 'not'***\n",
    "        > - **Statement 1):** *Both values result to ***'True'***, operator is ***'and'***, so second value is taken as output i.e. ***'20.3'***.*  \n",
    "        > - **Statement 2):** *First value results to ***'False'***, operator is ***'and'***, so first value is taken as output i.e. ***'0.0'***.*  \n",
    "        > - **Statement 3):** *Second value results to ***'False'***, operator is ***'and'***, so second value is taken as output i.e. ***'0.0'***.*  \n",
    "        > - **Statement 4):** *Both values result to ***'False'***, operator is ***'and'***, so first value is taken as output i.e. ***'0.0'***.*  \n",
    "        > - **Statement 5):** *Both values result to ***'True'***, operator is ***'or'***, so first value is taken as output i.e. ***'10.2'***.*  \n",
    "        > - **Statement 6):** *Second value results to ***'True'***, operator is ***'or'***, so second value is taken as output i.e. ***'20.3'***.*  \n",
    "        > - **Statement 7):** *First value results to ***'True'***, operator is ***'or'***, so first value is taken as output i.e. ***'20.3'***.*  \n",
    "        > - **Statement 8):** *Both values result to ***'False'***, operator is ***'or'***, so second value is taken as output i.e. ***'0.0'***.*  \n",
    "        > - **Statement 9):** *Value results to ***'True'***, operator is ***'not'*** of ***'True'***, so output is ***'False'***.*  \n",
    "        > - **Statement 10):** *Value results to ***'False'***, operator is ***'not'*** of ***'False'***, so output is ***'True'***.*  "
   ]
  },
  {
   "cell_type": "code",
   "execution_count": 15,
   "id": "1bc49145",
   "metadata": {},
   "outputs": [
    {
     "name": "stdout",
     "output_type": "stream",
     "text": [
      "20.3\n",
      "0.0\n",
      "0.0\n",
      "0.0\n",
      "10.2\n",
      "20.3\n",
      "20.3\n",
      "0.0\n",
      "False\n",
      "True\n"
     ]
    }
   ],
   "source": [
    "print(10.20 and 20.30)\n",
    "print(0.0 and 20.30)\n",
    "print(20.30 and 0.0)\n",
    "print(0.0 and 0.0)\n",
    "print(10.20 or 20.30)\n",
    "print(0.0 or 20.30)\n",
    "print(20.30 or 0.0)\n",
    "print(0.0 or 0.0)\n",
    "print(not 10.20)\n",
    "print(not 0.0)"
   ]
  },
  {
   "cell_type": "markdown",
   "id": "0da2f2d8",
   "metadata": {},
   "source": [
    "---------------------------------------------------------------------------\n",
    "==========================================================================================================================\n",
    "### <u>Question 6</u>\n",
    "- **What is the output of expression inside the print statement?**\n",
    " - **Cross check before running the program.**\n",
    "    > *a = 10.20*  \n",
    "    > *b = 10.20*  \n",
    "    > *print(a is b) #True or False? True 10.20<256*  \n",
    "    > *print(a is not b) #True or False? False*  \n",
    "    > *Why the Id of float values are different when the same value is assigned to two different variables?*  \n",
    "    > *ex: a = 10.5 b=10.5. but id will be same if I assign the variable having float i.e. a=c then both a and c's Id are same*\n",
    "\n",
    "### *Solution -*\n",
    "- The ***'is'*** operator actually compares the reference addresses on the variables 'a' and 'b'. It returns True if either argument is assigned to the same object.  \n",
    "- The Python implementation keeps an array of ***'integer'*** objects for all integers between ***'-5'*** and ***'256'***, when we create an int in that range we actually just get back a reference to the existing object. If we create an integer greater than** ***'256'*** or less than ***'-5'***.  \n",
    "-  The rationale is that these ***'integer'*** numbers are used so frequently that it makes no sense to dynamically allocate them each time they are needed, so they are simply reused.\n",
    "- The same is not applicable to ***'float'*** data type. This constant singleton optimization is not useful for float values, there are too many of them!  \n",
    "So each time a new float value is needed, it is allocated; and it gets a different reference address.  \n",
    "\n",
    "\n",
    "- **Above code results to:**\n",
    "    > *a = 10.20*  \n",
    "    > *b = 10.20*  \n",
    "    > *print(a is b) #True or False?* ***#Output is 'False', because the reference address for 'a' and 'b' is different***  \n",
    "    > *print(a is not b)* #True or False? ***#Output is 'True', because the reference address for 'a' and 'b' is different***"
   ]
  },
  {
   "cell_type": "code",
   "execution_count": 38,
   "id": "cbed0fa8",
   "metadata": {},
   "outputs": [
    {
     "name": "stdout",
     "output_type": "stream",
     "text": [
      "False\n",
      "True\n"
     ]
    }
   ],
   "source": [
    "a = 10.20\n",
    "b = 10.20\n",
    "print(a is b)\n",
    "print(a is not b)"
   ]
  },
  {
   "cell_type": "markdown",
   "id": "f177cda6",
   "metadata": {},
   "source": [
    "---------------------------------------------------------------------------\n",
    "==========================================================================================================================\n",
    "### <u>Question 7</u>\n",
    "- **Bitwise operation is not applicable between instances of float.**\n",
    "- **Why the Id of float values are different when the same value is assigned to two different variables?**  \n",
    "  **ex: a = 10.5, b=10.5. but id will be same if I assign the variable having float i.e. a=c then both a and c's Id are same**\n",
    "- **Object reusability concept is not applicable on float values.**\n",
    "\n",
    "### *Solution -*\n",
    "- **Bitwise operation is not applicable between instances of float.**\n",
    "    > - **Bitwise** operators can only be applied to **binary** numbers or which can be represented at **bit** level.  \n",
    "    > - Floating point numbers don't have bits at the level of value representation, which is why we can't apply bitwise operations to them.\n",
    "- **Why the Id of float values are different when the same value is assigned to two different variables?**  \n",
    "  **ex: a = 10.5, b=10.5. but id will be same if I assign the variable having float i.e. a=c then both a and c's Id are same**  \n",
    "    > - The rationale is that these ***'integer'*** numbers are used so frequently that it makes no sense to dynamically allocate them each time they are needed, so they are simply reused.\n",
    "    > - The same is not applicable to ***'float'*** data type. This constant singleton optimization is not useful for float values, there are too many of them!  \n",
    "    > - So each time a new float value is needed, it is allocated; and it gets a different reference address.  \n",
    "- **Object reusability concept is not applicable on float values.**  \n",
    "    > - Object reusability is not possible for **'float'** data types in Python by allocating same value, so we need to reference the variables each time if we need to reuse the object, then it will reference to original value."
   ]
  },
  {
   "cell_type": "code",
   "execution_count": 48,
   "id": "52d56aaa",
   "metadata": {},
   "outputs": [
    {
     "name": "stdout",
     "output_type": "stream",
     "text": [
      "Enter 1st float number: 10.23\n",
      "Enter 2nd float number: 10.23\n",
      "\n",
      "a = 10.23\n",
      "b = 10.23\n",
      "c = 10.23\n",
      "\n",
      "Float of a = 10.23\n",
      "Float of b = 10.23\n",
      "Float of c = 10.23\n",
      "\n",
      "Id of Float of a = 2137209869712\n",
      "Id of Float of b = 2137209870704\n",
      "Id of Float of c = 2137209870704\n",
      "\n",
      "TypeError : a = 10.23 and b = 10.23, unsupported operand type(s) for &: 'str' and 'str'. Bitwise Operators (&, |, ~, <<, >>) cannot be used on float data type.\n"
     ]
    }
   ],
   "source": [
    "a = input(\"Enter 1st float number: \")\n",
    "b = input(\"Enter 2nd float number: \")\n",
    "c = b\n",
    "try:\n",
    "    aFloat = float(eval(a))\n",
    "    bFloat = float(eval(b))\n",
    "    cFloat = bFloat\n",
    "\n",
    "    print(\"\\na =\", a)\n",
    "    print(\"b =\", b)\n",
    "    print(\"c =\", c)\n",
    "\n",
    "    print(\"\\nFloat of a =\", aFloat)\n",
    "    print(\"Float of b =\", bFloat)\n",
    "    print(\"Float of c =\", cFloat)\n",
    "\n",
    "    print(\"\\nId of Float of a =\", id(aFloat))\n",
    "    print(\"Id of Float of b =\", id(bFloat))\n",
    "    print(\"Id of Float of c =\", id(cFloat))\n",
    "    \n",
    "    print(a & b)\n",
    "\n",
    "except TypeError as e:\n",
    "    print (\"\\n\"+e.__class__.__name__,f\": a = {aFloat} and b = {bFloat}, {e.args[0]}. Bitwise Operators (&, |, ~, <<, >>) cannot be used on float data type.\")\n",
    "except Exception as e:\n",
    "    print (\"\\n\"+e.__class__.__name__,f\": a = {a} and b = {b}, {e.args[0]}. Wrong data input.\")"
   ]
  },
  {
   "cell_type": "markdown",
   "id": "d3fb0ee7",
   "metadata": {},
   "source": [
    "---------------------------------------------------------------------------\n",
    "==========================================================================================================================\n",
    "### <u>Question 8</u>\n",
    "- **Membership operation**\n",
    " - **in, not in are two membership operators and it returns boolean value**\n",
    "    > *print('2.7' in 'Python2.7.8') #True*  \n",
    "    > *print(10.20 in [10,10.20,10+20j,'Python']) #True*  \n",
    "    > *print(10.20 in (10,10.20,10+20j,'Python')) # True*  \n",
    "    > *print(20.30 in {1,20.30,30+40j}) # True*  \n",
    "    > *print(2.3 in {1:100, 2.3:200, 30+40j:300}) # True*  \n",
    "    > *print(10 in range(20)) # True*\n",
    "\n",
    "### *Solution -*\n",
    "- **Above code results to:**\n",
    "    > *print('2.7' in 'Python2.7.8')* ***#Output is True***  \n",
    "    > *print(10.20 in [10,10.20,10+20j,'Python'])* ***#Output is True***  \n",
    "    > *print(10.20 in (10,10.20,10+20j,'Python'))* ***#Output is True***  \n",
    "    > *print(20.30 in {1,20.30,30+40j})* ***#Output is True***  \n",
    "    > *print(2.3 in {1:100, 2.3:200, 30+40j:300})* ***#Output is True***  \n",
    "    > *print(10 in range(20))* ***#Output is True***"
   ]
  },
  {
   "cell_type": "code",
   "execution_count": 51,
   "id": "26cd3b5b",
   "metadata": {},
   "outputs": [
    {
     "name": "stdout",
     "output_type": "stream",
     "text": [
      "True\n",
      "True\n",
      "True\n",
      "True\n",
      "True\n",
      "True\n"
     ]
    }
   ],
   "source": [
    "print('2.7' in 'Python2.7.8') #True\n",
    "print(10.20 in [10,10.20,10+20j,'Python']) #True\n",
    "print(10.20 in (10,10.20,10+20j,'Python')) # True\n",
    "print(20.30 in {1,20.30,30+40j}) # True\n",
    "print(2.3 in {1:100, 2.3:200, 30+40j:300}) # True\n",
    "print(10 in range(20)) # True"
   ]
  }
 ],
 "metadata": {
  "kernelspec": {
   "display_name": "Python 3",
   "language": "python",
   "name": "python3"
  },
  "language_info": {
   "codemirror_mode": {
    "name": "ipython",
    "version": 3
   },
   "file_extension": ".py",
   "mimetype": "text/x-python",
   "name": "python",
   "nbconvert_exporter": "python",
   "pygments_lexer": "ipython3",
   "version": "3.8.8"
  }
 },
 "nbformat": 4,
 "nbformat_minor": 5
}
