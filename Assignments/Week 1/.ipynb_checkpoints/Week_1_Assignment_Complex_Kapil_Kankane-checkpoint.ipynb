{
 "cells": [
  {
   "cell_type": "markdown",
   "id": "9c1b6e9b",
   "metadata": {},
   "source": [
    "# Week - 1 Assignment - 10th August"
   ]
  },
  {
   "cell_type": "markdown",
   "id": "d575873d",
   "metadata": {},
   "source": [
    "## ***Complex***"
   ]
  },
  {
   "cell_type": "markdown",
   "id": "94404bf9",
   "metadata": {},
   "source": [
    "---------------------------------------------------------------------------\n",
    "==========================================================================================================================\n",
    "### <u>Question 1</u> \n",
    "> - **Declare a complex number and store it in a variable.**\n",
    "> - **Check the type and print the id of the same.**\n",
    "### *Solution -*"
   ]
  },
  {
   "cell_type": "code",
   "execution_count": 2,
   "id": "722758ba",
   "metadata": {},
   "outputs": [
    {
     "name": "stdout",
     "output_type": "stream",
     "text": [
      "vComplex: (1+2j)\n",
      "Type: <class 'complex'>\n",
      "Id: 2151386940368\n"
     ]
    }
   ],
   "source": [
    "vComplex = 1+2j\n",
    "print(\"vComplex:\",vComplex)\n",
    "print(\"Type:\",type(vComplex))\n",
    "print(\"Id:\",id(vComplex))"
   ]
  },
  {
   "cell_type": "markdown",
   "id": "af4f494b",
   "metadata": {},
   "source": [
    "---------------------------------------------------------------------------\n",
    "==========================================================================================================================\n",
    "### <u>Question 2</u>\n",
    "- **Arithmetic Operations on complex number**\n",
    " - **Take two different complex numbers.**\n",
    " - **Store them in two different variables.**\n",
    " - **Do below operations on them:-**\n",
    "    > - **Find sum of both numbers**\n",
    "    > - **Find difference between them**\n",
    "    > - **Find the product of both numbers.**\n",
    "    > - **Find value after dividing first num with second number**\n",
    "    > - **Find the result of the first num to the power of the second number.**\n",
    "\n",
    "### *Solution -*"
   ]
  },
  {
   "cell_type": "code",
   "execution_count": 45,
   "id": "9a09092d",
   "metadata": {},
   "outputs": [
    {
     "name": "stdout",
     "output_type": "stream",
     "text": [
      "Enter 1st complex number: 1+2j\n",
      "Enter 2nd complex number: 2+3j\n",
      "\n",
      "a = 1+2j\n",
      "b = 2+3j\n",
      "\n",
      "Complex of a = (1+2j)\n",
      "Complex of b = (2+3j)\n",
      "\n",
      "Sum of Complex 'a' & 'b'                    = (3+5j)\n",
      "Difference of Complex 'a' & 'b'             = (-1-1j)\n",
      "Product of Complex 'a' & 'b'                = (-4+7j)\n",
      "Division of Complex 'a' by 'b'              = (0.6153846153846154+0.07692307692307691j)\n",
      "Exponent of Complex 'a' to the power of 'b' = (-0.01513267242272266-0.179867483913335j)\n"
     ]
    }
   ],
   "source": [
    "a = input(\"Enter 1st complex number: \")\n",
    "b = input(\"Enter 2nd complex number: \")\n",
    "\n",
    "try:\n",
    "    aComplex = complex(eval(a))\n",
    "    bComplex = complex(eval(b))\n",
    "\n",
    "    print(\"\\na =\", a)\n",
    "    print(\"b =\", b)\n",
    "\n",
    "    print(\"\\nComplex of a =\", aComplex)\n",
    "    print(\"Complex of b =\", bComplex)\n",
    "\n",
    "    print(\"\\nSum of Complex 'a' & 'b'                    =\", aComplex + bComplex)\n",
    "    print(\"Difference of Complex 'a' & 'b'             =\", aComplex - bComplex)\n",
    "    print(\"Product of Complex 'a' & 'b'                =\", aComplex * bComplex)\n",
    "    print(\"Division of Complex 'a' by 'b'              =\", aComplex / bComplex)\n",
    "    print(\"Exponent of Complex 'a' to the power of 'b' =\", aComplex ** bComplex)\n",
    "except ZeroDivisionError as e:\n",
    "    print (\"\\n\"+e.__class__.__name__,f\": a = {aComplex} and b = {bComplex}, {e.args[0]}. Cannot divide {aComplex} by {bComplex}\")\n",
    "except Exception as e:\n",
    "    print (\"\\n\"+e.__class__.__name__,f\": a = {a} and b = {b}, {e.args[0]}. Wrong data input.\")"
   ]
  },
  {
   "cell_type": "markdown",
   "id": "fb519a6b",
   "metadata": {},
   "source": [
    "---------------------------------------------------------------------------\n",
    "==========================================================================================================================\n",
    "### <u>Question 3</u>\n",
    "- **Comparison Operation not applicable between instance of complex values.**\n",
    "- **Object reusability concept is not applicable on complex number**\n",
    "\n",
    "### *Solution -*\n",
    "- **Comparison Operation not applicable between instance of complex values.**\n",
    "    > Comparison operators **(<, >, <=, >=)** cannot be applied on complex numbers and it will throw **\"TypeError\"** exception.  \n",
    "    > Only operators **(==, !=)** can be used.\n",
    "\n",
    "- **Object reusability concept is not applicable on complex number**\n",
    "    > Object reusability is possible in Python and we can create and reuse the complex numbers as long as they are referenced by correct variables."
   ]
  },
  {
   "cell_type": "code",
   "execution_count": 53,
   "id": "dbf6120f",
   "metadata": {},
   "outputs": [
    {
     "name": "stdout",
     "output_type": "stream",
     "text": [
      "Enter 1st complex number: 1+2j\n",
      "Enter 2nd complex number: 2+3j\n",
      "\n",
      "a = 1+2j\n",
      "b = 2+3j\n",
      "\n",
      "Complex of a = (1+2j)\n",
      "Complex of b = (2+3j)\n",
      "\n",
      "TypeError : a = (1+2j) and b = (2+3j), '>=' not supported between instances of 'complex' and 'complex'. Comparison Operators (<, >, <=, >=) cannot be used on complex numbers.\n"
     ]
    }
   ],
   "source": [
    "a = input(\"Enter 1st complex number: \")\n",
    "b = input(\"Enter 2nd complex number: \")\n",
    "\n",
    "try:\n",
    "    aComplex = complex(eval(a))\n",
    "    bComplex = complex(eval(b))\n",
    "\n",
    "    print(\"\\na =\", a)\n",
    "    print(\"b =\", b)\n",
    "\n",
    "    print(\"\\nComplex of a =\", aComplex)\n",
    "    print(\"Complex of b =\", bComplex)\n",
    "\n",
    "    print(\"Complex of 'a' != 'b'   =\", aComplex >= bComplex)\n",
    "except TypeError as e:\n",
    "    print (\"\\n\"+e.__class__.__name__,f\": a = {aComplex} and b = {bComplex}, {e.args[0]}. Comparison Operators (<, >, <=, >=) cannot be used on complex numbers.\")\n",
    "except Exception as e:\n",
    "    print (\"\\n\"+e.__class__.__name__,f\": a = {a} and b = {b}, {e.args[0]}. Wrong data input.\")"
   ]
  },
  {
   "cell_type": "markdown",
   "id": "e022f3d5",
   "metadata": {},
   "source": [
    "---------------------------------------------------------------------------\n",
    "==========================================================================================================================\n",
    "### <u>Question 4</u>\n",
    "- **Equality Operator**\n",
    " - **Take two different complex numbers.**\n",
    " - **Store them in two different variables.**\n",
    "    > - **Equate them using equality operators (==, !=)**\n",
    "    > - **Observe the output(return type should be boolean)**\n",
    "\n",
    "### *Solution -*"
   ]
  },
  {
   "cell_type": "code",
   "execution_count": 51,
   "id": "48465676",
   "metadata": {},
   "outputs": [
    {
     "name": "stdout",
     "output_type": "stream",
     "text": [
      "Enter 1st complex number: 1+2j\n",
      "Enter 2nd complex number: 2+3j\n",
      "\n",
      "a = 1+2j\n",
      "b = 2+3j\n",
      "\n",
      "Complex of a = (1+2j)\n",
      "Complex of b = (2+3j)\n",
      "\n",
      "Complex of 'a' == 'b'   = False\n",
      "Complex of 'a' != 'b'   = True\n"
     ]
    }
   ],
   "source": [
    "a = input(\"Enter 1st complex number: \")\n",
    "b = input(\"Enter 2nd complex number: \")\n",
    "\n",
    "try:\n",
    "    aComplex = complex(eval(a))\n",
    "    bComplex = complex(eval(b))\n",
    "\n",
    "    print(\"\\na =\", a)\n",
    "    print(\"b =\", b)\n",
    "\n",
    "    print(\"\\nComplex of a =\", aComplex)\n",
    "    print(\"Complex of b =\", bComplex)\n",
    "\n",
    "\n",
    "    print(\"\\nComplex of 'a' == 'b'   =\", aComplex == bComplex)\n",
    "    print(\"Complex of 'a' != 'b'   =\", aComplex != bComplex)\n",
    "\n",
    "except Exception as e:\n",
    "    print (\"\\n\"+e.__class__.__name__,f\": a = {a} and b = {b}, {e.args[0]}. Wrong data input.\")"
   ]
  },
  {
   "cell_type": "markdown",
   "id": "6f6fb7fe",
   "metadata": {},
   "source": [
    "---------------------------------------------------------------------------\n",
    "==========================================================================================================================\n",
    "### <u>Question 5</u>\n",
    "- **Logical operators**\n",
    " - **Observe the output of below code**\n",
    " - **Cross check the output manually**\n",
    "    > - print(10+20j and 20+30j) #20+30j  \n",
    "    > #----------------------------------------->Output is 20+30j\n",
    "    > - print(0+0j and 20+30j) #0+0j  \n",
    "    > #----------------------------------------->Output is 0j\n",
    "    > - print(20+30j and 0+0j) #0+0j  \n",
    "    > #----------------------------------------->Output is 0j\n",
    "    > - print(0+0j and 0+0j) #0+0j  \n",
    "    > #----------------------------------------->Output is 0j\n",
    "    > - print(10+20j or 20+30j) #10+20j  \n",
    "    > #----------------------------------------->Output is 10+20j\n",
    "    > - print(0+0j or 20+30j) #20+30j  \n",
    "    > #----------------------------------------->Output is 20+30j\n",
    "    > - print(20+30j or 0+0j) #20+30j  \n",
    "    > #----------------------------------------->Output is 20+30j\n",
    "    > - print(0+0j or 0+0j) #0+0j  \n",
    "    > #----------------------------------------->Output is 0j\n",
    "    > - print(not 10+20j) #False  \n",
    "    > #----------------------------------------->Output is False\n",
    "    > - print(not 0+0j) #True  \n",
    "    > #----------------------------------------->Output is True\n",
    "\n",
    "### *Solution -*\n",
    "- **Above mentioned output of Logical operators is correct and verified using below code:**  \n",
    "    - ***Using Logical Operators 'and', 'or' & 'not'***\n",
    "        > - **Statement 1):** *Both values result to ***'True'***, operator is ***'and'***, so output is ***'(20+30j)'***.*  \n",
    "        > - **Statement 2):** *First value results to ***'False'***, operator is ***'and'***, so output is '0+0j' i.e. ***'0j'***.*  \n",
    "        > - **Statement 3):** *Second value results to ***'False'***, operator is ***'and'***, so output is '0+0j' i.e. ***'0j'***.*  \n",
    "        > - **Statement 4):** *Both values result to ***'False'***, operator is ***'and'***, so output is '0+0j' i.e. ***'0j'***.*  \n",
    "        > - **Statement 5):** *Both values result to ***'True'***, operator is ***'or'***, so output is first value i.e. ***'10+20j'***.*  \n",
    "        > - **Statement 6):** *Second value results to ***'True'***, operator is ***'or'***, so output is ***'20+30j'***.*  \n",
    "        > - **Statement 7):** *First value results to ***'True'***, operator is ***'or'***, so output is ***'20+30j'***.*  \n",
    "        > - **Statement 8):** *Both values result to ***'False'***, operator is ***'or'***, so output is first value '0+0j' i.e. ***'0j'***.*  \n",
    "        > - **Statement 9):** *Value results to ***'True'***, operator is ***'not'*** of ***'True'***, so output is ***'False'***.*  \n",
    "        > - **Statement 10):** *Value is ***'False'***, operator is ***'not'*** of ***'False'***, so output is ***'True'***.*  "
   ]
  },
  {
   "cell_type": "code",
   "execution_count": 60,
   "id": "56a96488",
   "metadata": {},
   "outputs": [
    {
     "name": "stdout",
     "output_type": "stream",
     "text": [
      "10+20j and 20+30j : (20+30j)\n",
      "0+0j and 20+30j   : 0j\n",
      "20+30j and 0+0j   : 0j\n",
      "0+0j and 0+0j     : 0j\n",
      "10+20j or 20+30j  : (10+20j)\n",
      "0+0j or 20+30j    : (20+30j)\n",
      "20+30j or 0+0j    : (20+30j)\n",
      "0+0j or 0+0j      : 0j\n",
      "not 10+20j        : False\n",
      "not 0+0j          : True\n"
     ]
    }
   ],
   "source": [
    "print(\"10+20j and 20+30j :\",10+20j and 20+30j)\n",
    "print(\"0+0j and 20+30j   :\",0+0j and 20+30j)\n",
    "print(\"20+30j and 0+0j   :\",20+30j and 0+0j)\n",
    "print(\"0+0j and 0+0j     :\",0+0j and 0+0j)\n",
    "print(\"10+20j or 20+30j  :\",10+20j or 20+30j)\n",
    "print(\"0+0j or 20+30j    :\",0+0j or 20+30j)\n",
    "print(\"20+30j or 0+0j    :\",20+30j or 0+0j)\n",
    "print(\"0+0j or 0+0j      :\",0+0j or 0+0j)\n",
    "print(\"not 10+20j        :\",not 10+20j)\n",
    "print(\"not 0+0j          :\",not 0+0j)"
   ]
  },
  {
   "cell_type": "markdown",
   "id": "1b4006bc",
   "metadata": {},
   "source": [
    "---------------------------------------------------------------------------\n",
    "==========================================================================================================================\n",
    "### <u>Question 6</u>\n",
    "- **What is the output of expression inside the print statement?**\n",
    " - **Cross check before running the program.**\n",
    "    > *a = 10+20j*  \n",
    "    > *b = 10+20j*  \n",
    "    > *print(a is b) #False #True or False?*  \n",
    "    > *print(a is not b) #True #True or False?*  \n",
    "\n",
    "### *Solution -*\n",
    "\n",
    "- **Above code results to:**\n",
    "    > *a = 10+20j*  \n",
    "    > *b = 10+20j*  \n",
    "    > *print(a is b) #False #True or False?* ***#Output is False***  \n",
    "    > *print(a is not b) #True #True or False?* ***#Output is True***  "
   ]
  },
  {
   "cell_type": "code",
   "execution_count": 61,
   "id": "1bc49145",
   "metadata": {},
   "outputs": [
    {
     "name": "stdout",
     "output_type": "stream",
     "text": [
      "False\n",
      "True\n"
     ]
    }
   ],
   "source": [
    "a = 10+20j\n",
    "b = 10+20j\n",
    "print(a is b)\n",
    "print(a is not b)"
   ]
  },
  {
   "cell_type": "markdown",
   "id": "f177cda6",
   "metadata": {},
   "source": [
    "---------------------------------------------------------------------------\n",
    "==========================================================================================================================\n",
    "### <u>Question 7</u>\n",
    "- **Membership operation**\n",
    " - **in, not in are two membership operators and it returns boolean value**\n",
    "    > *print('2.7' in 'Python2.7.8') #True*  \n",
    "    > *print(10+20j in [10,10.20,10+20j,'Python']) #True*  \n",
    "    > *print(10+20j in (10,10.20,10+20j,'Python')) #True*  \n",
    "    > *print(30+40j in {1,20.30,30+40j}) #True*  \n",
    "    > *print(30+40j in {1:100, 2.3:200, 30+40j:300}) #True*  \n",
    "    > *print(10 in range(20)) #True*\n",
    "\n",
    "### *Solution -*\n",
    "- **Above code results to:**\n",
    "    > *print('2.7' in 'Python2.7.8')* ***#Output is True***  \n",
    "    > *print(10+20j in [10,10.20,10+20j,'Python'])* ***#Output is True***  \n",
    "    > *print(10+20j in (10,10.20,10+20j,'Python'))* ***#Output is True***  \n",
    "    > *print(30+40j in {1,20.30,30+40j})* ***#Output is True***  \n",
    "    > *print(30+40j in {1:100, 2.3:200, 30+40j:300})* ***#Output is True***  \n",
    "    > *print(10 in range(20))* ***#Output is True***"
   ]
  },
  {
   "cell_type": "code",
   "execution_count": 63,
   "id": "52d56aaa",
   "metadata": {},
   "outputs": [
    {
     "name": "stdout",
     "output_type": "stream",
     "text": [
      "True\n",
      "True\n",
      "True\n",
      "True\n",
      "True\n",
      "True\n"
     ]
    }
   ],
   "source": [
    "print('2.7' in 'Python2.7.8') #True\n",
    "print(10+20j in [10,10.20,10+20j,'Python']) #True\n",
    "print(10+20j in (10,10.20,10+20j,'Python')) #True\n",
    "print(30+40j in {1,20.30,30+40j}) #True\n",
    "print(30+40j in {1:100, 2.3:200, 30+40j:300}) #True\n",
    "print(10 in range(20)) #True"
   ]
  },
  {
   "cell_type": "markdown",
   "id": "f10dc9e8",
   "metadata": {},
   "source": []
  }
 ],
 "metadata": {
  "kernelspec": {
   "display_name": "Python 3",
   "language": "python",
   "name": "python3"
  },
  "language_info": {
   "codemirror_mode": {
    "name": "ipython",
    "version": 3
   },
   "file_extension": ".py",
   "mimetype": "text/x-python",
   "name": "python",
   "nbconvert_exporter": "python",
   "pygments_lexer": "ipython3",
   "version": "3.8.8"
  }
 },
 "nbformat": 4,
 "nbformat_minor": 5
}
