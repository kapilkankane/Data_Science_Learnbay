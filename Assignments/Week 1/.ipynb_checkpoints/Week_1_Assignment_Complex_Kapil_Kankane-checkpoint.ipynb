{
 "cells": [
  {
   "cell_type": "markdown",
   "id": "9c1b6e9b",
   "metadata": {},
   "source": [
    "# Week - 1 Assignment - 10th August : Submitted By Kapil Kankane"
   ]
  },
  {
   "cell_type": "markdown",
   "id": "d575873d",
   "metadata": {},
   "source": [
    "## ***Complex***"
   ]
  },
  {
   "cell_type": "markdown",
   "id": "94404bf9",
   "metadata": {},
   "source": [
    "---------------------------------------------------------------------------\n",
    "==========================================================================================================================\n",
    "### <u>Question 1</u> \n",
    "> - **Declare a complex number and store it in a variable.**\n",
    "> - **Check the type and print the id of the same.**\n",
    "### *Solution -*"
   ]
  },
  {
   "cell_type": "code",
   "execution_count": 2,
   "id": "722758ba",
   "metadata": {},
   "outputs": [
    {
     "name": "stdout",
     "output_type": "stream",
     "text": [
      "vComplex: (1+2j)\n",
      "Type: <class 'complex'>\n",
      "Id: 2151386940368\n"
     ]
    }
   ],
   "source": [
    "vComplex = 1+2j\n",
    "print(\"vComplex:\",vComplex)\n",
    "print(\"Type:\",type(vComplex))\n",
    "print(\"Id:\",id(vComplex))"
   ]
  },
  {
   "cell_type": "markdown",
   "id": "af4f494b",
   "metadata": {},
   "source": [
    "---------------------------------------------------------------------------\n",
    "==========================================================================================================================\n",
    "### <u>Question 2</u>\n",
    "- **Arithmetic Operations on complex number**\n",
    " - **Take two different complex numbers.**\n",
    " - **Store them in two different variables.**\n",
    " - **Do below operations on them:-**\n",
    "    > - **Find sum of both numbers**\n",
    "    > - **Find difference between them**\n",
    "    > - **Find the product of both numbers.**\n",
    "    > - **Find value after dividing first num with second number**\n",
    "    > - **Find the result of the first num to the power of the second number.**\n",
    "\n",
    "### *Solution -*"
   ]
  },
  {
   "cell_type": "code",
   "execution_count": 45,
   "id": "9a09092d",
   "metadata": {},
   "outputs": [
    {
     "name": "stdout",
     "output_type": "stream",
     "text": [
      "Enter 1st complex number: 1+2j\n",
      "Enter 2nd complex number: 2+3j\n",
      "\n",
      "a = 1+2j\n",
      "b = 2+3j\n",
      "\n",
      "Complex of a = (1+2j)\n",
      "Complex of b = (2+3j)\n",
      "\n",
      "Sum of Complex 'a' & 'b'                    = (3+5j)\n",
      "Difference of Complex 'a' & 'b'             = (-1-1j)\n",
      "Product of Complex 'a' & 'b'                = (-4+7j)\n",
      "Division of Complex 'a' by 'b'              = (0.6153846153846154+0.07692307692307691j)\n",
      "Exponent of Complex 'a' to the power of 'b' = (-0.01513267242272266-0.179867483913335j)\n"
     ]
    }
   ],
   "source": [
    "a = input(\"Enter 1st complex number: \")\n",
    "b = input(\"Enter 2nd complex number: \")\n",
    "\n",
    "try:\n",
    "    aComplex = complex(eval(a))\n",
    "    bComplex = complex(eval(b))\n",
    "\n",
    "    print(\"\\na =\", a)\n",
    "    print(\"b =\", b)\n",
    "\n",
    "    print(\"\\nComplex of a =\", aComplex)\n",
    "    print(\"Complex of b =\", bComplex)\n",
    "\n",
    "    print(\"\\nSum of Complex 'a' & 'b'                    =\", aComplex + bComplex)\n",
    "    print(\"Difference of Complex 'a' & 'b'             =\", aComplex - bComplex)\n",
    "    print(\"Product of Complex 'a' & 'b'                =\", aComplex * bComplex)\n",
    "    print(\"Division of Complex 'a' by 'b'              =\", aComplex / bComplex)\n",
    "    print(\"Exponent of Complex 'a' to the power of 'b' =\", aComplex ** bComplex)\n",
    "except ZeroDivisionError as e:\n",
    "    print (\"\\n\"+e.__class__.__name__,f\": a = {aComplex} and b = {bComplex}, {e.args[0]}. Cannot divide {aComplex} by {bComplex}\")\n",
    "except Exception as e:\n",
    "    print (\"\\n\"+e.__class__.__name__,f\": a = {a} and b = {b}, {e.args[0]}. Wrong data input.\")"
   ]
  },
  {
   "cell_type": "markdown",
   "id": "fb519a6b",
   "metadata": {},
   "source": [
    "---------------------------------------------------------------------------\n",
    "==========================================================================================================================\n",
    "### <u>Question 3</u>\n",
    "- **Comparison Operation not applicable between instance of complex values.**\n",
    "- **Object reusability concept is not applicable on complex number**\n",
    "\n",
    "### *Solution -*\n",
    "- **Comparison Operation not applicable between instance of complex values.**\n",
    "    > - Comparison operators **(<, >, <=, >=)** cannot be applied on complex numbers and it will throw **\"TypeError\"** exception.  \n",
    "    > - Only operators **(==, !=)** can be used.\n",
    "\n",
    "- **Object reusability concept is not applicable on complex number**\n",
    "    > - Object reusability is not possible for **'complex'** data types in Python by allocating same value, so we need to reference the variables each time if we need to reuse the object, then it will reference to original value.  \n",
    "    > - The Python implementation keeps an array of ***'integer'*** objects for all integers between ***'-5'*** and ***'256'***, when we create an ***'int'*** in that range we actually just get back a reference to the existing object.  \n",
    "    > - If we create integers greater than ***'256'*** or less than ***'-5'***, then the reference will change even for same values, and will result in different 'Id'.  \n",
    "    > - The rationale is that these ***'integer'*** numbers are used so frequently that it makes no sense to dynamically allocate them each time they are needed, so they are simply reused.\n",
    "    > - The same is not applicable to ***'complex'*** data type. This constant singleton optimization is not useful for complex values, there are too many of them!.  \n",
    "    >   So each time a new complex value is needed it is allocated, and it gets a different reference address.  "
   ]
  },
  {
   "cell_type": "code",
   "execution_count": 1,
   "id": "dbf6120f",
   "metadata": {},
   "outputs": [
    {
     "name": "stdout",
     "output_type": "stream",
     "text": [
      "Enter 1st complex number: 10+20j\n",
      "Enter 2nd complex number: 20+30j\n",
      "\n",
      "a = 10+20j\n",
      "b = 20+30j\n",
      "\n",
      "Complex of a = (10+20j)\n",
      "Complex of b = (20+30j)\n",
      "\n",
      "TypeError : a = (10+20j) and b = (20+30j), '>=' not supported between instances of 'complex' and 'complex'. Comparison Operators (<, >, <=, >=) cannot be used on complex numbers.\n"
     ]
    }
   ],
   "source": [
    "a = input(\"Enter 1st complex number: \")\n",
    "b = input(\"Enter 2nd complex number: \")\n",
    "\n",
    "try:\n",
    "    aComplex = complex(eval(a))\n",
    "    bComplex = complex(eval(b))\n",
    "\n",
    "    print(\"\\na =\", a)\n",
    "    print(\"b =\", b)\n",
    "\n",
    "    print(\"\\nComplex of a =\", aComplex)\n",
    "    print(\"Complex of b =\", bComplex)\n",
    "\n",
    "    print(\"Complex of 'a' != 'b'   =\", aComplex >= bComplex)\n",
    "except TypeError as e:\n",
    "    print (\"\\n\"+e.__class__.__name__,f\": a = {aComplex} and b = {bComplex}, {e.args[0]}. Comparison Operators (<, >, <=, >=) cannot be used on complex numbers.\")\n",
    "except Exception as e:\n",
    "    print (\"\\n\"+e.__class__.__name__,f\": a = {a} and b = {b}, {e.args[0]}. Wrong data input.\")"
   ]
  },
  {
   "cell_type": "code",
   "execution_count": 5,
   "id": "483724ea",
   "metadata": {},
   "outputs": [
    {
     "name": "stdout",
     "output_type": "stream",
     "text": [
      "Enter 1st complex number: 10+20j\n",
      "Enter 2nd complex number: 10+20j\n",
      "\n",
      "a = 10+20j\n",
      "b = 10+20j\n",
      "c = 10+20j\n",
      "\n",
      "Complex of a = (10+20j)\n",
      "Complex of b = (10+20j)\n",
      "Complex of c = (10+20j)\n",
      "\n",
      "Id of Complex of a = 1916601996720\n",
      "Id of Complex of b = 1916601996528\n",
      "Id of Complex of c = 1916601996528\n"
     ]
    }
   ],
   "source": [
    "a = input(\"Enter 1st complex number: \")\n",
    "b = input(\"Enter 2nd complex number: \")\n",
    "c = b\n",
    "try:\n",
    "    aComplex = complex(eval(a))\n",
    "    bComplex = complex(eval(b))\n",
    "    cComplex = bComplex\n",
    "\n",
    "    print(\"\\na =\", a)\n",
    "    print(\"b =\", b)\n",
    "    print(\"c =\", c)\n",
    "\n",
    "    print(\"\\nComplex of a =\", aComplex)\n",
    "    print(\"Complex of b =\", bComplex)\n",
    "    print(\"Complex of c =\", cComplex)\n",
    "\n",
    "    print(\"\\nId of Complex of a =\", id(aComplex))\n",
    "    print(\"Id of Complex of b =\", id(bComplex))\n",
    "    print(\"Id of Complex of c =\", id(cComplex))\n",
    "except Exception as e:\n",
    "    print (\"\\n\"+e.__class__.__name__,f\": a = {a} and b = {b}, {e.args[0]}. Wrong data input.\")"
   ]
  },
  {
   "cell_type": "markdown",
   "id": "e022f3d5",
   "metadata": {},
   "source": [
    "---------------------------------------------------------------------------\n",
    "==========================================================================================================================\n",
    "### <u>Question 4</u>\n",
    "- **Equality Operator**\n",
    " - **Take two different complex numbers.**\n",
    " - **Store them in two different variables.**\n",
    "    > - **Equate them using equality operators (==, !=)**\n",
    "    > - **Observe the output(return type should be boolean)**\n",
    "\n",
    "### *Solution -*"
   ]
  },
  {
   "cell_type": "code",
   "execution_count": 51,
   "id": "48465676",
   "metadata": {},
   "outputs": [
    {
     "name": "stdout",
     "output_type": "stream",
     "text": [
      "Enter 1st complex number: 1+2j\n",
      "Enter 2nd complex number: 2+3j\n",
      "\n",
      "a = 1+2j\n",
      "b = 2+3j\n",
      "\n",
      "Complex of a = (1+2j)\n",
      "Complex of b = (2+3j)\n",
      "\n",
      "Complex of 'a' == 'b'   = False\n",
      "Complex of 'a' != 'b'   = True\n"
     ]
    }
   ],
   "source": [
    "a = input(\"Enter 1st complex number: \")\n",
    "b = input(\"Enter 2nd complex number: \")\n",
    "\n",
    "try:\n",
    "    aComplex = complex(eval(a))\n",
    "    bComplex = complex(eval(b))\n",
    "\n",
    "    print(\"\\na =\", a)\n",
    "    print(\"b =\", b)\n",
    "\n",
    "    print(\"\\nComplex of a =\", aComplex)\n",
    "    print(\"Complex of b =\", bComplex)\n",
    "\n",
    "\n",
    "    print(\"\\nComplex of 'a' == 'b'   =\", aComplex == bComplex)\n",
    "    print(\"Complex of 'a' != 'b'   =\", aComplex != bComplex)\n",
    "\n",
    "except Exception as e:\n",
    "    print (\"\\n\"+e.__class__.__name__,f\": a = {a} and b = {b}, {e.args[0]}. Wrong data input.\")"
   ]
  },
  {
   "cell_type": "markdown",
   "id": "6f6fb7fe",
   "metadata": {},
   "source": [
    "---------------------------------------------------------------------------\n",
    "==========================================================================================================================\n",
    "### <u>Question 5</u>\n",
    "- **Logical operators**\n",
    " - **Observe the output of below code**\n",
    " - **Cross check the output manually**\n",
    "```python\n",
    "    > print(10+20j and 20+30j) #20+30j  \n",
    "    > #----------------------------------------->Output is 20+30j\n",
    "    > print(0+0j and 20+30j) #0+0j  \n",
    "    > #----------------------------------------->Output is 0j\n",
    "    > print(20+30j and 0+0j) #0+0j  \n",
    "    > #----------------------------------------->Output is 0j\n",
    "    > print(0+0j and 0+0j) #0+0j  \n",
    "    > #----------------------------------------->Output is 0j\n",
    "    > print(10+20j or 20+30j) #10+20j  \n",
    "    > #----------------------------------------->Output is 10+20j\n",
    "    > print(0+0j or 20+30j) #20+30j  \n",
    "    > #----------------------------------------->Output is 20+30j\n",
    "    > print(20+30j or 0+0j) #20+30j  \n",
    "    > #----------------------------------------->Output is 20+30j\n",
    "    > print(0+0j or 0+0j) #0+0j  \n",
    "    > #----------------------------------------->Output is 0j\n",
    "    > print(not 10+20j) #False  \n",
    "    > #----------------------------------------->Output is False\n",
    "    > print(not 0+0j) #True  \n",
    "    > #----------------------------------------->Output is True\n",
    "```\n",
    "\n",
    "### *Solution -*\n",
    "- **Above mentioned output of Logical operators is correct and verified using below code:**  \n",
    "    - ***Using Logical Operators 'and', 'or' & 'not'***\n",
    "        > - **Statement 1):** *Both values result to ***'True'***, operator is ***'and'***, so second value is taken as output i.e. ***'(20+30j)'***.*  \n",
    "        > - **Statement 2):** *First value results to ***'False'***, operator is ***'and'***, so first value is taken as output '0.0j' i.e. ***'0j'***.*  \n",
    "        > - **Statement 3):** *Second value results to ***'False'***, operator is ***'and'***, so second value is taken as output '0.0j' i.e. ***'0j'***.*  \n",
    "        > - **Statement 4):** *Both values result to ***'False'***, operator is ***'and'***, so second value is taken as output '0.0j' i.e. ***'0j'***.*  \n",
    "        > - **Statement 5):** *Both values result to ***'True'***, operator is ***'or'***, so first value is taken as output i.e. ***'10+20j'***.*  \n",
    "        > - **Statement 6):** *Second value results to ***'True'***, operator is ***'or'***, so second value is taken as output i.e. ***'20+30j'***.*  \n",
    "        > - **Statement 7):** *First value results to ***'True'***, operator is ***'or'***, so first value is taken as output i.e. ***'20+30j'***.*  \n",
    "        > - **Statement 8):** *Both values result to ***'False'***, operator is ***'or'***, so first value is taken as output '0+0j' i.e. ***'0j'***.*  \n",
    "        > - **Statement 9):** *Value results to ***'True'***, operator is ***'not'*** of ***'True'***, so output is ***'False'***.*  \n",
    "        > - **Statement 10):** *Value results to ***'False'***, operator is ***'not'*** of ***'False'***, so output is ***'True'***.*  "
   ]
  },
  {
   "cell_type": "code",
   "execution_count": 60,
   "id": "56a96488",
   "metadata": {},
   "outputs": [
    {
     "name": "stdout",
     "output_type": "stream",
     "text": [
      "10+20j and 20+30j : (20+30j)\n",
      "0+0j and 20+30j   : 0j\n",
      "20+30j and 0+0j   : 0j\n",
      "0+0j and 0+0j     : 0j\n",
      "10+20j or 20+30j  : (10+20j)\n",
      "0+0j or 20+30j    : (20+30j)\n",
      "20+30j or 0+0j    : (20+30j)\n",
      "0+0j or 0+0j      : 0j\n",
      "not 10+20j        : False\n",
      "not 0+0j          : True\n"
     ]
    }
   ],
   "source": [
    "print(\"10+20j and 20+30j :\",10+20j and 20+30j)\n",
    "print(\"0+0j and 20+30j   :\",0+0j and 20+30j)\n",
    "print(\"20+30j and 0+0j   :\",20+30j and 0+0j)\n",
    "print(\"0+0j and 0+0j     :\",0+0j and 0+0j)\n",
    "print(\"10+20j or 20+30j  :\",10+20j or 20+30j)\n",
    "print(\"0+0j or 20+30j    :\",0+0j or 20+30j)\n",
    "print(\"20+30j or 0+0j    :\",20+30j or 0+0j)\n",
    "print(\"0+0j or 0+0j      :\",0+0j or 0+0j)\n",
    "print(\"not 10+20j        :\",not 10+20j)\n",
    "print(\"not 0+0j          :\",not 0+0j)"
   ]
  },
  {
   "cell_type": "markdown",
   "id": "1b4006bc",
   "metadata": {},
   "source": [
    "---------------------------------------------------------------------------\n",
    "==========================================================================================================================\n",
    "### <u>Question 6</u>\n",
    "- **What is the output of expression inside the print statement?**\n",
    " - **Cross check before running the program.**\n",
    "```python\n",
    "    > a = 10+20j  \n",
    "    > b = 10+20j  \n",
    "    > print(a is b) #False #True or False?  \n",
    "    > print(a is not b) #True #True or False?  \n",
    "```\n",
    "    \n",
    "### *Solution -*\n",
    "\n",
    "- **Above code results to:**\n",
    "```python\n",
    "    > a = 10+20j  \n",
    "    > b = 10+20j  \n",
    "    > print(a is b) #False #True or False?  \n",
    "```\n",
    "    > ***#Output is 'False',*** because the reference address for 'a' and 'b' is different.  \n",
    "```python \n",
    "    > print(a is not b) #True #True or False?  \n",
    "```\n",
    "    > ***#Output is 'True',*** because the reference address for 'a' and 'b' is different."
   ]
  },
  {
   "cell_type": "code",
   "execution_count": 61,
   "id": "1bc49145",
   "metadata": {},
   "outputs": [
    {
     "name": "stdout",
     "output_type": "stream",
     "text": [
      "False\n",
      "True\n"
     ]
    }
   ],
   "source": [
    "a = 10+20j\n",
    "b = 10+20j\n",
    "print(a is b)\n",
    "print(a is not b)"
   ]
  },
  {
   "cell_type": "markdown",
   "id": "f177cda6",
   "metadata": {},
   "source": [
    "---------------------------------------------------------------------------\n",
    "==========================================================================================================================\n",
    "### <u>Question 7</u>\n",
    "- **Membership operation**\n",
    " - **in, not in are two membership operators and it returns boolean value**\n",
    "```python \n",
    "    > print('2.7' in 'Python2.7.8') #True  \n",
    "    > print(10+20j in [10,10.20,10+20j,'Python']) #True  \n",
    "    > print(10+20j in (10,10.20,10+20j,'Python')) #True  \n",
    "    > print(30+40j in {1,20.30,30+40j}) #True  \n",
    "    > print(30+40j in {1:100, 2.3:200, 30+40j:300}) #True  \n",
    "    > print(10 in range(20)) #True\n",
    "```\n",
    "\n",
    "### *Solution -*\n",
    "- **Above code results to:**\n",
    "```python\n",
    "    > print('2.7' in 'Python2.7.8') #Output is True  \n",
    "    > print(10+20j in [10,10.20,10+20j,'Python']) #Output is True  \n",
    "    > print(10+20j in (10,10.20,10+20j,'Python')) #Output is True  \n",
    "    > print(30+40j in {1,20.30,30+40j}) #Output is True  \n",
    "    > print(30+40j in {1:100, 2.3:200, 30+40j:300}) #Output is True  \n",
    "    > print(10 in range(20)) #Output is True\n",
    "```"
   ]
  },
  {
   "cell_type": "code",
   "execution_count": 63,
   "id": "52d56aaa",
   "metadata": {},
   "outputs": [
    {
     "name": "stdout",
     "output_type": "stream",
     "text": [
      "True\n",
      "True\n",
      "True\n",
      "True\n",
      "True\n",
      "True\n"
     ]
    }
   ],
   "source": [
    "print('2.7' in 'Python2.7.8')\n",
    "print(10+20j in [10,10.20,10+20j,'Python'])\n",
    "print(10+20j in (10,10.20,10+20j,'Python'))\n",
    "print(30+40j in {1,20.30,30+40j})\n",
    "print(30+40j in {1:100, 2.3:200, 30+40j:300})\n",
    "print(10 in range(20))"
   ]
  }
 ],
 "metadata": {
  "kernelspec": {
   "display_name": "Python 3",
   "language": "python",
   "name": "python3"
  },
  "language_info": {
   "codemirror_mode": {
    "name": "ipython",
    "version": 3
   },
   "file_extension": ".py",
   "mimetype": "text/x-python",
   "name": "python",
   "nbconvert_exporter": "python",
   "pygments_lexer": "ipython3",
   "version": "3.8.8"
  }
 },
 "nbformat": 4,
 "nbformat_minor": 5
}
