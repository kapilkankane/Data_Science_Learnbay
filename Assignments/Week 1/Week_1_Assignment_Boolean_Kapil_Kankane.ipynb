{
 "cells": [
  {
   "cell_type": "markdown",
   "id": "9c1b6e9b",
   "metadata": {},
   "source": [
    "# Week - 1 Assignment - 10th August : Submitted By Kapil Kankane"
   ]
  },
  {
   "cell_type": "markdown",
   "id": "d575873d",
   "metadata": {},
   "source": [
    "## ***Boolean***"
   ]
  },
  {
   "cell_type": "markdown",
   "id": "94404bf9",
   "metadata": {},
   "source": [
    "---------------------------------------------------------------------------\n",
    "==========================================================================================================================\n",
    "### <u>Question 1</u> \n",
    "> - **Declare a boolean value and store it in a variable.**\n",
    "> - **Check the type and print the id of the same.**\n",
    "\n",
    "### *Solution -*"
   ]
  },
  {
   "cell_type": "code",
   "execution_count": 78,
   "id": "722758ba",
   "metadata": {},
   "outputs": [
    {
     "name": "stdout",
     "output_type": "stream",
     "text": [
      "vBool: True\n",
      "Type: <class 'bool'>\n",
      "Id: 140705995741008\n"
     ]
    }
   ],
   "source": [
    "vBool = True\n",
    "print(\"vBool:\",vBool)\n",
    "print(\"Type:\",type(vBool))\n",
    "print(\"Id:\",id(vBool))"
   ]
  },
  {
   "cell_type": "markdown",
   "id": "af4f494b",
   "metadata": {},
   "source": [
    "---------------------------------------------------------------------------\n",
    "==========================================================================================================================\n",
    "### <u>Question 2</u>\n",
    "> - **Take one boolean value between 0 - 256.**\n",
    "> - **Assign it to two different variables.**\n",
    "> - **Check the id of both the variables. It should come the same. Check why?**\n",
    "\n",
    "### *Solution -*\n",
    "- 'Id' of both variables ***'b'*** and ***'c'*** will be same, because in Python the values are stored in logical memory and assigned an address which is referenced by the variables. If two variables use same value then it means both variables will reference same address.**\n",
    "- All ***int,string,float,compex*** values returns boolean ***'True'*** for which the binary equivalent is ***'1'***; except ***'0'*** which results to boolean ***'False'*** for which the binary equivalent is ***'0'***.\n",
    "- The Python implementation keeps an array of ***'integer'*** objects for all integers between ***'-5'*** and ***'256'***, when we create an ***'int'*** in that range we actually just get back a reference to the existing object.  \n",
    "- If we create integers greater than ***'256'*** or less than ***'-5'***, then the reference will change even for same values, and will result in different 'Id'.  \n",
    "-  The rationale is that these ***'integer'*** numbers are used so frequently that it makes no sense to dynamically allocate them each time they are needed, so they are simply reused."
   ]
  },
  {
   "cell_type": "code",
   "execution_count": 79,
   "id": "9a09092d",
   "metadata": {},
   "outputs": [
    {
     "name": "stdout",
     "output_type": "stream",
     "text": [
      "Enter a value: 1\n",
      "\n",
      "Value of a:  1\n",
      "Type of a:  <class 'str'>\n",
      "Address of a:  2158980830448\n",
      "\n",
      "Value of b:  True\n",
      "Type of b:  <class 'bool'>\n",
      "Address of b:  140705995741008\n",
      "\n",
      "Value of c:  True\n",
      "Type of c:  <class 'bool'>\n",
      "Address of b:  140705995741008\n"
     ]
    }
   ],
   "source": [
    "a = input(\"Enter a value: \")\n",
    "b = bool(a)\n",
    "c = b\n",
    "\n",
    "print(\"\\nValue of a: \", a)\n",
    "print(\"Type of a: \", type(a))\n",
    "print(\"Address of a: \", id(a))\n",
    "print(\"\\nValue of b: \", b)\n",
    "print(\"Type of b: \", type(b))\n",
    "print(\"Address of b: \", id(b))\n",
    "print(\"\\nValue of c: \", c)\n",
    "print(\"Type of c: \", type(c))\n",
    "print(\"Address of b: \", id(c))"
   ]
  },
  {
   "cell_type": "markdown",
   "id": "fb519a6b",
   "metadata": {},
   "source": [
    "---------------------------------------------------------------------------\n",
    "==========================================================================================================================\n",
    "### <u>Question 3</u>\n",
    "- **Arithmetic Operations on boolean data**\n",
    " - **Take two different boolean values.**\n",
    " - **Store them in two different variables.**\n",
    " - **Do below operations on them:-**\n",
    "    > - **Find sum of both values**\n",
    "    > - **Find difference between them**\n",
    "    > - **Find the product of both.**\n",
    "    > - **Find value after dividing first value with second value**\n",
    "    > - **Find the remainder after dividing first value with second value**\n",
    "    > - **Find the quotient after dividing first value with second value**\n",
    "    > - **Find the result of first value to the power of second value.**\n",
    "\n",
    "### *Solution -*"
   ]
  },
  {
   "cell_type": "code",
   "execution_count": 2,
   "id": "0661ecec",
   "metadata": {},
   "outputs": [
    {
     "name": "stdout",
     "output_type": "stream",
     "text": [
      "Enter 1st value: 1\n",
      "Enter 2nd value: 2\n",
      "\n",
      "a = 1\n",
      "b = 2\n",
      "\n",
      "Boolean of a = True\n",
      "Boolean of b = True\n",
      "\n",
      "Sum of boolean 'a' & 'b'                    = 2\n",
      "Difference of boolean 'a' & 'b'             = 0\n",
      "Product of boolean 'a' & 'b'                = 1\n",
      "Division of boolean 'a' by 'b'              = 1.0\n",
      "Remainder of boolean 'a' divided by 'b'     = 0\n",
      "Quotient of boolean 'a' divided by 'b'      = 1\n",
      "Exponent of boolean 'a' to the power of 'b' = 1\n"
     ]
    }
   ],
   "source": [
    "a = input(\"Enter 1st value: \")\n",
    "b = input(\"Enter 2nd value: \")\n",
    "\n",
    "try:\n",
    "    aBool = bool(eval(a))\n",
    "    bBool = bool(eval(b))\n",
    "\n",
    "    print(\"\\na =\", a)\n",
    "    print(\"b =\", b)\n",
    "\n",
    "    print(\"\\nBoolean of a =\", aBool)\n",
    "    print(\"Boolean of b =\", bBool)\n",
    "\n",
    "\n",
    "    print(\"\\nSum of boolean 'a' & 'b'                    =\", aBool + bBool)\n",
    "    print(\"Difference of boolean 'a' & 'b'             =\", aBool - bBool)\n",
    "    print(\"Product of boolean 'a' & 'b'                =\", aBool * bBool)\n",
    "    print(\"Division of boolean 'a' by 'b'              =\", aBool / bBool)\n",
    "    print(\"Remainder of boolean 'a' divided by 'b'     =\", aBool % bBool)\n",
    "    print(\"Quotient of boolean 'a' divided by 'b'      =\", aBool // bBool)\n",
    "    print(\"Exponent of boolean 'a' to the power of 'b' =\", aBool ** bBool)\n",
    "except ZeroDivisionError as e:\n",
    "    print (\"\\n\"+e.__class__.__name__,f\": a = {aBool} and b = {bBool}, Cannot divide {aBool} by {bBool}\")\n",
    "except Exception as e:\n",
    "    print (\"\\n\"+e.__class__.__name__,f\": a = {a} and b = {b}, Wrong data input.\")"
   ]
  },
  {
   "cell_type": "markdown",
   "id": "e022f3d5",
   "metadata": {},
   "source": [
    "---------------------------------------------------------------------------\n",
    "==========================================================================================================================\n",
    "### <u>Question 4</u>\n",
    "- **Comparison Operators on boolean values**\n",
    " - **Take two different boolean values.**\n",
    " - **Store them in two different variables.**\n",
    " - **Do below operations on them:-**\n",
    " - **Compare these two values with below operator:-**\n",
    "    > - **Greater than, '>'**\n",
    "    > - **Less than, '<'**\n",
    "    > - **Greater than or equal to, '>='**\n",
    "    > - **Less than or equal to, '<='**\n",
    "    > - **Observe their output(return type should be boolean)**\n",
    "\n",
    "### *Solution -*"
   ]
  },
  {
   "cell_type": "code",
   "execution_count": 81,
   "id": "48465676",
   "metadata": {},
   "outputs": [
    {
     "name": "stdout",
     "output_type": "stream",
     "text": [
      "Enter 1st value: 1\n",
      "Enter 2nd value: 0\n",
      "\n",
      "a = 1\n",
      "b = 0\n",
      "\n",
      "Boolean of a = True\n",
      "Boolean of b = False\n",
      "\n",
      "Boolean of 'a' > 'b'   = True\n",
      "Boolean of 'a' < 'b'   = False\n",
      "Boolean of 'a' >= 'b'  = True\n",
      "Boolean of 'a' <= 'b'  = False\n"
     ]
    }
   ],
   "source": [
    "a = input(\"Enter 1st value: \")\n",
    "b = input(\"Enter 2nd value: \")\n",
    "try:\n",
    "    aBool = bool(eval(a))\n",
    "    bBool = bool(eval(b))\n",
    "\n",
    "    print(\"\\na =\", a)\n",
    "    print(\"b =\", b)\n",
    "\n",
    "    print(\"\\nBoolean of a =\", aBool)\n",
    "    print(\"Boolean of b =\", bBool)\n",
    "\n",
    "\n",
    "    print(\"\\nBoolean of 'a' > 'b'   =\", aBool > bBool)\n",
    "    print(\"Boolean of 'a' < 'b'   =\", aBool < bBool)\n",
    "    print(\"Boolean of 'a' >= 'b'  =\", aBool >= bBool)\n",
    "    print(\"Boolean of 'a' <= 'b'  =\", aBool <= bBool)\n",
    "except Exception as e:\n",
    "    print (\"\\n\"+e.__class__.__name__,f\": a = {a} and b = {b}, {e.args[0]}. Wrong data input.\")"
   ]
  },
  {
   "cell_type": "markdown",
   "id": "6f6fb7fe",
   "metadata": {},
   "source": [
    "---------------------------------------------------------------------------\n",
    "==========================================================================================================================\n",
    "### <u>Question 5</u>\n",
    "- **Equality Operator**\n",
    " - **Take two different boolean values.**\n",
    " - **Store them in two different variables.**\n",
    "    > - **Equate them using equality operators (==, !=)**\n",
    "    > - **Observe the output(return type should be boolean)**\n",
    "\n",
    "### *Solution -*"
   ]
  },
  {
   "cell_type": "code",
   "execution_count": 82,
   "id": "56a96488",
   "metadata": {},
   "outputs": [
    {
     "name": "stdout",
     "output_type": "stream",
     "text": [
      "Enter 1st value: 1\n",
      "Enter 2nd value: 0\n",
      "\n",
      "a = 1\n",
      "b = 0\n",
      "\n",
      "Boolean of a = True\n",
      "Boolean of b = False\n",
      "\n",
      "Boolean of 'a' == 'b'   = False\n",
      "Boolean of 'a' != 'b'   = True\n"
     ]
    }
   ],
   "source": [
    "a = input(\"Enter 1st value: \")\n",
    "b = input(\"Enter 2nd value: \")\n",
    "\n",
    "try:\n",
    "    aBool = bool(eval(a))\n",
    "    bBool = bool(eval(b))\n",
    "\n",
    "    print(\"\\na =\", a)\n",
    "    print(\"b =\", b)\n",
    "\n",
    "    print(\"\\nBoolean of a =\", aBool)\n",
    "    print(\"Boolean of b =\", bBool)\n",
    "\n",
    "\n",
    "    print(\"\\nBoolean of 'a' == 'b'   =\", aBool == bBool)\n",
    "    print(\"Boolean of 'a' != 'b'   =\", aBool != bBool)\n",
    "except Exception as e:\n",
    "    print (\"\\n\"+e.__class__.__name__,f\": a = {a} and b = {b}, {e.args[0]}. Wrong data input.\")"
   ]
  },
  {
   "cell_type": "markdown",
   "id": "1b4006bc",
   "metadata": {},
   "source": [
    "---------------------------------------------------------------------------\n",
    "==========================================================================================================================\n",
    "### <u>Question 6</u>\n",
    "- **Logical operators**\n",
    " - **Observe the output of below code**\n",
    " - **Cross check the output manually**\n",
    "```python\n",
    "    > print(True and True)  \n",
    "    > #----------------------------------------->Output is True\n",
    "    > print(False and True)  \n",
    "    > #----------------------------------------->Output is False\n",
    "    > print(True and False)  \n",
    "    > #----------------------------------------->Output is False\n",
    "    > print(False and False)  \n",
    "    > #----------------------------------------->Output is False\n",
    "    > print(True or True)  \n",
    "    > #----------------------------------------->Output is True\n",
    "    > print(False or True)  \n",
    "    > #----------------------------------------->Output is True\n",
    "    > print(True or False)  \n",
    "    > #----------------------------------------->Output is True\n",
    "    > print(False or False)  \n",
    "    > #----------------------------------------->Output is False\n",
    "    > print(not True)  \n",
    "    > #----------------------------------------->Output is False\n",
    "    > print(not False)  \n",
    "    > #----------------------------------------->Output is True\n",
    "```\n",
    "\n",
    "### *Solution -*\n",
    "- **Above mentioned output of Logical operators is correct and verified using below code:**  \n",
    "    - ***Using Logical Operators 'and', 'or' & 'not'***\n",
    "        > - **Statement 1):** *Both values are ***'True'***, operator is ***'and'***, so output is ***'True'***.*  \n",
    "        > - **Statement 2):** *First value is ***'False'***, operator is ***'and'***, so output is ***'False'***.*  \n",
    "        > - **Statement 3):** *Second value is ***'False'***, operator is ***'and'***, so output is ***'False'***.*  \n",
    "        > - **Statement 4):** *Both values are ***'False'***, operator is ***'and'***, so output is ***'False'***.*  \n",
    "        > - **Statement 5):** *Both values are ***'True'***, operator is ***'or'***, so output is ***'True'***.*  \n",
    "        > - **Statement 6):** *Second value is ***'True'***, operator is ***'or'***, so output is ***'True'***.*  \n",
    "        > - **Statement 7):** *First value is ***'True'***, operator is ***'or'***, so output is ***'True'***.*  \n",
    "        > - **Statement 8):** *Both values are ***'False'***, operator is ***'or'***, so output is ***'False'***.*  \n",
    "        > - **Statement 9):** *Value is ***'True'***, operator is ***'not'*** of ***'True'***, so output is ***'False'***.*  \n",
    "        > - **Statement 10):** *Value is ***'False'***, operator is ***'not'*** of ***'False'***, so output is ***'True'***.*  \n",
    "\n"
   ]
  },
  {
   "cell_type": "code",
   "execution_count": 83,
   "id": "1bc49145",
   "metadata": {},
   "outputs": [
    {
     "name": "stdout",
     "output_type": "stream",
     "text": [
      "True and True   = True\n",
      "False and True  = False\n",
      "True and False  = False\n",
      "False and False = False\n",
      "True or True    = True\n",
      "False or True   = True\n",
      "True or False   = True\n",
      "False or False  = False\n",
      "not True        = False\n",
      "not False       = True\n"
     ]
    }
   ],
   "source": [
    "print(\"True and True   =\",True and True)\n",
    "print(\"False and True  =\",False and True)\n",
    "print(\"True and False  =\",True and False)\n",
    "print(\"False and False =\",False and False)\n",
    "print(\"True or True    =\",True or True)\n",
    "print(\"False or True   =\",False or True)\n",
    "print(\"True or False   =\",True or False)\n",
    "print(\"False or False  =\",False or False)\n",
    "print(\"not True        =\",not True)\n",
    "print(\"not False       =\",not False)"
   ]
  },
  {
   "cell_type": "markdown",
   "id": "5a7c2186",
   "metadata": {},
   "source": [
    "---------------------------------------------------------------------------\n",
    "==========================================================================================================================\n",
    "### <u>Question 7</u>\n",
    "- **Bitwise Operators**\n",
    " - **Do below operations on the values provided below:-**\n",
    "    > - **Bitwise and(&) --------------> True, True -------> Output is True**\n",
    "    > - **Bitwise or(|) --------------> True, False -------> Output is True**\n",
    "    > - **Bitwise(^) --------------> True, False -------> Output is True**\n",
    "    > - **Bitwise negation(~) ---------> True -------> Output is -2**\n",
    "    > - **Bitwise left shift ---------> True,2 -------> Output is 4**\n",
    "    > - **Bitwise right shift ---------> True,2 -------> Output is 0**\n",
    "  - **Cross check the output manually**\n",
    "\n",
    "### *Solution -*\n",
    "- **Above mentioned output of Bitwise operators is correct and verified using below code:**  \n",
    "    - ***Using Bitwise Operators '&', '|', '^', '~', '<<' and '>>'***\n",
    "        > - **Statement 1):** *Both values are ***'00000001'***, operator is ***'&'***, so output is '00000001' i.e. ***'True'***.*  \n",
    "        > - **Statement 2):** *First value is ***'00000001'***, operator is ***'|'***, so output is '00000001' i.e. ***'True'***.*  \n",
    "        > - **Statement 3):** *First value is ***'00000001'***, Second Value is ***'00000000'***, operator is ***'^'***, so output is '00000001' i.e. ***'True'***.*  \n",
    "        > - **Statement 4):** *Value is ***'00000001'***, operator is ***'~'***, so output is '-(00000001+00000001)' = '-(00000010)' i.e. ***'-2'***.*  \n",
    "        > - **Statement 5):** *Value is ***'00000001'***, operator is ***'<<'***, so output is '00000100' i.e. ***'4'***.*  \n",
    "        > - **Statement 6):** *Value is ***'00000001'***, operator is ***'>>'***, so output is '00000000' i.e. ***'0'***.*"
   ]
  },
  {
   "cell_type": "code",
   "execution_count": 3,
   "id": "665f0c92",
   "metadata": {},
   "outputs": [
    {
     "name": "stdout",
     "output_type": "stream",
     "text": [
      "Bitwise and('&')          = True\n",
      "Bitwise or('|')           = True\n",
      "Bitwise xor('^')          = True\n",
      "Bitwise negation('~')     = -2\n",
      "Bitwise left shift('<<')  = 4\n",
      "Bitwise right shift('>>') = 0\n"
     ]
    }
   ],
   "source": [
    "print(\"Bitwise and('&')          =\", True & True)\n",
    "print(\"Bitwise or('|')           =\",True | False)\n",
    "print(\"Bitwise xor('^')          =\",True ^ False)\n",
    "print(\"Bitwise negation('~')     =\",~True)\n",
    "print(\"Bitwise left shift('<<')  =\",True<<2)\n",
    "print(\"Bitwise right shift('>>') =\",True>>2)"
   ]
  },
  {
   "cell_type": "markdown",
   "id": "0da2f2d8",
   "metadata": {},
   "source": [
    "---------------------------------------------------------------------------\n",
    "==========================================================================================================================\n",
    "### <u>Question 8</u>\n",
    "- **What is the output of expression inside the print statement?**\n",
    " - **Cross check before running the program.**\n",
    "```python\n",
    "    > a = True  \n",
    "    > b = True  \n",
    "    > print(a is b) #True or False?  \n",
    "    > print(a is not b) #True or False?  \n",
    "    > \n",
    "    > a = False  \n",
    "    > b = False  \n",
    "    > print(a is b) #True or False?  \n",
    "    > print(a is not b) #True or False?\n",
    "```\n",
    "\n",
    "### *Solution -*\n",
    "\n",
    "- **Above code results to:**\n",
    "```python\n",
    "    > a = True  \n",
    "    > b = True  \n",
    "    > print(a is b) #True or False?\n",
    "```\n",
    "    > ***#Output is 'True',*** *because the reference address for 'a' and 'b' is same, as its binary values are between '-5' and '256'  \n",
    "```python \n",
    "    > print(a is not b) #True or False?  \n",
    "```\n",
    "    > ***#Output is 'False',*** *because the reference address for 'a' and 'b' is same, as its binary values are between '-5' and '256'  \n",
    "```python \n",
    "    > a = False  \n",
    "    > b = False  \n",
    "    > print(a is b) #True or False?  \n",
    "```\n",
    "    > ***#Output is 'True',*** *because the reference address for 'a' and 'b' is same, as its binary values are between '-5' and '256'  \n",
    "```python \n",
    "    > print(a is not b) #True or False? \n",
    "```\n",
    "    > ***#Output is 'False',*** *because the reference address for 'a' and 'b' is same, as its binary values are between '-5' and '256'  "
   ]
  },
  {
   "cell_type": "code",
   "execution_count": 85,
   "id": "cbed0fa8",
   "metadata": {},
   "outputs": [
    {
     "name": "stdout",
     "output_type": "stream",
     "text": [
      "True\n",
      "False\n",
      "True\n",
      "False\n"
     ]
    }
   ],
   "source": [
    "a = True\n",
    "b = True\n",
    "print(a is b) #True or False?\n",
    "print(a is not b) #True or False?\n",
    "\n",
    "a = False\n",
    "b = False\n",
    "print(a is b) #True or False?\n",
    "print(a is not b) #True or False?"
   ]
  },
  {
   "cell_type": "markdown",
   "id": "f177cda6",
   "metadata": {},
   "source": [
    "---------------------------------------------------------------------------\n",
    "==========================================================================================================================\n",
    "### <u>Question 9</u>\n",
    "- **Membership operation**\n",
    " - **in, not in are two membership operators and it returns boolean value**\n",
    "```python\n",
    "    > print(True in [10,10.20,10+20j,'Python', True])  \n",
    "    > print(False in (10,10.20,10+20j,'Python', False))  \n",
    "    > print(True in {1,2,3, True})  \n",
    "    > print(a is not b) #True or False?  \n",
    "    > print(True in {True:100, False:200, True:300})  \n",
    "    > print(False in {True:100, False:200, True:300})\n",
    "```\n",
    "\n",
    "### *Solution -*\n",
    "- **Above code results to:**\n",
    "```python\n",
    "    > print(True in [10,10.20,10+20j,'Python', True]) #Output is True  \n",
    "    > print(False in (10,10.20,10+20j,'Python', False)) #Output is True  \n",
    "    > print(True in {1,2,3, True}) #Output is True  \n",
    "    > print(a is not b) #Output is False  \n",
    "    > print(True in {True:100, False:200, True:300}) #Output is True  \n",
    "    > print(False in {True:100, False:200, True:300}) #Output is True\n",
    "```"
   ]
  },
  {
   "cell_type": "code",
   "execution_count": 87,
   "id": "52d56aaa",
   "metadata": {},
   "outputs": [
    {
     "name": "stdout",
     "output_type": "stream",
     "text": [
      "True\n",
      "True\n",
      "True\n",
      "False\n",
      "True\n",
      "True\n"
     ]
    }
   ],
   "source": [
    "print(True in [10,10.20,10+20j,'Python', True])\n",
    "print(False in (10,10.20,10+20j,'Python', False))\n",
    "print(True in {1,2,3, True})\n",
    "print(a is not b)\n",
    "print(True in {True:100, False:200, True:300})\n",
    "print(False in {True:100, False:200, True:300})"
   ]
  }
 ],
 "metadata": {
  "kernelspec": {
   "display_name": "Python 3",
   "language": "python",
   "name": "python3"
  },
  "language_info": {
   "codemirror_mode": {
    "name": "ipython",
    "version": 3
   },
   "file_extension": ".py",
   "mimetype": "text/x-python",
   "name": "python",
   "nbconvert_exporter": "python",
   "pygments_lexer": "ipython3",
   "version": "3.8.8"
  }
 },
 "nbformat": 4,
 "nbformat_minor": 5
}
