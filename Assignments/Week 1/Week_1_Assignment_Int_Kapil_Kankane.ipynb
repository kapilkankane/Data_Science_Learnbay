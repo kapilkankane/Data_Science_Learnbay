{
 "cells": [
  {
   "cell_type": "markdown",
   "id": "9c1b6e9b",
   "metadata": {},
   "source": [
    "# Week - 1 Assignment - 10th August : Submitted By Kapil Kankane"
   ]
  },
  {
   "cell_type": "markdown",
   "id": "d575873d",
   "metadata": {},
   "source": [
    "## ***Int***"
   ]
  },
  {
   "cell_type": "markdown",
   "id": "94404bf9",
   "metadata": {},
   "source": [
    "---------------------------------------------------------------------------\n",
    "==========================================================================================================================\n",
    "### <u>Question 1</u> \n",
    "> - **Declare an int value and store it in a variable.**\n",
    "> - **Check the type and print the id of the same.**\n",
    "\n",
    "### *Solution -*"
   ]
  },
  {
   "cell_type": "code",
   "execution_count": 1,
   "id": "722758ba",
   "metadata": {},
   "outputs": [
    {
     "name": "stdout",
     "output_type": "stream",
     "text": [
      "vInt: 10\n",
      "Type: <class 'int'>\n",
      "Id: 140719985535056\n"
     ]
    }
   ],
   "source": [
    "vInt = 10\n",
    "print(\"vInt:\",vInt)\n",
    "print(\"Type:\",type(vInt))\n",
    "print(\"Id:\",id(vInt))"
   ]
  },
  {
   "cell_type": "markdown",
   "id": "fb519a6b",
   "metadata": {},
   "source": [
    "---------------------------------------------------------------------------\n",
    "==========================================================================================================================\n",
    "### <u>Question 2</u>\n",
    "- **Take one int value between 0 - 256.**\n",
    " - **Assign it to two different variables.**\n",
    " - **Check the id of both the variables. It should come the same. Check why?**\n",
    "\n",
    "### *Solution -*\n",
    "- 'Id' of both variables ***'a'*** and ***'b'*** will be same.\n",
    "- The Python implementation keeps an array of ***'integer'*** objects for all integers between ***'-5'*** and ***'256'***, when we create an ***'int'*** in that range we actually just get back a reference to the existing object.  \n",
    "- If we create integers greater than ***'256'*** or less than ***'-5'***, then the reference will change even for same values, and will result in different 'Id'.\n",
    "-  The rationale is that these ***'integer'*** numbers are used so frequently that it makes no sense to dynamically allocate them each time they are needed, so they are simply reused."
   ]
  },
  {
   "cell_type": "code",
   "execution_count": 2,
   "id": "655dcb4d",
   "metadata": {},
   "outputs": [
    {
     "name": "stdout",
     "output_type": "stream",
     "text": [
      "aInt:  10\n",
      "Id of aInt: 140719985535056\n",
      "bInt:  10\n",
      "Id of bInt: 140719985535056\n"
     ]
    }
   ],
   "source": [
    "aInt = 10\n",
    "bInt = 10\n",
    "print(\"aInt: \",aInt)\n",
    "print(\"Id of aInt:\",id(aInt))\n",
    "print(\"bInt: \",bInt)\n",
    "print(\"Id of bInt:\",id(bInt))"
   ]
  },
  {
   "cell_type": "markdown",
   "id": "01016224",
   "metadata": {},
   "source": [
    "---------------------------------------------------------------------------\n",
    "==========================================================================================================================\n",
    "### <u>Question 3</u>\n",
    "- **Take one int value either less than -5 or greater than 256.**\n",
    " - **Assign it to two different variables.**\n",
    " - **Check the id of both the variables. It should come different.Check why?**\n",
    "\n",
    "### *Solution -*\n",
    "- 'Id' of both variables ***'a'*** and ***'b'*** will be different. Since we have used a number is not in the range ***'-5'*** and ***'256'***.\n",
    "- The Python implementation keeps an array of ***'integer'*** objects for all integers between ***'-5'*** and ***'256'***, when we create an ***'int'*** in that range we actually just get back a reference to the existing object.\n",
    "- If we create integers greater than ***'256'*** or less than ***'-5'***, then the reference will change even for same values, and will result in different 'Id'.  \n",
    "-  The rationale is that these ***'integer'*** numbers are used so frequently that it makes no sense to dynamically allocate them each time they are needed, so they are simply reused."
   ]
  },
  {
   "cell_type": "code",
   "execution_count": 5,
   "id": "3d809b6b",
   "metadata": {},
   "outputs": [
    {
     "name": "stdout",
     "output_type": "stream",
     "text": [
      "aInt:  257\n",
      "Id of aInt: 1598751343408\n",
      "bInt:  257\n",
      "Id of bInt: 1598751343280\n"
     ]
    }
   ],
   "source": [
    "aInt = 257\n",
    "bInt = 257\n",
    "print(\"aInt: \",aInt)\n",
    "print(\"Id of aInt:\",id(aInt))\n",
    "print(\"bInt: \",bInt)\n",
    "print(\"Id of bInt:\",id(bInt))"
   ]
  },
  {
   "cell_type": "markdown",
   "id": "5b7c579a",
   "metadata": {},
   "source": [
    "---------------------------------------------------------------------------\n",
    "==========================================================================================================================\n",
    "### <u>Question 4</u>\n",
    "- **Arithmetic Operations on integers**\n",
    " - **Take two different float values.**\n",
    " - **Store them in two different variables.**\n",
    " - **Do below operations on them:-**\n",
    "    > - **Find sum of both numbers**\n",
    "    > - **Find difference between them**\n",
    "    > - **Find the product of both numbers.**\n",
    "    > - **Find value after dividing first num with second number**\n",
    "    > - **Find the remainder after dividing first number with second number**\n",
    "    > - **Find the quotient after dividing first number with second number**\n",
    "    > - **Find the result of first num to the power of second number.**\n",
    "\n",
    "### *Solution -*"
   ]
  },
  {
   "cell_type": "code",
   "execution_count": 8,
   "id": "0661ecec",
   "metadata": {},
   "outputs": [
    {
     "name": "stdout",
     "output_type": "stream",
     "text": [
      "Enter 1st int number: 20\n",
      "Enter 2nd int number: 11\n",
      "\n",
      "a = 20\n",
      "b = 11\n",
      "\n",
      "Int of a = 20\n",
      "Int of b = 11\n",
      "\n",
      "Sum of int 'a' & 'b'                    = 31\n",
      "Difference of int 'a' & 'b'             = 9\n",
      "Product of int 'a' & 'b'                = 220\n",
      "Division of int 'a' by 'b'              = 1.8181818181818181\n",
      "Remainder of int 'a' divided by 'b'     = 9\n",
      "Quotient of int 'a' divided by 'b'      = 1\n",
      "Exponent of int 'a' to the power of 'b' = 204800000000000\n"
     ]
    }
   ],
   "source": [
    "a = input(\"Enter 1st int number: \")\n",
    "b = input(\"Enter 2nd int number: \")\n",
    "\n",
    "try:\n",
    "    aInt = int(eval(a))\n",
    "    bInt = int(eval(b))\n",
    "\n",
    "    print(\"\\na =\", a)\n",
    "    print(\"b =\", b)\n",
    "\n",
    "    print(\"\\nInt of a =\", aInt)\n",
    "    print(\"Int of b =\", bInt)\n",
    "\n",
    "\n",
    "    print(\"\\nSum of int 'a' & 'b'                    =\", aInt + bInt)\n",
    "    print(\"Difference of int 'a' & 'b'             =\", aInt - bInt)\n",
    "    print(\"Product of int 'a' & 'b'                =\", aInt * bInt)\n",
    "    print(\"Division of int 'a' by 'b'              =\", aInt / bInt)\n",
    "    print(\"Remainder of int 'a' divided by 'b'     =\", aInt % bInt)\n",
    "    print(\"Quotient of int 'a' divided by 'b'      =\", aInt // bInt)\n",
    "    print(\"Exponent of int 'a' to the power of 'b' =\", aInt ** bInt)\n",
    "except ZeroDivisionError as e:\n",
    "    print (\"\\n\"+e.__class__.__name__,f\": a = {aInt} and b = {bInt}, Cannot divide {aInt} by {bInt}\")\n",
    "except Exception as e:\n",
    "    print (\"\\n\"+e.__class__.__name__,f\": a = {a} and b = {b}, Wrong data input.\")"
   ]
  },
  {
   "cell_type": "markdown",
   "id": "e022f3d5",
   "metadata": {},
   "source": [
    "---------------------------------------------------------------------------\n",
    "==========================================================================================================================\n",
    "### <u>Question 5</u>\n",
    "- **Comparison Operators on integers**\n",
    " - **Take two different integer values.**\n",
    " - **Store them in two different variables.**\n",
    " - **Do below operations on them:-**\n",
    " - **Compare these two values with below operator:-**\n",
    "    > - **Greater than, '>'**\n",
    "    > - **Smaller than, '<'**\n",
    "    > - **Greater than or equal to, '>='**\n",
    "    > - **Less than or equal to, '<='**\n",
    "    > - **Observe their output(return type should be boolean)**\n",
    "\n",
    "### *Solution -*"
   ]
  },
  {
   "cell_type": "code",
   "execution_count": 18,
   "id": "48465676",
   "metadata": {},
   "outputs": [
    {
     "name": "stdout",
     "output_type": "stream",
     "text": [
      "Enter 1st int number: 20\n",
      "Enter 2nd int number: 11\n",
      "\n",
      "a = 20\n",
      "b = 11\n",
      "\n",
      "Int of a = 20\n",
      "Int of b = 11\n",
      "\n",
      "Int of 'a' > 'b'  : True\n",
      "Int of 'a' < 'b'  : False\n",
      "Int of 'a' >= 'b' : True\n",
      "Int of 'a' <= 'b' : False\n"
     ]
    }
   ],
   "source": [
    "a = input(\"Enter 1st int number: \")\n",
    "b = input(\"Enter 2nd int number: \")\n",
    "\n",
    "try:\n",
    "    aInt = int(eval(a))\n",
    "    bInt = int(eval(b))\n",
    "\n",
    "    print(\"\\na =\", a)\n",
    "    print(\"b =\", b)\n",
    "\n",
    "    print(\"\\nInt of a =\", aInt)\n",
    "    print(\"Int of b =\", bInt)\n",
    "\n",
    "    print(\"\\nInt of 'a' > 'b'  :\", aInt > bInt)\n",
    "    print(\"Int of 'a' < 'b'  :\", aInt < bInt)\n",
    "    print(\"Int of 'a' >= 'b' :\", aInt >= bInt)\n",
    "    print(\"Int of 'a' <= 'b' :\", aInt <= bInt)\n",
    "\n",
    "except Exception as e:\n",
    "    print (\"\\n\"+e.__class__.__name__,f\": a = {a} and b = {b}, {e.args[0]}. Wrong data input.\")"
   ]
  },
  {
   "cell_type": "markdown",
   "id": "6f6fb7fe",
   "metadata": {},
   "source": [
    "---------------------------------------------------------------------------\n",
    "==========================================================================================================================\n",
    "### <u>Question 6</u>\n",
    "- **Equality Operator**\n",
    " - **Take two different integer values.**\n",
    " - **Store them in two different variables.**\n",
    "    > - **Equate them using equality operators (==, !=)**\n",
    "    > - **Observe the output(return type should be boolean)**\n",
    "\n",
    "### *Solution -*"
   ]
  },
  {
   "cell_type": "code",
   "execution_count": 15,
   "id": "56a96488",
   "metadata": {},
   "outputs": [
    {
     "name": "stdout",
     "output_type": "stream",
     "text": [
      "Enter 1st int number: 20\n",
      "Enter 2nd int number: 11\n",
      "\n",
      "a = 20\n",
      "b = 11\n",
      "\n",
      "Int of a = 20\n",
      "Int of b = 11\n",
      "\n",
      "Int of 'a' == 'b' : False\n",
      "Int of 'a' != 'b' : True\n"
     ]
    }
   ],
   "source": [
    "a = input(\"Enter 1st int number: \")\n",
    "b = input(\"Enter 2nd int number: \")\n",
    "\n",
    "try:\n",
    "    aInt = int(eval(a))\n",
    "    bInt = int(eval(b))\n",
    "\n",
    "    print(\"\\na =\", a)\n",
    "    print(\"b =\", b)\n",
    "\n",
    "    print(\"\\nInt of a =\", aInt)\n",
    "    print(\"Int of b =\", bInt)\n",
    "\n",
    "\n",
    "    print(\"\\nInt of 'a' == 'b' :\", aInt == bInt)\n",
    "    print(\"Int of 'a' != 'b' :\", aInt != bInt)\n",
    "except Exception as e:\n",
    "    print (\"\\n\"+e.__class__.__name__,f\": a = {a} and b = {b}, {e.args[0]}. Wrong data input.\")"
   ]
  },
  {
   "cell_type": "markdown",
   "id": "1b4006bc",
   "metadata": {},
   "source": [
    "---------------------------------------------------------------------------\n",
    "==========================================================================================================================\n",
    "### <u>Question 7</u>\n",
    "- **Logical operators**\n",
    " - **Observe the output of below code**\n",
    " - **Cross check the output manually**\n",
    "```python\n",
    "    > print(10 and 20)  \n",
    "    > #----------------------------------------->Output is 20  \n",
    "    > print(0 and 20)  \n",
    "    > #----------------------------------------->Output is 0  \n",
    "    > print(20 and 0)  \n",
    "    > #----------------------------------------->Output is 0  \n",
    "    > print(0 and 0)  \n",
    "    > #----------------------------------------->Output is 0  \n",
    "    > print(10 or 20)  \n",
    "    > #----------------------------------------->Output is 10  \n",
    "    > print(0 or 20)  \n",
    "    > #----------------------------------------->Output is 20  \n",
    "    > print(20 or 0)  \n",
    "    > #----------------------------------------->Output is 20  \n",
    "    > print(0 or 0)  \n",
    "    > #----------------------------------------->Output is 0  \n",
    "    > print(not 10)  \n",
    "    > #----------------------------------------->Output is False  \n",
    "    > print(not 0)  \n",
    "    > #----------------------------------------->Output is True  \n",
    "```\n",
    "\n",
    "### *Solution -*\n",
    "- **Above mentioned output of Logical operators is correct and verified using below code:**  \n",
    "    - ***Using Logical Operators 'and', 'or' & 'not'***\n",
    "        > - **Statement 1):** *Both values result to ***'True'***, operator is ***'and'***, so second value is taken as output i.e. ***'20***.*  \n",
    "        > - **Statement 2):** *First value results to ***'False'***, operator is ***'and'***, so first value is taken as output i.e. ***'0'***.*  \n",
    "        > - **Statement 3):** *Second value results to ***'False'***, operator is ***'and'***, so second value is taken as output i.e. ***'0'***.*  \n",
    "        > - **Statement 4):** *Both values result to ***'False'***, operator is ***'and'***, so first value is taken as output i.e. ***'0'***.*  \n",
    "        > - **Statement 5):** *Both values result to ***'True'***, operator is ***'or'***, so first value is taken as output i.e. ***'10'***.*  \n",
    "        > - **Statement 6):** *Second value results to ***'True'***, operator is ***'or'***, so second value is taken as output i.e. ***'20'***.*  \n",
    "        > - **Statement 7):** *First value results to ***'True'***, operator is ***'or'***, so first value is taken as output i.e. ***'20'***.*  \n",
    "        > - **Statement 8):** *Both values result to ***'False'***, operator is ***'or'***, so second value is taken as output i.e. ***'0'***.*  \n",
    "        > - **Statement 9):** *Value results to ***'True'***, operator is ***'not'*** of ***'True'***, so output is ***'False'***.*  \n",
    "        > - **Statement 10):** *Value results to ***'False'***, operator is ***'not'*** of ***'False'***, so output is ***'True'***.*  "
   ]
  },
  {
   "cell_type": "code",
   "execution_count": 11,
   "id": "1bc49145",
   "metadata": {},
   "outputs": [
    {
     "name": "stdout",
     "output_type": "stream",
     "text": [
      "20\n",
      "0\n",
      "0\n",
      "0\n",
      "10\n",
      "20\n",
      "20\n",
      "0\n",
      "False\n",
      "True\n"
     ]
    }
   ],
   "source": [
    "print(10 and 20)\n",
    "print(0 and 20)\n",
    "print(20 and 0)\n",
    "print(0 and 0)\n",
    "print(10 or 20)\n",
    "print(0 or 20)\n",
    "print(20 or 0)\n",
    "print(0 or 0)\n",
    "print(not 10)\n",
    "print(not 0)"
   ]
  },
  {
   "cell_type": "markdown",
   "id": "a2beec8c",
   "metadata": {},
   "source": [
    "---------------------------------------------------------------------------\n",
    "==========================================================================================================================\n",
    "### <u>Question 8</u>\n",
    "- **Bitwise Operators**\n",
    " - **Do below operations on the values provided below:-**\n",
    "    > - **Bitwise and(&) --------------> 10, 20 -------> Output is 0**\n",
    "    > - **Bitwise or(|) --------------> 10, 20 -------> Output is 30**\n",
    "    > - **Bitwise(^) --------------> 10, 20 -------> Output is 30**\n",
    "    > - **Bitwise negation(~) ---------> 10 -------> Output is -11**\n",
    "    > - **Bitwise left shift ---------> 10,2 -------> Output is 40**\n",
    "    > - **Bitwise right shift ---------> 10,2 -------> Output is 2**\n",
    "  - **Cross check the output manually**\n",
    "\n",
    "### *Solution -*\n",
    "- **Above mentioned output of Bitwise operators is correct and verified using below code:**  \n",
    "    - ***Using Bitwise Operators '&', '|', '^', '~', '<<' and '>>'***\n",
    "        > - **Statement 1):** *Binary of ***'10'*** is ***'00001010'*** and binary of ***'20'*** is ***'00010100'***, operator is ***'&'***, so output is ***'00000000'*** i.e. ***'0'***.*  \n",
    "        > - **Statement 2):** *Binary of ***'10'*** is ***'00001010'*** and binary of ***'20'*** is ***'00010100'***, operator is ***'|'***, so output is ***'00011110'*** i.e. ***'30'***.*  \n",
    "        > - **Statement 3):** *Binary of ***'10'*** is ***'00001010'*** and binary of ***'20'*** is ***'00010100'***, operator is ***'^'***, so output is ***'00011110'*** i.e. ***'30'***.* \n",
    "        > - **Statement 4):** *Binary of ***'10'*** is ***'00001010'***, operator is ***'~'***, so output is ***'-(00001010+00000001)' = '-(00001011)'*** i.e. ***'-11'***.*  \n",
    "        > - **Statement 5):** *Binary of ***'10'*** is ***'00001010'***, operator is ***'<<'***, so output is '00101000' i.e. ***'40'***.*  \n",
    "        > - **Statement 6):** *Binary of ***'10'*** is ***'00001010'***, operator is ***'>>'***, so output is '00000010' i.e. ***'2'***.*"
   ]
  },
  {
   "cell_type": "code",
   "execution_count": 14,
   "id": "f178de0a",
   "metadata": {},
   "outputs": [
    {
     "name": "stdout",
     "output_type": "stream",
     "text": [
      "Bitwise and('&')          = 0\n",
      "Bitwise or('|')           = 30\n",
      "Bitwise xor('^')          = 30\n",
      "Bitwise negation('~')     = -11\n",
      "Bitwise left shift('<<')  = 40\n",
      "Bitwise right shift('>>') = 2\n"
     ]
    }
   ],
   "source": [
    "print(\"Bitwise and('&')          =\", 10 & 20)\n",
    "print(\"Bitwise or('|')           =\",10 | 20)\n",
    "print(\"Bitwise xor('^')          =\",10 ^ 20)\n",
    "print(\"Bitwise negation('~')     =\",~10)\n",
    "print(\"Bitwise left shift('<<')  =\",10<<2)\n",
    "print(\"Bitwise right shift('>>') =\",10>>2)"
   ]
  },
  {
   "cell_type": "markdown",
   "id": "0da2f2d8",
   "metadata": {},
   "source": [
    "---------------------------------------------------------------------------\n",
    "==========================================================================================================================\n",
    "### <u>Question 9</u>\n",
    "- **What is the output of expression inside the print statement?**\n",
    " - **Cross check before running the program.**\n",
    " ```python\n",
    "    > a = 10  \n",
    "    > b = 10  \n",
    "    > print(a is b) #True or False?  \n",
    "    > print(a is not b) #True or False?  \n",
    "    > a = 1000  \n",
    "    > b = 1000  \n",
    "    > print(a is b) #True or False?  \n",
    "    > print(a is not b) #True or False?  \n",
    " ```\n",
    "\n",
    "### *Solution -*\n",
    "- The ***'is'*** operator actually compares the reference addresses on the variables 'a' and 'b'. It returns True if either argument is assigned to the same object.  \n",
    "- The Python implementation keeps an array of ***'integer'*** objects for all integers between ***'-5'*** and ***'256'***, when we create an int in that range we actually just get back a reference to the existing object.\n",
    "- If we create integers greater than ***'256'*** or less than ***'-5'***, then the reference will change even for same values, and will result in different 'Id'.\n",
    "\n",
    "\n",
    "- **Above code results to:**\n",
    "```python\n",
    "    > a = 10  \n",
    "    > b = 10  \n",
    "    > print(a is b) #True or False?  \n",
    "```\n",
    "    > ***#Output is 'True',*** *because the reference address for 'a' and 'b' is same, as its values are between '-5' and '256'*\n",
    "```python\n",
    "    > print(a is not b) #True or False?  \n",
    "```\n",
    "    > ***#Output is 'False',*** *because the reference address for 'a' and 'b' is same, as its values are between '-5' and '256'*\n",
    "```python\n",
    "    > a = 1000  \n",
    "    > b = 1000  \n",
    "    > print(a is b) #True or False?\n",
    "```\n",
    "    > ***#Output is 'False',*** *because the reference address for 'a' and 'b' is different, as its values are outside '-5' and '256'*\n",
    "```python\n",
    "    > print(a is not b) #True or False?\n",
    "```\n",
    "    > ***#Output is 'True',*** *because the reference address for 'a' and 'b' is different, as its values are outside '-5' and '256'* "
   ]
  },
  {
   "cell_type": "code",
   "execution_count": 13,
   "id": "cbed0fa8",
   "metadata": {},
   "outputs": [
    {
     "name": "stdout",
     "output_type": "stream",
     "text": [
      "True\n",
      "False\n",
      "False\n",
      "True\n"
     ]
    }
   ],
   "source": [
    "a = 10\n",
    "b = 10\n",
    "print(a is b)\n",
    "print(a is not b)\n",
    "a = 1000\n",
    "b = 1000\n",
    "print(a is b)\n",
    "print(a is not b)"
   ]
  },
  {
   "cell_type": "markdown",
   "id": "f177cda6",
   "metadata": {},
   "source": [
    "---------------------------------------------------------------------------\n",
    "==========================================================================================================================\n",
    "### <u>Question 10</u>\n",
    "- **What is the output of expression inside print statement.**\n",
    " - **Cross check before running the program.**  \n",
    "```python\n",
    "  > print(10+(10*32)//2**5&20+(~(-10))<<2)\n",
    "```\n",
    "\n",
    "### *Solution -*\n",
    "- **All operators in Python are evaluated using Operator Precedence table specified below:**\n",
    "\n",
    "Priority |Operator |Description\n",
    "-----|-----|----- \n",
    "1|(expressions...), [expressions...], {key: value...}, {expressions...}|Binding or parenthesized expression, list display, dictionary display, set display\n",
    "2|x[index], x[index:index], x(arguments...), x.attribute|Subscription, slicing, call, attribute reference\n",
    "3|await x|Await expression\n",
    "4|**|Exponentiation\n",
    "5|+x, -x, ~x|Positive, negative, bitwise NOT\n",
    "6|*, @, /, //, %|Multiplication, matrix multiplication, division, floor division, remainder\n",
    "7|+, -|Addition and subtraction\n",
    "8|<<, >>|Shifts\n",
    "9|&|Bitwise AND\n",
    "10|^|Bitwise XOR\n",
    "11|&#124;|Bitwise OR\n",
    "12|in, not in, is, is not, <, <=, >, >=, !=, ==|Comparisons, including membership tests and identity tests\n",
    "13|not x|Boolean NOT\n",
    "14|and|Boolean AND\n",
    "15|or|Boolean OR\n",
    "16|if – else|Conditional expression\n",
    "17|lamda|Lambda expression\n",
    "18|:=|Assignment expression\n",
    "\n",
    "- **We need to solve the mentioned expression using the above mentioned operator precedence.**\n",
    "```python\n",
    "  > print(10+(10*32)//2**5&20+(~(-10))<<2)\n",
    "```\n",
    "- Our main expression is: __10+(10x32)//2**5&20+(~(-10))<<2__\n",
    "    + First we evaluate the **(Expressions) operator**, this results to:\n",
    "        > + 10x32    =>    __320__  \n",
    "        > + ~(-10)    =>    -(-10+1)    =>    -(1-10)    =>    -(00000001-00001010)    =>    -(-00001001)    =>    -(-9)    =>    __9__\n",
    "- Now, our expression is: __10+320//2**5&20+9<<2__\n",
    "    + Next we evaluate the __** operator__, this results to:\n",
    "        > + 2 ** 5    =>     __32__\n",
    "- Now, our expression is: __10+320//32&20+9<<2__\n",
    "    + Next we evaluate __// operator__, this results to:\n",
    "        > + 320 // 32    =>    __10__\n",
    "- Now, our expression is: __10+10&20+9<<2__\n",
    "    + Next we evaluate __+ operator__, this results to:\n",
    "        > + 10 + 10    =>    __20__\n",
    "        > + 20 + 9    =>    __29__\n",
    "- Now, our expression is: __20&29<<2__\n",
    "    + Next we evaluate __<< operator__, this results to:\n",
    "        > + 29 << 2    =>    00011101 << 2    =>    01110100    =>    __116__\n",
    "- Now, our expression is: __20&44__\n",
    "    + Next we evaluate __<< operator__, this results to:\n",
    "        > + 20 & 116    =>    00010100 & 01110100    =>    00010100    =>    __20__\n",
    "\n",
    "- *Finally*, __20 is our result here.__\n",
    "- ___10+(10x32)//2**5&20+(~(-10))<<2___    =>    __20__\n",
    "- *Same can be verified using code below:*"
   ]
  },
  {
   "cell_type": "code",
   "execution_count": 19,
   "id": "52d56aaa",
   "metadata": {},
   "outputs": [
    {
     "name": "stdout",
     "output_type": "stream",
     "text": [
      "20\n"
     ]
    }
   ],
   "source": [
    "print(10+(10*32)//2**5&20+(~(-10))<<2)"
   ]
  },
  {
   "cell_type": "markdown",
   "id": "d3fb0ee7",
   "metadata": {},
   "source": [
    "---------------------------------------------------------------------------\n",
    "==========================================================================================================================\n",
    "### <u>Question 11</u>\n",
    "- **Membership operation**\n",
    " - **in, not in are two membership operators and it returns boolean value**\n",
    "```python\n",
    "    > print('2' in 'Python2.7.8')  \n",
    "    > print(10 in [10,10.20,10+20j,'Python'])  \n",
    "    > print(10 in (10,10.20,10+20j,'Python'))  \n",
    "    > print(2 in {1,2,3})  \n",
    "    > print(3 in {1:100, 2:200, 3:300})\n",
    "    > print(10 in range(20))\n",
    "```\n",
    "\n",
    "### *Solution -*\n",
    "- **Above code results to:**\n",
    "```python\n",
    "    > print('2' in 'Python2.7.8') #Output is True  \n",
    "    > print(10 in [10,10.20,10+20j,'Python']) #Output is True  \n",
    "    > print(10 in (10,10.20,10+20j,'Python')) #Output is True  \n",
    "    > print(2 in {1,2,3}) #Output is True  \n",
    "    > print(3 in {1:100, 2:200, 3:300}) #Output is True  \n",
    "    > print(10 in range(20)) #Output is True  \n",
    "```"
   ]
  },
  {
   "cell_type": "code",
   "execution_count": 20,
   "id": "26cd3b5b",
   "metadata": {},
   "outputs": [
    {
     "name": "stdout",
     "output_type": "stream",
     "text": [
      "True\n",
      "True\n",
      "True\n",
      "True\n",
      "True\n",
      "True\n"
     ]
    }
   ],
   "source": [
    "print('2' in 'Python2.7.8')\n",
    "print(10 in [10,10.20,10+20j,'Python'])\n",
    "print(10 in (10,10.20,10+20j,'Python'))\n",
    "print(2 in {1,2,3})\n",
    "print(3 in {1:100, 2:200, 3:300})\n",
    "print(10 in range(20))"
   ]
  },
  {
   "cell_type": "markdown",
   "id": "010231a0",
   "metadata": {},
   "source": [
    "---------------------------------------------------------------------------\n",
    "==========================================================================================================================\n",
    "### <u>Question 12</u>\n",
    "- **An integer can be represented in binary, octal or hexadecimal form.**\n",
    " - **Declare one binary, one octal and one hexadecimal value and store them in three different variables.**\n",
    " - **Convert 9876 to its binary, octal and hexadecimal equivalent and print their corresponding value.**\n",
    "\n",
    "### *Solution -*\n",
    "- **Declare one binary, one octal and one hexadecimal value and store them in three different variables.**"
   ]
  },
  {
   "cell_type": "code",
   "execution_count": 35,
   "id": "61e65695",
   "metadata": {},
   "outputs": [
    {
     "name": "stdout",
     "output_type": "stream",
     "text": [
      "Binary '0b10000'   =  16\n",
      "Octal '0o20'       =  16\n",
      "Hexadecimal '0x10' =  16\n"
     ]
    }
   ],
   "source": [
    "aBin = \"0b10000\"\n",
    "aOct = \"0o20\"\n",
    "aHex = \"0x10\"\n",
    "print(f\"Binary '{aBin}'   = \", int(aBin,2))\n",
    "print(f\"Octal '{aOct}'       = \", int(aOct,8))\n",
    "print(f\"Hexadecimal '{aHex}' = \", int(aHex,16))"
   ]
  },
  {
   "cell_type": "markdown",
   "id": "57987e90",
   "metadata": {},
   "source": [
    "- **Convert 9876 to its binary, octal and hexadecimal equivalent and print their corresponding value.**"
   ]
  },
  {
   "cell_type": "code",
   "execution_count": 42,
   "id": "a7b6f674",
   "metadata": {},
   "outputs": [
    {
     "name": "stdout",
     "output_type": "stream",
     "text": [
      "Binary of 9876      = '0b10011010010100'\n",
      "Octal of 9876       = '0o23224'\n",
      "Hexadecimal of 9876 = '0x2694'\n"
     ]
    }
   ],
   "source": [
    "a = 9876\n",
    "print (f\"Binary of {a}      = '{bin(a)}'\")\n",
    "print (f\"Octal of {a}       = '{oct(a)}'\")\n",
    "print (f\"Hexadecimal of {a} = '{hex(a)}'\")"
   ]
  },
  {
   "cell_type": "markdown",
   "id": "4256f994",
   "metadata": {},
   "source": [
    "---------------------------------------------------------------------------\n",
    "==========================================================================================================================\n",
    "### <u>Question 13</u>\n",
    "- **What will be the output of following:-**\n",
    " ```python\n",
    "    > a = 0b1010000\n",
    "    > print(a)\n",
    "    > b = 0o7436\n",
    "    > print(b)\n",
    "    > c = 0xfade\n",
    "    > print(c)\n",
    "    > print(bin(80))\n",
    "    > print(oct(3870))\n",
    "    > print(hex(64222))\n",
    "    > print(bin(0b1010000))\n",
    "    > print(bin(0xfade))\n",
    "    > print(oct(0xfade))\n",
    "    > print(oct(0o7436))\n",
    "    > print(hex(0b1010000))\n",
    "    > print(hex(0xfade))  \n",
    " ```\n",
    "\n",
    "### *Solution -*"
   ]
  },
  {
   "cell_type": "code",
   "execution_count": 44,
   "id": "6d44f769",
   "metadata": {},
   "outputs": [
    {
     "name": "stdout",
     "output_type": "stream",
     "text": [
      "80\n",
      "3870\n",
      "64222\n",
      "0b1010000\n",
      "0o7436\n",
      "0xfade\n",
      "0b1010000\n",
      "0b1111101011011110\n",
      "0o175336\n",
      "0o7436\n",
      "0x50\n",
      "0xfade\n"
     ]
    }
   ],
   "source": [
    "a = 0b1010000\n",
    "print(a)\n",
    "b = 0o7436\n",
    "print(b)\n",
    "c = 0xfade\n",
    "print(c)\n",
    "print(bin(80))\n",
    "print(oct(3870))\n",
    "print(hex(64222))\n",
    "print(bin(0b1010000))\n",
    "print(bin(0xfade))\n",
    "print(oct(0xfade))\n",
    "print(oct(0o7436))\n",
    "print(hex(0b1010000))\n",
    "print(hex(0xfade))"
   ]
  }
 ],
 "metadata": {
  "kernelspec": {
   "display_name": "Python 3",
   "language": "python",
   "name": "python3"
  },
  "language_info": {
   "codemirror_mode": {
    "name": "ipython",
    "version": 3
   },
   "file_extension": ".py",
   "mimetype": "text/x-python",
   "name": "python",
   "nbconvert_exporter": "python",
   "pygments_lexer": "ipython3",
   "version": "3.8.8"
  }
 },
 "nbformat": 4,
 "nbformat_minor": 5
}
