{
 "cells": [
  {
   "cell_type": "markdown",
   "id": "9c1b6e9b",
   "metadata": {},
   "source": [
    "# Week - 5 Assignment - 18th September : Submitted By Kapil Kankane"
   ]
  },
  {
   "cell_type": "markdown",
   "id": "d575873d",
   "metadata": {},
   "source": [
    "## ***File Handling***"
   ]
  },
  {
   "cell_type": "markdown",
   "id": "94404bf9",
   "metadata": {},
   "source": [
    "---------------------------------------------------------------------------\n",
    "==========================================================================================================================\n",
    "### <u>Question 1</u> \n",
    "Write a function in python to read the content from a text file \"poem.txt\" line by line and display the same on screen.\n",
    "### *Solution -*"
   ]
  },
  {
   "cell_type": "code",
   "execution_count": 2,
   "id": "722758ba",
   "metadata": {
    "ExecuteTime": {
     "end_time": "2021-09-18T15:11:11.013446Z",
     "start_time": "2021-09-18T15:11:10.994441Z"
    },
    "scrolled": true
   },
   "outputs": [
    {
     "name": "stdout",
     "output_type": "stream",
     "text": [
      "Twinkle, twinkle, little star,\n",
      "How I wonder what you are!\n",
      "Up above the world so high,\n",
      "Like a diamond in the sky.\n",
      "Twinkle, twinkle, little star,\n",
      "How I wonder what you are!\n",
      "\n",
      "When the blazing sun is gone,\n",
      "When he nothing shines upon,\n",
      "Then you show your little light,\n",
      "Twinkle, twinkle, all the night.\n",
      "Twinkle, twinkle, little star,\n",
      "How I wonder what you are!\n",
      "\n",
      "Then the traveller in the dark,\n",
      "Thanks you for your tiny spark,\n",
      "He could not see which way to go,\n",
      "If you did not twinkle so.\n",
      "Twinkle, twinkle, little star,\n",
      "How I wonder what you are!\n",
      "\n",
      "In the dark blue sky you keep,\n",
      "And often through my curtains peep,\n",
      "For you never shut your eye,\n",
      "Till the sun is in the sky.\n",
      "Twinkle, twinkle, little star,\n",
      "How I wonder what you are!\n",
      "\n",
      "As your bright and tiny spark,\n",
      "Lights the traveller in the dark,â€”\n",
      "Though I know not what you are,\n",
      "Twinkle, twinkle, little star.\n",
      "Twinkle, twinkle, little star,\n",
      "How I wonder what you are!\n"
     ]
    }
   ],
   "source": [
    "#Open the file and read line by line\n",
    "def open_file(filename):\n",
    "    with open(filename,\"r\") as f:\n",
    "        lines = f.readlines()\n",
    "        for line in lines:\n",
    "            print(line.strip())\n",
    "\n",
    "#Set the filename\n",
    "filename = \"poem.txt\"\n",
    "\n",
    "#Call to open_file function\n",
    "read_data = open_file(filename)"
   ]
  },
  {
   "cell_type": "markdown",
   "id": "fb519a6b",
   "metadata": {},
   "source": [
    "---------------------------------------------------------------------------\n",
    "==========================================================================================================================\n",
    "### <u>Question 2</u>\n",
    "Write a function in python to count the number of lines from a text file \"story.txt\" which is not starting with an alphabet \"T\".  \n",
    "\n",
    "Example: If the file \"story.txt\" contains the following lines:  \n",
    "```\n",
    "A boy is playing there.\n",
    "There is a playground.\n",
    "An aeroplane is in the sky.\n",
    "The sky is pink.\n",
    "Alphabets and numbers are allowed in the password.\n",
    "```\n",
    "The function should display the output as 3\n",
    "### *Solution -*"
   ]
  },
  {
   "cell_type": "code",
   "execution_count": 57,
   "id": "0e0638b0",
   "metadata": {
    "ExecuteTime": {
     "end_time": "2021-09-18T16:27:13.307500Z",
     "start_time": "2021-09-18T16:27:13.283012Z"
    }
   },
   "outputs": [
    {
     "name": "stdout",
     "output_type": "stream",
     "text": [
      "A boy is playing there.\n",
      "There is a playground.\n",
      "An aeroplane is in the sky.\n",
      "The sky is pink.\n",
      "Alphabets and numbers are allowed in the password.\n",
      "\n",
      "Count of lines not starting with T: 3\n"
     ]
    }
   ],
   "source": [
    "#Open the file and read line by line\n",
    "def open_file(filename):\n",
    "    with open(filename,\"r\") as f:\n",
    "        lines = f.readlines()\n",
    "        for line in lines:\n",
    "            print(line.strip())\n",
    "        return lines\n",
    "\n",
    "#Count the number of lines not starting with the Alphabet\n",
    "def count_alpha(alpha, read_lines):\n",
    "    count =0\n",
    "    for line in read_lines:\n",
    "            if line[0] != alpha:\n",
    "                count += 1\n",
    "    print(f\"\\nCount of lines not starting with {alpha}: {count}\")\n",
    "\n",
    "#Set the filename\n",
    "filename = \"story.txt\"\n",
    "\n",
    "#Alphabet to skip\n",
    "alpha = \"T\"\n",
    "\n",
    "#Call to open_file function\n",
    "read_data = open_file(filename)\n",
    "\n",
    "#Call to count_alpha function\n",
    "count_alpha(alpha,read_data)"
   ]
  },
  {
   "cell_type": "markdown",
   "id": "01016224",
   "metadata": {},
   "source": [
    "---------------------------------------------------------------------------\n",
    "==========================================================================================================================\n",
    "### <u>Question 3</u>\n",
    "Write a function in Python to count and display the total number of words in a text file.  \n",
    "### *Solution -*"
   ]
  },
  {
   "cell_type": "code",
   "execution_count": 26,
   "id": "3d809b6b",
   "metadata": {
    "ExecuteTime": {
     "end_time": "2021-09-18T15:50:46.499147Z",
     "start_time": "2021-09-18T15:50:46.485013Z"
    }
   },
   "outputs": [
    {
     "name": "stdout",
     "output_type": "stream",
     "text": [
      "A boy is playing there.\n",
      "There is a playground.\n",
      "An aeroplane is in the sky.\n",
      "The sky is pink.\n",
      "Alphabets and numbers are allowed in the password.\n",
      "\n",
      "Number of words in the file are: 27\n"
     ]
    }
   ],
   "source": [
    "#importing modules\n",
    "\n",
    "#Open the file\n",
    "def open_file(filename):\n",
    "    with open(filename,\"r\") as f:\n",
    "        data = f.read()\n",
    "        print(data)\n",
    "        return data\n",
    "\n",
    "#Count the number of words\n",
    "def count_words(data):\n",
    "    words = re.findall(r'\\w+', data)\n",
    "    print(f\"\\nNumber of words in the file are: {len(words)}\")\n",
    "\n",
    "#Set the filename\n",
    "filename = \"story.txt\"\n",
    "\n",
    "#Call to open_file function\n",
    "read_data = open_file(filename)\n",
    "\n",
    "#Call to count_words function\n",
    "count_words(read_data)"
   ]
  },
  {
   "cell_type": "markdown",
   "id": "7a4132b0",
   "metadata": {},
   "source": [
    "---------------------------------------------------------------------------\n",
    "==========================================================================================================================\n",
    "### <u>Question 4</u>\n",
    "Write a function in Python to read lines from a text file \"notes.txt\".  \n",
    "Your function should find and display the occurrence of the word \"the\".  \n",
    "  \n",
    "For example: If the content of the file is:  \n",
    "_\"India is the fastest-growing economy. India is looking for more investments around the globe. The whole world is looking at India as a great market. Most of the Indians can foresee the heights that India is capable of reaching.\"_  \n",
    "  \n",
    "The output should be 5.  \n",
    "### *Solution -*"
   ]
  },
  {
   "cell_type": "code",
   "execution_count": 55,
   "id": "0661ecec",
   "metadata": {
    "ExecuteTime": {
     "end_time": "2021-09-18T16:25:39.434001Z",
     "start_time": "2021-09-18T16:25:39.408919Z"
    }
   },
   "outputs": [
    {
     "name": "stdout",
     "output_type": "stream",
     "text": [
      "India is the fastest-growing economy. India is looking for more investments around the globe. The whole world is looking at India as a great market. Most of the Indians can foresee the heights that India is capable of reaching.\n",
      "\n",
      "Total occurrences of word 'the' in the file are: 5\n"
     ]
    }
   ],
   "source": [
    "#importing modules\n",
    "import re\n",
    "\n",
    "#Open the file\n",
    "def open_file(filename):\n",
    "    with open(filename,\"r\") as f:\n",
    "        data = f.read()\n",
    "        print(data)\n",
    "        return data\n",
    "\n",
    "#Count the occurences of word\n",
    "def count_word(data,check_word):\n",
    "    count = len(re.findall(check_word.upper(),data.upper()))\n",
    "    print(f\"\\nTotal occurrences of word '{check_word}' in the file are: {count}\")\n",
    "\n",
    "#Set the filename\n",
    "filename = \"india.txt\"\n",
    "\n",
    "#Word to count\n",
    "word = \"the\"\n",
    "\n",
    "#Call to open_file function\n",
    "read_data = open_file(filename)\n",
    "\n",
    "#Call to count_word function\n",
    "count_word(read_data, word)"
   ]
  },
  {
   "cell_type": "markdown",
   "id": "e022f3d5",
   "metadata": {},
   "source": [
    "---------------------------------------------------------------------------\n",
    "==========================================================================================================================\n",
    "### <u>Question 5</u>\n",
    "Write a function display_words() in python to read lines from a text file \"story.txt\", and display those words, which are less than 4 characters.  \n",
    "### *Solution -*"
   ]
  },
  {
   "cell_type": "code",
   "execution_count": 30,
   "id": "73bf8e86",
   "metadata": {
    "ExecuteTime": {
     "end_time": "2021-09-18T15:57:38.564028Z",
     "start_time": "2021-09-18T15:57:38.549218Z"
    }
   },
   "outputs": [
    {
     "name": "stdout",
     "output_type": "stream",
     "text": [
      "A boy is playing there.\n",
      "There is a playground.\n",
      "An aeroplane is in the sky.\n",
      "The sky is pink.\n",
      "Alphabets and numbers are allowed in the password.\n",
      "\n",
      "Follwing words are less than 4 characters in the given file:\n",
      "A\n",
      "boy\n",
      "is\n",
      "is\n",
      "a\n",
      "An\n",
      "is\n",
      "in\n",
      "the\n",
      "sky\n",
      "The\n",
      "sky\n",
      "is\n",
      "and\n",
      "are\n",
      "in\n",
      "the\n"
     ]
    }
   ],
   "source": [
    "#importing modules\n",
    "import re\n",
    "\n",
    "#Open the file\n",
    "def open_file(filename):\n",
    "    with open(filename,\"r\") as f:\n",
    "        data = f.read()\n",
    "        print(data)\n",
    "        return data\n",
    "\n",
    "#Display words less than 4 characters\n",
    "def display_words(data):\n",
    "    words = re.findall(r'\\w+', data)\n",
    "    count = 0\n",
    "    small_words = []\n",
    "    for word in words:\n",
    "        if len(word)<4:\n",
    "            small_words.append(word)\n",
    "    if len(small_words) > 0:\n",
    "        print(f\"\\nFollwing words are less than 4 characters in the given file:\")\n",
    "        for small_word in small_words:\n",
    "            print(f\"{small_word}\")\n",
    "    else:\n",
    "        print(\"\\nNo word is less than 4 characters in the given file.\")\n",
    "\n",
    "#Set the filename\n",
    "filename = \"story.txt\"\n",
    "\n",
    "#Call to open_file function\n",
    "read_data = open_file(filename)\n",
    "\n",
    "#Call to display_words function\n",
    "display_words(read_data)"
   ]
  },
  {
   "cell_type": "markdown",
   "id": "6f6fb7fe",
   "metadata": {},
   "source": [
    "---------------------------------------------------------------------------\n",
    "==========================================================================================================================\n",
    "### <u>Question 6</u>\n",
    "Write a function in Python to count the words \"this\" and \"these\" present in a text file \"article.txt\".  \n",
    "[Note that the words \"this\" and \"these\" are complete words]  \n",
    "### *Solution -*"
   ]
  },
  {
   "cell_type": "code",
   "execution_count": 11,
   "id": "56a96488",
   "metadata": {
    "ExecuteTime": {
     "end_time": "2021-09-19T03:07:18.024582Z",
     "start_time": "2021-09-19T03:07:18.008296Z"
    },
    "scrolled": true
   },
   "outputs": [
    {
     "name": "stdout",
     "output_type": "stream",
     "text": [
      "It is 6 am on a hot day in July and I've already showered and eaten breakfast. I know that my classmates are all sleeping in and enjoying their summer break, but I don't envy them; I'm excited to start my day interning with a local newspaper doing investigative journalism. I work a typical 8-5 day during my summer vacation and despite the early mornings, nothing has made me happier. Although it wasn't clear to me then, looking back on my high school experiences and everything that led to me to this internship, I believe this path began with a particularly savvy teacher and a little book she gave me to read outside of class.\n",
      "I was taking a composition class, and we were learning how to write persuasive essays. Up until that point, I had had average grades, but I was always a good writer and my teacher immediately recognized this. The first paper I wrote for the class was about my experience going to an Indian reservation located near my uncle's ranch in southwest Colorado. I wrote of the severe poverty experienced by the people on the reservation, and the lack of access to voting booths during the most recent election. After reading this short story, my teacher approached me and asked about my future plans. No one had ever asked me this, and I wasn't sure how to answer. I said I liked writing and I liked thinking about people who are different from myself. She gave me a book and told me that if I had time to read it, she thought it would be something I would enjoy. I was actually quite surprised that a high school teacher was giving me a book titled Lies My Teacher Told Me. It had never occurred to me that teachers would lie to students. The title intrigued me so much that on Friday night I found myself staying up almost all night reading, instead of going out with friends.\n",
      "\n",
      "In short, the book discusses several instances in which typical American history classes do not tell the whole story. For example, the author addresses the way that American history classes do not usually address about the Vietnam War, even though it happened only a short time ago. This made me realize that we hadn't discussed the Vietnam War in my own history class! The book taught me that, like my story of the Indian reservation, there are always more stories beyond what we see on the surface and what we're taught in school. I was inspired to continue to tell these stories and to make that my career.\n",
      " \n",
      "For my next article for the class, I wrote about the practice of my own high school suspending students, sometimes indefinitely, for seemingly minor offenses such as tardiness and smoking. I found that the number of suspensions had increased by 200% at my school in just three years, and also discovered that students who are suspended after only one offense often drop out and some later end up in prison. The article caused quite a stir. The administration of my school dismissed it, but it caught the attention of my local newspaper. A local journalist worked with me to publish an updated and more thoroughly researched version of my article in the local newspaper. The article forced the school board to revisit their \"zero tolerance\" policy as well as reinstate some indefinitely suspended students. I won no favors with the administration and it was a difficult time for me, but it was also thrilling to see how one article can have such a direct effect on people's lives. It reaffirmed my commitment to a career in journalism.\n",
      "\n",
      "This is why I'm applying for this scholarship. Your organization has been providing young aspiring journalists with funds to further their skills and work to uncover the untold stories in our communities that need to be reported. I share your organization's vision of working towards a more just and equitable world by uncovering stories of abuse of power. I have already demonstrated this commitment through my writing in high school and I look forward to pursuing a BA in this field at the University of Michigan Ann Arbor. With your help, I will hone my natural instincts and inherent writing skills. I will become a better and more persuasive writer and I will learn the ethics of professional journalism.\n",
      "\n",
      "I sincerely appreciate the committee's time in evaluating my application and giving me the opportunity to tell my story. I look forward to hearing from you soon.\n",
      "\n",
      "Total occurrences of word 'this' in the file are: 10\n",
      "\n",
      "Total occurrences of word 'these' in the file are: 1\n"
     ]
    }
   ],
   "source": [
    "#importing modules\n",
    "import re\n",
    "\n",
    "#Open the file\n",
    "def open_file(filename):\n",
    "    with open(filename,\"r\") as f:\n",
    "        data = f.read()\n",
    "        print(data)\n",
    "        return data\n",
    "\n",
    "#Count the occurences of word\n",
    "def count_word(data,check_words):\n",
    "    for check_word in check_words:\n",
    "        count = len(re.findall('\\\\b'+check_word.upper()+'\\\\b',data.upper()))\n",
    "        print(f\"\\nTotal occurrences of word '{check_word}' in the file are: {count}\")\n",
    "\n",
    "#Set the filename\n",
    "filename = \"article.txt\"\n",
    "\n",
    "#Word to count\n",
    "words = [\"this\",\"these\"]\n",
    "\n",
    "#Call to open_file function\n",
    "read_data = open_file(filename)\n",
    "\n",
    "#Call to count_word function\n",
    "count_word(read_data, words)"
   ]
  },
  {
   "cell_type": "markdown",
   "id": "1b4006bc",
   "metadata": {},
   "source": [
    "---------------------------------------------------------------------------\n",
    "==========================================================================================================================\n",
    "### <u>Question 7</u>\n",
    "Write a function in Python to count words in a text file those are ending with alphabet \"e\"  \n",
    "### *Solution -*"
   ]
  },
  {
   "cell_type": "code",
   "execution_count": 3,
   "id": "1bc49145",
   "metadata": {
    "ExecuteTime": {
     "end_time": "2021-10-03T14:25:35.212890Z",
     "start_time": "2021-10-03T14:25:35.182581Z"
    },
    "scrolled": true
   },
   "outputs": [
    {
     "name": "stdout",
     "output_type": "stream",
     "text": [
      "It is 6 am on a hot day in July and I've already showered and eaten breakfast. I know that my classmates are all sleeping in and enjoying their summer break, but I don't envy them; I'm excited to start my day interning with a local newspaper doing investigative journalism. I work a typical 8-5 day during my summer vacation and despite the early mornings, nothing has made me happier. Although it wasn't clear to me then, looking back on my high school experiences and everything that led to me to this internship, I believe this path began with a particularly savvy teacher and a little book she gave me to read outside of class.\n",
      "I was taking a composition class, and we were learning how to write persuasive essays. Up until that point, I had had average grades, but I was always a good writer and my teacher immediately recognized this. The first paper I wrote for the class was about my experience going to an Indian reservation located near my uncle's ranch in southwest Colorado. I wrote of the severe poverty experienced by the people on the reservation, and the lack of access to voting booths during the most recent election. After reading this short story, my teacher approached me and asked about my future plans. No one had ever asked me this, and I wasn't sure how to answer. I said I liked writing and I liked thinking about people who are different from myself. She gave me a book and told me that if I had time to read it, she thought it would be something I would enjoy. I was actually quite surprised that a high school teacher was giving me a book titled Lies My Teacher Told Me. It had never occurred to me that teachers would lie to students. The title intrigued me so much that on Friday night I found myself staying up almost all night reading, instead of going out with friends.\n",
      "\n",
      "In short, the book discusses several instances in which typical American history classes do not tell the whole story. For example, the author addresses the way that American history classes do not usually address about the Vietnam War, even though it happened only a short time ago. This made me realize that we hadn't discussed the Vietnam War in my own history class! The book taught me that, like my story of the Indian reservation, there are always more stories beyond what we see on the surface and what we're taught in school. I was inspired to continue to tell these stories and to make that my career.\n",
      " \n",
      "For my next article for the class, I wrote about the practice of my own high school suspending students, sometimes indefinitely, for seemingly minor offenses such as tardiness and smoking. I found that the number of suspensions had increased by 200% at my school in just three years, and also discovered that students who are suspended after only one offense often drop out and some later end up in prison. The article caused quite a stir. The administration of my school dismissed it, but it caught the attention of my local newspaper. A local journalist worked with me to publish an updated and more thoroughly researched version of my article in the local newspaper. The article forced the school board to revisit their \"zero tolerance\" policy as well as reinstate some indefinitely suspended students. I won no favors with the administration and it was a difficult time for me, but it was also thrilling to see how one article can have such a direct effect on people's lives. It reaffirmed my commitment to a career in journalism.\n",
      "\n",
      "This is why I'm applying for this scholarship. Your organization has been providing young aspiring journalists with funds to further their skills and work to uncover the untold stories in our communities that need to be reported. I share your organization's vision of working towards a more just and equitable world by uncovering stories of abuse of power. I have already demonstrated this commitment through my writing in high school and I look forward to pursuing a BA in this field at the University of Michigan Ann Arbor. With your help, I will hone my natural instincts and inherent writing skills. I will become a better and more persuasive writer and I will learn the ethics of professional journalism.\n",
      "\n",
      "I sincerely appreciate the committee's time in evaluating my application and giving me the opportunity to tell my story. I look forward to hearing from you soon.\n",
      "\n",
      "Total words ending with 'e' are :137\n"
     ]
    }
   ],
   "source": [
    "#importing modules\n",
    "import re\n",
    "\n",
    "#Open the file\n",
    "def open_file(filename):\n",
    "    with open(filename,\"r\") as f:\n",
    "        data = f.read()\n",
    "        print(data)\n",
    "        return data\n",
    "\n",
    "#Count the occurences of word ending with 'e'\n",
    "def count_word(data,check_alpha):\n",
    "    words = re.findall(r'\\w+', data)\n",
    "    count = 0\n",
    "    for word in words:\n",
    "        if word[-1] == check_alpha:\n",
    "            count+=1\n",
    "    print(f\"\\nTotal words ending with '{check_alpha}' are :{count}\")\n",
    "\n",
    "#Set the filename\n",
    "filename = \"article.txt\"\n",
    "\n",
    "#Alphabet to check and count\n",
    "check_alpha = \"e\"\n",
    "\n",
    "#Call to open_file function\n",
    "read_data = open_file(filename)\n",
    "\n",
    "#Call to count_word function\n",
    "count_word(read_data,check_alpha)"
   ]
  },
  {
   "cell_type": "markdown",
   "id": "a2beec8c",
   "metadata": {},
   "source": [
    "---------------------------------------------------------------------------\n",
    "==========================================================================================================================\n",
    "### <u>Question 8</u>\n",
    "Write a function in Python to count uppercase character in a text file.  \n",
    "### *Solution -*"
   ]
  },
  {
   "cell_type": "code",
   "execution_count": 30,
   "id": "145ebbbb",
   "metadata": {
    "ExecuteTime": {
     "end_time": "2021-10-03T15:04:53.086424Z",
     "start_time": "2021-10-03T15:04:53.073588Z"
    },
    "scrolled": true
   },
   "outputs": [
    {
     "name": "stdout",
     "output_type": "stream",
     "text": [
      "It is 6 am on a hot day in July and I've already showered and eaten breakfast. I know that my classmates are all sleeping in and enjoying their summer break, but I don't envy them; I'm excited to start my day interning with a local newspaper doing investigative journalism. I work a typical 8-5 day during my summer vacation and despite the early mornings, nothing has made me happier. Although it wasn't clear to me then, looking back on my high school experiences and everything that led to me to this internship, I believe this path began with a particularly savvy teacher and a little book she gave me to read outside of class.\n",
      "I was taking a composition class, and we were learning how to write persuasive essays. Up until that point, I had had average grades, but I was always a good writer and my teacher immediately recognized this. The first paper I wrote for the class was about my experience going to an Indian reservation located near my uncle's ranch in southwest Colorado. I wrote of the severe poverty experienced by the people on the reservation, and the lack of access to voting booths during the most recent election. After reading this short story, my teacher approached me and asked about my future plans. No one had ever asked me this, and I wasn't sure how to answer. I said I liked writing and I liked thinking about people who are different from myself. She gave me a book and told me that if I had time to read it, she thought it would be something I would enjoy. I was actually quite surprised that a high school teacher was giving me a book titled Lies My Teacher Told Me. It had never occurred to me that teachers would lie to students. The title intrigued me so much that on Friday night I found myself staying up almost all night reading, instead of going out with friends.\n",
      "\n",
      "In short, the book discusses several instances in which typical American history classes do not tell the whole story. For example, the author addresses the way that American history classes do not usually address about the Vietnam War, even though it happened only a short time ago. This made me realize that we hadn't discussed the Vietnam War in my own history class! The book taught me that, like my story of the Indian reservation, there are always more stories beyond what we see on the surface and what we're taught in school. I was inspired to continue to tell these stories and to make that my career.\n",
      " \n",
      "For my next article for the class, I wrote about the practice of my own high school suspending students, sometimes indefinitely, for seemingly minor offenses such as tardiness and smoking. I found that the number of suspensions had increased by 200% at my school in just three years, and also discovered that students who are suspended after only one offense often drop out and some later end up in prison. The article caused quite a stir. The administration of my school dismissed it, but it caught the attention of my local newspaper. A local journalist worked with me to publish an updated and more thoroughly researched version of my article in the local newspaper. The article forced the school board to revisit their \"zero tolerance\" policy as well as reinstate some indefinitely suspended students. I won no favors with the administration and it was a difficult time for me, but it was also thrilling to see how one article can have such a direct effect on people's lives. It reaffirmed my commitment to a career in journalism.\n",
      "\n",
      "This is why I'm applying for this scholarship. Your organization has been providing young aspiring journalists with funds to further their skills and work to uncover the untold stories in our communities that need to be reported. I share your organization's vision of working towards a more just and equitable world by uncovering stories of abuse of power. I have already demonstrated this commitment through my writing in high school and I look forward to pursuing a BA in this field at the University of Michigan Ann Arbor. With your help, I will hone my natural instincts and inherent writing skills. I will become a better and more persuasive writer and I will learn the ethics of professional journalism.\n",
      "\n",
      "I sincerely appreciate the committee's time in evaluating my application and giving me the opportunity to tell my story. I look forward to hearing from you soon.\n",
      "\n",
      "Total Upper case characters in the text file are :76\n"
     ]
    }
   ],
   "source": [
    "#Open the file\n",
    "def open_file(filename):\n",
    "    with open(filename,\"r\") as f:\n",
    "        data = f.read()\n",
    "        print(data)\n",
    "        return data\n",
    "\n",
    "#Count the occurences of upper case characters\n",
    "def count_upper(data):\n",
    "    count = 0\n",
    "    for char in data:\n",
    "        if char.isupper():\n",
    "            count+=1\n",
    "    print(f\"\\nTotal Upper case characters in the text file are :{count}\")\n",
    "\n",
    "#Set the filename\n",
    "filename = \"article.txt\"\n",
    "\n",
    "#Call to open_file function\n",
    "read_data = open_file(filename)\n",
    "\n",
    "#Call to count_upper function\n",
    "count_upper(read_data)"
   ]
  },
  {
   "cell_type": "markdown",
   "id": "0da2f2d8",
   "metadata": {},
   "source": [
    "---------------------------------------------------------------------------\n",
    "==========================================================================================================================\n",
    "### <u>Question 9</u>\n",
    "A text file named \"matter.txt\" contains some text, which needs to be displayed such that every next character is separated by a symbol \"#\".  \n",
    "Write a function definition for hash_display() in Python that would display the entire content of the file matter.txt in the desired format.  \n",
    "  \n",
    "Example :\n",
    "If the file matter.txt has the following content stored in it :  \n",
    "THE WORLD IS ROUND  \n",
    "  \n",
    "The function hash_display() should display the following content :  \n",
    "```T#H#E# #W#O#R#L#D# #I#S# #R#O#U#N#D#```\n",
    "### *Solution -*"
   ]
  },
  {
   "cell_type": "code",
   "execution_count": 4,
   "id": "cbed0fa8",
   "metadata": {
    "ExecuteTime": {
     "end_time": "2021-10-03T15:05:01.753248Z",
     "start_time": "2021-10-03T15:05:01.728950Z"
    }
   },
   "outputs": [
    {
     "name": "stdout",
     "output_type": "stream",
     "text": [
      "THE WORLD IS ROUND\n",
      "\n",
      "Output String after adding hash:\n",
      "\n",
      "T#H#E# #W#O#R#L#D# #I#S# #R#O#U#N#D#\n"
     ]
    }
   ],
   "source": [
    "#Open the file\n",
    "def open_file(filename):\n",
    "    with open(filename,\"r\") as f:\n",
    "        data = f.read()\n",
    "        print(data)\n",
    "        return data\n",
    "\n",
    "#Add '#' after each character\n",
    "def hash_display(data):\n",
    "    new_data = ''\n",
    "    for char in data:\n",
    "        new_data+=(char + '#')\n",
    "    print(f\"\\nOutput String after adding hash:\\n\\n{new_data}\")\n",
    "\n",
    "#Set the filename\n",
    "filename = \"matter.txt\"\n",
    "\n",
    "#Call to open_file function\n",
    "read_data = open_file(filename)\n",
    "\n",
    "#Call to hash_display() function\n",
    "hash_display(read_data)"
   ]
  },
  {
   "cell_type": "markdown",
   "id": "f177cda6",
   "metadata": {},
   "source": [
    "---------------------------------------------------------------------------\n",
    "==========================================================================================================================\n",
    "### <u>Question 10</u>\n",
    "Aditi has used a text editing software to type some text. After saving the article as WORDS.TXT, she realised that she has wrongly typed alphabet J in place of alphabet I everywhere in the article.  \n",
    "Write a function definition for JTOI() in Python that would display the corrected version of entire content of the file WORDS.TXT with all the alphabets \"J\" to be displayed as an alphabet \"I\" on screen.  \n",
    "  \n",
    "Note: Assuming that WORD.TXT does not contain any J alphabet otherwise.  \n",
    "\n",
    "Example:  \n",
    "If Aditi has stored the following content in the file WORDS.TXT:  \n",
    "```WELL, THJS JS A WORD BY JTSELF. YOU COULD STRETCH THJS TO BE A SENTENCE```  \n",
    "\n",
    "The function JTOI() should display the following content:  \n",
    "```WELL, THIS IS A WORD BY ITSELF. YOU COULD STRETCH THIS TO BE A SENTENCE```\n",
    "### *Solution -*"
   ]
  },
  {
   "cell_type": "code",
   "execution_count": 32,
   "id": "6b813eaa",
   "metadata": {
    "ExecuteTime": {
     "end_time": "2021-10-03T15:05:58.327340Z",
     "start_time": "2021-10-03T15:05:58.303641Z"
    }
   },
   "outputs": [
    {
     "name": "stdout",
     "output_type": "stream",
     "text": [
      "WELL, THJS JS A WORD BY JTSELF. YOU COULD STRETCH THJS TO BE A SENTENCE\n",
      "\n",
      "Output String after replacing 'J' with 'I':\n",
      "\n",
      "WELL, THIS IS A WORD BY ITSELF. YOU COULD STRETCH THIS TO BE A SENTENCE\n"
     ]
    }
   ],
   "source": [
    "#Open the file\n",
    "def open_file(filename):\n",
    "    with open(filename,\"r\") as f:\n",
    "        data = f.read()\n",
    "        print(data)\n",
    "        return data\n",
    "\n",
    "#Replace all occurences of J with I in the given text\n",
    "def JTOI(data):\n",
    "    new_data = ''\n",
    "    for char in data:\n",
    "        if char == 'J':\n",
    "            new_char = 'I'\n",
    "        elif char == 'j':\n",
    "            new_char = 'i'\n",
    "        else:\n",
    "            new_char = char\n",
    "        new_data+=new_char\n",
    "    print(f\"\\nOutput String after replacing 'J' with 'I':\\n\\n{new_data}\")\n",
    "\n",
    "#Set the filename\n",
    "filename = \"WORD.txt\"\n",
    "\n",
    "#Call to open_file function\n",
    "read_data = open_file(filename)\n",
    "\n",
    "#Call to JTOI() function\n",
    "JTOI(read_data)"
   ]
  },
  {
   "cell_type": "markdown",
   "id": "d3fb0ee7",
   "metadata": {},
   "source": [
    "---------------------------------------------------------------------------\n",
    "==========================================================================================================================\n",
    "### <u>Question 11</u>\n",
    "Write a function AMCount() in Python, which should read each character of a text file STORY.TXT, should count and display the occurance of alphabets A and M (including small cases a and m too).  \n",
    "  \n",
    "For Example:  \n",
    "If the file content is as follows:  \n",
    "  \n",
    "Updated information  \n",
    "As simplified by official websites.  \n",
    "  \n",
    "The AMCount() function should display the output as:  \n",
    "```A or a:4```  \n",
    "```M or m:2```  \n",
    "### *Solution -*"
   ]
  },
  {
   "cell_type": "code",
   "execution_count": 34,
   "id": "26cd3b5b",
   "metadata": {
    "ExecuteTime": {
     "end_time": "2021-10-03T15:14:25.550537Z",
     "start_time": "2021-10-03T15:14:25.530912Z"
    }
   },
   "outputs": [
    {
     "name": "stdout",
     "output_type": "stream",
     "text": [
      "Updated information\n",
      "As simplified by official websites.\n",
      "\n",
      "A or a:4\n",
      "M or m:2\n"
     ]
    }
   ],
   "source": [
    "#Open the file\n",
    "def open_file(filename):\n",
    "    with open(filename,\"r\") as f:\n",
    "        data = f.read()\n",
    "        print(data)\n",
    "        return data\n",
    "\n",
    "#Count occurences of A,a,M,m in the given text\n",
    "def AMcount(data):\n",
    "    countA = 0\n",
    "    countM = 0\n",
    "    for char in data:\n",
    "        if char in ('A','a'):\n",
    "            countA+=1\n",
    "        if char in ('M','m'):\n",
    "            countM+=1\n",
    "    print(f\"\\nA or a:{countA}\\nM or m:{countM}\")\n",
    "\n",
    "#Set the filename\n",
    "filename = \"story1.txt\"\n",
    "\n",
    "#Call to open_file function\n",
    "read_data = open_file(filename)\n",
    "\n",
    "#Call to AMcount() function\n",
    "AMcount(read_data)"
   ]
  },
  {
   "cell_type": "markdown",
   "id": "010231a0",
   "metadata": {},
   "source": [
    "---------------------------------------------------------------------------\n",
    "==========================================================================================================================\n",
    "### <u>Question 12</u>\n",
    "A binary file \"Book.dat\" has structure [BookNo, Book_Name, Author, Price].  \n",
    "i. Write a user defined function createFile() to input data for a record and add to Book.dat.  \n",
    "ii. Write a function countRec(Author) in Python which accepts the Author name as parameter and count and return number of books by the given Author are stored in the binary file \"Book.dat\"  \n",
    "### *Solution -*"
   ]
  },
  {
   "cell_type": "code",
   "execution_count": 5,
   "id": "4dba0489",
   "metadata": {
    "ExecuteTime": {
     "end_time": "2021-10-03T18:22:55.522421Z",
     "start_time": "2021-10-03T18:22:53.354594Z"
    }
   },
   "outputs": [
    {
     "name": "stdout",
     "output_type": "stream",
     "text": [
      "\n",
      "BookNo: 107\n",
      "BookName: A Tale of Two Cities\n",
      "Author: Charles Dickens\n",
      "Price: 107$\n",
      "\n",
      "BookNo: 108\n",
      "BookName: David Copperfield\n",
      "Author: Charles Dickens\n",
      "Price: 108$\n",
      "\n",
      "Total Books for Author 'Charles Dickens' in Bookstore are: 2\n"
     ]
    }
   ],
   "source": [
    "#Open the file\n",
    "def create_file(filename):\n",
    "    with open(filename,\"a+\") as f:\n",
    "        f.seek(0)\n",
    "        data = f.read()\n",
    "        \n",
    "        while True:\n",
    "            if data == '':\n",
    "                empty_bookstore = 'Y'\n",
    "                add_book = input(\"Bookstore is Empty. Do you want to add a new Book? (Y/N) \")\n",
    "            else:\n",
    "                empty_bookstore = 'N'\n",
    "                add_book = input(\"Books in Bookstore. Do you want to add a new Book? (Y/N) \")\n",
    "            if add_book in (\"y\",\"Y\",\"n\",\"N\"):\n",
    "                break\n",
    "                \n",
    "        if add_book in (\"y\",\"Y\"):\n",
    "            if data == '':\n",
    "                bookstore = {}\n",
    "                maxbookno = 0\n",
    "                x='Y'\n",
    "                while x in ('y','Y'):\n",
    "                    newbookno = 'Book'+str(maxbookno+1)\n",
    "                    bookstore[newbookno] = {'BookNo':input(\"Enter BookNo: \"),\n",
    "                                            'Book_Name':input(\"Enter Book_Name: \"),\n",
    "                                            'Author':input(\"Enter Author: \"),\n",
    "                                            'Price':input(\"Enter Price: \")}\n",
    "                    maxbookno = max([eval(i[4:]) for i in bookstore.keys()])\n",
    "                    while True:\n",
    "                        x = input(\"\\nAdd another Book? (Y/N) : \")\n",
    "                        if x in [\"y\",\"Y\",\"n\",\"N\"]:\n",
    "                            break\n",
    "                f.truncate(0)    \n",
    "                f.write(str(bookstore))\n",
    "            else:\n",
    "                bookstore = eval(data)\n",
    "                x='Y'\n",
    "                while x in ('y','Y'):\n",
    "                    maxbookno = max([eval(i[4:]) for i in bookstore.keys()])\n",
    "                    newbookno = 'Book'+str(maxbookno+1)\n",
    "                    bookstore[newbookno] = {'BookNo':input(\"Enter BookNo: \"),\n",
    "                                            'Book_Name':input(\"Enter Book_Name: \"),\n",
    "                                            'Author':input(\"Enter Author: \"),\n",
    "                                            'Price':input(\"Enter Price: \")}\n",
    "                    while True:\n",
    "                        x = input(\"\\nAdd another Book? (Y/N) : \")\n",
    "                        if x in [\"y\",\"Y\",\"n\",\"N\"]:\n",
    "                            break\n",
    "                f.truncate(0)    \n",
    "                f.write(str(bookstore))\n",
    "        else:\n",
    "            if empty_bookstore == 'N':\n",
    "                bookstore = eval(data)\n",
    "            else:\n",
    "                bookstore = 'Bookstore is Empty!!\\nNothing to search.'\n",
    "    return bookstore\n",
    "\n",
    "#Count Authors in the Bookstore\n",
    "def countRec(bookstore, Author):\n",
    "    count = 0\n",
    "    for k,v in bookstore.items():\n",
    "        if v['Author'].lower() == Author.lower():\n",
    "            print(f\"\\nBookNo: {v['BookNo']}\")\n",
    "            print(f\"BookName: {v['Book_Name']}\")\n",
    "            print(f\"Author: {v['Author']}\")\n",
    "            print(f\"Price: {v['Price']}\")\n",
    "            count+=1\n",
    "    print(f\"\\nTotal Books for Author '{Author}' in Bookstore are: {count}\")\n",
    "\n",
    "\n",
    "#Set the filename\n",
    "filename = \"Book.dat\"\n",
    "\n",
    "#Call to create_file function and store the bookstore dictionary\n",
    "bookstore = create_file(filename)\n",
    "if type(bookstore) == dict:\n",
    "    \n",
    "    #Get Author to check in Bookstore\n",
    "    author = str(input(\"Enter Author to search in Bookstore: \"))\n",
    "    \n",
    "    #call to countRec to count the books for specified Author\n",
    "    countRec(bookstore,author)\n",
    "else:\n",
    "    print(bookstore)"
   ]
  },
  {
   "cell_type": "markdown",
   "id": "4256f994",
   "metadata": {},
   "source": [
    "---------------------------------------------------------------------------\n",
    "==========================================================================================================================\n",
    "### <u>Question 13</u>\n",
    "A binary file \"STUDENT.DAT\" has structure (admission_number, Name, Percentage).  \n",
    "i. Write a function count_rec() in Python that would read contents of the file \"STUDENT.DAT\" and display the details of those students whose percentage is above 75.  \n",
    "ii. Also display number of students scoring above 75%  \n",
    "### *Solution -*"
   ]
  },
  {
   "cell_type": "code",
   "execution_count": 17,
   "id": "6d44f769",
   "metadata": {
    "ExecuteTime": {
     "end_time": "2021-08-31T18:31:44.806449Z",
     "start_time": "2021-08-31T18:31:13.145859Z"
    }
   },
   "outputs": [
    {
     "name": "stdout",
     "output_type": "stream",
     "text": [
      "\n",
      "Admission No: 67999\n",
      "Name: John Deakin\n",
      "Percentage: 86%\n",
      "\n",
      "Admission No: 68002\n",
      "Name: Shankunthala Patel\n",
      "Percentage: 83%\n",
      "\n",
      "Admission No: 67893\n",
      "Name: Sally Brown\n",
      "Percentage: 94%\n",
      "\n",
      "Admission No: 67894\n",
      "Name: Jane Carter\n",
      "Percentage: 93%\n",
      "\n",
      "Admission No: 67895\n",
      "Name: Paul Edwards\n",
      "Percentage: 97%\n",
      "\n",
      "Total Students scoring over 75%: 5\n"
     ]
    }
   ],
   "source": [
    "#Open the file\n",
    "def open_file(filename):\n",
    "    with open(filename,\"r\") as f:\n",
    "        data = f.read()\n",
    "        return eval(data)\n",
    "\n",
    "#Count students scoring more than 75%\n",
    "def count_rec(data):\n",
    "    count = 0\n",
    "    for k,v in data.items():\n",
    "        if eval(v['Percentage']) > 75:\n",
    "            print(f\"\\nAdmission No: {v['admission_number']}\")\n",
    "            print(f\"Name: {v['Name']}\")\n",
    "            print(f\"Percentage: {v['Percentage']}%\")\n",
    "            count+=1\n",
    "    if count > 0:\n",
    "        print(f\"\\nTotal Students scoring over 75%: {count}\")\n",
    "    else:\n",
    "        print(\"No student scored more than 75%\")\n",
    "\n",
    "#Set the filename\n",
    "filename = \"STUDENT.DAT\"\n",
    "\n",
    "#Call to open_file function\n",
    "read_data = open_file(filename)\n",
    "\n",
    "#Call to count_rec() function\n",
    "count_rec(read_data)"
   ]
  },
  {
   "cell_type": "markdown",
   "id": "ebc32309",
   "metadata": {},
   "source": [
    "---------------------------------------------------------------------------\n",
    "==========================================================================================================================\n",
    "### <u>Question 14</u>\n",
    "Given a binary file employee.dat, created using dictionary object having keys: (empcode, name, and salary)  \n",
    "i.  Write a python function that add one more record at the end of file.  \n",
    "ii. Write a python function that display all employee records whose salary is more that 30000  \n",
    "### *Solution -*"
   ]
  },
  {
   "cell_type": "code",
   "execution_count": 18,
   "id": "30c8bb77",
   "metadata": {
    "ExecuteTime": {
     "end_time": "2021-08-31T18:55:24.032269Z",
     "start_time": "2021-08-31T18:55:00.033791Z"
    }
   },
   "outputs": [
    {
     "name": "stdout",
     "output_type": "stream",
     "text": [
      "\n",
      "Employee Number: 1\n",
      "Employee Name  : Kapil Kankane\n",
      "Employee Salary: 50000\n",
      "\n",
      "Employee Number: 2\n",
      "Employee Name  : Abhishek Gupta\n",
      "Employee Salary: 40000\n",
      "\n",
      "Employee Number: 3\n",
      "Employee Name  : Akash Chopra\n",
      "Employee Salary: 60000\n",
      "\n",
      "Employee Number: 4\n",
      "Employee Name  : Krishna Kumar\n",
      "Employee Salary: 55000\n",
      "\n",
      "Employee Number: 5\n",
      "Employee Name  : Raju Rastogi\n",
      "Employee Salary: 45000\n",
      "\n",
      "Total Employees having salary more than 30000 are: 5\n"
     ]
    }
   ],
   "source": [
    "#Open the file\n",
    "def create_file(filename):\n",
    "    with open(filename,\"a+\") as f:\n",
    "        f.seek(0)\n",
    "        data = f.read()\n",
    "        \n",
    "        while True:\n",
    "            if data == '':\n",
    "                empty_emptore = 'Y'\n",
    "                add_emp = input(\"No Employee found. Do you want to add a new Employee? (Y/N) \")\n",
    "            else:\n",
    "                empty_emptore = 'N'\n",
    "                add_emp = input(\"Employees found. Do you want to add a new Employee? (Y/N) \")\n",
    "            if add_emp in (\"y\",\"Y\",\"n\",\"N\"):\n",
    "                break\n",
    "                \n",
    "        if add_emp in (\"y\",\"Y\"):\n",
    "            if data == '':\n",
    "                empstore = {}\n",
    "                maxempno = 0\n",
    "                x='Y'\n",
    "                while x in ('y','Y'):\n",
    "                    newempno = 'Emp'+str(maxempno+1)\n",
    "                    empstore[newempno] = {'empcode':input(\"Enter Employee Number: \"),\n",
    "                                            'name':input(\"Enter Employee Name: \"),\n",
    "                                            'salary':input(\"Enter Employee Salary: \")}\n",
    "                    maxempno = max([eval(i[3:]) for i in empstore.keys()])\n",
    "                    while True:\n",
    "                        x = input(\"\\nAdd another Employee? (Y/N) : \")\n",
    "                        if x in [\"y\",\"Y\",\"n\",\"N\"]:\n",
    "                            break\n",
    "                f.truncate(0)    \n",
    "                f.write(str(empstore))\n",
    "            else:\n",
    "                empstore = eval(data)\n",
    "                x='Y'\n",
    "                while x in ('y','Y'):\n",
    "                    maxempno = max([eval(i[3:]) for i in empstore.keys()])\n",
    "                    newempno = 'Book'+str(maxempno+1)\n",
    "                    empstore[newempno] = {'empcode':input(\"Enter Employee Number: \"),\n",
    "                                            'name':input(\"Enter Employee Name: \"),\n",
    "                                            'salary':input(\"Enter Employee Salary: \")}\n",
    "                    while True:\n",
    "                        x = input(\"\\nAdd another Employee? (Y/N) : \")\n",
    "                        if x in [\"y\",\"Y\",\"n\",\"N\"]:\n",
    "                            break\n",
    "                f.truncate(0)    \n",
    "                f.write(str(empstore))\n",
    "        else:\n",
    "            if empty_emptore == 'N':\n",
    "                empstore = eval(data)\n",
    "            else:\n",
    "                empstore = 'No Employees found!!\\nNothing to search.'\n",
    "    return empstore\n",
    "\n",
    "#Count Employees having salary more than 30000\n",
    "def dispEmp(empstore):\n",
    "    count = 0\n",
    "    for k,v in empstore.items():\n",
    "        if eval(v['salary']) > 30000:\n",
    "            print(f\"\\nEmployee Number: {v['empcode']}\")\n",
    "            print(f\"Employee Name  : {v['name']}\")\n",
    "            print(f\"Employee Salary: {v['salary']}\")\n",
    "            count+=1\n",
    "    print(f\"\\nTotal Employees having salary more than 30000 are: {count}\")\n",
    "\n",
    "\n",
    "#Set the filename\n",
    "filename = \"employee.dat\"\n",
    "\n",
    "#Call to create_file function and store the bookstore dictionary\n",
    "empstore = create_file(filename)\n",
    "if type(empstore) == dict:\n",
    "    #call to dispEmp() to display Employees having salary greater than 30000\n",
    "    dispEmp(empstore)\n",
    "else:\n",
    "    print(empstore)"
   ]
  },
  {
   "cell_type": "markdown",
   "id": "35e4e886",
   "metadata": {},
   "source": [
    "---------------------------------------------------------------------------\n",
    "==========================================================================================================================\n",
    "### <u>Question 15</u>\n",
    "Write a function to search and display details of student whose rollno is '1005' from the binary file student.dat having structure [rollno, name, class and fees].  \n",
    "### *Solution -*"
   ]
  },
  {
   "cell_type": "code",
   "execution_count": 19,
   "id": "ffd5437f",
   "metadata": {
    "ExecuteTime": {
     "end_time": "2021-08-31T19:06:59.072438Z",
     "start_time": "2021-08-31T19:06:59.047811Z"
    }
   },
   "outputs": [
    {
     "name": "stdout",
     "output_type": "stream",
     "text": [
      "\n",
      "Student found.\n",
      "\n",
      "Roll No: 1005\n",
      "Name: Thomas Leyk\n",
      "Class: 9\n",
      "Fees: 17000\n"
     ]
    }
   ],
   "source": [
    "#Open the file\n",
    "def open_file(filename):\n",
    "    with open(filename,\"r\") as f:\n",
    "        data = f.read()\n",
    "        return eval(data)\n",
    "\n",
    "#Find student number with the provided rollno\n",
    "def find_rec(data,rollno):\n",
    "    count = 0\n",
    "    for k,v in data.items():\n",
    "        if eval(v['rollno']) == rollno:\n",
    "             print(\"\\nStudent found.\")\n",
    "             print(f\"\\nRoll No: {v['rollno']}\")\n",
    "             print(f\"Name: {v['name']}\")\n",
    "             print(f\"Class: {v['class']}\")\n",
    "             print(f\"Fees: {v['fees']}\")\n",
    "\n",
    "#Set the filename\n",
    "filename = \"SCHOOL.DAT\"\n",
    "\n",
    "#Call to open_file function\n",
    "read_data = open_file(filename)\n",
    "\n",
    "#Call to find_rec() function\n",
    "find_rec(read_data,rollno=1005)"
   ]
  },
  {
   "cell_type": "markdown",
   "id": "28bbe17a",
   "metadata": {},
   "source": [
    "---------------------------------------------------------------------------\n",
    "==========================================================================================================================\n",
    "### <u>Question 16</u>\n",
    "A binary file school.dat has structure(rollno, name, class, fees)  \n",
    "  \n",
    "Write a definition for function total_fees( ) that reads each object of file and calculate the total fees of students and display the same.  \n",
    "### *Solution -*"
   ]
  },
  {
   "cell_type": "code",
   "execution_count": 23,
   "id": "c03600c5",
   "metadata": {
    "ExecuteTime": {
     "end_time": "2021-09-01T03:09:50.071047Z",
     "start_time": "2021-09-01T03:09:50.061159Z"
    }
   },
   "outputs": [
    {
     "name": "stdout",
     "output_type": "stream",
     "text": [
      "\n",
      "Total fees for the school is: 186000\n"
     ]
    }
   ],
   "source": [
    "#Open the file\n",
    "def open_file(filename):\n",
    "    with open(filename,\"r\") as f:\n",
    "        data = f.read()\n",
    "        return eval(data)\n",
    "\n",
    "#Get total fees for the school\n",
    "def total_fees(data):\n",
    "    total_fees = 0\n",
    "    for k,v in data.items():\n",
    "        total_fees += eval(v['fees'])\n",
    "    print(f\"\\nTotal fees for the school is: {total_fees}\")\n",
    "\n",
    "#Set the filename\n",
    "filename = \"SCHOOL.DAT\"\n",
    "\n",
    "#Call to open_file function\n",
    "read_data = open_file(filename)\n",
    "\n",
    "#Call to total_fees() function\n",
    "total_fees(read_data)"
   ]
  },
  {
   "cell_type": "markdown",
   "id": "162d2656",
   "metadata": {},
   "source": [
    "---------------------------------------------------------------------------\n",
    "==========================================================================================================================\n",
    "### <u>Question 17</u>\n",
    "Rename key city to location in the following dictionary\n",
    "```python\n",
    "sampleDict = {\n",
    "  \"name\": \"Kelly\",\n",
    "  \"age\":25,\n",
    "  \"salary\": 8000,\n",
    "  \"city\": \"New york\"\n",
    "}\n",
    "```\n",
    "Expected Output\n",
    "```python\n",
    "{\n",
    "  \"name\": \"Kelly\",\n",
    "  \"age\":25,\n",
    "  \"salary\": 8000,\n",
    "  \"location\": \"New york\"\n",
    "}\n",
    "```\n",
    "### *Solution -*"
   ]
  },
  {
   "cell_type": "code",
   "execution_count": 161,
   "id": "75ad1f4a",
   "metadata": {
    "ExecuteTime": {
     "end_time": "2021-09-01T03:18:41.131006Z",
     "start_time": "2021-09-01T03:18:41.118408Z"
    }
   },
   "outputs": [
    {
     "data": {
      "text/plain": [
       "{'name': 'Kelly', 'age': 25, 'salary': 8000, 'location': 'New york'}"
      ]
     },
     "execution_count": 161,
     "metadata": {},
     "output_type": "execute_result"
    }
   ],
   "source": [
    "sampleDict = {\n",
    "  \"name\": \"Kelly\",\n",
    "  \"age\":25,\n",
    "  \"salary\": 8000,\n",
    "  \"city\": \"New york\"\n",
    "}\n",
    "\n",
    "sampleDict[\"location\"] = sampleDict.pop(\"city\")\n",
    "\n",
    "sampleDict"
   ]
  },
  {
   "cell_type": "markdown",
   "id": "05a4b299",
   "metadata": {},
   "source": [
    "---------------------------------------------------------------------------\n",
    "==========================================================================================================================\n",
    "### <u>Question 18</u>\n",
    "Check if a value 200 exists in a dictionary\n",
    "```python\n",
    "sampleDict = {'a': 100, 'b': 200, 'c': 300}\n",
    "```\n",
    "Expected Output: ```True```\n",
    "### *Solution -*"
   ]
  },
  {
   "cell_type": "code",
   "execution_count": 162,
   "id": "b51502df",
   "metadata": {
    "ExecuteTime": {
     "end_time": "2021-09-01T03:19:03.593012Z",
     "start_time": "2021-09-01T03:19:03.585144Z"
    }
   },
   "outputs": [
    {
     "name": "stdout",
     "output_type": "stream",
     "text": [
      "True\n"
     ]
    }
   ],
   "source": [
    "sampleDict = {'a': 100, 'b': 200, 'c': 300}\n",
    "\n",
    "if 200 in sampleDict.values():\n",
    "    print(True)\n",
    "else:\n",
    "    print(False)"
   ]
  }
 ],
 "metadata": {
  "interpreter": {
   "hash": "ac59ebe37160ed0dfa835113d9b8498d9f09ceb179beaac4002f036b9467c963"
  },
  "kernelspec": {
   "display_name": "Python 3.9.6 64-bit",
   "name": "python3"
  },
  "language_info": {
   "codemirror_mode": {
    "name": "ipython",
    "version": 3
   },
   "file_extension": ".py",
   "mimetype": "text/x-python",
   "name": "python",
   "nbconvert_exporter": "python",
   "pygments_lexer": "ipython3",
   "version": "3.9.6"
  }
 },
 "nbformat": 4,
 "nbformat_minor": 5
}
