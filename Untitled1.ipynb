{
 "cells": [
  {
   "cell_type": "code",
   "execution_count": 10,
   "id": "ae51983b",
   "metadata": {},
   "outputs": [
    {
     "name": "stdout",
     "output_type": "stream",
     "text": [
      "enter: [1,2,3]\n",
      "<class 'list'>\n"
     ]
    }
   ],
   "source": [
    "#can eval() be applied to anything on input() from user ?\n",
    "a=input(\"enter: \")\n",
    "print(type(eval(a)))"
   ]
  },
  {
   "cell_type": "code",
   "execution_count": 5,
   "id": "44eb867d",
   "metadata": {},
   "outputs": [
    {
     "name": "stdout",
     "output_type": "stream",
     "text": [
      "0xfc98\n",
      "0b1111110010011000\n"
     ]
    }
   ],
   "source": [
    "a = 64664\n",
    "print(hex(a))\n",
    "\n",
    "print(bin(int(hex(a),16)))"
   ]
  },
  {
   "cell_type": "code",
   "execution_count": 2,
   "id": "1a37cc13",
   "metadata": {},
   "outputs": [
    {
     "name": "stdout",
     "output_type": "stream",
     "text": [
      "Enter 1st complex number: 1\n",
      "Enter 2nd complex number: 1\n",
      "\n",
      "a = 1\n",
      "b = 1\n",
      "\\Complex of a = (1+0j)\n",
      "Complex of b = (1+0j)\n",
      "\n",
      "Complex of 'a' == 'b'   = True\n",
      "Complex of 'a' != 'b'   = False\n"
     ]
    },
    {
     "ename": "TypeError",
     "evalue": "'>=' not supported between instances of 'complex' and 'complex'",
     "output_type": "error",
     "traceback": [
      "\u001b[1;31m---------------------------------------------------------------------------\u001b[0m",
      "\u001b[1;31mTypeError\u001b[0m                                 Traceback (most recent call last)",
      "\u001b[1;32m<ipython-input-2-cbf738bfd07a>\u001b[0m in \u001b[0;36m<module>\u001b[1;34m\u001b[0m\n\u001b[0;32m     15\u001b[0m \u001b[0mprint\u001b[0m\u001b[1;33m(\u001b[0m\u001b[1;34m\"\\nComplex of 'a' == 'b'   =\"\u001b[0m\u001b[1;33m,\u001b[0m \u001b[0maComplex\u001b[0m \u001b[1;33m==\u001b[0m \u001b[0mbComplex\u001b[0m\u001b[1;33m)\u001b[0m\u001b[1;33m\u001b[0m\u001b[1;33m\u001b[0m\u001b[0m\n\u001b[0;32m     16\u001b[0m \u001b[0mprint\u001b[0m\u001b[1;33m(\u001b[0m\u001b[1;34m\"Complex of 'a' != 'b'   =\"\u001b[0m\u001b[1;33m,\u001b[0m \u001b[0maComplex\u001b[0m \u001b[1;33m!=\u001b[0m \u001b[0mbComplex\u001b[0m\u001b[1;33m)\u001b[0m\u001b[1;33m\u001b[0m\u001b[1;33m\u001b[0m\u001b[0m\n\u001b[1;32m---> 17\u001b[1;33m \u001b[0mprint\u001b[0m\u001b[1;33m(\u001b[0m\u001b[1;34m\"Complex of 'a' != 'b'   =\"\u001b[0m\u001b[1;33m,\u001b[0m \u001b[0maComplex\u001b[0m \u001b[1;33m>=\u001b[0m \u001b[0mbComplex\u001b[0m\u001b[1;33m)\u001b[0m\u001b[1;33m\u001b[0m\u001b[1;33m\u001b[0m\u001b[0m\n\u001b[0m",
      "\u001b[1;31mTypeError\u001b[0m: '>=' not supported between instances of 'complex' and 'complex'"
     ]
    }
   ],
   "source": [
    "a = input(\"Enter 1st complex number: \")\n",
    "b = input(\"Enter 2nd complex number: \")\n",
    "\n",
    "\n",
    "aComplex = complex(eval(a))\n",
    "bComplex = complex(eval(b))\n",
    "\n",
    "print(\"\\na =\", a)\n",
    "print(\"b =\", b)\n",
    "\n",
    "print(\"\\Complex of a =\", aComplex)\n",
    "print(\"Complex of b =\", bComplex)\n",
    "\n",
    "\n",
    "print(\"\\nComplex of 'a' == 'b'   =\", aComplex == bComplex)\n",
    "print(\"Complex of 'a' != 'b'   =\", aComplex != bComplex)\n",
    "print(\"Complex of 'a' != 'b'   =\", aComplex >= bComplex)"
   ]
  },
  {
   "cell_type": "code",
   "execution_count": 6,
   "id": "dda089d4",
   "metadata": {},
   "outputs": [
    {
     "name": "stdout",
     "output_type": "stream",
     "text": [
      "0b10\n"
     ]
    }
   ],
   "source": [
    "print(bin(2))"
   ]
  },
  {
   "cell_type": "code",
   "execution_count": null,
   "id": "67f36753",
   "metadata": {},
   "outputs": [],
   "source": []
  }
 ],
 "metadata": {
  "kernelspec": {
   "display_name": "Python 3",
   "language": "python",
   "name": "python3"
  },
  "language_info": {
   "codemirror_mode": {
    "name": "ipython",
    "version": 3
   },
   "file_extension": ".py",
   "mimetype": "text/x-python",
   "name": "python",
   "nbconvert_exporter": "python",
   "pygments_lexer": "ipython3",
   "version": "3.8.8"
  }
 },
 "nbformat": 4,
 "nbformat_minor": 5
}
