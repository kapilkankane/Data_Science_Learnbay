{
 "cells": [
  {
   "cell_type": "code",
   "execution_count": 10,
   "id": "ae51983b",
   "metadata": {},
   "outputs": [
    {
     "name": "stdout",
     "output_type": "stream",
     "text": [
      "enter: [1,2,3]\n",
      "<class 'list'>\n"
     ]
    }
   ],
   "source": [
    "#can eval() be applied to anything on input() from user ?\n",
    "a=input(\"enter: \")\n",
    "print(type(eval(a)))"
   ]
  },
  {
   "cell_type": "code",
   "execution_count": 5,
   "id": "44eb867d",
   "metadata": {},
   "outputs": [
    {
     "name": "stdout",
     "output_type": "stream",
     "text": [
      "0xfc98\n",
      "0b1111110010011000\n"
     ]
    }
   ],
   "source": [
    "a = 64664\n",
    "print(hex(a))\n",
    "\n",
    "print(bin(int(hex(a),16)))"
   ]
  },
  {
   "cell_type": "code",
   "execution_count": 2,
   "id": "1a37cc13",
   "metadata": {},
   "outputs": [
    {
     "name": "stdout",
     "output_type": "stream",
     "text": [
      "Enter 1st complex number: 1\n",
      "Enter 2nd complex number: 1\n",
      "\n",
      "a = 1\n",
      "b = 1\n",
      "\\Complex of a = (1+0j)\n",
      "Complex of b = (1+0j)\n",
      "\n",
      "Complex of 'a' == 'b'   = True\n",
      "Complex of 'a' != 'b'   = False\n"
     ]
    },
    {
     "ename": "TypeError",
     "evalue": "'>=' not supported between instances of 'complex' and 'complex'",
     "output_type": "error",
     "traceback": [
      "\u001b[1;31m---------------------------------------------------------------------------\u001b[0m",
      "\u001b[1;31mTypeError\u001b[0m                                 Traceback (most recent call last)",
      "\u001b[1;32m<ipython-input-2-cbf738bfd07a>\u001b[0m in \u001b[0;36m<module>\u001b[1;34m\u001b[0m\n\u001b[0;32m     15\u001b[0m \u001b[0mprint\u001b[0m\u001b[1;33m(\u001b[0m\u001b[1;34m\"\\nComplex of 'a' == 'b'   =\"\u001b[0m\u001b[1;33m,\u001b[0m \u001b[0maComplex\u001b[0m \u001b[1;33m==\u001b[0m \u001b[0mbComplex\u001b[0m\u001b[1;33m)\u001b[0m\u001b[1;33m\u001b[0m\u001b[1;33m\u001b[0m\u001b[0m\n\u001b[0;32m     16\u001b[0m \u001b[0mprint\u001b[0m\u001b[1;33m(\u001b[0m\u001b[1;34m\"Complex of 'a' != 'b'   =\"\u001b[0m\u001b[1;33m,\u001b[0m \u001b[0maComplex\u001b[0m \u001b[1;33m!=\u001b[0m \u001b[0mbComplex\u001b[0m\u001b[1;33m)\u001b[0m\u001b[1;33m\u001b[0m\u001b[1;33m\u001b[0m\u001b[0m\n\u001b[1;32m---> 17\u001b[1;33m \u001b[0mprint\u001b[0m\u001b[1;33m(\u001b[0m\u001b[1;34m\"Complex of 'a' != 'b'   =\"\u001b[0m\u001b[1;33m,\u001b[0m \u001b[0maComplex\u001b[0m \u001b[1;33m>=\u001b[0m \u001b[0mbComplex\u001b[0m\u001b[1;33m)\u001b[0m\u001b[1;33m\u001b[0m\u001b[1;33m\u001b[0m\u001b[0m\n\u001b[0m",
      "\u001b[1;31mTypeError\u001b[0m: '>=' not supported between instances of 'complex' and 'complex'"
     ]
    }
   ],
   "source": [
    "a = input(\"Enter 1st complex number: \")\n",
    "b = input(\"Enter 2nd complex number: \")\n",
    "\n",
    "\n",
    "aComplex = complex(eval(a))\n",
    "bComplex = complex(eval(b))\n",
    "\n",
    "print(\"\\na =\", a)\n",
    "print(\"b =\", b)\n",
    "\n",
    "print(\"\\Complex of a =\", aComplex)\n",
    "print(\"Complex of b =\", bComplex)\n",
    "\n",
    "\n",
    "print(\"\\nComplex of 'a' == 'b'   =\", aComplex == bComplex)\n",
    "print(\"Complex of 'a' != 'b'   =\", aComplex != bComplex)\n",
    "print(\"Complex of 'a' != 'b'   =\", aComplex >= bComplex)"
   ]
  },
  {
   "cell_type": "code",
   "execution_count": 26,
   "id": "dda089d4",
   "metadata": {},
   "outputs": [
    {
     "name": "stdout",
     "output_type": "stream",
     "text": [
      "0b10100\n",
      "0b1110100\n",
      "2\n",
      "9\n"
     ]
    }
   ],
   "source": [
    "print(bin(20))\n",
    "print(bin(116))\n",
    "print(eval('0b10'))\n",
    "\n",
    "print(eval('0b1001'))"
   ]
  },
  {
   "cell_type": "markdown",
   "id": "30a4ea30",
   "metadata": {},
   "source": [
    "Operators\tMeaning\n",
    "()\tParentheses\n",
    "**\tExponent\n",
    "+x, -x, ~x\tUnary plus, Unary minus, Bitwise NOT\n",
    "*, /, //, %\tMultiplication, Division, Floor division, Modulus\n",
    "+, -\tAddition, Subtraction\n",
    "<<, >>\tBitwise shift operators\n",
    "&\tBitwise AND\n",
    "^\tBitwise XOR\n",
    "|\tBitwise OR\n",
    "==, !=, >, >=, <, <=, is, is not, in, not in\tComparisons, Identity, Membership operators\n",
    "not\tLogical NOT\n",
    "and\tLogical AND\n",
    "or\tLogical OR"
   ]
  },
  {
   "cell_type": "markdown",
   "id": "baee7577",
   "metadata": {},
   "source": [
    "Priority |Operator |Description\n",
    "-----|-----|----- \n",
    "1|(expressions...), [expressions...], {key: value...}, {expressions...}|Binding or parenthesized expression, list display, dictionary display, set display\n",
    "2|x[index], x[index:index], x(arguments...), x.attribute|Subscription, slicing, call, attribute reference\n",
    "3|await x|Await expression\n",
    "4|**|Exponentiation\n",
    "5|+x, -x, ~x|Positive, negative, bitwise NOT\n",
    "6|*, @, /, //, %|Multiplication, matrix multiplication, division, floor division, remainder\n",
    "7|+, -|Addition and subtraction\n",
    "8|<<, >>|Shifts\n",
    "9|&|Bitwise AND\n",
    "10|^|Bitwise XOR\n",
    "11|&#124;|Bitwise OR\n",
    "12|in, not in, is, is not, <, <=, >, >=, !=, ==|Comparisons, including membership tests and identity tests\n",
    "13|not x|Boolean NOT\n",
    "14|and|Boolean AND\n",
    "15|or|Boolean OR\n",
    "16|if – else|Conditional expression\n",
    "17|lamda|Lambda expression\n",
    "18|:=|Assignment expression"
   ]
  },
  {
   "cell_type": "code",
   "execution_count": 27,
   "id": "ae3939f8",
   "metadata": {},
   "outputs": [
    {
     "ename": "TypeError",
     "evalue": "int() can't convert non-string with explicit base",
     "output_type": "error",
     "traceback": [
      "\u001b[1;31m---------------------------------------------------------------------------\u001b[0m",
      "\u001b[1;31mTypeError\u001b[0m                                 Traceback (most recent call last)",
      "\u001b[1;32m<ipython-input-27-eaefcea3a8ec>\u001b[0m in \u001b[0;36m<module>\u001b[1;34m\u001b[0m\n\u001b[1;32m----> 1\u001b[1;33m \u001b[0ma\u001b[0m \u001b[1;33m=\u001b[0m \u001b[0mint\u001b[0m\u001b[1;33m(\u001b[0m\u001b[1;36m10\u001b[0m\u001b[1;33m,\u001b[0m\u001b[1;36m8\u001b[0m\u001b[1;33m)\u001b[0m\u001b[1;33m\u001b[0m\u001b[1;33m\u001b[0m\u001b[0m\n\u001b[0m",
      "\u001b[1;31mTypeError\u001b[0m: int() can't convert non-string with explicit base"
     ]
    }
   ],
   "source": [
    "a = int(10,8)"
   ]
  },
  {
   "cell_type": "code",
   "execution_count": 33,
   "id": "9168e55b",
   "metadata": {},
   "outputs": [
    {
     "name": "stdout",
     "output_type": "stream",
     "text": [
      "0b10000\n",
      "0o20\n",
      "0x10\n"
     ]
    }
   ],
   "source": [
    "num = 16\n",
    "print (bin(num))\n",
    "print (oct(num))\n",
    "print (hex(num))\n"
   ]
  },
  {
   "cell_type": "markdown",
   "id": "a7e28e23",
   "metadata": {},
   "source": []
  }
 ],
 "metadata": {
  "kernelspec": {
   "display_name": "Python 3",
   "language": "python",
   "name": "python3"
  },
  "language_info": {
   "codemirror_mode": {
    "name": "ipython",
    "version": 3
   },
   "file_extension": ".py",
   "mimetype": "text/x-python",
   "name": "python",
   "nbconvert_exporter": "python",
   "pygments_lexer": "ipython3",
   "version": "3.8.8"
  }
 },
 "nbformat": 4,
 "nbformat_minor": 5
}
