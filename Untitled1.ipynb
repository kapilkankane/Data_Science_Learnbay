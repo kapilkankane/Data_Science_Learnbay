{
 "cells": [
  {
   "cell_type": "code",
   "execution_count": 10,
   "id": "ae51983b",
   "metadata": {},
   "outputs": [
    {
     "name": "stdout",
     "output_type": "stream",
     "text": [
      "enter: [1,2,3]\n",
      "<class 'list'>\n"
     ]
    }
   ],
   "source": [
    "#can eval() be applied to anything on input() from user ?\n",
    "a=input(\"enter: \")\n",
    "print(type(eval(a)))"
   ]
  },
  {
   "cell_type": "code",
   "execution_count": 5,
   "id": "44eb867d",
   "metadata": {},
   "outputs": [
    {
     "name": "stdout",
     "output_type": "stream",
     "text": [
      "0xfc98\n",
      "0b1111110010011000\n"
     ]
    }
   ],
   "source": [
    "a = 64664\n",
    "print(hex(a))\n",
    "\n",
    "print(bin(int(hex(a),16)))"
   ]
  },
  {
   "cell_type": "code",
   "execution_count": null,
   "id": "1a37cc13",
   "metadata": {},
   "outputs": [],
   "source": []
  },
  {
   "cell_type": "code",
   "execution_count": 13,
   "id": "dda089d4",
   "metadata": {},
   "outputs": [
    {
     "data": {
      "text/plain": [
       "<function str.upper()>"
      ]
     },
     "execution_count": 13,
     "metadata": {},
     "output_type": "execute_result"
    }
   ],
   "source": []
  },
  {
   "cell_type": "code",
   "execution_count": null,
   "id": "67f36753",
   "metadata": {},
   "outputs": [],
   "source": []
  }
 ],
 "metadata": {
  "kernelspec": {
   "display_name": "Python 3",
   "language": "python",
   "name": "python3"
  },
  "language_info": {
   "codemirror_mode": {
    "name": "ipython",
    "version": 3
   },
   "file_extension": ".py",
   "mimetype": "text/x-python",
   "name": "python",
   "nbconvert_exporter": "python",
   "pygments_lexer": "ipython3",
   "version": "3.8.8"
  }
 },
 "nbformat": 4,
 "nbformat_minor": 5
}
